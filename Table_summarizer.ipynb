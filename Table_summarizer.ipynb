{
  "cells": [
    {
      "cell_type": "code",
      "execution_count": null,
      "metadata": {
        "id": "-_ORTH5hyubf"
      },
      "outputs": [],
      "source": [
        "sentences_to_read = 25000"
      ]
    },
    {
      "cell_type": "code",
      "execution_count": null,
      "metadata": {
        "colab": {
          "base_uri": "https://localhost:8080/",
          "height": 258
        },
        "id": "3cf4Ly9Xy1m8",
        "outputId": "4b7386d4-e9fa-447b-a1f0-dfb9bd92beae"
      },
      "outputs": [
        {
          "name": "stdout",
          "output_type": "stream",
          "text": [
            "Sample translations (25000)\n",
            "( 0 ) Table:  temperature time 6-21 min 26 mean 43 max 53 windChill time 6-21 min 0 mean 22 max 46 windSpeed time 6-21 min 6 mean 8 max 10 mode-bucket-0-20-2 0-10 windDir time 6-21 mode SE gust time 6-21 min 0 mean 0 max 0 skyCover time 6-21 mode-bucket-0-100-4 50-75 skyCover time 6-9 mode-bucket-0-100-4 0-25 skyCover time 6-13 mode-bucket-0-100-4 25-50 skyCover time 9-21 mode-bucket-0-100-4 50-75 skyCover time 13-21 mode-bucket-0-100-4 50-75 precipPotential time 6-21 min 0 mean 2 max 12\n",
            "\n",
            "( 0 ) Summary:  Mostly sunny , with a high near 53 . Southeast wind between 7 and 9 mph . \n",
            "\n",
            "( 10000 ) Table:  temperature time 6-21 min 29 mean 31 max 35 windChill time 6-21 min 16 mean 21 max 25 windSpeed time 6-21 min 8 mean 15 max 21 mode-bucket-0-20-2 10-20 windDir time 6-21 mode WNW gust time 6-21 min 0 mean 12 max 29 skyCover time 6-21 mode-bucket-0-100-4 50-75 skyCover time 6-9 mode-bucket-0-100-4 50-75 skyCover time 6-13 mode-bucket-0-100-4 50-75 skyCover time 9-21 mode-bucket-0-100-4 50-75 skyCover time 13-21 mode-bucket-0-100-4 75-100 precipPotential time 6-21 min 15 mean 17 max 18 snowChance time 6-21 mode SChc snowChance time 6-9 mode SChc snowChance time 6-13 mode SChc snowChance time 9-21 mode SChc snowChance time 13-21 mode SChc\n",
            "\n",
            "( 10000 ) Summary:  A 20 percent chance of snow . Mostly cloudy , with a high near 35 . Breezy , with a west northwest wind 8 to 11 mph increasing to between 17 and 20 mph . Winds could gust as high as 28 mph . \n",
            "\n",
            "( 20000 ) Table:  temperature time 17-30 min 44 mean 48 max 57 windChill time 17-30 min 0 mean 29 max 49 windSpeed time 17-30 min 2 mean 2 max 3 mode-bucket-0-20-2 0-10 windDir time 17-30 mode SE gust time 17-30 min 0 mean 0 max 0 skyCover time 17-30 mode-bucket-0-100-4 50-75 skyCover time 17-21 mode-bucket-0-100-4 50-75 skyCover time 17-26 mode-bucket-0-100-4 50-75 skyCover time 21-30 mode-bucket-0-100-4 50-75 skyCover time 26-30 mode-bucket-0-100-4 50-75 precipPotential time 17-30 min 6 mean 11 max 16 rainChance time 26-30 mode SChc\n",
            "\n",
            "( 20000 ) Summary:  A slight chance of showers after 4am . Mostly cloudy , with a low around 43 . Light southeast wind . Chance of precipitation is 20 % . \n",
            "\n"
          ]
        }
      ],
      "source": [
        "# Loading train.combined as source_sent and summaries.txt as target_sent\n",
        "source_sent = []\n",
        "target_sent = []\n",
        "\n",
        "test_source_sent = []\n",
        "test_target_sent = []\n",
        "\n",
        "\n",
        "with open('WeatherGov/train/train.combined', 'r') as f:\n",
        "    for l_i, line in enumerate(f):\n",
        "        source_sent.append(line)\n",
        "        if len(source_sent)>=sentences_to_read:\n",
        "            break\n",
        "        \n",
        "            \n",
        "with open('WeatherGov/train/summaries.txt', 'r') as f:\n",
        "    for l_i, line in enumerate(f):\n",
        "        target_sent.append(line)\n",
        "        if len(target_sent)>=sentences_to_read:\n",
        "            break\n",
        "        \n",
        "            \n",
        "assert len(source_sent)==len(target_sent),'Source: %d, Target: %d'%(len(source_sent),len(target_sent))\n",
        "\n",
        "print('Sample translations (%d)'%len(source_sent))\n",
        "for i in range(0,sentences_to_read,10000):\n",
        "    print('(',i,') Table: ', source_sent[i])\n",
        "    print('(',i,') Summary: ', target_sent[i])\n"
      ]
    },
    {
      "cell_type": "code",
      "execution_count": null,
      "metadata": {
        "colab": {
          "base_uri": "https://localhost:8080/",
          "height": 34
        },
        "id": "IliVUlcF0O2V",
        "outputId": "f271d84a-6dd2-4bfe-9041-2534f73d5a09"
      },
      "outputs": [
        {
          "name": "stderr",
          "output_type": "stream",
          "text": [
            "Using TensorFlow backend.\n"
          ]
        }
      ],
      "source": [
        "import numpy as np\n",
        "import pandas as pd \n",
        "import re\n",
        "from bs4 import BeautifulSoup\n",
        "from keras.preprocessing.text import Tokenizer \n",
        "from keras.preprocessing.sequence import pad_sequences\n",
        "from nltk.corpus import stopwords\n",
        "from tensorflow.keras.layers import Input, LSTM, Embedding, Dense, Concatenate, TimeDistributed, Bidirectional\n",
        "from tensorflow.keras.models import Model\n",
        "from tensorflow.keras.callbacks import EarlyStopping\n",
        "import warnings\n",
        "pd.set_option(\"display.max_colwidth\", 200)\n",
        "warnings.filterwarnings(\"ignore\")"
      ]
    },
    {
      "cell_type": "code",
      "execution_count": null,
      "metadata": {
        "id": "_OnzIme70l9z"
      },
      "outputs": [],
      "source": [
        "data = pd.DataFrame()\n",
        "data['cleaned_text']=source_sent\n",
        "data['cleaned_summary']=target_sent"
      ]
    },
    {
      "cell_type": "code",
      "execution_count": null,
      "metadata": {
        "colab": {
          "base_uri": "https://localhost:8080/",
          "height": 289
        },
        "id": "j0P_z5N80QIg",
        "outputId": "d1e25565-36c6-4282-cc01-63754b04ef27"
      },
      "outputs": [
        {
          "data": {
            "text/html": [
              "<div>\n",
              "<style scoped>\n",
              "    .dataframe tbody tr th:only-of-type {\n",
              "        vertical-align: middle;\n",
              "    }\n",
              "\n",
              "    .dataframe tbody tr th {\n",
              "        vertical-align: top;\n",
              "    }\n",
              "\n",
              "    .dataframe thead th {\n",
              "        text-align: right;\n",
              "    }\n",
              "</style>\n",
              "<table border=\"1\" class=\"dataframe\">\n",
              "  <thead>\n",
              "    <tr style=\"text-align: right;\">\n",
              "      <th></th>\n",
              "      <th>cleaned_text</th>\n",
              "      <th>cleaned_summary</th>\n",
              "    </tr>\n",
              "  </thead>\n",
              "  <tbody>\n",
              "    <tr>\n",
              "      <th>0</th>\n",
              "      <td>temperature time 6-21 min 26 mean 43 max 53 windChill time 6-21 min 0 mean 22 max 46 windSpeed time 6-21 min 6 mean 8 max 10 mode-bucket-0-20-2 0-10 windDir time 6-21 mode SE gust time 6-21 min 0 ...</td>\n",
              "      <td>Mostly sunny , with a high near 53 . Southeast wind between 7 and 9 mph . \\n</td>\n",
              "    </tr>\n",
              "    <tr>\n",
              "      <th>1</th>\n",
              "      <td>temperature time 17-30 min 47 mean 50 max 58 windChill time 17-30 min 0 mean 30 max 49 windSpeed time 17-30 min 3 mean 5 max 9 mode-bucket-0-20-2 0-10 windDir time 17-30 mode E gust time 17-30 min...</td>\n",
              "      <td>A 50 percent chance of showers . Cloudy , with a low around 47 . East wind around 5 mph . \\n</td>\n",
              "    </tr>\n",
              "    <tr>\n",
              "      <th>2</th>\n",
              "      <td>temperature time 17-30 min 51 mean 55 max 62 windChill time 17-30 min 0 mean 0 max 0 windSpeed time 17-30 min 2 mean 3 max 6 mode-bucket-0-20-2 0-10 windDir time 17-30 mode SSE gust time 17-30 min...</td>\n",
              "      <td>Cloudy , with a low around 49 . Calm wind becoming south southeast around 5 mph . \\n</td>\n",
              "    </tr>\n",
              "    <tr>\n",
              "      <th>3</th>\n",
              "      <td>temperature time 17-30 min 26 mean 29 max 38 windChill time 17-30 min 26 mean 28 max 36 windSpeed time 17-30 min 0 mean 0 max 5 mode-bucket-0-20-2 0-10 windDir time 17-30 mode ESE gust time 17-30 ...</td>\n",
              "      <td>Partly cloudy , with a low around 23 . Calm wind . \\n</td>\n",
              "    </tr>\n",
              "    <tr>\n",
              "      <th>4</th>\n",
              "      <td>temperature time 17-30 min 55 mean 60 max 69 windChill time 17-30 min 0 mean 0 max 0 windSpeed time 17-30 min 8 mean 9 max 14 mode-bucket-0-20-2 0-10 windDir time 17-30 mode SSW gust time 17-30 mi...</td>\n",
              "      <td>Partly cloudy , with a low around 53 . South wind around 9 mph . \\n</td>\n",
              "    </tr>\n",
              "  </tbody>\n",
              "</table>\n",
              "</div>"
            ],
            "text/plain": [
              "                                                                                                                                                                                              cleaned_text                                                                               cleaned_summary\n",
              "0  temperature time 6-21 min 26 mean 43 max 53 windChill time 6-21 min 0 mean 22 max 46 windSpeed time 6-21 min 6 mean 8 max 10 mode-bucket-0-20-2 0-10 windDir time 6-21 mode SE gust time 6-21 min 0 ...                  Mostly sunny , with a high near 53 . Southeast wind between 7 and 9 mph . \\n\n",
              "1  temperature time 17-30 min 47 mean 50 max 58 windChill time 17-30 min 0 mean 30 max 49 windSpeed time 17-30 min 3 mean 5 max 9 mode-bucket-0-20-2 0-10 windDir time 17-30 mode E gust time 17-30 min...  A 50 percent chance of showers . Cloudy , with a low around 47 . East wind around 5 mph . \\n\n",
              "2  temperature time 17-30 min 51 mean 55 max 62 windChill time 17-30 min 0 mean 0 max 0 windSpeed time 17-30 min 2 mean 3 max 6 mode-bucket-0-20-2 0-10 windDir time 17-30 mode SSE gust time 17-30 min...          Cloudy , with a low around 49 . Calm wind becoming south southeast around 5 mph . \\n\n",
              "3  temperature time 17-30 min 26 mean 29 max 38 windChill time 17-30 min 26 mean 28 max 36 windSpeed time 17-30 min 0 mean 0 max 5 mode-bucket-0-20-2 0-10 windDir time 17-30 mode ESE gust time 17-30 ...                                         Partly cloudy , with a low around 23 . Calm wind . \\n\n",
              "4  temperature time 17-30 min 55 mean 60 max 69 windChill time 17-30 min 0 mean 0 max 0 windSpeed time 17-30 min 8 mean 9 max 14 mode-bucket-0-20-2 0-10 windDir time 17-30 mode SSW gust time 17-30 mi...                           Partly cloudy , with a low around 53 . South wind around 9 mph . \\n"
            ]
          },
          "execution_count": 12,
          "metadata": {
            "tags": []
          },
          "output_type": "execute_result"
        }
      ],
      "source": [
        "data.head()"
      ]
    },
    {
      "cell_type": "code",
      "execution_count": null,
      "metadata": {
        "id": "2bsQ9iHS0YIQ"
      },
      "outputs": [],
      "source": [
        "data.replace('', np.nan, inplace=True)\n",
        "data.dropna(axis=0,inplace=True)"
      ]
    },
    {
      "cell_type": "code",
      "execution_count": null,
      "metadata": {
        "colab": {
          "base_uri": "https://localhost:8080/",
          "height": 281
        },
        "id": "jNuM7ve_0iLi",
        "outputId": "aaa36693-a748-472d-e223-66ad9cf4b181"
      },
      "outputs": [
        {
          "data": {
            "image/png": "[encoded data removed]",
            "text/plain": [
              "<Figure size 432x288 with 2 Axes>"
            ]
          },
          "metadata": {
            "needs_background": "light",
            "tags": []
          },
          "output_type": "display_data"
        }
      ],
      "source": [
        "import matplotlib.pyplot as plt\n",
        "\n",
        "text_word_count = []\n",
        "summary_word_count = []\n",
        "\n",
        "# populate the lists with sentence lengths\n",
        "for i in data['cleaned_text']:\n",
        "      text_word_count.append(len(i.split()))\n",
        "\n",
        "for i in data['cleaned_summary']:\n",
        "      summary_word_count.append(len(i.split()))\n",
        "\n",
        "length_df = pd.DataFrame({'text':text_word_count, 'summary':summary_word_count})\n",
        "\n",
        "length_df.hist(bins = 30)\n",
        "plt.show()"
      ]
    },
    {
      "cell_type": "code",
      "execution_count": null,
      "metadata": {
        "colab": {
          "base_uri": "https://localhost:8080/",
          "height": 34
        },
        "id": "Hh2VGlAi0qlv",
        "outputId": "70864763-0f03-4a93-8e54-53b46476e7aa"
      },
      "outputs": [
        {
          "name": "stdout",
          "output_type": "stream",
          "text": [
            "0.96256\n"
          ]
        }
      ],
      "source": [
        "cnt=0\n",
        "for i in data['cleaned_summary']:\n",
        "    if(len(i.split())<=60):\n",
        "        cnt=cnt+1\n",
        "print(cnt/len(data['cleaned_summary']))"
      ]
    },
    {
      "cell_type": "code",
      "execution_count": null,
      "metadata": {
        "colab": {
          "base_uri": "https://localhost:8080/",
          "height": 34
        },
        "id": "4i4apTs_2Ywu",
        "outputId": "4a7ca3dc-8bd6-488f-828e-b10e622ca6eb"
      },
      "outputs": [
        {
          "name": "stdout",
          "output_type": "stream",
          "text": [
            "0.94176\n"
          ]
        }
      ],
      "source": [
        "cnt=0\n",
        "for i in data['cleaned_text']:\n",
        "    if(len(i.split())<=120):\n",
        "        cnt=cnt+1\n",
        "print(cnt/len(data['cleaned_text']))"
      ]
    },
    {
      "cell_type": "code",
      "execution_count": null,
      "metadata": {
        "id": "3UHiN1No1Nq_"
      },
      "outputs": [],
      "source": [
        "max_text_len=120\n",
        "max_summary_len=60"
      ]
    },
    {
      "cell_type": "code",
      "execution_count": null,
      "metadata": {
        "id": "8ppJe-qQ1PxG"
      },
      "outputs": [],
      "source": [
        "cleaned_text =np.array(data['cleaned_text'])\n",
        "cleaned_summary=np.array(data['cleaned_summary'])\n",
        "\n",
        "short_text=[]\n",
        "short_summary=[]\n",
        "\n",
        "for i in range(len(cleaned_text)):\n",
        "    if(len(cleaned_summary[i].split())<=max_summary_len and len(cleaned_text[i].split())<=max_text_len):\n",
        "        short_text.append(cleaned_text[i])\n",
        "        short_summary.append(cleaned_summary[i])\n",
        "        \n",
        "df=pd.DataFrame({'text':short_text,'summary':short_summary})"
      ]
    },
    {
      "cell_type": "code",
      "execution_count": null,
      "metadata": {
        "id": "CMgKY08_2jd7"
      },
      "outputs": [],
      "source": [
        "df['summary'] = df['summary'].apply(lambda x : 'sostok '+ x + ' eostok')"
      ]
    },
    {
      "cell_type": "code",
      "execution_count": null,
      "metadata": {
        "id": "wi2TLL0Z2oBq"
      },
      "outputs": [],
      "source": [
        "df.to_csv('cleaned_weather_data.csv')"
      ]
    },
    {
      "cell_type": "code",
      "execution_count": null,
      "metadata": {
        "id": "_rw9-f6gTOu4"
      },
      "outputs": [],
      "source": [
        "MAX_SEQUENCE_LENGTH = max_text_len\n",
        "MAX_NUM_WORDS = 140\n",
        "EMBEDDING_DIM = 100\n",
        "VALIDATION_SPLIT = 0.1"
      ]
    },
    {
      "cell_type": "code",
      "execution_count": null,
      "metadata": {
        "id": "zgap6TER2tag"
      },
      "outputs": [],
      "source": [
        "from sklearn.model_selection import train_test_split\n",
        "x_tr,x_val,y_tr,y_val=train_test_split(np.array(df['text']),np.array(df['summary']),test_size=0.1,random_state=0,shuffle=True) "
      ]
    },
    {
      "cell_type": "code",
      "execution_count": null,
      "metadata": {
        "id": "_BozpjTo228U"
      },
      "outputs": [],
      "source": [
        "from keras.preprocessing.text import Tokenizer \n",
        "from keras.preprocessing.sequence import pad_sequences\n",
        "\n",
        "#prepare a tokenizer for reviews on training data\n",
        "x_tokenizer = Tokenizer() \n",
        "x_tokenizer.fit_on_texts(list(x_tr))"
      ]
    },
    {
      "cell_type": "code",
      "execution_count": null,
      "metadata": {
        "colab": {
          "base_uri": "https://localhost:8080/",
          "height": 51
        },
        "id": "IK48_FPD4lo0",
        "outputId": "d08ae93d-effa-429e-b977-e99e10cdaf9b"
      },
      "outputs": [
        {
          "name": "stdout",
          "output_type": "stream",
          "text": [
            "% of rare words in vocabulary: 0.0\n",
            "Total Coverage of rare words: 0.0\n"
          ]
        }
      ],
      "source": [
        "thresh=4\n",
        "\n",
        "cnt=0\n",
        "tot_cnt=0\n",
        "freq=0\n",
        "tot_freq=0\n",
        "\n",
        "for key,value in x_tokenizer.word_counts.items():\n",
        "    tot_cnt=tot_cnt+1\n",
        "    tot_freq=tot_freq+value\n",
        "    if(value<thresh):\n",
        "        cnt=cnt+1\n",
        "        freq=freq+value\n",
        "    \n",
        "print(\"% of rare words in vocabulary:\",(cnt/tot_cnt)*100)\n",
        "print(\"Total Coverage of rare words:\",(freq/tot_freq)*100)"
      ]
    },
    {
      "cell_type": "code",
      "execution_count": null,
      "metadata": {
        "id": "EZTfZJTO26on"
      },
      "outputs": [],
      "source": [
        "#prepare a tokenizer for reviews on training data\n",
        "x_tokenizer = Tokenizer(num_words=tot_cnt-cnt) \n",
        "x_tokenizer.fit_on_texts(list(x_tr))\n",
        "\n",
        "#convert text sequences into integer sequences\n",
        "x_tr_seq    =   x_tokenizer.texts_to_sequences(x_tr) \n",
        "x_val_seq   =   x_tokenizer.texts_to_sequences(x_val)\n",
        "\n"
      ]
    },
    {
      "cell_type": "code",
      "execution_count": null,
      "metadata": {
        "id": "6x3oNAgJ2_pZ"
      },
      "outputs": [],
      "source": [
        "#padding zero upto maximum length\n",
        "x_tr    =   pad_sequences(x_tr_seq,  maxlen=max_text_len, padding='post')\n",
        "x_val   =   pad_sequences(x_val_seq, maxlen=max_text_len, padding='post')\n",
        "\n",
        "#size of vocabulary ( +1 for padding token)\n",
        "x_voc   =  x_tokenizer.num_words + 1"
      ]
    },
    {
      "cell_type": "code",
      "execution_count": null,
      "metadata": {
        "colab": {
          "base_uri": "https://localhost:8080/",
          "height": 34
        },
        "id": "kjSQRw9Z3PBX",
        "outputId": "a38c7b6c-ecac-4766-eabc-b4dbabed7ebd"
      },
      "outputs": [
        {
          "data": {
            "text/plain": [
              "140"
            ]
          },
          "execution_count": 27,
          "metadata": {
            "tags": []
          },
          "output_type": "execute_result"
        }
      ],
      "source": [
        "x_voc"
      ]
    },
    {
      "cell_type": "code",
      "execution_count": null,
      "metadata": {
        "colab": {
          "base_uri": "https://localhost:8080/",
          "height": 187
        },
        "id": "VOLV4HYn3frR",
        "outputId": "cf7aaffe-8ea7-4cd6-8cf8-b9dd30d00ebc"
      },
      "outputs": [
        {
          "data": {
            "text/plain": [
              "array([ 25,   1,   9,   8,  11,  72,  12,  87,  13, 103,  26,   1,   9,\n",
              "         8,  11,   2,  12,  23,  13,  16,  27,   1,   9,   8,  11,  40,\n",
              "        12,  33,  13,  23,   3,   6,   2,  19,  24,   2,  23,  28,   1,\n",
              "         9,   8,   3, 100,  29,   1,   9,   8,  11,   2,  12,   2,  13,\n",
              "         2,  14,   1,   9,   8,   3,   6,   2,   4,  10,   2,  17,  14,\n",
              "         1,   9,   5,   3,   6,   2,   4,  10,   2,  17,  14,   1,   9,\n",
              "        22,   3,   6,   2,   4,  10,   2,  17,  14,   1,   5,   8,   3,\n",
              "         6,   2,   4,  10,   2,  17,  14,   1,  22,   8,   3,   6,   2,\n",
              "         4,  10,   2,  17,  30,   1,   9,   8,  11,   2,  12,   2,  13,\n",
              "         2,   0,   0], dtype=int32)"
            ]
          },
          "execution_count": 28,
          "metadata": {
            "tags": []
          },
          "output_type": "execute_result"
        }
      ],
      "source": [
        "x_val[10]"
      ]
    },
    {
      "cell_type": "code",
      "execution_count": null,
      "metadata": {
        "id": "9iZzN_RY3hOW"
      },
      "outputs": [],
      "source": [
        "#prepare a tokenizer for reviews on training data\n",
        "y_tokenizer = Tokenizer()   \n",
        "y_tokenizer.fit_on_texts(list(y_tr))"
      ]
    },
    {
      "cell_type": "code",
      "execution_count": null,
      "metadata": {
        "colab": {
          "base_uri": "https://localhost:8080/",
          "height": 51
        },
        "id": "-zeUnYhs45sI",
        "outputId": "57e9dff1-bb77-4121-88bd-ff2907c0dd26"
      },
      "outputs": [
        {
          "name": "stdout",
          "output_type": "stream",
          "text": [
            "% of rare words in vocabulary: 9.090909090909092\n",
            "Total Coverage of rare words: 0.0070722033736321495\n"
          ]
        }
      ],
      "source": [
        "thresh=3\n",
        "\n",
        "cnt=0\n",
        "tot_cnt=0\n",
        "freq=0\n",
        "tot_freq=0\n",
        "\n",
        "for key,value in y_tokenizer.word_counts.items():\n",
        "    tot_cnt=tot_cnt+1\n",
        "    tot_freq=tot_freq+value\n",
        "    if(value<thresh):\n",
        "        cnt=cnt+1\n",
        "        freq=freq+value\n",
        "    \n",
        "print(\"% of rare words in vocabulary:\",(cnt/tot_cnt)*100)\n",
        "print(\"Total Coverage of rare words:\",(freq/tot_freq)*100)"
      ]
    },
    {
      "cell_type": "code",
      "execution_count": null,
      "metadata": {
        "id": "FItKe8tS3lhU"
      },
      "outputs": [],
      "source": [
        "#prepare a tokenizer for reviews on training data\n",
        "y_tokenizer = Tokenizer(num_words=tot_cnt-cnt) \n",
        "y_tokenizer.fit_on_texts(list(y_tr))\n",
        "\n",
        "#convert text sequences into integer sequences\n",
        "y_tr_seq    =   y_tokenizer.texts_to_sequences(y_tr) \n",
        "y_val_seq   =   y_tokenizer.texts_to_sequences(y_val) \n",
        "\n",
        "#padding zero upto maximum length\n",
        "y_tr    =   pad_sequences(y_tr_seq, maxlen=max_summary_len, padding='post')\n",
        "y_val   =   pad_sequences(y_val_seq, maxlen=max_summary_len, padding='post')\n",
        "\n",
        "#size of vocabulary\n",
        "y_voc  =   y_tokenizer.num_words +1"
      ]
    },
    {
      "cell_type": "code",
      "execution_count": null,
      "metadata": {
        "colab": {
          "base_uri": "https://localhost:8080/",
          "height": 34
        },
        "id": "jH1tsX3F3ogc",
        "outputId": "cd470677-fa4f-4517-979c-96aad1116a8e"
      },
      "outputs": [
        {
          "data": {
            "text/plain": [
              "(20584, 20584)"
            ]
          },
          "execution_count": 32,
          "metadata": {
            "tags": []
          },
          "output_type": "execute_result"
        }
      ],
      "source": [
        "y_tokenizer.word_counts['sostok'],len(y_tr)   "
      ]
    },
    {
      "cell_type": "code",
      "execution_count": null,
      "metadata": {
        "id": "okBG5clTTBlj"
      },
      "outputs": [],
      "source": [
        "EMBEDDING_DIM = 100"
      ]
    },
    {
      "cell_type": "code",
      "execution_count": null,
      "metadata": {
        "colab": {
          "base_uri": "https://localhost:8080/",
          "height": 34
        },
        "id": "HoYz7YbuSQz-",
        "outputId": "91df92da-3a99-4426-a632-bcbec6bed729"
      },
      "outputs": [
        {
          "name": "stdout",
          "output_type": "stream",
          "text": [
            "Found 400000 word vectors.\n"
          ]
        }
      ],
      "source": [
        "embeddings_index = {}\n",
        "f = open( 'glove.6B.100d.txt?content=true')\n",
        "for line in f:\n",
        "    values = line.split()\n",
        "    word = values[0]\n",
        "    coefs = np.asarray(values[1:], dtype='float32')\n",
        "    embeddings_index[word] = coefs\n",
        "f.close()\n",
        "\n",
        "print('Found %s word vectors.' % len(embeddings_index))"
      ]
    },
    {
      "cell_type": "code",
      "execution_count": null,
      "metadata": {
        "id": "l0GFEmmSUZso"
      },
      "outputs": [],
      "source": [
        "reverse_target_word_index=y_tokenizer.index_word\n",
        "reverse_source_word_index=x_tokenizer.index_word\n",
        "target_word_index=y_tokenizer.word_index\n",
        "word_index=x_tokenizer.word_index"
      ]
    },
    {
      "cell_type": "code",
      "execution_count": null,
      "metadata": {
        "id": "3GcDgXU2ShON"
      },
      "outputs": [],
      "source": [
        "embedding_matrix = np.zeros((len(word_index) + 1, EMBEDDING_DIM))\n",
        "for word, i in word_index.items():\n",
        "    embedding_vector = embeddings_index.get(word)\n",
        "    if embedding_vector is not None:\n",
        "        # words not found in embedding index will be all-zeros.\n",
        "        embedding_matrix[i] = embedding_vector"
      ]
    },
    {
      "cell_type": "code",
      "execution_count": null,
      "metadata": {
        "id": "L7xhJN9OYrlB"
      },
      "outputs": [],
      "source": [
        "embedding_matrix_1 = np.zeros((len(target_word_index) + 1, EMBEDDING_DIM))\n",
        "for word, i in target_word_index.items():\n",
        "    embedding_vector = embeddings_index.get(word)\n",
        "    if embedding_vector is not None:\n",
        "        # words not found in embedding index will be all-zeros.\n",
        "        embedding_matrix_1[i] = embedding_vector"
      ]
    },
    {
      "cell_type": "code",
      "execution_count": null,
      "metadata": {
        "id": "imulutl-XDQo"
      },
      "outputs": [],
      "source": [
        "# from math import log\n",
        "# from numpy import array\n",
        "# from numpy import argmax\n",
        " \n",
        "# # beam search\n",
        "# def beam_search_decoder(data, k):\n",
        "# \tsequences = [[list(), 0.0]]\n",
        "# \t# walk over each step in sequence\n",
        "# \tfor row in data:\n",
        "# \t\tall_candidates = list()\n",
        "# \t\t# expand each current candidate\n",
        "# \t\tfor i in range(len(sequences)):\n",
        "# \t\t\tseq, score = sequences[i]\n",
        "# \t\t\tfor j in range(len(row)):\n",
        "# \t\t\t\tcandidate = [seq + [j], score - log(row[j])]\n",
        "# \t\t\t\tall_candidates.append(candidate)\n",
        "# \t\t# order all candidates by score\n",
        "# \t\tordered = sorted(all_candidates, key=lambda tup:tup[1])\n",
        "# \t\t# select k best\n",
        "# \t\tsequences = ordered[:k]\n",
        "# \treturn sequences\n",
        " \n",
        "# # define a sequence of 10 words over a vocab of 5 words\n",
        "# data = [[0.1, 0.2, 0.3, 0.4, 0.5],\n",
        "# \t\t[0.5, 0.4, 0.3, 0.2, 0.1],\n",
        "# \t\t[0.1, 0.2, 0.3, 0.4, 0.5],\n",
        "# \t\t[0.5, 0.4, 0.3, 0.2, 0.1],\n",
        "# \t\t[0.1, 0.2, 0.3, 0.4, 0.5],\n",
        "# \t\t[0.5, 0.4, 0.3, 0.2, 0.1],\n",
        "# \t\t[0.1, 0.2, 0.3, 0.4, 0.5],\n",
        "# \t\t[0.5, 0.4, 0.3, 0.2, 0.1],\n",
        "# \t\t[0.1, 0.2, 0.3, 0.4, 0.5],\n",
        "# \t\t[0.5, 0.4, 0.3, 0.2, 0.1]]\n",
        "# data = array(data)\n",
        "# # decode sequence\n",
        "# result = beam_search_decoder(data, 3)\n",
        "# # print result\n",
        "# for seq in result:\n",
        "# \tprint(seq)"
      ]
    },
    {
      "cell_type": "code",
      "execution_count": null,
      "metadata": {
        "colab": {
          "base_uri": "https://localhost:8080/",
          "height": 697
        },
        "id": "Tkb0C6U85Hdl",
        "outputId": "f06421d2-c18e-43a5-8117-95bfb1390d7f"
      },
      "outputs": [
        {
          "name": "stdout",
          "output_type": "stream",
          "text": [
            "WARNING:tensorflow:Layer lstm will not use cuDNN kernel since it doesn't meet the cuDNN kernel criteria. It will use generic GPU kernel as fallback when running on GPU\n",
            "WARNING:tensorflow:Layer lstm will not use cuDNN kernel since it doesn't meet the cuDNN kernel criteria. It will use generic GPU kernel as fallback when running on GPU\n",
            "WARNING:tensorflow:Layer lstm will not use cuDNN kernel since it doesn't meet the cuDNN kernel criteria. It will use generic GPU kernel as fallback when running on GPU\n",
            "WARNING:tensorflow:Layer lstm_1 will not use cuDNN kernel since it doesn't meet the cuDNN kernel criteria. It will use generic GPU kernel as fallback when running on GPU\n",
            "Model: \"model\"\n",
            "__________________________________________________________________________________________________\n",
            "Layer (type)                    Output Shape         Param #     Connected to                     \n",
            "==================================================================================================\n",
            "input_1 (InputLayer)            [(None, 120)]        0                                            \n",
            "__________________________________________________________________________________________________\n",
            "embedding (Embedding)           (None, 120, 100)     14000       input_1[0][0]                    \n",
            "__________________________________________________________________________________________________\n",
            "input_2 (InputLayer)            [(None, None)]       0                                            \n",
            "__________________________________________________________________________________________________\n",
            "bidirectional (Bidirectional)   [(None, 120, 256), ( 234496      embedding[0][0]                  \n",
            "__________________________________________________________________________________________________\n",
            "embedding_1 (Embedding)         (None, None, 100)    30900       input_2[0][0]                    \n",
            "__________________________________________________________________________________________________\n",
            "concatenate (Concatenate)       (None, 256)          0           bidirectional[0][1]              \n",
            "                                                                 bidirectional[0][3]              \n",
            "__________________________________________________________________________________________________\n",
            "concatenate_1 (Concatenate)     (None, 256)          0           bidirectional[0][2]              \n",
            "                                                                 bidirectional[0][4]              \n",
            "__________________________________________________________________________________________________\n",
            "lstm_1 (LSTM)                   [(None, None, 256),  365568      embedding_1[0][0]                \n",
            "                                                                 concatenate[0][0]                \n",
            "                                                                 concatenate_1[0][0]              \n",
            "__________________________________________________________________________________________________\n",
            "attention_layer (AttentionLayer ((None, None, 256),  131328      bidirectional[0][0]              \n",
            "                                                                 lstm_1[0][0]                     \n",
            "__________________________________________________________________________________________________\n",
            "concat_layer (Concatenate)      (None, None, 512)    0           lstm_1[0][0]                     \n",
            "                                                                 attention_layer[0][0]            \n",
            "__________________________________________________________________________________________________\n",
            "time_distributed (TimeDistribut (None, None, 281)    144153      concat_layer[0][0]               \n",
            "==================================================================================================\n",
            "Total params: 920,445\n",
            "Trainable params: 875,545\n",
            "Non-trainable params: 44,900\n",
            "__________________________________________________________________________________________________\n"
          ]
        }
      ],
      "source": [
        "# Bi-directional model\n",
        "from keras import backend as K \n",
        "K.clear_session()\n",
        "\n",
        "latent_dim = 128\n",
        "embedding_dim=EMBEDDING_DIM\n",
        "\n",
        "# Encoder\n",
        "encoder_inputs = Input(shape=(max_text_len,))\n",
        "\n",
        "#embedding layer\n",
        "enc_emb = Embedding(len(word_index) + 1,\n",
        "                            EMBEDDING_DIM,\n",
        "                            weights=[embedding_matrix],\n",
        "                            input_length=MAX_SEQUENCE_LENGTH,\n",
        "                            trainable=False)(encoder_inputs)\n",
        "\n",
        "#encoder lstm 1\n",
        "encoder_lstm = LSTM(latent_dim,return_sequences=True,return_state=True,dropout=0.3,recurrent_dropout=0.2)\n",
        "encoder_lstm1 = Bidirectional(encoder_lstm)\n",
        "encoder_outputs, forward_h, forward_c, backward_h, backward_c = encoder_lstm1(enc_emb)\n",
        "\n",
        "state_h = Concatenate()([forward_h, backward_h])\n",
        "state_c = Concatenate()([forward_c, backward_c])\n",
        "\n",
        "\n",
        "# Set up the decoder, using `encoder_states` as initial state.\n",
        "decoder_inputs = Input(shape=(None,))\n",
        "\n",
        "#embedding layer\n",
        "dec_emb_layer = Embedding(len(target_word_index) + 1,\n",
        "                            EMBEDDING_DIM,\n",
        "                            weights=[embedding_matrix_1],\n",
        "                            input_length=max_summary_len,\n",
        "                            trainable=False)\n",
        "\n",
        "dec_emb = dec_emb_layer(decoder_inputs)\n",
        "\n",
        "\n",
        "decoder_lstm = LSTM(latent_dim* 2, return_sequences=True, return_state=True,dropout=0.3,recurrent_dropout=0.2)\n",
        "decoder_outputs,decoder_fwd_state, decoder_back_state = decoder_lstm(dec_emb,initial_state=[state_h, state_c])\n",
        "\n",
        "# Attention layer\n",
        "attn_layer = AttentionLayer(name='attention_layer')\n",
        "attn_out, attn_states = attn_layer([encoder_outputs, decoder_outputs])\n",
        "\n",
        "# Concat attention input and decoder LSTM output\n",
        "decoder_concat_input = Concatenate(axis=-1, name='concat_layer')([decoder_outputs, attn_out])\n",
        "\n",
        "#dense layer\n",
        "decoder_dense =  TimeDistributed(Dense(y_voc, activation='softmax'))\n",
        "decoder_outputs = decoder_dense(decoder_concat_input)\n",
        "\n",
        "# Define the model \n",
        "model = Model([encoder_inputs, decoder_inputs], decoder_outputs)\n",
        "\n",
        "model.summary() "
      ]
    },
    {
      "cell_type": "code",
      "execution_count": null,
      "metadata": {
        "id": "QiCiMRV2vEuH"
      },
      "outputs": [],
      "source": [
        "# from tensorflow import keras\n",
        "# opt = keras.optimizers.Adam(learning_rate=0.01, beta_1=0.9, beta_2=0.999, decay=0.01)\n"
      ]
    },
    {
      "cell_type": "code",
      "execution_count": null,
      "metadata": {
        "id": "ky67YJi55HaB"
      },
      "outputs": [],
      "source": [
        "model.compile(optimizer='adam', loss='sparse_categorical_crossentropy', metrics=['accuracy'])"
      ]
    },
    {
      "cell_type": "code",
      "execution_count": null,
      "metadata": {
        "id": "biq7Lbhk5led"
      },
      "outputs": [],
      "source": [
        "es = EarlyStopping(monitor='val_loss', mode='min', verbose=1,patience=2)\n"
      ]
    },
    {
      "cell_type": "code",
      "execution_count": null,
      "metadata": {
        "colab": {
          "base_uri": "https://localhost:8080/",
          "height": 357
        },
        "id": "YorSwH0E5mqH",
        "outputId": "26eca400-7fa0-4486-8b9f-14e1e72407c4"
      },
      "outputs": [
        {
          "name": "stdout",
          "output_type": "stream",
          "text": [
            "Epoch 1/10\n",
            "322/322 [==============================] - 322s 1s/step - loss: 0.8584 - accuracy: 0.8055 - val_loss: 0.3903 - val_accuracy: 0.8847\n",
            "Epoch 2/10\n",
            "322/322 [==============================] - 325s 1s/step - loss: 0.3505 - accuracy: 0.8942 - val_loss: 0.3009 - val_accuracy: 0.9063\n",
            "Epoch 3/10\n",
            "322/322 [==============================] - 322s 1s/step - loss: 0.2916 - accuracy: 0.9091 - val_loss: 0.2637 - val_accuracy: 0.9158\n",
            "Epoch 4/10\n",
            "322/322 [==============================] - 324s 1s/step - loss: 0.2546 - accuracy: 0.9191 - val_loss: 0.2286 - val_accuracy: 0.9261\n",
            "Epoch 5/10\n",
            "322/322 [==============================] - 322s 1000ms/step - loss: 0.2274 - accuracy: 0.9266 - val_loss: 0.2056 - val_accuracy: 0.9324\n",
            "Epoch 6/10\n",
            "322/322 [==============================] - 320s 993ms/step - loss: 0.2081 - accuracy: 0.9319 - val_loss: 0.1924 - val_accuracy: 0.9363\n",
            "Epoch 7/10\n",
            "322/322 [==============================] - 321s 996ms/step - loss: 0.1931 - accuracy: 0.9360 - val_loss: 0.1789 - val_accuracy: 0.9400\n",
            "Epoch 8/10\n",
            "322/322 [==============================] - 321s 998ms/step - loss: 0.1819 - accuracy: 0.9390 - val_loss: 0.1693 - val_accuracy: 0.9430\n",
            "Epoch 9/10\n",
            "322/322 [==============================] - 319s 991ms/step - loss: 0.1725 - accuracy: 0.9419 - val_loss: 0.1616 - val_accuracy: 0.9454\n",
            "Epoch 10/10\n",
            "322/322 [==============================] - 322s 1s/step - loss: 0.1650 - accuracy: 0.9439 - val_loss: 0.1612 - val_accuracy: 0.9449\n"
          ]
        }
      ],
      "source": [
        "history=model.fit([x_tr,y_tr[:,:-1]], y_tr.reshape(y_tr.shape[0],y_tr.shape[1], 1)[:,1:] ,epochs=10,callbacks=[es],batch_size=64, validation_data=([x_val,y_val[:,:-1]], y_val.reshape(y_val.shape[0],y_val.shape[1], 1)[:,1:]))"
      ]
    },
    {
      "cell_type": "code",
      "execution_count": null,
      "metadata": {
        "colab": {
          "base_uri": "https://localhost:8080/",
          "height": 34
        },
        "id": "OLtxX4uhavmi",
        "outputId": "c4c718f4-f6f4-4292-9cae-cb1e70e5a26a"
      },
      "outputs": [
        {
          "name": "stdout",
          "output_type": "stream",
          "text": [
            "Saved model to disk\n"
          ]
        }
      ],
      "source": [
        "model_save_name = 'weather_summary_bidirirectional.h5'\n",
        "path = C\"/content/My Drive/ Projects/{model_save_name}\" \n",
        "# torch.save(model.state_dict(), path)\n",
        "model.save(path)\n",
        "print(\"Saved model to disk\")"
      ]
    },
    {
      "cell_type": "code",
      "execution_count": null,
      "metadata": {
        "id": "Vc4YJuXZbwio"
      },
      "outputs": [],
      "source": [
        "# # save model and architecture to single file\n",
        "# model.save(\"model.h5\")\n",
        "# print(\"Saved model to disk\")"
      ]
    },
    {
      "cell_type": "code",
      "execution_count": null,
      "metadata": {
        "id": "28awpsmOb0kL"
      },
      "outputs": [],
      "source": [
        "from tensorflow.keras.models import load_model\n",
        " \n",
        "# # load model\n",
        "# model = load_model('model.h5')\n",
        "# # summarize model.\n",
        "# model.summary()"
      ]
    },
    {
      "cell_type": "code",
      "execution_count": null,
      "metadata": {
        "colab": {
          "base_uri": "https://localhost:8080/",
          "height": 265
        },
        "id": "-40wYLAH5vRZ",
        "outputId": "cd99c3ef-4b73-4479-b9e5-502ea5b8da03"
      },
      "outputs": [
        {
          "data": {
            "image/png": "[encoded data removed]",
            "text/plain": [
              "<Figure size 432x288 with 1 Axes>"
            ]
          },
          "metadata": {
            "needs_background": "light",
            "tags": []
          },
          "output_type": "display_data"
        }
      ],
      "source": [
        "from matplotlib import pyplot\n",
        "pyplot.plot(history.history['loss'], label='train')\n",
        "pyplot.plot(history.history['val_loss'], label='test')\n",
        "pyplot.legend()\n",
        "pyplot.show()"
      ]
    },
    {
      "cell_type": "code",
      "execution_count": null,
      "metadata": {
        "id": "NHuno8p75vKE"
      },
      "outputs": [],
      "source": [
        "# Encode the input sequence to get the feature vector\n",
        "encoder_model = Model(inputs=encoder_inputs,outputs=[encoder_outputs, state_h, state_c])\n",
        "\n",
        "# Decoder setup\n",
        "# Below tensors will hold the states of the previous time step\n",
        "decoder_state_input_h = Input(shape=(latent_dim*2,))\n",
        "decoder_state_input_c = Input(shape=(latent_dim*2,))\n",
        "decoder_hidden_state_input = Input(shape=(max_text_len,latent_dim*2))\n",
        "\n",
        "# Get the embeddings of the decoder sequence\n",
        "dec_emb2= dec_emb_layer(decoder_inputs) \n",
        "# To predict the next word in the sequence, set the initial states to the states from the previous time step\n",
        "decoder_outputs2, state_h2, state_c2 = decoder_lstm(dec_emb2, initial_state=[decoder_state_input_h, decoder_state_input_c])\n",
        "\n",
        "#attention inference\n",
        "attn_out_inf, attn_states_inf = attn_layer([decoder_hidden_state_input, decoder_outputs2])\n",
        "decoder_inf_concat = Concatenate(axis=-1, name='concat')([decoder_outputs2, attn_out_inf])\n",
        "\n",
        "# A dense softmax layer to generate prob dist. over the target vocabulary\n",
        "decoder_outputs2 = decoder_dense(decoder_inf_concat) \n",
        "\n",
        "# Final decoder model\n",
        "decoder_model = Model(\n",
        "    [decoder_inputs] + [decoder_hidden_state_input,decoder_state_input_h, decoder_state_input_c],\n",
        "    [decoder_outputs2] + [state_h2, state_c2])"
      ]
    },
    {
      "cell_type": "code",
      "execution_count": null,
      "metadata": {
        "id": "F3M-PqdJ5vHC"
      },
      "outputs": [],
      "source": [
        "def decode_sequence(input_seq):\n",
        "    # Encode the input as state vectors.\n",
        "    e_out, e_h, e_c = encoder_model.predict(input_seq)\n",
        "    \n",
        "    # Generate empty target sequence of length 1.\n",
        "    target_seq = np.zeros((1,1))\n",
        "    # e_h = e_h*0\n",
        "    # e_c = e_c*0\n",
        "\n",
        "    # Populate the first word of target sequence with the start word.\n",
        "    target_seq[0, 0] = target_word_index['sostok']\n",
        "\n",
        "    stop_condition = False\n",
        "    decoded_sentence = ''\n",
        "    while not stop_condition:\n",
        "      \n",
        "        output_tokens, h, c = decoder_model.predict([target_seq] + [e_out, e_h, e_c])\n",
        "\n",
        "        # Sample a token\n",
        "        sampled_token_index = np.argmax(output_tokens[0, -1, :])\n",
        "        sampled_token = reverse_target_word_index[sampled_token_index]\n",
        "        # print(sampled_token)\n",
        "        if(sampled_token!='eostok'):\n",
        "            decoded_sentence += ' '+sampled_token\n",
        "\n",
        "        # Exit condition: either hit max length or find stop word.\n",
        "        if (sampled_token == 'eostok'  or len(decoded_sentence.split()) >= (max_summary_len-1)):\n",
        "            stop_condition = True\n",
        "\n",
        "        # Update the target sequence (of length 1).\n",
        "        target_seq = np.zeros((1,1))\n",
        "        target_seq[0, 0] = sampled_token_index\n",
        "\n",
        "        # Update internal states\n",
        "        e_h, e_c = h, c\n",
        "\n",
        "    return decoded_sentence"
      ]
    },
    {
      "cell_type": "code",
      "execution_count": null,
      "metadata": {
        "id": "XnLCbbxE5vDp"
      },
      "outputs": [],
      "source": [
        "def seq2summary(input_seq):\n",
        "    newString=''\n",
        "    for i in input_seq:\n",
        "        if((i!=0 and i!=target_word_index['sostok']) and i!=target_word_index['eostok']):\n",
        "            newString=newString+reverse_target_word_index[i]+' '\n",
        "    return newString\n",
        "\n",
        "def seq2text(input_seq):\n",
        "    newString=''\n",
        "    for i in input_seq:\n",
        "        if(i!=0):\n",
        "            newString=newString+reverse_source_word_index[i]+' '\n",
        "    return newString"
      ]
    },
    {
      "cell_type": "code",
      "execution_count": null,
      "metadata": {
        "colab": {
          "base_uri": "https://localhost:8080/",
          "height": 462
        },
        "id": "neS0-iA_56NQ",
        "outputId": "a8704338-d4b9-44e7-eef5-a90bbce388a8"
      },
      "outputs": [
        {
          "name": "stdout",
          "output_type": "stream",
          "text": [
            "Tabular data: temperature time 17 30 min 67 mean 70 max 77 windchill time 17 30 min 0 mean 0 max 0 windspeed time 17 30 min 11 mean 12 max 16 mode bucket 0 20 2 10 20 winddir time 17 30 mode ese gust time 17 30 min 0 mean 3 max 21 skycover time 17 30 mode bucket 0 100 4 25 50 skycover time 17 21 mode bucket 0 100 4 25 50 skycover time 17 26 mode bucket 0 100 4 25 50 skycover time 21 30 mode bucket 0 100 4 25 50 skycover time 26 30 mode bucket 0 100 4 25 50 precippotential time 17 30 min 2 mean 4 max 5 \n",
            "Original summary: partly cloudy with a low around 67 east wind between 11 and 13 mph \n",
            "Predicted summary:  partly cloudy with a low around 66 east wind between 11 and 13 mph\n",
            "\n",
            "\n",
            "Tabular data: max 9 mode bucket 0 20 2 0 10 winddir time 6 21 mode nw gust time 6 21 min 0 mean 0 max 0 skycover time 6 21 mode bucket 0 100 4 75 100 skycover time 6 9 mode bucket 0 100 4 75 100 skycover time 6 13 mode bucket 0 100 4 75 100 skycover time 9 21 mode bucket 0 100 4 75 100 skycover time 13 21 mode bucket 0 100 4 50 75 precippotential time 6 21 min 17 mean 36 max 60 snowchance time 6 21 mode chc snowchance time 6 9 mode lkly snowchance time 6 13 mode lkly snowchance time 9 21 mode chc snowchance time 13 21 mode schc \n",
            "Original summary: snow likely mainly before 11am mostly cloudy with a high near 37 east wind 6 to 9 mph becoming northwest chance of precipitation is 60 new snow accumulation of less than one inch possible \n",
            "Predicted summary:  snow likely mainly before 11am mostly cloudy with a high near 37 south southwest wind around 7 mph chance of precipitation is 60 new snow accumulation of less than one inch possible\n",
            "\n",
            "\n",
            "Tabular data: windchill time 17 30 min 35 mean 36 max 39 windspeed time 17 30 min 10 mean 14 max 16 mode bucket 0 20 2 10 20 winddir time 17 30 mode sse gust time 17 30 min 0 mean 0 max 0 skycover time 17 30 mode bucket 0 100 4 50 75 skycover time 17 21 mode bucket 0 100 4 50 75 skycover time 17 26 mode bucket 0 100 4 50 75 skycover time 21 30 mode bucket 0 100 4 50 75 skycover time 26 30 mode bucket 0 100 4 75 100 precippotential time 17 30 min 5 mean 27 max 77 rainchance time 21 30 mode schc rainchance time 26 30 mode def \n",
            "Original summary: occasional rain mainly after 3am low around 42 south wind between 11 and 16 mph chance of precipitation is 80 new rainfall amounts between a quarter and half of an inch possible \n",
            "Predicted summary:  occasional rain mainly after 3am low around 43 south wind between 10 and 15 mph chance of precipitation is 80 new rainfall amounts between a tenth and quarter of an inch possible\n",
            "\n",
            "\n",
            "Tabular data: min 43 mean 44 max 46 windchill time 17 30 min 36 mean 38 max 41 windspeed time 17 30 min 10 mean 10 max 13 mode bucket 0 20 2 10 20 winddir time 17 30 mode se gust time 17 30 min 0 mean 0 max 0 skycover time 17 30 mode bucket 0 100 4 50 75 skycover time 17 21 mode bucket 0 100 4 50 75 skycover time 17 26 mode bucket 0 100 4 50 75 skycover time 21 30 mode bucket 0 100 4 50 75 skycover time 26 30 mode bucket 0 100 4 75 100 precippotential time 17 30 min 5 mean 26 max 75 rainchance time 26 30 mode def \n",
            "Original summary: occasional rain after 3am low around 43 south wind between 10 and 13 mph chance of precipitation is 80 new rainfall amounts between a quarter and half of an inch possible \n",
            "Predicted summary:  occasional rain mainly after 3am low around 43 south wind between 10 and 15 mph chance of precipitation is 80 new rainfall amounts between a quarter and half of an inch possible\n",
            "\n",
            "\n",
            "Tabular data: windchill time 6 21 min 0 mean 38 max 48 windspeed time 6 21 min 3 mean 5 max 7 mode bucket 0 20 2 0 10 winddir time 6 21 mode n gust time 6 21 min 0 mean 0 max 0 skycover time 6 21 mode bucket 0 100 4 25 50 skycover time 6 9 mode bucket 0 100 4 75 100 skycover time 6 13 mode bucket 0 100 4 75 100 skycover time 9 21 mode bucket 0 100 4 25 50 skycover time 13 21 mode bucket 0 100 4 25 50 precippotential time 6 21 min 2 mean 17 max 53 rainchance time 6 9 mode chc rainchance time 6 13 mode chc \n",
            "Original summary: scattered showers mainly before 10am cloudy then gradually becoming mostly sunny with a high near 52 north wind around 7 mph chance of precipitation is 50 new rainfall amounts of less than a tenth of an inch possible \n",
            "Predicted summary:  a chance of drizzle before 1pm mostly cloudy with a high near 54 east wind between 3 and 8 mph\n",
            "\n",
            "\n"
          ]
        }
      ],
      "source": [
        "for i in range(0,5):\n",
        "    print(\"Tabular data:\",seq2text(x_tr[i]))\n",
        "    print(\"Original summary:\",seq2summary(y_tr[i]))\n",
        "    print(\"Predicted summary:\",decode_sequence(x_tr[i].reshape(1,max_text_len)))\n",
        "    print(\"\\n\")"
      ]
    },
    {
      "cell_type": "code",
      "execution_count": null,
      "metadata": {
        "id": "nMOuGQ5U7v_C"
      },
      "outputs": [],
      "source": [
        "test_num = 200\n",
        "reference = []\n",
        "for i in range(test_num):\n",
        "  reference.append(seq2summary(y_val[i]))\n",
        "\n",
        "prediction = []\n",
        "for i in range(test_num):\n",
        "  prediction.append(decode_sequence(x_val[i].reshape(1,max_text_len)))\n",
        "\n",
        "\n",
        "from nltk.translate.bleu_score import sentence_bleu\n",
        "\n",
        "score = 0.\n",
        "\n",
        "for i in range(len(reference)):\n",
        "    score += sentence_bleu([reference[i].strip().split()], prediction[i].strip().split())\n",
        "\n",
        "score /= len(reference)"
      ]
    },
    {
      "cell_type": "code",
      "execution_count": null,
      "metadata": {
        "colab": {
          "base_uri": "https://localhost:8080/",
          "height": 34
        },
        "id": "S-FYmmhThYIc",
        "outputId": "3b5c44a9-c24e-4543-bf17-3ada693a7e05"
      },
      "outputs": [
        {
          "name": "stdout",
          "output_type": "stream",
          "text": [
            "The bleu score is: 0.7513361605009568\n"
          ]
        }
      ],
      "source": [
        "print(\"The bleu score is: \"+str(score))"
      ]
    }
  ],
  "metadata": {
    "accelerator": "GPU",
    "colab": {
      "collapsed_sections": [],
      "provenance": []
    },
    "kernelspec": {
      "display_name": "Python 3",
      "language": "python",
      "name": "python3"
    },
    "language_info": {
      "codemirror_mode": {
        "name": "ipython",
        "version": 3
      },
      "file_extension": ".py",
      "mimetype": "text/x-python",
      "name": "python",
      "nbconvert_exporter": "python",
      "pygments_lexer": "ipython3",
      "version": "3.6.4"
    }
  },
  "nbformat": 4,
  "nbformat_minor": 0
}