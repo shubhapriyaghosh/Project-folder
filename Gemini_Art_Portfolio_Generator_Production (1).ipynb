{
  "cells": [
    {
      "cell_type": "code",
      "execution_count": null,
      "metadata": {
        "colab": {
          "base_uri": "https://localhost:8080/",
          "height": 73
        },
        "id": "qcSY-PmTX49b",
        "outputId": "c555e40e-edbf-41c6-dfcd-ea2a2f6edcff"
      },
      "outputs": [
        {
          "data": {
            "text/html": [
              "\n",
              "     <input type=\"file\" id=\"files-dcbd63e1-aeb0-441c-82c5-2e2ddc1020d4\" name=\"files[]\" multiple disabled\n",
              "        style=\"border:none\" />\n",
              "     <output id=\"result-dcbd63e1-aeb0-441c-82c5-2e2ddc1020d4\">\n",
              "      Upload widget is only available when the cell has been executed in the\n",
              "      current browser session. Please rerun this cell to enable.\n",
              "      </output>\n",
              "      <script>// Copyright 2017 Google LLC\n",
              "//\n",
              "// Licensed under the Apache License, Version 2.0 (the \"License\");\n",
              "// you may not use this file except in compliance with the License.\n",
              "// You may obtain a copy of the License at\n",
              "//\n",
              "//      http://www.apache.org/licenses/LICENSE-2.0\n",
              "//\n",
              "// Unless required by applicable law or agreed to in writing, software\n",
              "// distributed under the License is distributed on an \"AS IS\" BASIS,\n",
              "// WITHOUT WARRANTIES OR CONDITIONS OF ANY KIND, either express or implied.\n",
              "// See the License for the specific language governing permissions and\n",
              "// limitations under the License.\n",
              "\n",
              "/**\n",
              " * @fileoverview Helpers for google.colab Python module.\n",
              " */\n",
              "(function(scope) {\n",
              "function span(text, styleAttributes = {}) {\n",
              "  const element = document.createElement('span');\n",
              "  element.textContent = text;\n",
              "  for (const key of Object.keys(styleAttributes)) {\n",
              "    element.style[key] = styleAttributes[key];\n",
              "  }\n",
              "  return element;\n",
              "}\n",
              "\n",
              "// Max number of bytes which will be uploaded at a time.\n",
              "const MAX_PAYLOAD_SIZE = 100 * 1024;\n",
              "\n",
              "function _uploadFiles(inputId, outputId) {\n",
              "  const steps = uploadFilesStep(inputId, outputId);\n",
              "  const outputElement = document.getElementById(outputId);\n",
              "  // Cache steps on the outputElement to make it available for the next call\n",
              "  // to uploadFilesContinue from Python.\n",
              "  outputElement.steps = steps;\n",
              "\n",
              "  return _uploadFilesContinue(outputId);\n",
              "}\n",
              "\n",
              "// This is roughly an async generator (not supported in the browser yet),\n",
              "// where there are multiple asynchronous steps and the Python side is going\n",
              "// to poll for completion of each step.\n",
              "// This uses a Promise to block the python side on completion of each step,\n",
              "// then passes the result of the previous step as the input to the next step.\n",
              "function _uploadFilesContinue(outputId) {\n",
              "  const outputElement = document.getElementById(outputId);\n",
              "  const steps = outputElement.steps;\n",
              "\n",
              "  const next = steps.next(outputElement.lastPromiseValue);\n",
              "  return Promise.resolve(next.value.promise).then((value) => {\n",
              "    // Cache the last promise value to make it available to the next\n",
              "    // step of the generator.\n",
              "    outputElement.lastPromiseValue = value;\n",
              "    return next.value.response;\n",
              "  });\n",
              "}\n",
              "\n",
              "/**\n",
              " * Generator function which is called between each async step of the upload\n",
              " * process.\n",
              " * @param {string} inputId Element ID of the input file picker element.\n",
              " * @param {string} outputId Element ID of the output display.\n",
              " * @return {!Iterable<!Object>} Iterable of next steps.\n",
              " */\n",
              "function* uploadFilesStep(inputId, outputId) {\n",
              "  const inputElement = document.getElementById(inputId);\n",
              "  inputElement.disabled = false;\n",
              "\n",
              "  const outputElement = document.getElementById(outputId);\n",
              "  outputElement.innerHTML = '';\n",
              "\n",
              "  const pickedPromise = new Promise((resolve) => {\n",
              "    inputElement.addEventListener('change', (e) => {\n",
              "      resolve(e.target.files);\n",
              "    });\n",
              "  });\n",
              "\n",
              "  const cancel = document.createElement('button');\n",
              "  inputElement.parentElement.appendChild(cancel);\n",
              "  cancel.textContent = 'Cancel upload';\n",
              "  const cancelPromise = new Promise((resolve) => {\n",
              "    cancel.onclick = () => {\n",
              "      resolve(null);\n",
              "    };\n",
              "  });\n",
              "\n",
              "  // Wait for the user to pick the files.\n",
              "  const files = yield {\n",
              "    promise: Promise.race([pickedPromise, cancelPromise]),\n",
              "    response: {\n",
              "      action: 'starting',\n",
              "    }\n",
              "  };\n",
              "\n",
              "  cancel.remove();\n",
              "\n",
              "  // Disable the input element since further picks are not allowed.\n",
              "  inputElement.disabled = true;\n",
              "\n",
              "  if (!files) {\n",
              "    return {\n",
              "      response: {\n",
              "        action: 'complete',\n",
              "      }\n",
              "    };\n",
              "  }\n",
              "\n",
              "  for (const file of files) {\n",
              "    const li = document.createElement('li');\n",
              "    li.append(span(file.name, {fontWeight: 'bold'}));\n",
              "    li.append(span(\n",
              "        `(${file.type || 'n/a'}) - ${file.size} bytes, ` +\n",
              "        `last modified: ${\n",
              "            file.lastModifiedDate ? file.lastModifiedDate.toLocaleDateString() :\n",
              "                                    'n/a'} - `));\n",
              "    const percent = span('0% done');\n",
              "    li.appendChild(percent);\n",
              "\n",
              "    outputElement.appendChild(li);\n",
              "\n",
              "    const fileDataPromise = new Promise((resolve) => {\n",
              "      const reader = new FileReader();\n",
              "      reader.onload = (e) => {\n",
              "        resolve(e.target.result);\n",
              "      };\n",
              "      reader.readAsArrayBuffer(file);\n",
              "    });\n",
              "    // Wait for the data to be ready.\n",
              "    let fileData = yield {\n",
              "      promise: fileDataPromise,\n",
              "      response: {\n",
              "        action: 'continue',\n",
              "      }\n",
              "    };\n",
              "\n",
              "    // Use a chunked sending to avoid message size limits. See b/62115660.\n",
              "    let position = 0;\n",
              "    do {\n",
              "      const length = Math.min(fileData.byteLength - position, MAX_PAYLOAD_SIZE);\n",
              "      const chunk = new Uint8Array(fileData, position, length);\n",
              "      position += length;\n",
              "\n",
              "      const base64 = btoa(String.fromCharCode.apply(null, chunk));\n",
              "      yield {\n",
              "        response: {\n",
              "          action: 'append',\n",
              "          file: file.name,\n",
              "          data: base64,\n",
              "        },\n",
              "      };\n",
              "\n",
              "      let percentDone = fileData.byteLength === 0 ?\n",
              "          100 :\n",
              "          Math.round((position / fileData.byteLength) * 100);\n",
              "      percent.textContent = `${percentDone}% done`;\n",
              "\n",
              "    } while (position < fileData.byteLength);\n",
              "  }\n",
              "\n",
              "  // All done.\n",
              "  yield {\n",
              "    response: {\n",
              "      action: 'complete',\n",
              "    }\n",
              "  };\n",
              "}\n",
              "\n",
              "scope.google = scope.google || {};\n",
              "scope.google.colab = scope.google.colab || {};\n",
              "scope.google.colab._files = {\n",
              "  _uploadFiles,\n",
              "  _uploadFilesContinue,\n",
              "};\n",
              "})(self);\n",
              "</script> "
            ],
            "text/plain": [
              "<IPython.core.display.HTML object>"
            ]
          },
          "metadata": {},
          "output_type": "display_data"
        },
        {
          "name": "stdout",
          "output_type": "stream",
          "text": [
            "Saving image-from-rawpixel-id-426278-jpeg (1).jpg to image-from-rawpixel-id-426278-jpeg (1).jpg\n",
            "Buffered data was truncated after reaching the output size limit."
          ]
        }
      ],
      "source": [
        "# 📘 Gemini 1.5 Flash: AI Art Portfolio Generator using Google Generative AI API\n",
        "\n",
        "## ✅ Step 1: Install Google Generative AI SDK\n",
        "!pip install -q google-generativeai\n",
        "\n",
        "## ✅ Step 2: Import Libraries\n",
        "import google.generativeai as genai\n",
        "import PIL.Image\n",
        "import io\n",
        "from IPython.display import display\n",
        "import os\n",
        "\n",
        "## ✅ Step 3: Configure Gemini API Key\n",
        "# Paste your API key below\n",
        "api_key = \"your_api_key_here\"  # 🔁 Replace this with your actual Gemini API key\n",
        "genai.configure(api_key=api_key)\n",
        "\n",
        "model = genai.GenerativeModel(\"gemini-1.5-flash\")\n",
        "\n",
        "## ✅ Step 4: Upload Image\n",
        "from google.colab import files\n",
        "\n",
        "uploaded = files.upload()\n",
        "file_name = list(uploaded.keys())[0]\n",
        "\n",
        "image = PIL.Image.open(file_name)\n",
        "display(image)\n",
        "\n",
        "## ✅ Step 5: Create Prompt for Art Portfolio Description\n",
        "prompt = \"\"\"You're an expert creative content writer and SEO specialist for artists.\n",
        "Given the artwork image, generate the following:\n",
        "- A catchy and professional artwork title\n",
        "- A 2-3 sentence art description for a portfolio or gallery\n",
        "- 5 relevant SEO tags\n",
        "Make it poetic and audience-friendly.\n",
        "\"\"\"\n",
        "\n",
        "## ✅ Step 6: Send Image + Prompt to Gemini Model\n",
        "response = model.generate_content([prompt, image], stream=False)\n",
        "print(\"🔍 Generated Output:\")\n",
        "print(response.text)\n",
        "\n",
        "## ✅ Step 7 (Optional): Convert to Structured JSON Output\n",
        "import re\n",
        "import json\n",
        "\n",
        "def extract_json(gemini_output):\n",
        "    title = re.search(r\"(?i)title[:\\-\\n]*([^\\n]+)\", gemini_output)\n",
        "    desc = re.search(r\"(?i)description[:\\-\\n]*([\\s\\S]+?)tags[:\\n]\", gemini_output)\n",
        "    tags = re.search(r\"(?i)tags[:\\-\\n]*([^\\n]+)\", gemini_output)\n",
        "    return {\n",
        "        \"title\": title.group(1).strip() if title else \"\",\n",
        "        \"description\": desc.group(1).strip() if desc else \"\",\n",
        "        \"tags\": [tag.strip() for tag in tags.group(1).split(\",\")] if tags else []\n",
        "    }\n",
        "\n",
        "result = extract_json(response.text)\n",
        "print(\"\\n📦 Structured Output:\")\n",
        "print(json.dumps(result, indent=2))"
      ]
    },
    {
      "cell_type": "code",
      "execution_count": null,
      "metadata": {
        "id": "6KcS1JtEePyH"
      },
      "outputs": [],
      "source": []
    },
    {
      "cell_type": "code",
      "execution_count": null,
      "metadata": {
        "id": "j5YF6MN-eP4e"
      },
      "outputs": [],
      "source": []
    },
    {
      "cell_type": "code",
      "execution_count": null,
      "metadata": {
        "id": "_Yg-lJO5eP7_"
      },
      "outputs": [],
      "source": []
    },
    {
      "cell_type": "code",
      "execution_count": null,
      "metadata": {
        "id": "Rg9cVEgyeP_w"
      },
      "outputs": [],
      "source": []
    },
    {
      "cell_type": "code",
      "execution_count": null,
      "metadata": {
        "id": "6Eq8wzx1eQGI"
      },
      "outputs": [],
      "source": []
    },
    {
      "cell_type": "code",
      "execution_count": null,
      "metadata": {
        "id": "uWiGzk9KeQNQ"
      },
      "outputs": [],
      "source": []
    },
    {
      "cell_type": "code",
      "execution_count": null,
      "metadata": {
        "colab": {
          "base_uri": "https://localhost:8080/"
        },
        "id": "dzW4J_YYeQQx",
        "outputId": "95d06e99-3ce1-4b26-8109-de5853494b0f"
      },
      "outputs": [
        {
          "name": "stdout",
          "output_type": "stream",
          "text": [
            "Requirement already satisfied: google-generativeai in /usr/local/lib/python3.11/dist-packages (0.8.5)\n",
            "Requirement already satisfied: fastapi in /usr/local/lib/python3.11/dist-packages (0.115.12)\n",
            "Requirement already satisfied: uvicorn in /usr/local/lib/python3.11/dist-packages (0.34.3)\n",
            "Requirement already satisfied: jinja2 in /usr/local/lib/python3.11/dist-packages (3.1.6)\n",
            "Requirement already satisfied: python-multipart in /usr/local/lib/python3.11/dist-packages (0.0.20)\n",
            "Requirement already satisfied: aiofiles in /usr/local/lib/python3.11/dist-packages (24.1.0)\n",
            "Requirement already satisfied: google-ai-generativelanguage==0.6.15 in /usr/local/lib/python3.11/dist-packages (from google-generativeai) (0.6.15)\n",
            "Requirement already satisfied: google-api-core in /usr/local/lib/python3.11/dist-packages (from google-generativeai) (2.25.0)\n",
            "Requirement already satisfied: google-api-python-client in /usr/local/lib/python3.11/dist-packages (from google-generativeai) (2.171.0)\n",
            "Requirement already satisfied: google-auth>=2.15.0 in /usr/local/lib/python3.11/dist-packages (from google-generativeai) (2.38.0)\n",
            "Requirement already satisfied: protobuf in /usr/local/lib/python3.11/dist-packages (from google-generativeai) (5.29.5)\n",
            "Requirement already satisfied: pydantic in /usr/local/lib/python3.11/dist-packages (from google-generativeai) (2.11.5)\n",
            "Requirement already satisfied: tqdm in /usr/local/lib/python3.11/dist-packages (from google-generativeai) (4.67.1)\n",
            "Requirement already satisfied: typing-extensions in /usr/local/lib/python3.11/dist-packages (from google-generativeai) (4.14.0)\n",
            "Requirement already satisfied: proto-plus<2.0.0dev,>=1.22.3 in /usr/local/lib/python3.11/dist-packages (from google-ai-generativelanguage==0.6.15->google-generativeai) (1.26.1)\n",
            "Requirement already satisfied: starlette<0.47.0,>=0.40.0 in /usr/local/lib/python3.11/dist-packages (from fastapi) (0.46.2)\n",
            "Requirement already satisfied: click>=7.0 in /usr/local/lib/python3.11/dist-packages (from uvicorn) (8.2.1)\n",
            "Requirement already satisfied: h11>=0.8 in /usr/local/lib/python3.11/dist-packages (from uvicorn) (0.16.0)\n",
            "Requirement already satisfied: MarkupSafe>=2.0 in /usr/local/lib/python3.11/dist-packages (from jinja2) (3.0.2)\n",
            "Requirement already satisfied: googleapis-common-protos<2.0.0,>=1.56.2 in /usr/local/lib/python3.11/dist-packages (from google-api-core->google-generativeai) (1.70.0)\n",
            "Requirement already satisfied: requests<3.0.0,>=2.18.0 in /usr/local/lib/python3.11/dist-packages (from google-api-core->google-generativeai) (2.32.3)\n",
            "Requirement already satisfied: cachetools<6.0,>=2.0.0 in /usr/local/lib/python3.11/dist-packages (from google-auth>=2.15.0->google-generativeai) (5.5.2)\n",
            "Requirement already satisfied: pyasn1-modules>=0.2.1 in /usr/local/lib/python3.11/dist-packages (from google-auth>=2.15.0->google-generativeai) (0.4.2)\n",
            "Requirement already satisfied: rsa<5,>=3.1.4 in /usr/local/lib/python3.11/dist-packages (from google-auth>=2.15.0->google-generativeai) (4.9.1)\n",
            "Requirement already satisfied: annotated-types>=0.6.0 in /usr/local/lib/python3.11/dist-packages (from pydantic->google-generativeai) (0.7.0)\n",
            "Requirement already satisfied: pydantic-core==2.33.2 in /usr/local/lib/python3.11/dist-packages (from pydantic->google-generativeai) (2.33.2)\n",
            "Requirement already satisfied: typing-inspection>=0.4.0 in /usr/local/lib/python3.11/dist-packages (from pydantic->google-generativeai) (0.4.1)\n",
            "Requirement already satisfied: anyio<5,>=3.6.2 in /usr/local/lib/python3.11/dist-packages (from starlette<0.47.0,>=0.40.0->fastapi) (4.9.0)\n",
            "Requirement already satisfied: httplib2<1.0.0,>=0.19.0 in /usr/local/lib/python3.11/dist-packages (from google-api-python-client->google-generativeai) (0.22.0)\n",
            "Requirement already satisfied: google-auth-httplib2<1.0.0,>=0.2.0 in /usr/local/lib/python3.11/dist-packages (from google-api-python-client->google-generativeai) (0.2.0)\n",
            "Requirement already satisfied: uritemplate<5,>=3.0.1 in /usr/local/lib/python3.11/dist-packages (from google-api-python-client->google-generativeai) (4.2.0)\n",
            "Requirement already satisfied: idna>=2.8 in /usr/local/lib/python3.11/dist-packages (from anyio<5,>=3.6.2->starlette<0.47.0,>=0.40.0->fastapi) (3.10)\n",
            "Requirement already satisfied: sniffio>=1.1 in /usr/local/lib/python3.11/dist-packages (from anyio<5,>=3.6.2->starlette<0.47.0,>=0.40.0->fastapi) (1.3.1)\n",
            "Requirement already satisfied: grpcio<2.0.0,>=1.33.2 in /usr/local/lib/python3.11/dist-packages (from google-api-core[grpc]!=2.0.*,!=2.1.*,!=2.10.*,!=2.2.*,!=2.3.*,!=2.4.*,!=2.5.*,!=2.6.*,!=2.7.*,!=2.8.*,!=2.9.*,<3.0.0dev,>=1.34.1->google-ai-generativelanguage==0.6.15->google-generativeai) (1.72.1)\n",
            "Requirement already satisfied: grpcio-status<2.0.0,>=1.33.2 in /usr/local/lib/python3.11/dist-packages (from google-api-core[grpc]!=2.0.*,!=2.1.*,!=2.10.*,!=2.2.*,!=2.3.*,!=2.4.*,!=2.5.*,!=2.6.*,!=2.7.*,!=2.8.*,!=2.9.*,<3.0.0dev,>=1.34.1->google-ai-generativelanguage==0.6.15->google-generativeai) (1.71.0)\n",
            "Requirement already satisfied: pyparsing!=3.0.0,!=3.0.1,!=3.0.2,!=3.0.3,<4,>=2.4.2 in /usr/local/lib/python3.11/dist-packages (from httplib2<1.0.0,>=0.19.0->google-api-python-client->google-generativeai) (3.2.3)\n",
            "Requirement already satisfied: pyasn1<0.7.0,>=0.6.1 in /usr/local/lib/python3.11/dist-packages (from pyasn1-modules>=0.2.1->google-auth>=2.15.0->google-generativeai) (0.6.1)\n",
            "Requirement already satisfied: charset-normalizer<4,>=2 in /usr/local/lib/python3.11/dist-packages (from requests<3.0.0,>=2.18.0->google-api-core->google-generativeai) (3.4.2)\n",
            "Requirement already satisfied: urllib3<3,>=1.21.1 in /usr/local/lib/python3.11/dist-packages (from requests<3.0.0,>=2.18.0->google-api-core->google-generativeai) (2.4.0)\n",
            "Requirement already satisfied: certifi>=2017.4.17 in /usr/local/lib/python3.11/dist-packages (from requests<3.0.0,>=2.18.0->google-api-core->google-generativeai) (2025.4.26)\n"
          ]
        }
      ],
      "source": [
        "!pip install google-generativeai fastapi uvicorn jinja2 python-multipart aiofiles\n"
      ]
    },
    {
      "cell_type": "code",
      "execution_count": null,
      "metadata": {
        "id": "c53t3emAecPu"
      },
      "outputs": [],
      "source": []
    },
    {
      "cell_type": "code",
      "execution_count": null,
      "metadata": {
        "id": "vjdNbMxuecUx"
      },
      "outputs": [],
      "source": []
    },
    {
      "cell_type": "code",
      "execution_count": null,
      "metadata": {
        "id": "q2xkoUMeecYe"
      },
      "outputs": [],
      "source": [
        "# ai_utils.py\n",
        "import google.generativeai as genai\n",
        "import os\n",
        "\n",
        "genai.configure(api_key=os.getenv(\"GEMINI_API_KEY\"))\n",
        "\n",
        "model = genai.GenerativeModel(\"gemini-1.5-flash\")\n",
        "\n",
        "def generate_portfolio_section(prompt: str) -> str:\n",
        "    response = model.generate_content(prompt)\n",
        "    return response.text.strip()\n"
      ]
    },
    {
      "cell_type": "code",
      "execution_count": null,
      "metadata": {
        "id": "QSGT1vFqeQWr"
      },
      "outputs": [],
      "source": [
        "# main.py\n",
        "from fastapi import FastAPI, File, UploadFile, Form\n",
        "from fastapi.responses import HTMLResponse\n",
        "from fastapi.staticfiles import StaticFiles\n",
        "from starlette.templating import Jinja2Templates\n",
        "from starlette.requests import Request\n",
        "import os\n",
        "\n",
        "import google.generativeai as genai\n",
        "\n",
        "genai.configure(api_key=os.getenv(\"GEMINI_API_KEY\"))\n",
        "\n",
        "model = genai.GenerativeModel(\"gemini-1.5-flash\")\n",
        "\n",
        "def generate_portfolio_section(prompt: str) -> str:\n",
        "    response = model.generate_content(prompt)\n",
        "    return response.text.strip()\n",
        "\n",
        "\n",
        "app = FastAPI()\n",
        "os.makedirs(\"static\", exist_ok=True) # Create the static directory\n",
        "os.makedirs(\"templates\", exist_ok=True) # Create the templates directory\n",
        "app.mount(\"/static\", StaticFiles(directory=\"static\"), name=\"static\")\n",
        "templates = Jinja2Templates(directory=\"templates\")\n",
        "\n",
        "# Create the portfolio.html file\n",
        "portfolio_html_content = \"\"\"\n",
        "<!DOCTYPE html>\n",
        "<html lang=\"en\">\n",
        "<head>\n",
        "  <meta charset=\"UTF-8\" />\n",
        "  <title>{{ name }} | Portfolio</title>\n",
        "  <link href=\"https://cdn.jsdelivr.net/npm/tailwindcss@2.2.19/dist/tailwind.min.css\" rel=\"stylesheet\">\n",
        "</head>\n",
        "<body class=\"bg-white text-gray-800\">\n",
        "  <section class=\"p-8 max-w-5xl mx-auto\">\n",
        "    <h1 class=\"text-4xl font-bold\">{{ name }}</h1>\n",
        "    <p class=\"mt-2 italic text-sm\">{{ bio }}</p>\n",
        "\n",
        "    <div class=\"mt-6\">\n",
        "      <h2 class=\"text-2xl font-semibold\">About Me</h2>\n",
        "      <p class=\"mt-2\">{{ about }}</p>\n",
        "    </div>\n",
        "\n",
        "    <div class=\"mt-6\">\n",
        "      <h2 class=\"text-2xl font-semibold\">Art Style: {{ style }}</h2>\n",
        "      <p class=\"mt-2\">{{ description }}</p>\n",
        "    </div>\n",
        "\n",
        "    <div class=\"mt-6 grid grid-cols-2 gap-4\">\n",
        "      {% for img in images %}\n",
        "      <img src=\"{{ img }}\" class=\"rounded-xl shadow\" />\n",
        "      {% endfor %}\n",
        "    </div>\n",
        "  </section>\n",
        "</body>\n",
        "</html>\n",
        "\"\"\"\n",
        "with open(\"templates/portfolio.html\", \"w\") as f:\n",
        "    f.write(portfolio_html_content)\n",
        "\n",
        "\n",
        "@app.post(\"/generate\")\n",
        "async def generate_site(\n",
        "    request: Request,\n",
        "    name: str = Form(...),\n",
        "    bio: str = Form(...),\n",
        "    art_style: str = Form(...),\n",
        "    files: list[UploadFile] = File(...)\n",
        "):\n",
        "    os.makedirs(\"static/images\", exist_ok=True)\n",
        "    image_urls = []\n",
        "\n",
        "    for file in files:\n",
        "        path = f\"static/images/{file.filename}\"\n",
        "        with open(path, \"wb\") as f:\n",
        "            f.write(await file.read())\n",
        "        image_urls.append(path)\n",
        "\n",
        "    about_text = generate_portfolio_section(f\"Write an engaging 'About the Artist' section for an artist named {name}, who specializes in {art_style}. Use an elegant tone.\")\n",
        "    description_text = generate_portfolio_section(f\"Write a short art style summary for {art_style}. Focus on what makes this craft meaningful.\")\n",
        "\n",
        "    return templates.TemplateResponse(\"portfolio.html\", {\n",
        "        \"request\": request,\n",
        "        \"name\": name,\n",
        "        \"bio\": bio,\n",
        "        \"about\": about_text,\n",
        "        \"style\": art_style,\n",
        "        \"description\": description_text,\n",
        "        \"images\": image_urls\n",
        "    })\n"
      ]
    },
    {
      "cell_type": "code",
      "execution_count": null,
      "metadata": {
        "id": "-BASFgV7e58H"
      },
      "outputs": [],
      "source": []
    },
    {
      "cell_type": "code",
      "execution_count": null,
      "metadata": {
        "id": "Jwdb_2gwe6Bg"
      },
      "outputs": [],
      "source": []
    },
    {
      "cell_type": "code",
      "execution_count": null,
      "metadata": {
        "id": "20AL7_2We6E5"
      },
      "outputs": [],
      "source": []
    },
    {
      "cell_type": "code",
      "execution_count": null,
      "metadata": {
        "id": "OmRvcKTve6Jw"
      },
      "outputs": [],
      "source": []
    },
    {
      "cell_type": "markdown",
      "metadata": {
        "id": "b4d7c2c8"
      },
      "source": [
        "# Create Your Art Portfolio\n",
        "\n",
        "<form action=\"/generate\" method=\"post\" enctype=\"multipart/form-data\">\n",
        "  <div>\n",
        "    <label for=\"name\">Artist Name:</label>\n",
        "    <input type=\"text\" id=\"name\" name=\"name\" required>\n",
        "  </div>\n",
        "  <div>\n",
        "    <label for=\"bio\">Short Bio:</label>\n",
        "    <textarea id=\"bio\" name=\"bio\" required></textarea>\n",
        "  </div>\n",
        "  <div>\n",
        "    <label for=\"art_style\">Art Style:</label>\n",
        "    <input type=\"text\" id=\"art_style\" name=\"art_style\" required>\n",
        "  </div>\n",
        "  <div>\n",
        "    <label for=\"files\">Upload Images:</label>\n",
        "    <input type=\"file\" id=\"files\" name=\"files\" multiple accept=\"image/*\" required>\n",
        "  </div>\n",
        "  <button type=\"submit\">Generate Portfolio</button>\n",
        "</form>"
      ]
    },
    {
      "cell_type": "code",
      "execution_count": null,
      "metadata": {
        "id": "2eTrNUbmfehW"
      },
      "outputs": [],
      "source": []
    },
    {
      "cell_type": "markdown",
      "metadata": {
        "id": "40fbe404"
      },
      "source": [
        "# Task\n",
        "Generate Python code using FastAPI and the latest Gemini Flash 1.5 API to create a portfolio website generator. The application should take user input (name, bio, art style) and multiple image uploads, use AI to generate content (titles, descriptions, tags) for each image based on the provided information and the images themselves, and then dynamically generate an HTML portfolio website displaying the user's information and the AI-generated content alongside the uploaded images. The code should include a basic HTML template and use Tailwind CSS for styling. The application should store uploaded images locally."
      ]
    },
    {
      "cell_type": "markdown",
      "metadata": {
        "id": "24b13e86"
      },
      "source": [
        "## Refactor existing code\n",
        "\n",
        "### Subtask:\n",
        "Organize the existing code into a more modular structure, separating the AI utility functions from the FastAPI application logic.\n"
      ]
    },
    {
      "cell_type": "markdown",
      "metadata": {
        "id": "a640af6b"
      },
      "source": [
        "**Reasoning**:\n",
        "Create the `ai_utils.py` file and move the Gemini API configuration and the `generate_portfolio_section` function into it.\n",
        "\n"
      ]
    },
    {
      "cell_type": "code",
      "execution_count": null,
      "metadata": {
        "id": "6ff043a8"
      },
      "outputs": [],
      "source": [
        "# ai_utils.py\n",
        "import google.generativeai as genai\n",
        "import os\n",
        "import PIL.Image # Import PIL.Image\n",
        "\n",
        "genai.configure(api_key=os.getenv(\"GEMINI_API_KEY\"))\n",
        "\n",
        "model = genai.GenerativeModel(\"gemini-1.5-flash\")\n",
        "\n",
        "# Modify the function to accept an optional image argument\n",
        "def generate_portfolio_section(prompt: str, image: PIL.Image.Image = None) -> str:\n",
        "    if image:\n",
        "        response = model.generate_content([prompt, image]) # Include image in the prompt if provided\n",
        "    else:\n",
        "        response = model.generate_content(prompt)\n",
        "    return response.text.strip()"
      ]
    },
    {
      "cell_type": "code",
      "execution_count": null,
      "metadata": {
        "id": "iAOqwDMsf6HO"
      },
      "outputs": [],
      "source": [
        "# ai_utils.py\n",
        "import google.generativeai as genai\n",
        "import os\n",
        "\n",
        "genai.configure(api_key=os.getenv(\"GEMINI_API_KEY\"))\n",
        "\n",
        "model = genai.GenerativeModel(\"gemini-1.5-flash\")\n",
        "\n",
        "def generate_portfolio_section(prompt: str) -> str:\n",
        "    response = model.generate_content(prompt)\n",
        "    return response.text.strip()"
      ]
    },
    {
      "cell_type": "markdown",
      "metadata": {
        "id": "ea765c93"
      },
      "source": [
        "**Reasoning**:\n",
        "Now that `ai_utils.py` is created, re-run the code for `main.py` which imports from `ai_utils`.\n",
        "\n"
      ]
    },
    {
      "cell_type": "code",
      "execution_count": null,
      "metadata": {
        "colab": {
          "base_uri": "https://localhost:8080/"
        },
        "id": "IdWWqL6sgA67",
        "outputId": "e7f8bdcc-d42a-4112-dc97-571821d5f308"
      },
      "outputs": [
        {
          "name": "stdout",
          "output_type": "stream",
          "text": [
            "Writing ai_utils.py\n"
          ]
        }
      ],
      "source": [
        "%%writefile ai_utils.py\n",
        "import google.generativeai as genai\n",
        "import os\n",
        "\n",
        "genai.configure(api_key=os.getenv(\"GEMINI_API_KEY\"))\n",
        "\n",
        "model = genai.GenerativeModel(\"gemini-1.5-flash\")\n",
        "\n",
        "def generate_portfolio_section(prompt: str) -> str:\n",
        "    response = model.generate_content(prompt)\n",
        "    return response.text.strip()\n"
      ]
    },
    {
      "cell_type": "markdown",
      "metadata": {
        "id": "e67a360d"
      },
      "source": [
        "**Reasoning**:\n",
        "The user provided Python code.\n",
        "\n"
      ]
    },
    {
      "cell_type": "code",
      "execution_count": null,
      "metadata": {
        "id": "dd10e665"
      },
      "outputs": [],
      "source": [
        "# main.py\n",
        "from fastapi import FastAPI, File, UploadFile, Form\n",
        "from fastapi.responses import HTMLResponse\n",
        "from fastapi.staticfiles import StaticFiles\n",
        "from starlette.templating import Jinja2Templates\n",
        "from starlette.requests import Request\n",
        "import os\n",
        "from ai_utils import generate_portfolio_section\n",
        "\n",
        "\n",
        "app = FastAPI()\n",
        "os.makedirs(\"static\", exist_ok=True) # Create the static directory\n",
        "os.makedirs(\"templates\", exist_ok=True) # Create the templates directory\n",
        "app.mount(\"/static\", StaticFiles(directory=\"static\"), name=\"static\")\n",
        "templates = Jinja2Templates(directory=\"templates\")\n",
        "\n",
        "# Create the portfolio.html file\n",
        "portfolio_html_content = \"\"\"\n",
        "<!DOCTYPE html>\n",
        "<html lang=\"en\">\n",
        "<head>\n",
        "  <meta charset=\"UTF-8\" />\n",
        "  <title>{{ name }} | Portfolio</title>\n",
        "  <link href=\"https://cdn.jsdelivr.net/npm/tailwindcss@2.2.19/dist/tailwind.min.css\" rel=\"stylesheet\">\n",
        "</head>\n",
        "<body class=\"bg-white text-gray-800\">\n",
        "  <section class=\"p-8 max-w-5xl mx-auto\">\n",
        "    <h1 class=\"text-4xl font-bold\">{{ name }}</h1>\n",
        "    <p class=\"mt-2 italic text-sm\">{{ bio }}</p>\n",
        "\n",
        "    <div class=\"mt-6\">\n",
        "      <h2 class=\"text-2xl font-semibold\">About Me</h2>\n",
        "      <p class=\"mt-2\">{{ about }}</p>\n",
        "    </div>\n",
        "\n",
        "    <div class=\"mt-6\">\n",
        "      <h2 class=\"text-2xl font-semibold\">Art Style: {{ style }}</h2>\n",
        "      <p class=\"mt-2\">{{ description }}</p>\n",
        "    </div>\n",
        "\n",
        "    <div class=\"mt-6 grid grid-cols-2 gap-4\">\n",
        "      {% for img in images %}\n",
        "      <img src=\"{{ img }}\" class=\"rounded-xl shadow\" />\n",
        "      {% endfor %}\n",
        "    </div>\n",
        "  </section>\n",
        "</body>\n",
        "</html>\n",
        "\"\"\"\n",
        "with open(\"templates/portfolio.html\", \"w\") as f:\n",
        "    f.write(portfolio_html_content)\n",
        "\n",
        "\n",
        "@app.post(\"/generate\")\n",
        "async def generate_site(\n",
        "    request: Request,\n",
        "    name: str = Form(...),\n",
        "    bio: str = Form(...),\n",
        "    art_style: str = Form(...),\n",
        "    files: list[UploadFile] = File(...)\n",
        "):\n",
        "    os.makedirs(\"static/images\", exist_ok=True)\n",
        "    image_urls = []\n",
        "\n",
        "    for file in files:\n",
        "        path = f\"static/images/{file.filename}\"\n",
        "        with open(path, \"wb\") as f:\n",
        "            f.write(await file.read())\n",
        "        image_urls.append(path)\n",
        "\n",
        "    about_text = generate_portfolio_section(f\"Write an engaging 'About the Artist' section for an artist named {name}, who specializes in {art_style}. Use an elegant tone.\")\n",
        "    description_text = generate_portfolio_section(f\"Write a short art style summary for {art_style}. Focus on what makes this craft meaningful.\")\n",
        "\n",
        "    return templates.TemplateResponse(\"portfolio.html\", {\n",
        "        \"request\": request,\n",
        "        \"name\": name,\n",
        "        \"bio\": bio,\n",
        "        \"about\": about_text,\n",
        "        \"style\": art_style,\n",
        "        \"description\": description_text,\n",
        "        \"images\": image_urls\n",
        "    })\n"
      ]
    },
    {
      "cell_type": "markdown",
      "metadata": {
        "id": "2e99f9b3"
      },
      "source": [
        "## Enhance image handling\n",
        "\n",
        "### Subtask:\n",
        "Modify the FastAPI application to correctly handle multiple image uploads and store them in a designated directory.\n"
      ]
    },
    {
      "cell_type": "markdown",
      "metadata": {
        "id": "7212e348"
      },
      "source": [
        "**Reasoning**:\n",
        "Modify the `/generate` endpoint in `main.py` to correctly handle multiple image uploads, iterate through them, read their content, save them to the specified directory, and collect their paths.\n",
        "\n"
      ]
    },
    {
      "cell_type": "code",
      "execution_count": null,
      "metadata": {
        "id": "d59ced57"
      },
      "outputs": [],
      "source": [
        "# main.py\n",
        "from fastapi import FastAPI, File, UploadFile, Form\n",
        "from fastapi.responses import HTMLResponse\n",
        "from fastapi.staticfiles import StaticFiles\n",
        "from starlette.templating import Jinja2Templates\n",
        "from starlette.requests import Request\n",
        "import os\n",
        "from ai_utils import generate_portfolio_section\n",
        "import aiofiles # Import aiofiles\n",
        "\n",
        "app = FastAPI()\n",
        "os.makedirs(\"static\", exist_ok=True) # Create the static directory\n",
        "os.makedirs(\"templates\", exist_ok=True) # Create the templates directory\n",
        "app.mount(\"/static\", StaticFiles(directory=\"static\"), name=\"static\")\n",
        "templates = Jinja2Templates(directory=\"templates\")\n",
        "\n",
        "# Create the portfolio.html file\n",
        "portfolio_html_content = \"\"\"\n",
        "<!DOCTYPE html>\n",
        "<html lang=\"en\">\n",
        "<head>\n",
        "  <meta charset=\"UTF-8\" />\n",
        "  <title>{{ name }} | Portfolio</title>\n",
        "  <link href=\"https://cdn.jsdelivr.net/npm/tailwindcss@2.2.19/dist/tailwind.min.css\" rel=\"stylesheet\">\n",
        "</head>\n",
        "<body class=\"bg-white text-gray-800\">\n",
        "  <section class=\"p-8 max-w-5xl mx-auto\">\n",
        "    <h1 class=\"text-4xl font-bold\">{{ name }}</h1>\n",
        "    <p class=\"mt-2 italic text-sm\">{{ bio }}</p>\n",
        "\n",
        "    <div class=\"mt-6\">\n",
        "      <h2 class=\"text-2xl font-semibold\">About Me</h2>\n",
        "      <p class=\"mt-2\">{{ about }}</p>\n",
        "    </div>\n",
        "\n",
        "    <div class=\"mt-6\">\n",
        "      <h2 class=\"text-2xl font-semibold\">Art Style: {{ style }}</h2>\n",
        "      <p class=\"mt-2\">{{ description }}</p>\n",
        "    </div>\n",
        "\n",
        "    <div class=\"mt-6 grid grid-cols-2 gap-4\">\n",
        "      {% for img in images %}\n",
        "      <img src=\"{{ img }}\" class=\"rounded-xl shadow\" />\n",
        "      {% endfor %}\n",
        "    </div>\n",
        "  </section>\n",
        "</body>\n",
        "</html>\n",
        "\"\"\"\n",
        "with open(\"templates/portfolio.html\", \"w\") as f:\n",
        "    f.write(portfolio_html_content)\n",
        "\n",
        "\n",
        "@app.post(\"/generate\")\n",
        "async def generate_site(\n",
        "    request: Request,\n",
        "    name: str = Form(...),\n",
        "    bio: str = Form(...),\n",
        "    art_style: str = Form(...),\n",
        "    files: list[UploadFile] = File(...)\n",
        "):\n",
        "    os.makedirs(\"static/images\", exist_ok=True)\n",
        "    image_urls = []\n",
        "\n",
        "    for file in files:\n",
        "        file_path = f\"static/images/{file.filename}\" # Construct file path\n",
        "        async with aiofiles.open(file_path, 'wb') as out_file: # Use aiofiles for async writing\n",
        "            content = await file.read()\n",
        "            await out_file.write(content)\n",
        "        image_urls.append(file_path)\n",
        "\n",
        "    about_text = generate_portfolio_section(f\"Write an engaging 'About the Artist' section for an artist named {name}, who specializes in {art_style}. Use an elegant tone.\")\n",
        "    description_text = generate_portfolio_section(f\"Write a short art style summary for {art_style}. Focus on what makes this craft meaningful.\")\n",
        "\n",
        "    return templates.TemplateResponse(\"portfolio.html\", {\n",
        "        \"request\": request,\n",
        "        \"name\": name,\n",
        "        \"bio\": bio,\n",
        "        \"about\": about_text,\n",
        "        \"style\": art_style,\n",
        "        \"description\": description_text,\n",
        "        \"images\": image_urls\n",
        "    })"
      ]
    },
    {
      "cell_type": "markdown",
      "metadata": {
        "id": "763dbc20"
      },
      "source": [
        "## Integrate ai for image analysis\n",
        "\n",
        "### Subtask:\n",
        "Update the AI content generation to take into account the uploaded images when generating descriptions, titles, and tags for individual artworks within the portfolio.\n"
      ]
    },
    {
      "cell_type": "markdown",
      "metadata": {
        "id": "4b0daa48"
      },
      "source": [
        "**Reasoning**:\n",
        "Update the ai_utils.py file to modify the generate_portfolio_section function to accept an optional image argument and include the image in the prompt if provided. Also, import PIL.Image.\n",
        "\n"
      ]
    },
    {
      "cell_type": "code",
      "execution_count": null,
      "metadata": {
        "colab": {
          "base_uri": "https://localhost:8080/"
        },
        "id": "d9ef4972",
        "outputId": "40de49cb-47e5-493c-9db1-8e2e5258f738"
      },
      "outputs": [
        {
          "name": "stdout",
          "output_type": "stream",
          "text": [
            "Overwriting ai_utils.py\n"
          ]
        }
      ],
      "source": [
        "%%writefile ai_utils.py\n",
        "import google.generativeai as genai\n",
        "import os\n",
        "import PIL.Image\n",
        "\n",
        "genai.configure(api_key=os.getenv(\"GEMINI_API_KEY\"))\n",
        "\n",
        "model = genai.GenerativeModel(\"gemini-1.5-flash\")\n",
        "\n",
        "def generate_portfolio_section(prompt: str, image: PIL.Image.Image = None) -> str:\n",
        "    if image:\n",
        "        response = model.generate_content([prompt, image])\n",
        "    else:\n",
        "        response = model.generate_content(prompt)\n",
        "    return response.text.strip()\n"
      ]
    },
    {
      "cell_type": "markdown",
      "metadata": {
        "id": "ac922428"
      },
      "source": [
        "**Reasoning**:\n",
        "Modify the /generate endpoint in main.py to iterate through the uploaded images, open each image, and call the updated generate_portfolio_section function to generate content for each image. Store the generated content with the image URL.\n",
        "\n"
      ]
    },
    {
      "cell_type": "code",
      "execution_count": null,
      "metadata": {
        "id": "b1167b88"
      },
      "outputs": [],
      "source": [
        "# main.py\n",
        "from fastapi import FastAPI, File, UploadFile, Form\n",
        "from fastapi.responses import HTMLResponse\n",
        "from fastapi.staticfiles import StaticFiles\n",
        "from starlette.templating import Jinja2Templates\n",
        "from starlette.requests import Request\n",
        "import os\n",
        "from ai_utils import generate_portfolio_section\n",
        "import aiofiles\n",
        "import PIL.Image\n",
        "import io\n",
        "\n",
        "\n",
        "app = FastAPI()\n",
        "os.makedirs(\"static\", exist_ok=True)\n",
        "os.makedirs(\"templates\", exist_ok=True)\n",
        "app.mount(\"/static\", StaticFiles(directory=\"static\"), name=\"static\")\n",
        "templates = Jinja2Templates(directory=\"templates\")\n",
        "\n",
        "# Create the portfolio.html file\n",
        "portfolio_html_content = \"\"\"\n",
        "<!DOCTYPE html>\n",
        "<html lang=\"en\">\n",
        "<head>\n",
        "  <meta charset=\"UTF-8\" />\n",
        "  <title>{{ name }} | Portfolio</title>\n",
        "  <link href=\"https://cdn.jsdelivr.net/npm/tailwindcss@2.2.19/dist/tailwind.min.css\" rel=\"stylesheet\">\n",
        "</head>\n",
        "<body class=\"bg-white text-gray-800\">\n",
        "  <section class=\"p-8 max-w-5xl mx-auto\">\n",
        "    <h1 class=\"text-4xl font-bold\">{{ name }}</h1>\n",
        "    <p class=\"mt-2 italic text-sm\">{{ bio }}</p>\n",
        "\n",
        "    <div class=\"mt-6\">\n",
        "      <h2 class=\"text-2xl font-semibold\">About Me</h2>\n",
        "      <p class=\"mt-2\">{{ about }}</p>\n",
        "    </div>\n",
        "\n",
        "    <div class=\"mt-6\">\n",
        "      <h2 class=\"text-2xl font-semibold\">Art Style: {{ style }}</h2>\n",
        "      <p class=\"mt-2\">{{ description }}</p>\n",
        "    </div>\n",
        "\n",
        "    <div class=\"mt-6 grid grid-cols-2 gap-4\">\n",
        "      {% for artwork in artworks %}\n",
        "      <div>\n",
        "        <img src=\"{{ artwork.url }}\" class=\"rounded-xl shadow\" />\n",
        "        <h3 class=\"mt-2 text-xl font-semibold\">{{ artwork.title }}</h3>\n",
        "        <p class=\"mt-1 text-sm\">{{ artwork.description }}</p>\n",
        "        <p class=\"mt-1 text-xs text-gray-600\">Tags: {{ artwork.tags | join(', ') }}</p>\n",
        "      </div>\n",
        "      {% endfor %}\n",
        "    </div>\n",
        "  </section>\n",
        "</body>\n",
        "</html>\n",
        "\"\"\"\n",
        "with open(\"templates/portfolio.html\", \"w\") as f:\n",
        "    f.write(portfolio_html_content)\n",
        "\n",
        "\n",
        "@app.post(\"/generate\")\n",
        "async def generate_site(\n",
        "    request: Request,\n",
        "    name: str = Form(...),\n",
        "    bio: str = Form(...),\n",
        "    art_style: str = Form(...),\n",
        "    files: list[UploadFile] = File(...)\n",
        "):\n",
        "    os.makedirs(\"static/images\", exist_ok=True)\n",
        "    artworks_data = []\n",
        "\n",
        "    for file in files:\n",
        "        file_path = f\"static/images/{file.filename}\"\n",
        "        async with aiofiles.open(file_path, 'wb') as out_file:\n",
        "            content = await file.read()\n",
        "            await out_file.write(content)\n",
        "\n",
        "        image = PIL.Image.open(io.BytesIO(content))\n",
        "\n",
        "        artwork_prompt = f\"\"\"You're an expert creative content writer and SEO specialist for artists.\n",
        "Given the artwork image, generate the following:\n",
        "- A catchy and professional artwork title\n",
        "- A 2-3 sentence art description for a portfolio or gallery\n",
        "- 5 relevant SEO tags\n",
        "Make it poetic and audience-friendly.\n",
        "\"\"\"\n",
        "        artwork_content = generate_portfolio_section(artwork_prompt, image=image)\n",
        "\n",
        "        # Basic parsing of the generated content - refine this based on actual model output format\n",
        "        import re\n",
        "        title = \"Generated Title\"\n",
        "        description = \"Generated Description\"\n",
        "        tags = [\"tag1\", \"tag2\"] # Example tags\n",
        "\n",
        "        title_match = re.search(r\"(?i)title[:\\-\\n]*([^\\n]+)\", artwork_content)\n",
        "        desc_match = re.search(r\"(?i)description[:\\-\\n]*([\\s\\S]+?)tags[:\\n]\", artwork_content)\n",
        "        tags_match = re.search(r\"(?i)tags[:\\-\\n]*([^\\n]+)\", artwork_content)\n",
        "\n",
        "        if title_match:\n",
        "            title = title_match.group(1).strip()\n",
        "        if desc_match:\n",
        "            description = desc_match.group(1).strip()\n",
        "        if tags_match:\n",
        "            tags = [tag.strip() for tag in tags_match.group(1).split(\",\")]\n",
        "\n",
        "        artworks_data.append({\n",
        "            \"url\": file_path,\n",
        "            \"title\": title,\n",
        "            \"description\": description,\n",
        "            \"tags\": tags\n",
        "        })\n",
        "\n",
        "\n",
        "    about_text = generate_portfolio_section(f\"Write an engaging 'About the Artist' section for an artist named {name}, who specializes in {art_style}. Use an elegant tone.\")\n",
        "    description_text = generate_portfolio_section(f\"Write a short art style summary for {art_style}. Focus on what makes this craft meaningful.\")\n",
        "\n",
        "    return templates.TemplateResponse(\"portfolio.html\", {\n",
        "        \"request\": request,\n",
        "        \"name\": name,\n",
        "        \"bio\": bio,\n",
        "        \"about\": about_text,\n",
        "        \"style\": art_style,\n",
        "        \"description\": description_text,\n",
        "        \"artworks\": artworks_data # Pass the list of artwork data\n",
        "    })"
      ]
    },
    {
      "cell_type": "markdown",
      "metadata": {
        "id": "c4528f11"
      },
      "source": [
        "## Generate dynamic portfolio content\n",
        "\n",
        "### Subtask:\n",
        "Modify the HTML template and the FastAPI endpoint to dynamically generate content for each uploaded image, including AI-generated descriptions, titles, and tags.\n"
      ]
    },
    {
      "cell_type": "markdown",
      "metadata": {
        "id": "99a101c9"
      },
      "source": [
        "## Implement a user interface for input\n",
        "\n",
        "### Subtask:\n",
        "Create an HTML form for users to input their name, bio, art style, and upload images.\n"
      ]
    },
    {
      "cell_type": "markdown",
      "metadata": {
        "id": "a1608a60"
      },
      "source": [
        "**Reasoning**:\n",
        "Create the index.html file with the necessary form elements and modify main.py to serve this file at the root URL.\n",
        "\n"
      ]
    },
    {
      "cell_type": "code",
      "execution_count": null,
      "metadata": {
        "colab": {
          "base_uri": "https://localhost:8080/"
        },
        "id": "a5790b10",
        "outputId": "02c3a62d-8ae1-424f-9a55-f3a1136ac29b"
      },
      "outputs": [
        {
          "name": "stdout",
          "output_type": "stream",
          "text": [
            "Writing templates/index.html\n"
          ]
        }
      ],
      "source": [
        "%%writefile templates/index.html\n",
        "<!DOCTYPE html>\n",
        "<html lang=\"en\">\n",
        "<head>\n",
        "  <meta charset=\"UTF-8\" />\n",
        "  <title>Generate Your Art Portfolio</title>\n",
        "  <link href=\"https://cdn.jsdelivr.net/npm/tailwindcss@2.2.19/dist/tailwind.min.css\" rel=\"stylesheet\">\n",
        "</head>\n",
        "<body class=\"bg-white text-gray-800 p-8\">\n",
        "  <div class=\"max-w-2xl mx-auto\">\n",
        "    <h1 class=\"text-3xl font-bold mb-6\">Generate Your Art Portfolio</h1>\n",
        "\n",
        "    <form action=\"/generate\" method=\"post\" enctype=\"multipart/form-data\" class=\"space-y-4\">\n",
        "      <div>\n",
        "        <label for=\"name\" class=\"block text-sm font-medium text-gray-700\">Artist Name:</label>\n",
        "        <input type=\"text\" id=\"name\" name=\"name\" required class=\"mt-1 block w-full rounded-md border-gray-300 shadow-sm focus:border-indigo-500 focus:ring-indigo-500 sm:text-sm\">\n",
        "      </div>\n",
        "\n",
        "      <div>\n",
        "        <label for=\"bio\" class=\"block text-sm font-medium text-gray-700\">Short Bio:</label>\n",
        "        <textarea id=\"bio\" name=\"bio\" rows=\"3\" required class=\"mt-1 block w-full rounded-md border-gray-300 shadow-sm focus:border-indigo-500 focus:ring-indigo-500 sm:text-sm\"></textarea>\n",
        "      </div>\n",
        "\n",
        "      <div>\n",
        "        <label for=\"art_style\" class=\"block text-sm font-medium text-gray-700\">Art Style:</label>\n",
        "        <input type=\"text\" id=\"art_style\" name=\"art_style\" required class=\"mt-1 block w-full rounded-md border-gray-300 shadow-sm focus:border-indigo-500 focus:ring-indigo-500 sm:text-sm\">\n",
        "      </div>\n",
        "\n",
        "      <div>\n",
        "        <label for=\"files\" class=\"block text-sm font-medium text-gray-700\">Upload Images:</label>\n",
        "        <input type=\"file\" id=\"files\" name=\"files\" multiple accept=\"image/*\" required class=\"mt-1 block w-full text-sm text-gray-500 file:mr-4 file:py-2 file:px-4 file:rounded-full file:border-0 file:text-sm file:font-semibold file:bg-blue-50 file:text-blue-700 hover:file:bg-blue-100\">\n",
        "      </div>\n",
        "\n",
        "      <div>\n",
        "        <button type=\"submit\" class=\"w-full flex justify-center py-2 px-4 border border-transparent rounded-md shadow-sm text-sm font-medium text-white bg-indigo-600 hover:bg-indigo-700 focus:outline-none focus:ring-2 focus:ring-offset-2 focus:ring-indigo-500\">\n",
        "          Generate Portfolio\n",
        "        </button>\n",
        "      </div>\n",
        "    </form>\n",
        "  </div>\n",
        "</body>\n",
        "</html>"
      ]
    },
    {
      "cell_type": "markdown",
      "metadata": {
        "id": "502d3a9c"
      },
      "source": [
        "**Reasoning**:\n",
        "Add a FastAPI endpoint in main.py to serve the index.html template at the root URL.\n",
        "\n"
      ]
    },
    {
      "cell_type": "code",
      "execution_count": null,
      "metadata": {
        "id": "edc8056a"
      },
      "outputs": [],
      "source": [
        "# main.py\n",
        "from fastapi import FastAPI, File, UploadFile, Form\n",
        "from fastapi.responses import HTMLResponse\n",
        "from fastapi.staticfiles import StaticFiles\n",
        "from starlette.templating import Jinja2Templates\n",
        "from starlette.requests import Request\n",
        "import os\n",
        "from ai_utils import generate_portfolio_section\n",
        "import aiofiles\n",
        "import PIL.Image\n",
        "import io\n",
        "\n",
        "\n",
        "app = FastAPI()\n",
        "os.makedirs(\"static\", exist_ok=True)\n",
        "os.makedirs(\"templates\", exist_ok=True)\n",
        "app.mount(\"/static\", StaticFiles(directory=\"static\"), name=\"static\")\n",
        "templates = Jinja2Templates(directory=\"templates\")\n",
        "\n",
        "# Create the portfolio.html file\n",
        "portfolio_html_content = \"\"\"\n",
        "<!DOCTYPE html>\n",
        "<html lang=\"en\">\n",
        "<head>\n",
        "  <meta charset=\"UTF-8\" />\n",
        "  <title>{{ name }} | Portfolio</title>\n",
        "  <link href=\"https://cdn.jsdelivr.net/npm/tailwindcss@2.2.19/dist/tailwind.min.css\" rel=\"stylesheet\">\n",
        "</head>\n",
        "<body class=\"bg-white text-gray-800\">\n",
        "  <section class=\"p-8 max-w-5xl mx-auto\">\n",
        "    <h1 class=\"text-4xl font-bold\">{{ name }}</h1>\n",
        "    <p class=\"mt-2 italic text-sm\">{{ bio }}</p>\n",
        "\n",
        "    <div class=\"mt-6\">\n",
        "      <h2 class=\"text-2xl font-semibold\">About Me</h2>\n",
        "      <p class=\"mt-2\">{{ about }}</p>\n",
        "    </div>\n",
        "\n",
        "    <div class=\"mt-6\">\n",
        "      <h2 class=\"text-2xl font-semibold\">Art Style: {{ style }}</h2>\n",
        "      <p class=\"mt-2\">{{ description }}</p>\n",
        "    </div>\n",
        "\n",
        "    <div class=\"mt-6 grid grid-cols-2 gap-4\">\n",
        "      {% for artwork in artworks %}\n",
        "      <div>\n",
        "        <img src=\"{{ artwork.url }}\" class=\"rounded-xl shadow\" />\n",
        "        <h3 class=\"mt-2 text-xl font-semibold\">{{ artwork.title }}</h3>\n",
        "        <p class=\"mt-1 text-sm\">{{ artwork.description }}</p>\n",
        "        <p class=\"mt-1 text-xs text-gray-600\">Tags: {{ artwork.tags | join(', ') }}</p>\n",
        "      </div>\n",
        "      {% endfor %}\n",
        "    </div>\n",
        "  </section>\n",
        "</body>\n",
        "</html>\n",
        "\"\"\"\n",
        "with open(\"templates/portfolio.html\", \"w\") as f:\n",
        "    f.write(portfolio_html_content)\n",
        "\n",
        "\n",
        "@app.get(\"/\", response_class=HTMLResponse)\n",
        "async def read_root(request: Request):\n",
        "    return templates.TemplateResponse(\"index.html\", {\"request\": request})\n",
        "\n",
        "\n",
        "@app.post(\"/generate\")\n",
        "async def generate_site(\n",
        "    request: Request,\n",
        "    name: str = Form(...),\n",
        "    bio: str = Form(...),\n",
        "    art_style: str = Form(...),\n",
        "    files: list[UploadFile] = File(...)\n",
        "):\n",
        "    os.makedirs(\"static/images\", exist_ok=True)\n",
        "    artworks_data = []\n",
        "\n",
        "    for file in files:\n",
        "        file_path = f\"static/images/{file.filename}\"\n",
        "        async with aiofiles.open(file_path, 'wb') as out_file:\n",
        "            content = await file.read()\n",
        "            await out_file.write(content)\n",
        "\n",
        "        image = PIL.Image.open(io.BytesIO(content))\n",
        "\n",
        "        artwork_prompt = f\"\"\"You're an expert creative content writer and SEO specialist for artists.\n",
        "Given the artwork image, generate the following:\n",
        "- A catchy and professional artwork title\n",
        "- A 2-3 sentence art description for a portfolio or gallery\n",
        "- 5 relevant SEO tags\n",
        "Make it poetic and audience-friendly.\n",
        "\"\"\"\n",
        "        artwork_content = generate_portfolio_section(artwork_prompt, image=image)\n",
        "\n",
        "        # Basic parsing of the generated content - refine this based on actual model output format\n",
        "        import re\n",
        "        title = \"Generated Title\"\n",
        "        description = \"Generated Description\"\n",
        "        tags = [\"tag1\", \"tag2\"] # Example tags\n",
        "\n",
        "        title_match = re.search(r\"(?i)title[:\\-\\n]*([^\\n]+)\", artwork_content)\n",
        "        desc_match = re.search(r\"(?i)description[:\\-\\n]*([\\s\\S]+?)tags[:\\n]\", artwork_content)\n",
        "        tags_match = re.search(r\"(?i)tags[:\\-\\n]*([^\\n]+)\", artwork_content)\n",
        "\n",
        "        if title_match:\n",
        "            title = title_match.group(1).strip()\n",
        "        if desc_match:\n",
        "            description = desc_match.group(1).strip()\n",
        "        if tags_match:\n",
        "            tags = [tag.strip() for tag in tags_match.group(1).split(\",\")]\n",
        "\n",
        "        artworks_data.append({\n",
        "            \"url\": file_path,\n",
        "            \"title\": title,\n",
        "            \"description\": description,\n",
        "            \"tags\": tags\n",
        "        })\n",
        "\n",
        "\n",
        "    about_text = generate_portfolio_section(f\"Write an engaging 'About the Artist' section for an artist named {name}, who specializes in {art_style}. Use an elegant tone.\")\n",
        "    description_text = generate_portfolio_section(f\"Write a short art style summary for {art_style}. Focus on what makes this craft meaningful.\")\n",
        "\n",
        "    return templates.TemplateResponse(\"portfolio.html\", {\n",
        "        \"request\": request,\n",
        "        \"name\": name,\n",
        "        \"bio\": bio,\n",
        "        \"about\": about_text,\n",
        "        \"style\": art_style,\n",
        "        \"description\": description_text,\n",
        "        \"artworks\": artworks_data\n",
        "    })"
      ]
    },
    {
      "cell_type": "markdown",
      "metadata": {
        "id": "9cf1e09f"
      },
      "source": [
        "## Connect frontend and backend\n",
        "\n",
        "### Subtask:\n",
        "Ensure the HTML form correctly sends data to the FastAPI endpoint and displays the generated portfolio.\n"
      ]
    },
    {
      "cell_type": "markdown",
      "metadata": {
        "id": "559af5e4"
      },
      "source": [
        "**Reasoning**:\n",
        "Review the `index.html` file and the `/generate` endpoint in `main.py` to ensure the form correctly sends data to the FastAPI endpoint and displays the generated portfolio, following steps 1-6 of the instructions.\n",
        "\n"
      ]
    },
    {
      "cell_type": "code",
      "execution_count": null,
      "metadata": {
        "colab": {
          "base_uri": "https://localhost:8080/"
        },
        "id": "496328dd",
        "outputId": "207a3b1f-f035-4bec-a961-2b5d9237acf2"
      },
      "outputs": [
        {
          "name": "stdout",
          "output_type": "stream",
          "text": [
            "Review complete. The index.html form and main.py /generate endpoint appear to be correctly configured based on the instructions.\n"
          ]
        }
      ],
      "source": [
        "# Review of index.html and main.py based on instructions 1-6\n",
        "\n",
        "# Step 1 & 2: Check form action, method, and enctype in index.html\n",
        "# The index.html file already has:\n",
        "# <form action=\"/generate\" method=\"post\" enctype=\"multipart/form-data\" class=\"space-y-4\">\n",
        "# This correctly sets the action to /generate, method to post, and enctype for file uploads.\n",
        "\n",
        "# Step 3: Confirm name attributes in index.html match parameter names in /generate endpoint\n",
        "# The input fields in index.html have name attributes: name, bio, art_style, files.\n",
        "# The /generate endpoint in main.py has parameters: name: str = Form(...), bio: str = Form(...), art_style: str = Form(...), files: list[UploadFile] = File(...).\n",
        "# The name attributes match the parameter names.\n",
        "\n",
        "# Step 4: Examine /generate endpoint for receiving form data and files\n",
        "# The /generate endpoint uses Form(...) for name, bio, and art_style, and File(...) for files.\n",
        "# This confirms it receives the form data and uploaded files correctly.\n",
        "\n",
        "# Step 5: Ensure /generate endpoint renders portfolio.html and passes necessary data\n",
        "# The /generate endpoint returns templates.TemplateResponse(\"portfolio.html\", {...}).\n",
        "# It passes name, bio, about_text (as about), art_style (as style), description_text (as description), and artworks_data (as artworks) to the template context.\n",
        "# This confirms it renders portfolio.html and passes the necessary data.\n",
        "\n",
        "# Step 6: Check portfolio.html template for accessing and displaying data\n",
        "# The portfolio.html template accesses {{ name }}, {{ bio }}, {{ about }}, {{ style }}, {{ description }}.\n",
        "# It iterates through artworks using {% for artwork in artworks %} and accesses artwork.url, artwork.title, artwork.description, and artwork.tags.\n",
        "# This confirms it correctly accesses and displays the data passed from the /generate endpoint.\n",
        "\n",
        "print(\"Review complete. The index.html form and main.py /generate endpoint appear to be correctly configured based on the instructions.\")\n"
      ]
    },
    {
      "cell_type": "markdown",
      "metadata": {
        "id": "63716abd"
      },
      "source": [
        "## Add styling and structure\n",
        "\n",
        "### Subtask:\n",
        "Enhance the visual appeal and structure of the generated portfolio website using CSS (Tailwind CSS is already included).\n"
      ]
    },
    {
      "cell_type": "markdown",
      "metadata": {
        "id": "038d8cde"
      },
      "source": [
        "**Reasoning**:\n",
        "Review the existing portfolio.html template and add Tailwind CSS classes to enhance the visual appearance and structure, improving spacing, typography, and layout for better presentation of the artwork and artist information.\n",
        "\n"
      ]
    },
    {
      "cell_type": "code",
      "execution_count": null,
      "metadata": {
        "id": "8ccaf6bc"
      },
      "outputs": [],
      "source": [
        "portfolio_html_content = \"\"\"\n",
        "<!DOCTYPE html>\n",
        "<html lang=\"en\">\n",
        "<head>\n",
        "  <meta charset=\"UTF-8\" />\n",
        "  <title>{{ name }} | Portfolio</title>\n",
        "  <link href=\"https://cdn.jsdelivr.net/npm/tailwindcss@2.2.19/dist/tailwind.min.css\" rel=\"stylesheet\">\n",
        "</head>\n",
        "<body class=\"bg-gray-100 text-gray-800 font-sans leading-normal tracking-normal\">\n",
        "  <header class=\"bg-white shadow py-6\">\n",
        "    <div class=\"container mx-auto px-4 max-w-5xl\">\n",
        "      <h1 class=\"text-4xl font-bold text-gray-900\">{{ name }}</h1>\n",
        "      <p class=\"mt-2 italic text-sm text-gray-600\">{{ bio }}</p>\n",
        "    </div>\n",
        "  </header>\n",
        "\n",
        "  <main class=\"container mx-auto px-4 py-8 max-w-5xl\">\n",
        "    <section class=\"mb-12\">\n",
        "      <h2 class=\"text-3xl font-semibold text-gray-900 mb-4 border-b-2 border-indigo-500 pb-2\">About Me</h2>\n",
        "      <p class=\"text-lg text-gray-700 leading-relaxed\">{{ about }}</p>\n",
        "    </section>\n",
        "\n",
        "    <section class=\"mb-12\">\n",
        "      <h2 class=\"text-3xl font-semibold text-gray-900 mb-4 border-b-2 border-indigo-500 pb-2\">Art Style: {{ style }}</h2>\n",
        "      <p class=\"text-lg text-gray-700 leading-relaxed\">{{ description }}</p>\n",
        "    </section>\n",
        "\n",
        "    <section>\n",
        "      <h2 class=\"text-3xl font-semibold text-gray-900 mb-6 border-b-2 border-indigo-500 pb-2\">Gallery</h2>\n",
        "      <div class=\"grid grid-cols-1 md:grid-cols-2 lg:grid-cols-3 gap-8\">\n",
        "        {% for artwork in artworks %}\n",
        "        <div class=\"bg-white rounded-xl shadow-lg overflow-hidden transform transition duration-500 hover:scale-105\">\n",
        "          <img src=\"{{ artwork.url }}\" class=\"w-full h-64 object-cover\" alt=\"Artwork by {{ name }}\" />\n",
        "          <div class=\"p-6\">\n",
        "            <h3 class=\"text-xl font-semibold text-gray-900 mb-2\">{{ artwork.title }}</h3>\n",
        "            <p class=\"text-gray-700 text-sm mb-4\">{{ artwork.description }}</p>\n",
        "            <p class=\"text-xs text-gray-600\">Tags: <span class=\"font-medium\">{{ artwork.tags | join(', ') }}</span></p>\n",
        "          </div>\n",
        "        </div>\n",
        "        {% endfor %}\n",
        "      </div>\n",
        "    </section>\n",
        "  </main>\n",
        "\n",
        "  <footer class=\"bg-gray-800 text-white py-6 mt-12\">\n",
        "    <div class=\"container mx-auto px-4 text-center text-gray-400\">\n",
        "      <p>&copy; {{ name }} All rights reserved.</p>\n",
        "    </div>\n",
        "  </footer>\n",
        "</body>\n",
        "</html>\n",
        "\"\"\"\n",
        "with open(\"templates/portfolio.html\", \"w\") as f:\n",
        "    f.write(portfolio_html_content)"
      ]
    },
    {
      "cell_type": "markdown",
      "metadata": {
        "id": "b761d740"
      },
      "source": [
        "## Fine-tune content generation (optional but recommended)\n",
        "\n",
        "### Subtask:\n",
        "Explore ways to further fine-tune the content generation based on user preferences or specific artistic styles.\n"
      ]
    },
    {
      "cell_type": "markdown",
      "metadata": {
        "id": "29a01abe"
      },
      "source": [
        "**Reasoning**:\n",
        "Modify the `artwork_prompt` in `main.py` to include the user's `art_style` and add conditional logic for specific artistic styles to fine-tune content generation.\n",
        "\n"
      ]
    },
    {
      "cell_type": "code",
      "execution_count": null,
      "metadata": {
        "id": "3d453d09"
      },
      "outputs": [],
      "source": [
        "# main.py\n",
        "from fastapi import FastAPI, File, UploadFile, Form\n",
        "from fastapi.responses import HTMLResponse\n",
        "from fastapi.staticfiles import StaticFiles\n",
        "from starlette.templating import Jinja2Templates\n",
        "from starlette.requests import Request\n",
        "import os\n",
        "from ai_utils import generate_portfolio_section\n",
        "import aiofiles\n",
        "import PIL.Image\n",
        "import io\n",
        "import re\n",
        "\n",
        "\n",
        "app = FastAPI()\n",
        "os.makedirs(\"static\", exist_ok=True)\n",
        "os.makedirs(\"templates\", exist_ok=True)\n",
        "app.mount(\"/static\", StaticFiles(directory=\"static\"), name=\"static\")\n",
        "templates = Jinja2Templates(directory=\"templates\")\n",
        "\n",
        "# Create the portfolio.html file (using the enhanced version from the previous step)\n",
        "portfolio_html_content = \"\"\"\n",
        "<!DOCTYPE html>\n",
        "<html lang=\"en\">\n",
        "<head>\n",
        "  <meta charset=\"UTF-8\" />\n",
        "  <title>{{ name }} | Portfolio</title>\n",
        "  <link href=\"https://cdn.jsdelivr.net/npm/tailwindcss@2.2.19/dist/tailwind.min.css\" rel=\"stylesheet\">\n",
        "</head>\n",
        "<body class=\"bg-gray-100 text-gray-800 font-sans leading-normal tracking-normal\">\n",
        "  <header class=\"bg-white shadow py-6\">\n",
        "    <div class=\"container mx-auto px-4 max-w-5xl\">\n",
        "      <h1 class=\"text-4xl font-bold text-gray-900\">{{ name }}</h1>\n",
        "      <p class=\"mt-2 italic text-sm text-gray-600\">{{ bio }}</p>\n",
        "    </div>\n",
        "  </header>\n",
        "\n",
        "  <main class=\"container mx-auto px-4 py-8 max-w-5xl\">\n",
        "    <section class=\"mb-12\">\n",
        "      <h2 class=\"text-3xl font-semibold text-gray-900 mb-4 border-b-2 border-indigo-500 pb-2\">About Me</h2>\n",
        "      <p class=\"text-lg text-gray-700 leading-relaxed\">{{ about }}</p>\n",
        "    </section>\n",
        "\n",
        "    <section class=\"mb-12\">\n",
        "      <h2 class=\"text-3xl font-semibold text-gray-900 mb-4 border-b-2 border-indigo-500 pb-2\">Art Style: {{ style }}</h2>\n",
        "      <p class=\"text-lg text-gray-700 leading-relaxed\">{{ description }}</p>\n",
        "    </section>\n",
        "\n",
        "    <section>\n",
        "      <h2 class=\"text-3xl font-semibold text-gray-900 mb-6 border-b-2 border-indigo-500 pb-2\">Gallery</h2>\n",
        "      <div class=\"grid grid-cols-1 md:grid-cols-2 lg:grid-cols-3 gap-8\">\n",
        "        {% for artwork in artworks %}\n",
        "        <div class=\"bg-white rounded-xl shadow-lg overflow-hidden transform transition duration-500 hover:scale-105\">\n",
        "          <img src=\"{{ artwork.url }}\" class=\"w-full h-64 object-cover\" alt=\"Artwork by {{ name }}\" />\n",
        "          <div class=\"p-6\">\n",
        "            <h3 class=\"text-xl font-semibold text-gray-900 mb-2\">{{ artwork.title }}</h3>\n",
        "            <p class=\"text-gray-700 text-sm mb-4\">{{ artwork.description }}</p>\n",
        "            <p class=\"text-xs text-gray-600\">Tags: <span class=\"font-medium\">{{ artwork.tags | join(', ') }}</span></p>\n",
        "          </div>\n",
        "        </div>\n",
        "        {% endfor %}\n",
        "      </div>\n",
        "    </section>\n",
        "  </main>\n",
        "\n",
        "  <footer class=\"bg-gray-800 text-white py-6 mt-12\">\n",
        "    <div class=\"container mx-auto px-4 text-center text-gray-400\">\n",
        "      <p>&copy; {{ name }} All rights reserved.</p>\n",
        "    </div>\n",
        "  </footer>\n",
        "</body>\n",
        "</html>\n",
        "\"\"\"\n",
        "with open(\"templates/portfolio.html\", \"w\") as f:\n",
        "    f.write(portfolio_html_content)\n",
        "\n",
        "\n",
        "@app.get(\"/\", response_class=HTMLResponse)\n",
        "async def read_root(request: Request):\n",
        "    return templates.TemplateResponse(\"index.html\", {\"request\": request})\n",
        "\n",
        "\n",
        "@app.post(\"/generate\")\n",
        "async def generate_site(\n",
        "    request: Request,\n",
        "    name: str = Form(...),\n",
        "    bio: str = Form(...),\n",
        "    art_style: str = Form(...),\n",
        "    files: list[UploadFile] = File(...)\n",
        "):\n",
        "    os.makedirs(\"static/images\", exist_ok=True)\n",
        "    artworks_data = []\n",
        "\n",
        "    for file in files:\n",
        "        file_path = f\"static/images/{file.filename}\"\n",
        "        async with aiofiles.open(file_path, 'wb') as out_file:\n",
        "            content = await file.read()\n",
        "            await out_file.write(content)\n",
        "\n",
        "        image = PIL.Image.open(io.BytesIO(content))\n",
        "\n",
        "        artwork_prompt = f\"\"\"You're an expert creative content writer and SEO specialist for artists, specializing in {art_style} art.\n",
        "Given the artwork image, generate the following:\n",
        "- A catchy and professional artwork title\n",
        "- A 2-3 sentence art description for a portfolio or gallery\n",
        "- 5 relevant SEO tags\n",
        "Make it poetic and audience-friendly and reflect the style of {art_style}.\n",
        "\"\"\"\n",
        "        # Add conditional logic for specific styles\n",
        "        if \"abstract\" in art_style.lower():\n",
        "            artwork_prompt += \"\\nIf the style is abstract, focus on the emotions, colors, and forms conveyed.\"\n",
        "        elif \"portraiture\" in art_style.lower():\n",
        "            artwork_prompt += \"\\nIf the style is portraiture, highlight the subject's expression, personality, and the details of the rendering.\"\n",
        "        elif \"landscape\" in art_style.lower():\n",
        "             artwork_prompt += \"\\nIf the style is landscape, describe the atmosphere, light, and the sense of place.\"\n",
        "\n",
        "\n",
        "        artwork_content = generate_portfolio_section(artwork_prompt, image=image)\n",
        "\n",
        "        # Basic parsing of the generated content - refine this based on actual model output format\n",
        "        title = \"Generated Title\"\n",
        "        description = \"Generated Description\"\n",
        "        tags = [\"tag1\", \"tag2\"] # Example tags\n",
        "\n",
        "        title_match = re.search(r\"(?i)title[:\\-\\n]*([^\\n]+)\", artwork_content)\n",
        "        desc_match = re.search(r\"(?i)description[:\\-\\n]*([\\s\\S]+?)tags[:\\n]\", artwork_content)\n",
        "        tags_match = re.search(r\"(?i)tags[:\\-\\n]*([^\\n]+)\", artwork_content)\n",
        "\n",
        "        if title_match:\n",
        "            title = title_match.group(1).strip()\n",
        "        if desc_match:\n",
        "            description = desc_match.group(1).strip()\n",
        "        if tags_match:\n",
        "            tags = [tag.strip() for tag in tags_match.group(1).split(\",\")]\n",
        "\n",
        "        artworks_data.append({\n",
        "            \"url\": file_path,\n",
        "            \"title\": title,\n",
        "            \"description\": description,\n",
        "            \"tags\": tags\n",
        "        })\n",
        "\n",
        "\n",
        "    about_text = generate_portfolio_section(f\"Write an engaging 'About the Artist' section for an artist named {name}, who specializes in {art_style}. Use an elegant tone.\")\n",
        "    description_text = generate_portfolio_section(f\"Write a short art style summary for {art_style}. Focus on what makes this craft meaningful.\")\n",
        "\n",
        "    return templates.TemplateResponse(\"portfolio.html\", {\n",
        "        \"request\": request,\n",
        "        \"name\": name,\n",
        "        \"bio\": bio,\n",
        "        \"about\": about_text,\n",
        "        \"style\": art_style,\n",
        "        \"description\": description_text,\n",
        "        \"artworks\": artworks_data\n",
        "    })"
      ]
    },
    {
      "cell_type": "markdown",
      "metadata": {
        "id": "e001cfa7"
      },
      "source": [
        "## Summary:\n",
        "\n",
        "### Data Analysis Key Findings\n",
        "*   The FastAPI application was successfully structured into `main.py` and `ai_utils.py` for better modularity.\n",
        "*   The application can handle multiple image uploads, save them locally to the `static/images` directory, and obtain their file paths.\n",
        "*   The AI utility function `generate_portfolio_section` was enhanced to accept image input using `PIL.Image`.\n",
        "*   The application utilizes the Gemini Flash 1.5 API to generate titles, descriptions, and tags for individual artworks based on the uploaded images and user-provided information (name, bio, art style).\n",
        "*   Basic parsing of the AI's output is implemented using regular expressions to extract the title, description, and tags for each artwork.\n",
        "*   An HTML form (`index.html`) was created to capture user input (name, bio, art style) and image uploads.\n",
        "*   The FastAPI application serves the `index.html` form at the root URL (`/`) and processes the form submission at the `/generate` endpoint.\n",
        "*   The generated portfolio website (`portfolio.html`) dynamically displays the user's information and the AI-generated content (title, description, tags) alongside the uploaded images.\n",
        "*   Tailwind CSS was integrated into the HTML templates to enhance the visual styling and structure of the portfolio website.\n",
        "*   The AI prompt for generating artwork content was fine-tuned to include the user's specified art style and conditional instructions for specific styles (abstract, portraiture, landscape) to improve content relevance.\n",
        "\n",
        "### Insights or Next Steps\n",
        "*   Refine the parsing of the AI's generated content to handle potential variations in output format more robustly, potentially using structured output formats if the model supports them.\n",
        "*   Implement error handling for file uploads (e.g., file size limits, unsupported file types) and AI generation failures.\n"
      ]
    },
    {
      "cell_type": "markdown",
      "metadata": {
        "id": "822780be"
      },
      "source": [
        "**Reasoning**:\n",
        "Create the index.html file with the necessary form elements and modify main.py to serve this file at the root URL."
      ]
    },
    {
      "cell_type": "code",
      "execution_count": null,
      "metadata": {
        "colab": {
          "base_uri": "https://localhost:8080/"
        },
        "id": "5b2678e4",
        "outputId": "28d6c949-4cd1-4e64-aa73-c3df53765079"
      },
      "outputs": [
        {
          "name": "stdout",
          "output_type": "stream",
          "text": [
            "Overwriting templates/index.html\n"
          ]
        }
      ],
      "source": [
        "%%writefile templates/index.html\n",
        "<!DOCTYPE html>\n",
        "<html lang=\"en\">\n",
        "<head>\n",
        "  <meta charset=\"UTF-8\" />\n",
        "  <title>Generate Your Art Portfolio</title>\n",
        "  <link href=\"https://cdn.jsdelivr.net/npm/tailwindcss@2.2.19/dist/tailwind.min.css\" rel=\"stylesheet\">\n",
        "</head>\n",
        "<body class=\"bg-white text-gray-800 p-8\">\n",
        "  <div class=\"max-w-2xl mx-auto\">\n",
        "    <h1 class=\"text-3xl font-bold mb-6\">Generate Your Art Portfolio</h1>\n",
        "\n",
        "    <form action=\"/generate\" method=\"post\" enctype=\"multipart/form-data\" class=\"space-y-4\">\n",
        "      <div>\n",
        "        <label for=\"name\" class=\"block text-sm font-medium text-gray-700\">Artist Name:</label>\n",
        "        <input type=\"text\" id=\"name\" name=\"name\" required class=\"mt-1 block w-full rounded-md border-gray-300 shadow-sm focus:border-indigo-500 focus:ring-indigo-500 sm:text-sm\">\n",
        "      </div>\n",
        "\n",
        "      <div>\n",
        "        <label for=\"bio\" class=\"block text-sm font-medium text-gray-700\">Short Bio:</label>\n",
        "        <textarea id=\"bio\" name=\"bio\" rows=\"3\" required class=\"mt-1 block w-full rounded-md border-gray-300 shadow-sm focus:border-indigo-500 focus:ring-indigo-500 sm:text-sm\"></textarea>\n",
        "      </div>\n",
        "\n",
        "      <div>\n",
        "        <label for=\"art_style\" class=\"block text-sm font-medium text-gray-700\">Art Style:</label>\n",
        "        <input type=\"text\" id=\"art_style\" name=\"art_style\" required class=\"mt-1 block w-full rounded-md border-gray-300 shadow-sm focus:border-indigo-500 focus:ring-indigo-500 sm:text-sm\">\n",
        "      </div>\n",
        "\n",
        "      <div>\n",
        "        <label for=\"files\" class=\"block text-sm font-medium text-gray-700\">Upload Images:</label>\n",
        "        <input type=\"file\" id=\"files\" name=\"files\" multiple accept=\"image/*\" required class=\"mt-1 block w-full text-sm text-gray-500 file:mr-4 file:py-2 file:px-4 file:rounded-full file:border-0 file:text-sm file:font-semibold file:bg-blue-50 file:text-blue-700 hover:file:bg-blue-100\">\n",
        "      </div>\n",
        "\n",
        "      <div>\n",
        "        <button type=\"submit\" class=\"w-full flex justify-center py-2 px-4 border border-transparent rounded-md shadow-sm text-sm font-medium text-white bg-indigo-600 hover:bg-indigo-700 focus:outline-none focus:ring-2 focus:ring-offset-2 focus:ring-indigo-500\">\n",
        "          Generate Portfolio\n",
        "        </button>\n",
        "      </div>\n",
        "    </form>\n",
        "  </div>\n",
        "</body>\n",
        "</html>"
      ]
    },
    {
      "cell_type": "markdown",
      "metadata": {
        "id": "5ad411e5"
      },
      "source": [
        "## Final Code\n",
        "\n",
        "Here is the complete code for the AI Art Portfolio Generator.\n",
        "\n",
        "**`ai_utils.py`**"
      ]
    },
    {
      "cell_type": "code",
      "execution_count": null,
      "metadata": {
        "colab": {
          "base_uri": "https://localhost:8080/"
        },
        "id": "d0c262db",
        "outputId": "114448eb-d0cd-42d5-ce42-8457f0222cfa"
      },
      "outputs": [
        {
          "name": "stdout",
          "output_type": "stream",
          "text": [
            "Overwriting ai_utils.py\n"
          ]
        }
      ],
      "source": [
        "%%writefile ai_utils.py\n",
        "import google.generativeai as genai\n",
        "import os\n",
        "from typing import List, Optional\n",
        "from PIL import Image\n",
        "import PIL.ExifTags\n",
        "from google.colab import userdata # Import userdata\n",
        "\n",
        "# Initialize Gemini Flash 1.5\n",
        "# Use userdata.get to access the API key from Colab Secrets\n",
        "genai.configure(api_key=userdata.get(\"GOOGLE_API_KEY\"))\n",
        "model = genai.GenerativeModel(\"gemini-1.5-flash\")\n",
        "\n",
        "# 🖼️ Helper: Extract basic EXIF description (title, artist, etc.)\n",
        "def extract_image_metadata(image_path: str) -> str:\n",
        "    try:\n",
        "        img = Image.open(image_path)\n",
        "        exif = {\n",
        "            PIL.ExifTags.TAGS.get(tag): val\n",
        "            for tag, val in img._getexif().items()\n",
        "            if tag in PIL.ExifTags.TAGS\n",
        "        }\n",
        "        return exif.get(\"ImageDescription\", \"\")\n",
        "    except Exception:\n",
        "        return \"\"\n",
        "\n",
        "# 🧠 Prompt generators\n",
        "def generate_about_section(name: str, art_style: str, bio: str, language: str = \"en\") -> str:\n",
        "    prompt = f\"\"\"\n",
        "    Write a warm, engaging 'About the Artist' section for a handcrafted artist named {name}.\n",
        "    Their art style is {art_style}. Bio: {bio}.\n",
        "    Use a narrative tone that feels authentic and personal. Limit to 150-200 words.\n",
        "    {'Translate the output to Hindi.' if language == 'hi' else ''}\n",
        "    \"\"\"\n",
        "    return model.generate_content(prompt).text.strip()\n",
        "\n",
        "def generate_style_summary(art_style: str, language: str = \"en\") -> str:\n",
        "    prompt = f\"\"\"\n",
        "    Describe the handcrafted art style called '{art_style}' in simple terms.\n",
        "    Explain its cultural or aesthetic value and what makes it unique.\n",
        "    Make it understandable for buyers new to handcrafted art.\n",
        "    Limit to 100-120 words.\n",
        "    {'Translate the output to Hindi.' if language == 'hi' else ''}\n",
        "    \"\"\"\n",
        "    return model.generate_content(prompt).text.strip()\n",
        "\n",
        "def generate_image_captions(image_titles: List[str], art_style: str, metadata: List[str], language: str = \"en\") -> List[str]:\n",
        "    metadata_text = \", \".join([f\"{title} ({desc})\" if desc else title for title, desc in zip(image_titles, metadata)])\n",
        "    prompt = f\"\"\"\n",
        "    Write short, poetic descriptions (2-3 sentences) for the following handcrafted artworks in the {art_style} style:\n",
        "    {metadata_text}.\n",
        "    The tone should be emotional and inspiring.\n",
        "    {'Translate the output to Hindi.' if language == 'hi' else ''}\n",
        "    \"\"\"\n",
        "    response = model.generate_content(prompt)\n",
        "    return [line.strip(\"• \").strip() for line in response.text.strip().split(\"\\n\") if line.strip()]\n",
        "\n",
        "# 🔄 Master function\n",
        "def generate_artist_portfolio(\n",
        "    name: str,\n",
        "    bio: str,\n",
        "    art_style: str,\n",
        "    image_paths: List[str],\n",
        "    alt_texts: Optional[List[str]] = None,\n",
        "    language: str = \"en\"\n",
        ") -> dict:\n",
        "    image_titles = [os.path.basename(path).split(\".\")[0] for path in image_paths]\n",
        "\n",
        "    # Use EXIF or fallback alt_texts\n",
        "    metadata = []\n",
        "    for i, path in enumerate(image_paths):\n",
        "        meta = extract_image_metadata(path)\n",
        "        if not meta and alt_texts:\n",
        "            meta = alt_texts[i]\n",
        "        metadata.append(meta)\n",
        "\n",
        "    return {\n",
        "        \"about\": generate_about_section(name, art_style, bio, language),\n",
        "        \"style_summary\": generate_style_summary(art_style, language),\n",
        "        \"captions\": generate_image_captions(image_titles, art_style, metadata, language)\n",
        "    }"
      ]
    },
    {
      "cell_type": "markdown",
      "metadata": {
        "id": "213bd563"
      },
      "source": [
        "**`templates/index.html`**"
      ]
    },
    {
      "cell_type": "code",
      "execution_count": null,
      "metadata": {
        "colab": {
          "base_uri": "https://localhost:8080/"
        },
        "id": "78a18360",
        "outputId": "f44d8551-9cbb-46b1-e627-29e56272bbfa"
      },
      "outputs": [
        {
          "name": "stdout",
          "output_type": "stream",
          "text": [
            "Overwriting templates/index.html\n"
          ]
        }
      ],
      "source": [
        "%%writefile templates/index.html\n",
        "<!DOCTYPE html>\n",
        "<html lang=\"en\">\n",
        "<head>\n",
        "  <meta charset=\"UTF-8\" />\n",
        "  <title>Generate Your Art Portfolio</title>\n",
        "  <link href=\"https://cdn.jsdelivr.net/npm/tailwindcss@2.2.19/dist/tailwind.min.css\" rel=\"stylesheet\">\n",
        "</head>\n",
        "<body class=\"bg-white text-gray-800 p-8\">\n",
        "  <div class=\"max-w-2xl mx-auto\">\n",
        "    <h1 class=\"text-3xl font-bold mb-6\">Generate Your Art Portfolio</h1>\n",
        "\n",
        "    <form action=\"/generate\" method=\"post\" enctype=\"multipart/form-data\" class=\"space-y-4\">\n",
        "      <div>\n",
        "        <label for=\"name\" class=\"block text-sm font-medium text-gray-700\">Artist Name:</label>\n",
        "        <input type=\"text\" id=\"name\" name=\"name\" required class=\"mt-1 block w-full rounded-md border-gray-300 shadow-sm focus:border-indigo-500 focus:ring-indigo-500 sm:text-sm\">\n",
        "      </div>\n",
        "\n",
        "      <div>\n",
        "        <label for=\"bio\" class=\"block text-sm font-medium text-gray-700\">Short Bio:</label>\n",
        "        <textarea id=\"bio\" name=\"bio\" rows=\"3\" required class=\"mt-1 block w-full rounded-md border-gray-300 shadow-sm focus:border-indigo-500 focus:ring-indigo-500 sm:text-sm\"></textarea>\n",
        "      </div>\n",
        "\n",
        "      <div>\n",
        "        <label for=\"art_style\" class=\"block text-sm font-medium text-gray-700\">Art Style:</label>\n",
        "        <input type=\"text\" id=\"art_style\" name=\"art_style\" required class=\"mt-1 block w-full rounded-md border-gray-300 shadow-sm focus:border-indigo-500 focus:ring-indigo-500 sm:text-sm\">\n",
        "      </div>\n",
        "\n",
        "      <div>\n",
        "        <label for=\"files\" class=\"block text-sm font-medium text-gray-700\">Upload Images:</label>\n",
        "        <input type=\"file\" id=\"files\" name=\"files\" multiple accept=\"image/*\" required class=\"mt-1 block w-full text-sm text-gray-500 file:mr-4 file:py-2 file:px-4 file:rounded-full file:border-0 file:text-sm file:font-semibold file:bg-blue-50 file:text-blue-700 hover:file:bg-blue-100\">\n",
        "      </div>\n",
        "\n",
        "      <div>\n",
        "        <button type=\"submit\" class=\"w-full flex justify-center py-2 px-4 border border-transparent rounded-md shadow-sm text-sm font-medium text-white bg-indigo-600 hover:bg-indigo-700 focus:outline-none focus:ring-2 focus:ring-offset-2 focus:ring-indigo-500\">\n",
        "          Generate Portfolio\n",
        "        </button>\n",
        "      </div>\n",
        "    </form>\n",
        "  </div>\n",
        "</body>\n",
        "</html>"
      ]
    },
    {
      "cell_type": "markdown",
      "metadata": {
        "id": "9856d4bb"
      },
      "source": [
        "**`templates/portfolio.html`**"
      ]
    },
    {
      "cell_type": "code",
      "execution_count": null,
      "metadata": {
        "colab": {
          "base_uri": "https://localhost:8080/"
        },
        "id": "98b2528c",
        "outputId": "3a9f3665-4f0f-4ef8-84ef-7572b9a1b24c"
      },
      "outputs": [
        {
          "name": "stdout",
          "output_type": "stream",
          "text": [
            "Overwriting templates/portfolio.html\n"
          ]
        }
      ],
      "source": [
        "%%writefile templates/portfolio.html\n",
        "<!DOCTYPE html>\n",
        "<html lang=\"en\">\n",
        "<head>\n",
        "  <meta charset=\"UTF-8\" />\n",
        "  <title>{{ name }} | Portfolio</title>\n",
        "  <link href=\"https://cdn.jsdelivr.net/npm/tailwindcss@2.2.19/dist/tailwind.min.css\" rel=\"stylesheet\">\n",
        "</head>\n",
        "<body class=\"bg-gray-100 text-gray-800 font-sans leading-normal tracking-normal\">\n",
        "  <header class=\"bg-white shadow py-6\">\n",
        "    <div class=\"container mx-auto px-4 max-w-5xl\">\n",
        "      <h1 class=\"text-4xl font-bold text-gray-900\">{{ name }}</h1>\n",
        "      <p class=\"mt-2 italic text-sm text-gray-600\">{{ bio }}</p>\n",
        "    </div>\n",
        "  </header>\n",
        "\n",
        "  <main class=\"container mx-auto px-4 py-8 max-w-5xl\">\n",
        "    <section class=\"mb-12\">\n",
        "      <h2 class=\"text-3xl font-semibold text-gray-900 mb-4 border-b-2 border-indigo-500 pb-2\">About Me</h2>\n",
        "      <p class=\"text-lg text-gray-700 leading-relaxed\">{{ about }}</p>\n",
        "    </section>\n",
        "\n",
        "    <section class=\"mb-12\">\n",
        "      <h2 class=\"text-3xl font-semibold text-gray-900 mb-4 border-b-2 border-indigo-500 pb-2\">Art Style: {{ style }}</h2>\n",
        "      <p class=\"text-lg text-gray-700 leading-relaxed\">{{ description }}</p>\n",
        "    </section>\n",
        "\n",
        "    <section>\n",
        "      <h2 class=\"text-3xl font-semibold text-gray-900 mb-6 border-b-2 border-indigo-500 pb-2\">Gallery</h2>\n",
        "      <div class=\"grid grid-cols-1 md:grid-cols-2 lg:grid-cols-3 gap-8\">\n",
        "        {% for artwork in artworks %}\n",
        "        <div class=\"bg-white rounded-xl shadow-lg overflow-hidden transform transition duration-500 hover:scale-105\">\n",
        "          <img src=\"{{ artwork.url }}\" class=\"w-full h-64 object-cover\" alt=\"Artwork by {{ name }}\" />\n",
        "          <div class=\"p-6\">\n",
        "            <h3 class=\"text-xl font-semibold text-gray-900 mb-2\">{{ artwork.title }}</h3>\n",
        "            <p class=\"text-gray-700 text-sm mb-4\">{{ artwork.description }}</p>\n",
        "            <p class=\"text-xs text-gray-600\">Tags: <span class=\"font-medium\">{{ artwork.tags | join(', ') }}</span></p>\n",
        "          </div>\n",
        "        </div>\n",
        "        {% endfor %}\n",
        "      </div>\n",
        "    </section>\n",
        "  </main>\n",
        "\n",
        "  <footer class=\"bg-gray-800 text-white py-6 mt-12\">\n",
        "    <div class=\"container mx-auto px-4 text-center text-gray-400\">\n",
        "      <p>&copy; {{ name }} All rights reserved.</p>\n",
        "    </div>\n",
        "  </footer>\n",
        "</body>\n",
        "</html>"
      ]
    },
    {
      "cell_type": "markdown",
      "metadata": {
        "id": "cb390cfa"
      },
      "source": [
        "**`main.py`**"
      ]
    },
    {
      "cell_type": "code",
      "execution_count": null,
      "metadata": {
        "colab": {
          "base_uri": "https://localhost:8080/"
        },
        "id": "d5026b87",
        "outputId": "dff209cf-0d35-414b-e3f6-d78e692b20db"
      },
      "outputs": [
        {
          "name": "stdout",
          "output_type": "stream",
          "text": [
            "Overwriting main.py\n"
          ]
        }
      ],
      "source": [
        "%%writefile main.py\n",
        "from fastapi import FastAPI, File, UploadFile, Form\n",
        "from fastapi.responses import HTMLResponse\n",
        "from fastapi.staticfiles import StaticFiles\n",
        "from starlette.templating import Jinja2Templates\n",
        "from starlette.requests import Request\n",
        "import os\n",
        "from ai_utils import generate_portfolio_section # Assuming generate_portfolio_section is sufficient for individual image analysis\n",
        "import aiofiles\n",
        "import PIL.Image\n",
        "import io\n",
        "import re\n",
        "\n",
        "\n",
        "app = FastAPI()\n",
        "os.makedirs(\"static\", exist_ok=True)\n",
        "os.makedirs(\"templates\", exist_ok=True)\n",
        "app.mount(\"/static\", StaticFiles(directory=\"static\"), name=\"static\")\n",
        "templates = Jinja2Templates(directory=\"templates\")\n",
        "\n",
        "# Create the portfolio.html file (using the enhanced version from the previous step)\n",
        "portfolio_html_content = \"\"\"\n",
        "<!DOCTYPE html>\n",
        "<html lang=\"en\">\n",
        "<head>\n",
        "  <meta charset=\"UTF-8\" />\n",
        "  <title>{{ name }} | Portfolio</title>\n",
        "  <link href=\"https://cdn.jsdelivr.net/npm/tailwindcss@2.2.19/dist/tailwind.min.css\" rel=\"stylesheet\">\n",
        "</head>\n",
        "<body class=\"bg-gray-100 text-gray-800 font-sans leading-normal tracking-normal\">\n",
        "  <header class=\"bg-white shadow py-6\">\n",
        "    <div class=\"container mx-auto px-4 max-w-5xl\">\n",
        "      <h1 class=\"text-4xl font-bold text-gray-900\">{{ name }}</h1>\n",
        "      <p class=\"mt-2 italic text-sm text-gray-600\">{{ bio }}</p>\n",
        "    </div>\n",
        "  </header>\n",
        "\n",
        "  <main class=\"container mx-auto px-4 py-8 max-w-5xl\">\n",
        "    <section class=\"mb-12\">\n",
        "      <h2 class=\"text-3xl font-semibold text-gray-900 mb-4 border-b-2 border-indigo-500 pb-2\">About Me</h2>\n",
        "      <p class=\"text-lg text-gray-700 leading-relaxed\">{{ about }}</p>\n",
        "    </section>\n",
        "\n",
        "    <section class=\"mb-12\">\n",
        "      <h2 class=\"text-3xl font-semibold text-gray-900 mb-4 border-b-2 border-indigo-500 pb-2\">Art Style: {{ style }}</h2>\n",
        "      <p class=\"text-lg text-gray-700 leading-relaxed\">{{ description }}</p>\n",
        "    </section>\n",
        "\n",
        "    <section>\n",
        "      <h2 class=\"text-3xl font-semibold text-gray-900 mb-6 border-b-2 border-indigo-500 pb-2\">Gallery</h2>\n",
        "      <div class=\"grid grid-cols-1 md:grid-cols-2 lg:grid-cols-3 gap-8\">\n",
        "        {% for artwork in artworks %}\n",
        "        <div class=\"bg-white rounded-xl shadow-lg overflow-hidden transform transition duration-500 hover:scale-105\">\n",
        "          <img src=\"{{ artwork.url }}\" class=\"w-full h-64 object-cover\" alt=\"Artwork by {{ name }}\" />\n",
        "          <div class=\"p-6\">\n",
        "            <h3 class=\"text-xl font-semibold text-gray-900 mb-2\">{{ artwork.title }}</h3>\n",
        "            <p class=\"text-gray-700 text-sm mb-4\">{{ artwork.description }}</p>\n",
        "            <p class=\"text-xs text-gray-600\">Tags: <span class=\"font-medium\">{{ artwork.tags | join(', ') }}</span></p>\n",
        "          </div>\n",
        "        </div>\n",
        "        {% endfor %}\n",
        "      </div>\n",
        "    </section>\n",
        "  </main>\n",
        "\n",
        "  <footer class=\"bg-gray-800 text-white py-6 mt-12\">\n",
        "    <div class=\"container mx-auto px-4 text-center text-gray-400\">\n",
        "      <p>&copy; {{ name }} All rights reserved.</p>\n",
        "    </div>\n",
        "  </footer>\n",
        "</body>\n",
        "</html>\n",
        "\"\"\"\n",
        "with open(\"templates/portfolio.html\", \"w\") as f:\n",
        "    f.write(portfolio_html_content)\n",
        "\n",
        "\n",
        "@app.get(\"/\", response_class=HTMLResponse)\n",
        "async def read_root(request: Request):\n",
        "    return templates.TemplateResponse(\"index.html\", {\"request\": request})\n",
        "\n",
        "# Modified endpoint to handle single image upload\n",
        "@app.post(\"/upload-image\")\n",
        "async def upload_image(\n",
        "    file: UploadFile = File(...)\n",
        "):\n",
        "    os.makedirs(\"static/images\", exist_ok=True)\n",
        "    file_path = f\"static/images/{file.filename}\"\n",
        "    async with aiofiles.open(file_path, 'wb') as out_file:\n",
        "        content = await file.read()\n",
        "        await out_file.write(content)\n",
        "\n",
        "    # You might want to return some information about the uploaded image,\n",
        "    # like its URL, to the frontend.\n",
        "    return {\"filename\": file.filename, \"url\": file_path}\n",
        "\n",
        "\n",
        "# Modified /generate endpoint to accept image URLs instead of files\n",
        "@app.post(\"/generate\")\n",
        "async def generate_site(\n",
        "    request: Request,\n",
        "    name: str = Form(...),\n",
        "    bio: str = Form(...),\n",
        "    art_style: str = Form(...),\n",
        "    image_urls: List[str] = Form(...) # Expect a list of image URLs from the frontend\n",
        "):\n",
        "    artworks_data = []\n",
        "\n",
        "    for url in image_urls:\n",
        "        # To process the image with AI, you would need to read the image file again\n",
        "        # from the saved path.\n",
        "        file_path = url # Assuming the URL is the file path\n",
        "        try:\n",
        "            image = PIL.Image.open(file_path)\n",
        "\n",
        "            artwork_prompt = f\"\"\"You're an expert creative content writer and SEO specialist for artists, specializing in {art_style} art.\n",
        "Given the artwork image, generate the following:\n",
        "- A catchy and professional artwork title\n",
        "- A 2-3 sentence art description for a portfolio or gallery\n",
        "- 5 relevant SEO tags\n",
        "Make it poetic and audience-friendly and reflect the style of {art_style}.\n",
        "\"\"\"\n",
        "            # Add conditional logic for specific styles\n",
        "            if \"abstract\" in art_style.lower():\n",
        "                artwork_prompt += \"\\nIf the style is abstract, focus on the emotions, colors, and forms conveyed.\"\n",
        "            elif \"portraiture\" in art_style.lower():\n",
        "                artwork_prompt += \"\\nIf the style is portraiture, highlight the subject's expression, personality, and the details of the rendering.\"\n",
        "            elif \"landscape\" in art_style.lower():\n",
        "                 artwork_prompt += \"\\nIf the style is landscape, describe the atmosphere, light, and the sense of place.\"\n",
        "\n",
        "\n",
        "            artwork_content = generate_portfolio_section(artwork_prompt, image=image)\n",
        "\n",
        "            # Basic parsing of the generated content - refine this based on actual model output format\n",
        "            title = \"Generated Title\"\n",
        "            description = \"Generated Description\"\n",
        "            tags = [\"tag1\", \"tag2\"] # Example tags\n",
        "\n",
        "            title_match = re.search(r\"(?i)title[:\\-\\n]*([^\\n]+)\", artwork_content)\n",
        "            desc_match = re.search(r\"(?i)description[:\\-\\n]*([\\s\\S]+?)tags[:\\n]\", artwork_content)\n",
        "            tags_match = re.search(r\"(?i)tags[:\\-\\n]*([^\\n]+)\", artwork_content)\n",
        "\n",
        "            if title_match:\n",
        "                title = title_match.group(1).strip()\n",
        "            if desc_match:\n",
        "                description = desc_match.group(1).strip()\n",
        "            if tags_match:\n",
        "                tags = [tag.strip() for tag in tags_match.group(1).split(\",\")]\n",
        "\n",
        "            artworks_data.append({\n",
        "                \"url\": url,\n",
        "                \"title\": title,\n",
        "                \"description\": description,\n",
        "                \"tags\": tags\n",
        "            })\n",
        "        except FileNotFoundError:\n",
        "             # Handle case where the file was not found (e.g., if not uploaded correctly)\n",
        "             artworks_data.append({\n",
        "                \"url\": url,\n",
        "                \"title\": \"Error: Image not found\",\n",
        "                \"description\": \"Could not process image.\",\n",
        "                \"tags\": []\n",
        "            })\n",
        "\n",
        "\n",
        "    about_text = generate_portfolio_section(f\"Write an engaging 'About the Artist' section for an artist named {name}, who specializes in {art_style}. Use an elegant tone.\")\n",
        "    description_text = generate_portfolio_section(f\"Write a short art style summary for {art_style}. Focus on what makes this craft meaningful.\")\n",
        "\n",
        "    return templates.TemplateResponse(\"portfolio.html\", {\n",
        "        \"request\": request,\n",
        "        \"name\": name,\n",
        "        \"bio\": bio,\n",
        "        \"about\": about_text,\n",
        "        \"style\": art_style,\n",
        "        \"description\": description_text,\n",
        "        \"artworks\": artworks_data\n",
        "    })"
      ]
    },
    {
      "cell_type": "code",
      "execution_count": null,
      "metadata": {
        "id": "va7VN1JvphMu"
      },
      "outputs": [],
      "source": []
    },
    {
      "cell_type": "code",
      "execution_count": null,
      "metadata": {
        "id": "V3xDsOt8phQ8"
      },
      "outputs": [],
      "source": []
    },
    {
      "cell_type": "code",
      "execution_count": null,
      "metadata": {
        "id": "HWk8uykFphVu"
      },
      "outputs": [],
      "source": []
    },
    {
      "cell_type": "code",
      "execution_count": null,
      "metadata": {
        "id": "HNxiChysphcF"
      },
      "outputs": [],
      "source": []
    },
    {
      "cell_type": "code",
      "execution_count": null,
      "metadata": {
        "id": "iS2AFljAphf4"
      },
      "outputs": [],
      "source": []
    },
    {
      "cell_type": "code",
      "execution_count": null,
      "metadata": {
        "id": "3pLZJ6umphlP"
      },
      "outputs": [],
      "source": []
    },
    {
      "cell_type": "code",
      "execution_count": null,
      "metadata": {
        "id": "xS2cd8TQphoq"
      },
      "outputs": [],
      "source": []
    },
    {
      "cell_type": "code",
      "execution_count": null,
      "metadata": {
        "id": "NRLgHFU2ph3G"
      },
      "outputs": [],
      "source": []
    },
    {
      "cell_type": "code",
      "execution_count": null,
      "metadata": {
        "id": "1A8q_4mKplVV"
      },
      "outputs": [],
      "source": []
    },
    {
      "cell_type": "code",
      "execution_count": null,
      "metadata": {
        "id": "aEVicrAYplYi"
      },
      "outputs": [],
      "source": []
    },
    {
      "cell_type": "code",
      "execution_count": null,
      "metadata": {
        "id": "L-weLyaJplco"
      },
      "outputs": [],
      "source": []
    },
    {
      "cell_type": "code",
      "execution_count": null,
      "metadata": {
        "id": "qoZrulKpplhi"
      },
      "outputs": [],
      "source": []
    },
    {
      "cell_type": "code",
      "execution_count": null,
      "metadata": {
        "id": "kRYUkKgGplm4"
      },
      "outputs": [],
      "source": [
        "import google.generativeai as genai\n",
        "import os\n",
        "from typing import List, Optional\n",
        "from PIL import Image\n",
        "import PIL.ExifTags\n",
        "from google.colab import userdata # Import userdata\n",
        "\n",
        "# Initialize Gemini Flash 1.5\n",
        "# Use userdata.get to access the API key from Colab Secrets\n",
        "genai.configure(api_key=userdata.get(\"GOOGLE_API_KEY\"))\n",
        "model = genai.GenerativeModel(\"gemini-1.5-flash\")\n",
        "\n",
        "# 🖼️ Helper: Extract basic EXIF description (title, artist, etc.)\n",
        "def extract_image_metadata(image_path: str) -> str:\n",
        "    try:\n",
        "        img = Image.open(image_path)\n",
        "        exif = {\n",
        "            PIL.ExifTags.TAGS.get(tag): val\n",
        "            for tag, val in img._getexif().items()\n",
        "            if tag in PIL.ExifTags.TAGS\n",
        "        }\n",
        "        return exif.get(\"ImageDescription\", \"\")\n",
        "    except Exception:\n",
        "        return \"\"\n",
        "\n",
        "# 🧠 Prompt generators\n",
        "def generate_about_section(name: str, art_style: str, bio: str, language: str = \"en\") -> str:\n",
        "    prompt = f\"\"\"\n",
        "    Write a warm, engaging 'About the Artist' section for a handcrafted artist named {name}.\n",
        "    Their art style is {art_style}. Bio: {bio}.\n",
        "    Use a narrative tone that feels authentic and personal. Limit to 150-200 words.\n",
        "    {'Translate the output to Hindi.' if language == 'hi' else ''}\n",
        "    \"\"\"\n",
        "    return model.generate_content(prompt).text.strip()\n",
        "\n",
        "def generate_style_summary(art_style: str, language: str = \"en\") -> str:\n",
        "    prompt = f\"\"\"\n",
        "    Describe the handcrafted art style called '{art_style}' in simple terms.\n",
        "    Explain its cultural or aesthetic value and what makes it unique.\n",
        "    Make it understandable for buyers new to handcrafted art.\n",
        "    Limit to 100-120 words.\n",
        "    {'Translate the output to Hindi.' if language == 'hi' else ''}\n",
        "    \"\"\"\n",
        "    return model.generate_content(prompt).text.strip()\n",
        "\n",
        "def generate_image_captions(image_titles: List[str], art_style: str, metadata: List[str], language: str = \"en\") -> List[str]:\n",
        "    metadata_text = \", \".join([f\"{title} ({desc})\" if desc else title for title, desc in zip(image_titles, metadata)])\n",
        "    prompt = f\"\"\"\n",
        "    Write short, poetic descriptions (2-3 sentences) for the following handcrafted artworks in the {art_style} style:\n",
        "    {metadata_text}.\n",
        "    The tone should be emotional and inspiring.\n",
        "    {'Translate the output to Hindi.' if language == 'hi' else ''}\n",
        "    \"\"\"\n",
        "    response = model.generate_content(prompt)\n",
        "    return [line.strip(\"• \").strip() for line in response.text.strip().split(\"\\n\") if line.strip()]\n",
        "\n",
        "# 🔄 Master function\n",
        "def generate_artist_portfolio(\n",
        "    name: str,\n",
        "    bio: str,\n",
        "    art_style: str,\n",
        "    image_paths: List[str],\n",
        "    alt_texts: Optional[List[str]] = None,\n",
        "    language: str = \"en\"\n",
        ") -> dict:\n",
        "    image_titles = [os.path.basename(path).split(\".\")[0] for path in image_paths]\n",
        "\n",
        "    # Use EXIF or fallback alt_texts\n",
        "    metadata = []\n",
        "    for i, path in enumerate(image_paths):\n",
        "        meta = extract_image_metadata(path)\n",
        "        if not meta and alt_texts:\n",
        "            meta = alt_texts[i]\n",
        "        metadata.append(meta)\n",
        "\n",
        "    return {\n",
        "        \"about\": generate_about_section(name, art_style, bio, language),\n",
        "        \"style_summary\": generate_style_summary(art_style, language),\n",
        "        \"captions\": generate_image_captions(image_titles, art_style, metadata, language)\n",
        "    }"
      ]
    },
    {
      "cell_type": "code",
      "execution_count": null,
      "metadata": {
        "id": "8R7cpwq_psfL"
      },
      "outputs": [],
      "source": []
    },
    {
      "cell_type": "code",
      "execution_count": null,
      "metadata": {
        "id": "o678ybX7psoi"
      },
      "outputs": [],
      "source": [
        "result = generate_artist_portfolio(\n",
        "    name=\"Radhika Verma\",\n",
        "    bio=\"A self-taught terracotta sculptor from Gujarat.\",\n",
        "    art_style=\"Terracotta Clay Sculptures\",\n",
        "    image_paths=[\"/content/image-from-rawpixel-id-426278-jpeg (1).jpg\", \"uploads/tribal_mask.jpg\"],\n",
        "    alt_texts=[\"Ganesha idol made of natural red clay\", \"A tribal mask with bold carvings\"],\n",
        "    language=\"hi\"  # Hindi translation\n",
        ")\n"
      ]
    },
    {
      "cell_type": "code",
      "execution_count": null,
      "metadata": {
        "id": "-1Ex-Oi1vGGi"
      },
      "outputs": [],
      "source": []
    },
    {
      "cell_type": "code",
      "execution_count": null,
      "metadata": {
        "id": "0fHH80cjvGKu"
      },
      "outputs": [],
      "source": []
    },
    {
      "cell_type": "code",
      "execution_count": null,
      "metadata": {
        "id": "EloUqSKJvGRQ"
      },
      "outputs": [],
      "source": []
    },
    {
      "cell_type": "code",
      "execution_count": null,
      "metadata": {
        "id": "or6B6_FDvGva"
      },
      "outputs": [],
      "source": []
    },
    {
      "cell_type": "code",
      "execution_count": null,
      "metadata": {
        "id": "FSe1uowrvGzX"
      },
      "outputs": [],
      "source": []
    },
    {
      "cell_type": "code",
      "execution_count": null,
      "metadata": {
        "id": "2E5DJcUtvG5o"
      },
      "outputs": [],
      "source": []
    },
    {
      "cell_type": "code",
      "execution_count": null,
      "metadata": {
        "id": "X91ks1WzvG_E"
      },
      "outputs": [],
      "source": []
    },
    {
      "cell_type": "code",
      "execution_count": null,
      "metadata": {
        "id": "oqmjziMCvHHU"
      },
      "outputs": [],
      "source": []
    },
    {
      "cell_type": "code",
      "execution_count": null,
      "metadata": {
        "id": "eMU5rYEMvHNL"
      },
      "outputs": [],
      "source": [
        "!pip install google-generativeai pillow gradio --quiet\n"
      ]
    },
    {
      "cell_type": "code",
      "execution_count": null,
      "metadata": {
        "id": "nbBoqkfvvHSf"
      },
      "outputs": [],
      "source": [
        "import os\n",
        "import google.generativeai as genai\n",
        "\n",
        "# 🔐 Paste your Gemini API key here\n",
        "os.environ[\"GOOGLE_API_KEY\"] = \"your_gemini_flash_1_5_api_key\"\n",
        "genai.configure(api_key=os.environ[\"GOOGLE_API_KEY\"])\n",
        "\n",
        "model = genai.GenerativeModel(\"gemini-1.5-flash\")\n"
      ]
    },
    {
      "cell_type": "code",
      "execution_count": null,
      "metadata": {
        "id": "eHxjtmFTvYmx"
      },
      "outputs": [],
      "source": [
        "from typing import List, Optional\n",
        "from PIL import Image, ExifTags\n",
        "\n",
        "def extract_exif_description(image: Image.Image) -> str:\n",
        "    try:\n",
        "        exif = {\n",
        "            ExifTags.TAGS.get(tag): val\n",
        "            for tag, val in image._getexif().items()\n",
        "            if tag in ExifTags.TAGS\n",
        "        }\n",
        "        return exif.get(\"ImageDescription\", \"\")\n",
        "    except:\n",
        "        return \"\"\n",
        "\n",
        "def generate_gemini_response(prompt: str) -> str:\n",
        "    return model.generate_content(prompt).text.strip()\n",
        "\n",
        "def generate_portfolio(name: str, bio: str, art_style: str, language: str,\n",
        "                       images: List[Image.Image], alt_texts: Optional[str]) -> dict:\n",
        "\n",
        "    # Language helper\n",
        "    def lang_suffix():\n",
        "        if language == 'hi': return \"Translate the output to Hindi.\"\n",
        "        if language == 'bn': return \"Translate the output to Bengali.\"\n",
        "        if language == 'ta': return \"Translate the output to Tamil.\"\n",
        "        return \"\"\n",
        "\n",
        "    # 1. About Section\n",
        "    about_prompt = f\"\"\"\n",
        "    Write a warm, engaging 'About the Artist' section for a handcrafted artist named {name}.\n",
        "    Their art style is {art_style}. Bio: {bio}.\n",
        "    Use a narrative tone. Limit to 150-200 words.\n",
        "    {lang_suffix()}\n",
        "    \"\"\"\n",
        "    about = generate_gemini_response(about_prompt)\n",
        "\n",
        "    # 2. Style Summary\n",
        "    style_prompt = f\"\"\"\n",
        "    Describe the handcrafted art style '{art_style}' in simple, buyer-friendly terms.\n",
        "    Keep it within 100-120 words.\n",
        "    {lang_suffix()}\n",
        "    \"\"\"\n",
        "    style_summary = generate_gemini_response(style_prompt)\n",
        "\n",
        "    # 3. Captions\n",
        "    alt_text_list = [x.strip() for x in alt_texts.split(\",\")] if alt_texts else []\n",
        "    captions_input = []\n",
        "    for i, image in enumerate(images):\n",
        "        title = f\"Artwork {i+1}\"\n",
        "        meta = extract_exif_description(image)\n",
        "        if not meta and i < len(alt_text_list):\n",
        "            meta = alt_text_list[i]\n",
        "        captions_input.append(f\"{title} ({meta})\" if meta else title)\n",
        "\n",
        "    caption_prompt = f\"\"\"\n",
        "    Generate poetic 2-3 sentence descriptions for these artworks in {art_style} style:\n",
        "    {', '.join(captions_input)}.\n",
        "    {lang_suffix()}\n",
        "    \"\"\"\n",
        "    captions_output = generate_gemini_response(caption_prompt)\n",
        "    captions = [line.strip(\"• \").strip() for line in captions_output.split(\"\\n\") if line.strip()]\n",
        "\n",
        "    return {\n",
        "        \"About the Artist\": about,\n",
        "        \"Art Style Summary\": style_summary,\n",
        "        \"Captions\": captions\n",
        "    }\n"
      ]
    },
    {
      "cell_type": "code",
      "execution_count": null,
      "metadata": {
        "id": "TPdvBNoOvgrK"
      },
      "outputs": [],
      "source": []
    },
    {
      "cell_type": "code",
      "execution_count": null,
      "metadata": {
        "colab": {
          "base_uri": "https://localhost:8080/",
          "height": 646
        },
        "id": "q2c4cBzGvg1n",
        "outputId": "d2d3f0db-0205-4b42-976e-83327f71e003"
      },
      "outputs": [
        {
          "name": "stdout",
          "output_type": "stream",
          "text": [
            "It looks like you are running Gradio on a hosted a Jupyter notebook. For the Gradio app to work, sharing must be enabled. Automatically setting `share=True` (you can turn this off by setting `share=False` in `launch()` explicitly).\n",
            "\n",
            "Colab notebook detected. To show errors in colab notebook, set debug=True in launch()\n",
            "* Running on public URL: https://a886b2700439b32a21.gradio.live\n",
            "\n",
            "This share link expires in 1 week. For free permanent hosting and GPU upgrades, run `gradio deploy` from the terminal in the working directory to deploy to Hugging Face Spaces (https://huggingface.co/spaces)\n"
          ]
        },
        {
          "data": {
            "text/html": [
              "<div><iframe src=\"https://a886b2700439b32a21.gradio.live\" width=\"100%\" height=\"500\" allow=\"autoplay; camera; microphone; clipboard-read; clipboard-write;\" frameborder=\"0\" allowfullscreen></iframe></div>"
            ],
            "text/plain": [
              "<IPython.core.display.HTML object>"
            ]
          },
          "metadata": {},
          "output_type": "display_data"
        },
        {
          "data": {
            "text/plain": []
          },
          "execution_count": 14,
          "metadata": {},
          "output_type": "execute_result"
        }
      ],
      "source": [
        "import gradio as gr\n",
        "from PIL import Image\n",
        "\n",
        "def ui_interface(name, bio, art_style, language, images, alt_texts):\n",
        "    # Open images from file paths\n",
        "    pil_images = [Image.open(image_path) for image_path in images]\n",
        "    result = generate_portfolio(name, bio, art_style, language, pil_images, alt_texts)\n",
        "    captions_html = \"<ul>\" + \"\".join(f\"<li>{cap}</li>\" for cap in result[\"Captions\"]) + \"</ul>\"\n",
        "    return result[\"About the Artist\"], result[\"Art Style Summary\"], captions_html\n",
        "\n",
        "gr.Interface(\n",
        "    fn=ui_interface,\n",
        "    inputs=[\n",
        "        gr.Textbox(label=\"Artist Name\"),\n",
        "        gr.Textbox(label=\"Bio\", lines=3),\n",
        "        gr.Textbox(label=\"Art Style\"),\n",
        "        gr.Dropdown([\"en\", \"hi\", \"bn\", \"ta\"], label=\"Language\", value=\"en\"),\n",
        "        gr.File(label=\"Upload Images\", file_types=[\"image\"], file_count=\"multiple\", type=\"filepath\"), # Changed type to 'filepath'\n",
        "        gr.Textbox(label=\"Alt Texts (comma-separated, optional)\", lines=2)\n",
        "    ],\n",
        "    outputs=[\n",
        "        gr.Textbox(label=\"About the Artist\"),\n",
        "        gr.Textbox(label=\"Art Style Summary\"),\n",
        "        gr.HTML(label=\"Artwork Captions\")\n",
        "    ],\n",
        "    title=\"🎨 Acrilc AI Portfolio Generator\",\n",
        "    description=\"Upload your handcrafted art and let AI write your artist bio, captions, and style intro!\",\n",
        "    theme=\"default\"\n",
        ").launch()"
      ]
    },
    {
      "cell_type": "code",
      "execution_count": null,
      "metadata": {
        "id": "nt4t1uLJypdZ"
      },
      "outputs": [],
      "source": []
    },
    {
      "cell_type": "code",
      "execution_count": null,
      "metadata": {
        "id": "OlSwNJAzypjk"
      },
      "outputs": [],
      "source": []
    },
    {
      "cell_type": "code",
      "execution_count": null,
      "metadata": {
        "id": "RizYgiZ_yppb"
      },
      "outputs": [],
      "source": []
    },
    {
      "cell_type": "code",
      "execution_count": null,
      "metadata": {
        "id": "51w2JNrOypvt"
      },
      "outputs": [],
      "source": [
        "!pip install google-generativeai pillow --quiet\n"
      ]
    },
    {
      "cell_type": "code",
      "execution_count": null,
      "metadata": {
        "id": "1sKamWRnypzk"
      },
      "outputs": [],
      "source": [
        "import os\n",
        "import google.generativeai as genai\n",
        "\n",
        "# 🔐 Add your Gemini API key\n",
        "os.environ[\"GOOGLE_API_KEY\"] = \"your_gemini_flash_1_5_api_key\"\n",
        "genai.configure(api_key=os.environ[\"GOOGLE_API_KEY\"])\n",
        "model = genai.GenerativeModel(\"gemini-1.5-flash\")\n"
      ]
    },
    {
      "cell_type": "code",
      "execution_count": null,
      "metadata": {
        "id": "yIVd47n0yp3e"
      },
      "outputs": [],
      "source": []
    },
    {
      "cell_type": "code",
      "execution_count": null,
      "metadata": {
        "colab": {
          "background_save": true,
          "base_uri": "https://localhost:8080/",
          "height": 38
        },
        "id": "WQktu5Fdyp6z",
        "outputId": "ac24b6fd-8485-4dcc-bf1b-a8a439ce26b6"
      },
      "outputs": [
        {
          "data": {
            "text/html": [
              "\n",
              "     <input type=\"file\" id=\"files-e5013c59-34d5-4f31-9e02-4f4f250f1c55\" name=\"files[]\" multiple disabled\n",
              "        style=\"border:none\" />\n",
              "     <output id=\"result-e5013c59-34d5-4f31-9e02-4f4f250f1c55\">\n",
              "      Upload widget is only available when the cell has been executed in the\n",
              "      current browser session. Please rerun this cell to enable.\n",
              "      </output>\n",
              "      <script>// Copyright 2017 Google LLC\n",
              "//\n",
              "// Licensed under the Apache License, Version 2.0 (the \"License\");\n",
              "// you may not use this file except in compliance with the License.\n",
              "// You may obtain a copy of the License at\n",
              "//\n",
              "//      http://www.apache.org/licenses/LICENSE-2.0\n",
              "//\n",
              "// Unless required by applicable law or agreed to in writing, software\n",
              "// distributed under the License is distributed on an \"AS IS\" BASIS,\n",
              "// WITHOUT WARRANTIES OR CONDITIONS OF ANY KIND, either express or implied.\n",
              "// See the License for the specific language governing permissions and\n",
              "// limitations under the License.\n",
              "\n",
              "/**\n",
              " * @fileoverview Helpers for google.colab Python module.\n",
              " */\n",
              "(function(scope) {\n",
              "function span(text, styleAttributes = {}) {\n",
              "  const element = document.createElement('span');\n",
              "  element.textContent = text;\n",
              "  for (const key of Object.keys(styleAttributes)) {\n",
              "    element.style[key] = styleAttributes[key];\n",
              "  }\n",
              "  return element;\n",
              "}\n",
              "\n",
              "// Max number of bytes which will be uploaded at a time.\n",
              "const MAX_PAYLOAD_SIZE = 100 * 1024;\n",
              "\n",
              "function _uploadFiles(inputId, outputId) {\n",
              "  const steps = uploadFilesStep(inputId, outputId);\n",
              "  const outputElement = document.getElementById(outputId);\n",
              "  // Cache steps on the outputElement to make it available for the next call\n",
              "  // to uploadFilesContinue from Python.\n",
              "  outputElement.steps = steps;\n",
              "\n",
              "  return _uploadFilesContinue(outputId);\n",
              "}\n",
              "\n",
              "// This is roughly an async generator (not supported in the browser yet),\n",
              "// where there are multiple asynchronous steps and the Python side is going\n",
              "// to poll for completion of each step.\n",
              "// This uses a Promise to block the python side on completion of each step,\n",
              "// then passes the result of the previous step as the input to the next step.\n",
              "function _uploadFilesContinue(outputId) {\n",
              "  const outputElement = document.getElementById(outputId);\n",
              "  const steps = outputElement.steps;\n",
              "\n",
              "  const next = steps.next(outputElement.lastPromiseValue);\n",
              "  return Promise.resolve(next.value.promise).then((value) => {\n",
              "    // Cache the last promise value to make it available to the next\n",
              "    // step of the generator.\n",
              "    outputElement.lastPromiseValue = value;\n",
              "    return next.value.response;\n",
              "  });\n",
              "}\n",
              "\n",
              "/**\n",
              " * Generator function which is called between each async step of the upload\n",
              " * process.\n",
              " * @param {string} inputId Element ID of the input file picker element.\n",
              " * @param {string} outputId Element ID of the output display.\n",
              " * @return {!Iterable<!Object>} Iterable of next steps.\n",
              " */\n",
              "function* uploadFilesStep(inputId, outputId) {\n",
              "  const inputElement = document.getElementById(inputId);\n",
              "  inputElement.disabled = false;\n",
              "\n",
              "  const outputElement = document.getElementById(outputId);\n",
              "  outputElement.innerHTML = '';\n",
              "\n",
              "  const pickedPromise = new Promise((resolve) => {\n",
              "    inputElement.addEventListener('change', (e) => {\n",
              "      resolve(e.target.files);\n",
              "    });\n",
              "  });\n",
              "\n",
              "  const cancel = document.createElement('button');\n",
              "  inputElement.parentElement.appendChild(cancel);\n",
              "  cancel.textContent = 'Cancel upload';\n",
              "  const cancelPromise = new Promise((resolve) => {\n",
              "    cancel.onclick = () => {\n",
              "      resolve(null);\n",
              "    };\n",
              "  });\n",
              "\n",
              "  // Wait for the user to pick the files.\n",
              "  const files = yield {\n",
              "    promise: Promise.race([pickedPromise, cancelPromise]),\n",
              "    response: {\n",
              "      action: 'starting',\n",
              "    }\n",
              "  };\n",
              "\n",
              "  cancel.remove();\n",
              "\n",
              "  // Disable the input element since further picks are not allowed.\n",
              "  inputElement.disabled = true;\n",
              "\n",
              "  if (!files) {\n",
              "    return {\n",
              "      response: {\n",
              "        action: 'complete',\n",
              "      }\n",
              "    };\n",
              "  }\n",
              "\n",
              "  for (const file of files) {\n",
              "    const li = document.createElement('li');\n",
              "    li.append(span(file.name, {fontWeight: 'bold'}));\n",
              "    li.append(span(\n",
              "        `(${file.type || 'n/a'}) - ${file.size} bytes, ` +\n",
              "        `last modified: ${\n",
              "            file.lastModifiedDate ? file.lastModifiedDate.toLocaleDateString() :\n",
              "                                    'n/a'} - `));\n",
              "    const percent = span('0% done');\n",
              "    li.appendChild(percent);\n",
              "\n",
              "    outputElement.appendChild(li);\n",
              "\n",
              "    const fileDataPromise = new Promise((resolve) => {\n",
              "      const reader = new FileReader();\n",
              "      reader.onload = (e) => {\n",
              "        resolve(e.target.result);\n",
              "      };\n",
              "      reader.readAsArrayBuffer(file);\n",
              "    });\n",
              "    // Wait for the data to be ready.\n",
              "    let fileData = yield {\n",
              "      promise: fileDataPromise,\n",
              "      response: {\n",
              "        action: 'continue',\n",
              "      }\n",
              "    };\n",
              "\n",
              "    // Use a chunked sending to avoid message size limits. See b/62115660.\n",
              "    let position = 0;\n",
              "    do {\n",
              "      const length = Math.min(fileData.byteLength - position, MAX_PAYLOAD_SIZE);\n",
              "      const chunk = new Uint8Array(fileData, position, length);\n",
              "      position += length;\n",
              "\n",
              "      const base64 = btoa(String.fromCharCode.apply(null, chunk));\n",
              "      yield {\n",
              "        response: {\n",
              "          action: 'append',\n",
              "          file: file.name,\n",
              "          data: base64,\n",
              "        },\n",
              "      };\n",
              "\n",
              "      let percentDone = fileData.byteLength === 0 ?\n",
              "          100 :\n",
              "          Math.round((position / fileData.byteLength) * 100);\n",
              "      percent.textContent = `${percentDone}% done`;\n",
              "\n",
              "    } while (position < fileData.byteLength);\n",
              "  }\n",
              "\n",
              "  // All done.\n",
              "  yield {\n",
              "    response: {\n",
              "      action: 'complete',\n",
              "    }\n",
              "  };\n",
              "}\n",
              "\n",
              "scope.google = scope.google || {};\n",
              "scope.google.colab = scope.google.colab || {};\n",
              "scope.google.colab._files = {\n",
              "  _uploadFiles,\n",
              "  _uploadFilesContinue,\n",
              "};\n",
              "})(self);\n",
              "</script> "
            ],
            "text/plain": [
              "<IPython.core.display.HTML object>"
            ]
          },
          "metadata": {},
          "output_type": "display_data"
        }
      ],
      "source": [
        "from google.colab import files\n",
        "uploaded = files.upload()\n",
        "image_paths = list(uploaded.keys())  # store the filenames\n"
      ]
    },
    {
      "cell_type": "code",
      "execution_count": null,
      "metadata": {
        "id": "0PPFiamoyp-q"
      },
      "outputs": [],
      "source": []
    },
    {
      "cell_type": "code",
      "execution_count": null,
      "metadata": {
        "id": "JpxT3r8fyqCk"
      },
      "outputs": [],
      "source": []
    }
  ],
  "metadata": {
    "colab": {
      "provenance": []
    },
    "kernelspec": {
      "display_name": "Python 3",
      "name": "python3"
    },
    "language_info": {
      "name": "python"
    }
  },
  "nbformat": 4,
  "nbformat_minor": 0
}