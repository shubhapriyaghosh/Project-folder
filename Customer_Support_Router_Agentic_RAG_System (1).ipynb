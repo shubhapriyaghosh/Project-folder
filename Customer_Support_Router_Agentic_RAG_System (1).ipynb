{
  "nbformat": 4,
  "nbformat_minor": 0,
  "metadata": {
    "colab": {
      "provenance": []
    },
    "kernelspec": {
      "name": "python3",
      "display_name": "Python 3"
    },
    "language_info": {
      "name": "python"
    }
  },
  "cells": [
    {
      "cell_type": "code",
      "execution_count": null,
      "metadata": {
        "id": "k_go7gcVKu5g"
      },
      "outputs": [],
      "source": []
    },
    {
      "cell_type": "code",
      "source": [],
      "metadata": {
        "id": "CKDFl1S-K1dD"
      },
      "execution_count": null,
      "outputs": []
    },
    {
      "cell_type": "code",
      "source": [
        "# Cell 1: Install necessary packages\n",
        "!pip install -q -U langgraph langchain langchain-google-genai \"unstructured[all-docs]\" faiss-cpu python-dotenv"
      ],
      "metadata": {
        "id": "p6lPRr_JK99m",
        "colab": {
          "base_uri": "https://localhost:8080/"
        },
        "outputId": "05510a10-973f-486d-fd10-ff657696f1b3"
      },
      "execution_count": null,
      "outputs": [
        {
          "output_type": "stream",
          "name": "stdout",
          "text": [
            "\u001b[?25l     \u001b[90m━━━━━━━━━━━━━━━━━━━━━━━━━━━━━━━━━━━━━━━━\u001b[0m \u001b[32m0.0/981.5 kB\u001b[0m \u001b[31m?\u001b[0m eta \u001b[36m-:--:--\u001b[0m\r\u001b[2K     \u001b[91m━━━━━━━━━━━━━━━━━━━━━━━━━━━━━━━━━━━━━\u001b[0m\u001b[91m╸\u001b[0m \u001b[32m972.8/981.5 kB\u001b[0m \u001b[31m29.5 MB/s\u001b[0m eta \u001b[36m0:00:01\u001b[0m\r\u001b[2K     \u001b[90m━━━━━━━━━━━━━━━━━━━━━━━━━━━━━━━━━━━━━━\u001b[0m \u001b[32m981.5/981.5 kB\u001b[0m \u001b[31m19.7 MB/s\u001b[0m eta \u001b[36m0:00:00\u001b[0m\n",
            "\u001b[?25h  Preparing metadata (setup.py) ... \u001b[?25l\u001b[?25hdone\n",
            "\u001b[2K     \u001b[90m━━━━━━━━━━━━━━━━━━━━━━━━━━━━━━━━━━━━━━━━\u001b[0m \u001b[32m43.7/43.7 kB\u001b[0m \u001b[31m3.5 MB/s\u001b[0m eta \u001b[36m0:00:00\u001b[0m\n",
            "\u001b[2K     \u001b[90m━━━━━━━━━━━━━━━━━━━━━━━━━━━━━━━━━━━━━━━━\u001b[0m \u001b[32m48.2/48.2 kB\u001b[0m \u001b[31m3.8 MB/s\u001b[0m eta \u001b[36m0:00:00\u001b[0m\n",
            "\u001b[2K   \u001b[90m━━━━━━━━━━━━━━━━━━━━━━━━━━━━━━━━━━━━━━━━\u001b[0m \u001b[32m152.4/152.4 kB\u001b[0m \u001b[31m6.5 MB/s\u001b[0m eta \u001b[36m0:00:00\u001b[0m\n",
            "\u001b[2K   \u001b[90m━━━━━━━━━━━━━━━━━━━━━━━━━━━━━━━━━━━━━━━━\u001b[0m \u001b[32m44.8/44.8 kB\u001b[0m \u001b[31m3.3 MB/s\u001b[0m eta \u001b[36m0:00:00\u001b[0m\n",
            "\u001b[2K   \u001b[90m━━━━━━━━━━━━━━━━━━━━━━━━━━━━━━━━━━━━━━━━\u001b[0m \u001b[32m31.3/31.3 MB\u001b[0m \u001b[31m41.3 MB/s\u001b[0m eta \u001b[36m0:00:00\u001b[0m\n",
            "\u001b[2K   \u001b[90m━━━━━━━━━━━━━━━━━━━━━━━━━━━━━━━━━━━━━━━━\u001b[0m \u001b[32m1.4/1.4 MB\u001b[0m \u001b[31m56.8 MB/s\u001b[0m eta \u001b[36m0:00:00\u001b[0m\n",
            "\u001b[2K   \u001b[90m━━━━━━━━━━━━━━━━━━━━━━━━━━━━━━━━━━━━━━━━\u001b[0m \u001b[32m44.2/44.2 kB\u001b[0m \u001b[31m3.1 MB/s\u001b[0m eta \u001b[36m0:00:00\u001b[0m\n",
            "\u001b[2K   \u001b[90m━━━━━━━━━━━━━━━━━━━━━━━━━━━━━━━━━━━━━━━━\u001b[0m \u001b[32m50.0/50.0 kB\u001b[0m \u001b[31m3.9 MB/s\u001b[0m eta \u001b[36m0:00:00\u001b[0m\n",
            "\u001b[2K   \u001b[90m━━━━━━━━━━━━━━━━━━━━━━━━━━━━━━━━━━━━━━━━\u001b[0m \u001b[32m17.6/17.6 MB\u001b[0m \u001b[31m93.7 MB/s\u001b[0m eta \u001b[36m0:00:00\u001b[0m\n",
            "\u001b[2K   \u001b[90m━━━━━━━━━━━━━━━━━━━━━━━━━━━━━━━━━━━━━━━━\u001b[0m \u001b[32m16.4/16.4 MB\u001b[0m \u001b[31m86.3 MB/s\u001b[0m eta \u001b[36m0:00:00\u001b[0m\n",
            "\u001b[2K   \u001b[90m━━━━━━━━━━━━━━━━━━━━━━━━━━━━━━━━━━━━━━━━\u001b[0m \u001b[32m244.3/244.3 kB\u001b[0m \u001b[31m17.5 MB/s\u001b[0m eta \u001b[36m0:00:00\u001b[0m\n",
            "\u001b[2K   \u001b[90m━━━━━━━━━━━━━━━━━━━━━━━━━━━━━━━━━━━━━━━━\u001b[0m \u001b[32m472.8/472.8 kB\u001b[0m \u001b[31m33.7 MB/s\u001b[0m eta \u001b[36m0:00:00\u001b[0m\n",
            "\u001b[2K   \u001b[90m━━━━━━━━━━━━━━━━━━━━━━━━━━━━━━━━━━━━━━━━\u001b[0m \u001b[32m48.1/48.1 kB\u001b[0m \u001b[31m3.8 MB/s\u001b[0m eta \u001b[36m0:00:00\u001b[0m\n",
            "\u001b[2K   \u001b[90m━━━━━━━━━━━━━━━━━━━━━━━━━━━━━━━━━━━━━━━━\u001b[0m \u001b[32m112.5/112.5 kB\u001b[0m \u001b[31m9.4 MB/s\u001b[0m eta \u001b[36m0:00:00\u001b[0m\n",
            "\u001b[2K   \u001b[90m━━━━━━━━━━━━━━━━━━━━━━━━━━━━━━━━━━━━━━━━\u001b[0m \u001b[32m590.6/590.6 kB\u001b[0m \u001b[31m38.2 MB/s\u001b[0m eta \u001b[36m0:00:00\u001b[0m\n",
            "\u001b[2K   \u001b[90m━━━━━━━━━━━━━━━━━━━━━━━━━━━━━━━━━━━━━━━━\u001b[0m \u001b[32m526.1/526.1 kB\u001b[0m \u001b[31m32.2 MB/s\u001b[0m eta \u001b[36m0:00:00\u001b[0m\n",
            "\u001b[2K   \u001b[90m━━━━━━━━━━━━━━━━━━━━━━━━━━━━━━━━━━━━━━━━\u001b[0m \u001b[32m5.6/5.6 MB\u001b[0m \u001b[31m101.6 MB/s\u001b[0m eta \u001b[36m0:00:00\u001b[0m\n",
            "\u001b[2K   \u001b[90m━━━━━━━━━━━━━━━━━━━━━━━━━━━━━━━━━━━━━━━━\u001b[0m \u001b[32m1.2/1.2 MB\u001b[0m \u001b[31m59.7 MB/s\u001b[0m eta \u001b[36m0:00:00\u001b[0m\n",
            "\u001b[2K   \u001b[90m━━━━━━━━━━━━━━━━━━━━━━━━━━━━━━━━━━━━━━━━\u001b[0m \u001b[32m2.5/2.5 MB\u001b[0m \u001b[31m83.4 MB/s\u001b[0m eta \u001b[36m0:00:00\u001b[0m\n",
            "\u001b[2K   \u001b[90m━━━━━━━━━━━━━━━━━━━━━━━━━━━━━━━━━━━━━━━━\u001b[0m \u001b[32m304.2/304.2 kB\u001b[0m \u001b[31m25.6 MB/s\u001b[0m eta \u001b[36m0:00:00\u001b[0m\n",
            "\u001b[2K   \u001b[90m━━━━━━━━━━━━━━━━━━━━━━━━━━━━━━━━━━━━━━━━\u001b[0m \u001b[32m167.6/167.6 kB\u001b[0m \u001b[31m11.1 MB/s\u001b[0m eta \u001b[36m0:00:00\u001b[0m\n",
            "\u001b[2K   \u001b[90m━━━━━━━━━━━━━━━━━━━━━━━━━━━━━━━━━━━━━━━━\u001b[0m \u001b[32m3.1/3.1 MB\u001b[0m \u001b[31m79.5 MB/s\u001b[0m eta \u001b[36m0:00:00\u001b[0m\n",
            "\u001b[2K   \u001b[90m━━━━━━━━━━━━━━━━━━━━━━━━━━━━━━━━━━━━━━━━\u001b[0m \u001b[32m1.8/1.8 MB\u001b[0m \u001b[31m74.3 MB/s\u001b[0m eta \u001b[36m0:00:00\u001b[0m\n",
            "\u001b[2K   \u001b[90m━━━━━━━━━━━━━━━━━━━━━━━━━━━━━━━━━━━━━━━━\u001b[0m \u001b[32m195.8/195.8 kB\u001b[0m \u001b[31m14.2 MB/s\u001b[0m eta \u001b[36m0:00:00\u001b[0m\n",
            "\u001b[2K   \u001b[90m━━━━━━━━━━━━━━━━━━━━━━━━━━━━━━━━━━━━━━━━\u001b[0m \u001b[32m50.9/50.9 kB\u001b[0m \u001b[31m3.3 MB/s\u001b[0m eta \u001b[36m0:00:00\u001b[0m\n",
            "\u001b[2K   \u001b[90m━━━━━━━━━━━━━━━━━━━━━━━━━━━━━━━━━━━━━━━━\u001b[0m \u001b[32m216.5/216.5 kB\u001b[0m \u001b[31m16.0 MB/s\u001b[0m eta \u001b[36m0:00:00\u001b[0m\n",
            "\u001b[2K   \u001b[90m━━━━━━━━━━━━━━━━━━━━━━━━━━━━━━━━━━━━━━━━\u001b[0m \u001b[32m363.4/363.4 MB\u001b[0m \u001b[31m4.5 MB/s\u001b[0m eta \u001b[36m0:00:00\u001b[0m\n",
            "\u001b[2K   \u001b[90m━━━━━━━━━━━━━━━━━━━━━━━━━━━━━━━━━━━━━━━━\u001b[0m \u001b[32m13.8/13.8 MB\u001b[0m \u001b[31m54.3 MB/s\u001b[0m eta \u001b[36m0:00:00\u001b[0m\n",
            "\u001b[2K   \u001b[90m━━━━━━━━━━━━━━━━━━━━━━━━━━━━━━━━━━━━━━━━\u001b[0m \u001b[32m24.6/24.6 MB\u001b[0m \u001b[31m34.9 MB/s\u001b[0m eta \u001b[36m0:00:00\u001b[0m\n",
            "\u001b[2K   \u001b[90m━━━━━━━━━━━━━━━━━━━━━━━━━━━━━━━━━━━━━━━━\u001b[0m \u001b[32m883.7/883.7 kB\u001b[0m \u001b[31m48.1 MB/s\u001b[0m eta \u001b[36m0:00:00\u001b[0m\n",
            "\u001b[2K   \u001b[90m━━━━━━━━━━━━━━━━━━━━━━━━━━━━━━━━━━━━━━━━\u001b[0m \u001b[32m664.8/664.8 MB\u001b[0m \u001b[31m2.3 MB/s\u001b[0m eta \u001b[36m0:00:00\u001b[0m\n",
            "\u001b[2K   \u001b[90m━━━━━━━━━━━━━━━━━━━━━━━━━━━━━━━━━━━━━━━━\u001b[0m \u001b[32m211.5/211.5 MB\u001b[0m \u001b[31m5.6 MB/s\u001b[0m eta \u001b[36m0:00:00\u001b[0m\n",
            "\u001b[2K   \u001b[90m━━━━━━━━━━━━━━━━━━━━━━━━━━━━━━━━━━━━━━━━\u001b[0m \u001b[32m56.3/56.3 MB\u001b[0m \u001b[31m12.3 MB/s\u001b[0m eta \u001b[36m0:00:00\u001b[0m\n",
            "\u001b[2K   \u001b[90m━━━━━━━━━━━━━━━━━━━━━━━━━━━━━━━━━━━━━━━━\u001b[0m \u001b[32m127.9/127.9 MB\u001b[0m \u001b[31m6.9 MB/s\u001b[0m eta \u001b[36m0:00:00\u001b[0m\n",
            "\u001b[2K   \u001b[90m━━━━━━━━━━━━━━━━━━━━━━━━━━━━━━━━━━━━━━━━\u001b[0m \u001b[32m207.5/207.5 MB\u001b[0m \u001b[31m5.7 MB/s\u001b[0m eta \u001b[36m0:00:00\u001b[0m\n",
            "\u001b[2K   \u001b[90m━━━━━━━━━━━━━━━━━━━━━━━━━━━━━━━━━━━━━━━━\u001b[0m \u001b[32m21.1/21.1 MB\u001b[0m \u001b[31m84.6 MB/s\u001b[0m eta \u001b[36m0:00:00\u001b[0m\n",
            "\u001b[2K   \u001b[90m━━━━━━━━━━━━━━━━━━━━━━━━━━━━━━━━━━━━━━━━\u001b[0m \u001b[32m169.4/169.4 kB\u001b[0m \u001b[31m14.4 MB/s\u001b[0m eta \u001b[36m0:00:00\u001b[0m\n",
            "\u001b[2K   \u001b[90m━━━━━━━━━━━━━━━━━━━━━━━━━━━━━━━━━━━━━━━━\u001b[0m \u001b[32m46.0/46.0 kB\u001b[0m \u001b[31m3.3 MB/s\u001b[0m eta \u001b[36m0:00:00\u001b[0m\n",
            "\u001b[2K   \u001b[90m━━━━━━━━━━━━━━━━━━━━━━━━━━━━━━━━━━━━━━━━\u001b[0m \u001b[32m114.6/114.6 kB\u001b[0m \u001b[31m9.6 MB/s\u001b[0m eta \u001b[36m0:00:00\u001b[0m\n",
            "\u001b[2K   \u001b[90m━━━━━━━━━━━━━━━━━━━━━━━━━━━━━━━━━━━━━━━━\u001b[0m \u001b[32m2.9/2.9 MB\u001b[0m \u001b[31m93.0 MB/s\u001b[0m eta \u001b[36m0:00:00\u001b[0m\n",
            "\u001b[2K   \u001b[90m━━━━━━━━━━━━━━━━━━━━━━━━━━━━━━━━━━━━━━━━\u001b[0m \u001b[32m86.8/86.8 kB\u001b[0m \u001b[31m7.1 MB/s\u001b[0m eta \u001b[36m0:00:00\u001b[0m\n",
            "\u001b[?25h  Building wheel for langdetect (setup.py) ... \u001b[?25l\u001b[?25hdone\n",
            "\u001b[31mERROR: pip's dependency resolver does not currently take into account all the packages that are installed. This behaviour is the source of the following dependency conflicts.\n",
            "google-generativeai 0.8.5 requires google-ai-generativelanguage==0.6.15, but you have google-ai-generativelanguage 0.6.18 which is incompatible.\u001b[0m\u001b[31m\n",
            "\u001b[0m"
          ]
        }
      ]
    },
    {
      "cell_type": "code",
      "source": [],
      "metadata": {
        "id": "z3BM0mvIP542"
      },
      "execution_count": null,
      "outputs": []
    },
    {
      "cell_type": "code",
      "source": [],
      "metadata": {
        "id": "GL1ovx1MP58w"
      },
      "execution_count": null,
      "outputs": []
    },
    {
      "cell_type": "code",
      "source": [
        "# Cell 2: Configure API Keys\n",
        "import os\n",
        "from google.colab import userdata\n",
        "\n",
        "# Load API key from Colab secrets\n",
        "os.environ[\"GOOGLE_API_KEY\"] = userdata.get('GOOGLE_API_KEY')\n",
        "\n",
        "print(\"Google API Key loaded successfully.\")"
      ],
      "metadata": {
        "colab": {
          "base_uri": "https://localhost:8080/"
        },
        "id": "Q6Juk6ZaP6Id",
        "outputId": "1b4f2c9f-1864-4bed-960d-709ad828f46b"
      },
      "execution_count": null,
      "outputs": [
        {
          "output_type": "stream",
          "name": "stdout",
          "text": [
            "Google API Key loaded successfully.\n"
          ]
        }
      ]
    },
    {
      "cell_type": "code",
      "source": [],
      "metadata": {
        "id": "qaVxl544P6L8"
      },
      "execution_count": null,
      "outputs": []
    },
    {
      "cell_type": "code",
      "source": [
        "# Cell 3: Create the Knowledge Base & RAG Retriever\n",
        "from langchain.text_splitter import RecursiveCharacterTextSplitter\n",
        "from langchain_community.document_loaders import UnstructuredFileLoader\n",
        "from langchain_community.vectorstores import FAISS\n",
        "from langchain_google_genai import GoogleGenerativeAIEmbeddings\n",
        "\n",
        "# Create dummy support documents (same as before)\n",
        "support_docs = {\n",
        "    \"technical_faq.txt\": \"Q: How do I reset my password? A: To reset your password, go to the login page and click 'Forgot Password'. You will receive an email with a reset link.\",\n",
        "    \"billing_faq.txt\": \"Q: Where can I find my receipt? A: You can find all past receipts and invoices by logging into your account and navigating to the 'Billing History' section.\",\n",
        "    \"general_faq.txt\": \"Q: What are your business hours? A: Our customer support is available 24/7 via chat. Phone support is available from 9 AM to 5 PM Eastern Time, Monday through Friday.\"\n",
        "}\n",
        "\n",
        "for filename, content in support_docs.items():\n",
        "    with open(filename, \"w\") as f: f.write(content)\n",
        "\n",
        "# Load, chunk, and create the retriever (same as before)\n",
        "doc_paths = [\"technical_faq.txt\", \"billing_faq.txt\", \"general_faq.txt\"]\n",
        "all_docs = []\n",
        "for path in doc_paths:\n",
        "    loader = UnstructuredFileLoader(path)\n",
        "    all_docs.extend(loader.load())\n",
        "\n",
        "text_splitter = RecursiveCharacterTextSplitter(chunk_size=500, chunk_overlap=0)\n",
        "chunks = text_splitter.split_documents(all_docs)\n",
        "\n",
        "embeddings = GoogleGenerativeAIEmbeddings(model=\"models/embedding-001\")\n",
        "vectorstore = FAISS.from_documents(chunks, embeddings)\n",
        "retriever = vectorstore.as_retriever()\n",
        "\n",
        "print(\"Knowledge base retriever is ready.\")"
      ],
      "metadata": {
        "colab": {
          "base_uri": "https://localhost:8080/"
        },
        "id": "bzWK9BBXQZM8",
        "outputId": "ed265fca-e1eb-4453-f19e-5d631c106ccb"
      },
      "execution_count": null,
      "outputs": [
        {
          "output_type": "stream",
          "name": "stdout",
          "text": [
            "Knowledge base retriever is ready.\n"
          ]
        }
      ]
    },
    {
      "cell_type": "code",
      "source": [],
      "metadata": {
        "id": "-MkGD0L9QccB"
      },
      "execution_count": null,
      "outputs": []
    },
    {
      "cell_type": "code",
      "source": [
        "# Cell 4: Define the Agent's Tools\n",
        "from langchain_core.tools import tool\n",
        "\n",
        "# Tool 1: The RAG Tool\n",
        "@tool\n",
        "def knowledge_base_search(query: str) -> str:\n",
        "    \"\"\"\n",
        "    Use this tool to answer customer questions about technical issues, billing, or company policies.\n",
        "    This tool searches the company's knowledge base for relevant information.\n",
        "    \"\"\"\n",
        "    print(f\"--- Searching knowledge base for: {query} ---\")\n",
        "    docs = retriever.invoke(query)\n",
        "    return \"\\n\".join([doc.page_content for doc in docs])\n",
        "\n",
        "# Tool 2: The Escalation Tool\n",
        "@tool\n",
        "def escalate_to_human(query: str) -> str:\n",
        "    \"\"\"\n",
        "    Use this tool ONLY when the user is angry, frustrated, or expressing strong negative emotions.\n",
        "    This tool escalates the query to a human support agent.\n",
        "    \"\"\"\n",
        "    print(f\"--- Escalating to human: {query} ---\")\n",
        "    return \"The user's query has been escalated to a human agent. Please stand by.\"\n",
        "\n",
        "# Tool 3: A General Fallback Tool\n",
        "@tool\n",
        "def answer_directly(query: str) -> str:\n",
        "    \"\"\"\n",
        "    Use this tool as a last resort if no other tool is suitable for answering a general greeting or a question you can answer from your own knowledge.\n",
        "    \"\"\"\n",
        "    print(f\"--- Answering directly for: {query} ---\")\n",
        "    return \"This is a direct answer from the support agent.\"\n",
        "\n",
        "# Compile the list of tools for the agent\n",
        "tools = [knowledge_base_search, escalate_to_human, answer_directly]"
      ],
      "metadata": {
        "id": "OwdToZm-Qcpb"
      },
      "execution_count": null,
      "outputs": []
    },
    {
      "cell_type": "code",
      "source": [],
      "metadata": {
        "id": "uPe9X1LJQcyr"
      },
      "execution_count": null,
      "outputs": []
    },
    {
      "cell_type": "code",
      "source": [
        "# Cell 5: Create the Single, Efficient Router Agent\n",
        "from langchain_google_genai import ChatGoogleGenerativeAI\n",
        "from langchain_core.prompts import ChatPromptTemplate\n",
        "from langchain.agents import create_tool_calling_agent, AgentExecutor\n",
        "\n",
        "# Use a free Gemini model. gemini-1.5-flash is fast and efficient.\n",
        "llm = ChatGoogleGenerativeAI(model=\"gemini-1.5-flash\", temperature=0, convert_system_message_to_human=True)\n",
        "\n",
        "# The powerful system prompt that guides the agent's decision-making\n",
        "system_prompt = \"\"\"\n",
        "You are an intelligent customer support routing agent. Your primary goal is to analyze a user's query and choose the single best tool to handle it.\n",
        "\n",
        "Follow these steps in your reasoning process:\n",
        "1.  **Analyze Sentiment:** First, determine the user's sentiment. Is the user angry, frustrated, or expressing negative emotions?\n",
        "2.  **Categorize Query:** Second, determine the query's category. Is it a technical question, a billing question, or a general inquiry?\n",
        "3.  **Select ONE Tool:** Based on your analysis, you must select one and only one of the following tools:\n",
        "\n",
        "    *   `escalate_to_human`: Choose this tool ONLY if the sentiment is clearly Negative.\n",
        "    *   `knowledge_base_search`: Choose this tool if the sentiment is Neutral or Positive AND the query is a specific question about technical, billing, or policy matters.\n",
        "    *   `answer_directly`: Choose this tool for simple greetings like \"hello\" or questions that don't fit other categories.\n",
        "\n",
        "Your final output should be the result of the tool you have chosen.\n",
        "\"\"\"\n",
        "\n",
        "# Create the agent\n",
        "prompt = ChatPromptTemplate.from_messages([\n",
        "    (\"system\", system_prompt),\n",
        "    (\"human\", \"{input}\"),\n",
        "    (\"placeholder\", \"{agent_scratchpad}\"),\n",
        "])\n",
        "\n",
        "agent = create_tool_calling_agent(llm, tools, prompt)\n",
        "agent_executor = AgentExecutor(agent=agent, tools=tools, verbose=True)\n",
        "\n",
        "print(\"Efficient Router Agent created successfully.\")"
      ],
      "metadata": {
        "colab": {
          "base_uri": "https://localhost:8080/"
        },
        "id": "epJ1i-w0Qtal",
        "outputId": "d4cfc082-c916-401b-d843-7442c6662a04"
      },
      "execution_count": null,
      "outputs": [
        {
          "output_type": "stream",
          "name": "stdout",
          "text": [
            "Efficient Router Agent created successfully.\n"
          ]
        }
      ]
    },
    {
      "cell_type": "code",
      "source": [],
      "metadata": {
        "id": "TRYowxdxQtgA"
      },
      "execution_count": null,
      "outputs": []
    },
    {
      "cell_type": "code",
      "source": [
        "# Cell 6: Run and Test the Efficient System\n",
        "\n",
        "# --- Test Cases ---\n",
        "\n",
        "# Test Case 1: Should trigger the ESCALATE tool\n",
        "print(\"--- TEST CASE 1: NEGATIVE SENTIMENT ---\")\n",
        "query1 = \"My internet is so slow, this is unacceptable! I want to cancel immediately.\"\n",
        "response1 = agent_executor.invoke({\"input\": query1})\n",
        "print(f\"\\nQuery: {query1}\\nFinal Response: {response1['output']}\\n\" + \"=\"*50)\n",
        "\n",
        "\n",
        "# Test Case 2: Should trigger the RAG (knowledge_base_search) tool\n",
        "print(\"\\n--- TEST CASE 2: BILLING QUESTION ---\")\n",
        "query2 = \"How can I get a copy of my last invoice?\"\n",
        "response2 = agent_executor.invoke({\"input\": query2})\n",
        "print(f\"\\nQuery: {query2}\\nFinal Response: {response2['output']}\\n\" + \"=\"*50)\n",
        "\n",
        "\n",
        "# Test Case 3: Should also trigger the RAG tool\n",
        "print(\"\\n--- TEST CASE 3: TECHNICAL QUESTION ---\")\n",
        "query3 = \"I forgot my password, what do I do?\"\n",
        "response3 = agent_executor.invoke({\"input\": query3})\n",
        "print(f\"\\nQuery: {query3}\\nFinal Response: {response3['output']}\\n\" + \"=\"*50)\n",
        "\n",
        "# Test Case 4: Should trigger the DIRECT ANSWER tool\n",
        "print(\"\\n--- TEST CASE 4: SIMPLE GREETING ---\")\n",
        "query4 = \"hi there\"\n",
        "response4 = agent_executor.invoke({\"input\": query4})\n",
        "print(f\"\\nQuery: {query4}\\nFinal Response: {response4['output']}\\n\" + \"=\"*50)"
      ],
      "metadata": {
        "colab": {
          "base_uri": "https://localhost:8080/"
        },
        "id": "CoII1R4NUtCa",
        "outputId": "28f85f0b-6b30-4e30-e9b0-3a007e21db97"
      },
      "execution_count": null,
      "outputs": [
        {
          "output_type": "stream",
          "name": "stdout",
          "text": [
            "--- TEST CASE 1: NEGATIVE SENTIMENT ---\n",
            "\n",
            "\n",
            "\u001b[1m> Entering new AgentExecutor chain...\u001b[0m\n"
          ]
        },
        {
          "output_type": "stream",
          "name": "stderr",
          "text": [
            "/usr/local/lib/python3.11/dist-packages/langchain_google_genai/chat_models.py:424: UserWarning: Convert_system_message_to_human will be deprecated!\n",
            "  warnings.warn(\"Convert_system_message_to_human will be deprecated!\")\n"
          ]
        },
        {
          "output_type": "stream",
          "name": "stdout",
          "text": [
            "\u001b[32;1m\u001b[1;3m\n",
            "Invoking: `escalate_to_human` with `{'query': 'My internet is so slow, this is unacceptable! I want to cancel immediately.'}`\n",
            "\n",
            "\n",
            "\u001b[0m--- Escalating to human: My internet is so slow, this is unacceptable! I want to cancel immediately. ---\n",
            "\u001b[33;1m\u001b[1;3mThe user's query has been escalated to a human agent. Please stand by.\u001b[0m"
          ]
        },
        {
          "output_type": "stream",
          "name": "stderr",
          "text": [
            "/usr/local/lib/python3.11/dist-packages/langchain_google_genai/chat_models.py:424: UserWarning: Convert_system_message_to_human will be deprecated!\n",
            "  warnings.warn(\"Convert_system_message_to_human will be deprecated!\")\n"
          ]
        },
        {
          "output_type": "stream",
          "name": "stdout",
          "text": [
            "\u001b[32;1m\u001b[1;3mThe customer is clearly angry and wants to cancel their service.  Therefore, the `escalate_to_human` tool is the most appropriate choice.\n",
            "\u001b[0m\n",
            "\n",
            "\u001b[1m> Finished chain.\u001b[0m\n",
            "\n",
            "Query: My internet is so slow, this is unacceptable! I want to cancel immediately.\n",
            "Final Response: The customer is clearly angry and wants to cancel their service.  Therefore, the `escalate_to_human` tool is the most appropriate choice.\n",
            "\n",
            "==================================================\n",
            "\n",
            "--- TEST CASE 2: BILLING QUESTION ---\n",
            "\n",
            "\n",
            "\u001b[1m> Entering new AgentExecutor chain...\u001b[0m\n"
          ]
        },
        {
          "output_type": "stream",
          "name": "stderr",
          "text": [
            "/usr/local/lib/python3.11/dist-packages/langchain_google_genai/chat_models.py:424: UserWarning: Convert_system_message_to_human will be deprecated!\n",
            "  warnings.warn(\"Convert_system_message_to_human will be deprecated!\")\n"
          ]
        },
        {
          "output_type": "stream",
          "name": "stdout",
          "text": [
            "\u001b[32;1m\u001b[1;3m\n",
            "Invoking: `knowledge_base_search` with `{'query': 'How can I get a copy of my last invoice?'}`\n",
            "\n",
            "\n",
            "\u001b[0m--- Searching knowledge base for: How can I get a copy of my last invoice? ---\n",
            "\u001b[36;1m\u001b[1;3mQ: Where can I find my receipt? A: You can find all past receipts and invoices by logging into your account and navigating to the 'Billing History' section.\n",
            "Q: How do I reset my password? A: To reset your password, go to the login page and click 'Forgot Password'. You will receive an email with a reset link.\n",
            "Q: What are your business hours? A: Our customer support is available 24/7 via chat. Phone support is available from 9 AM to 5 PM Eastern Time, Monday through Friday.\u001b[0m"
          ]
        },
        {
          "output_type": "stream",
          "name": "stderr",
          "text": [
            "/usr/local/lib/python3.11/dist-packages/langchain_google_genai/chat_models.py:424: UserWarning: Convert_system_message_to_human will be deprecated!\n",
            "  warnings.warn(\"Convert_system_message_to_human will be deprecated!\")\n"
          ]
        },
        {
          "output_type": "stream",
          "name": "stdout",
          "text": [
            "\u001b[32;1m\u001b[1;3mTo get a copy of your last invoice, log in to your account and go to the \"Billing History\" section.\n",
            "\u001b[0m\n",
            "\n",
            "\u001b[1m> Finished chain.\u001b[0m\n",
            "\n",
            "Query: How can I get a copy of my last invoice?\n",
            "Final Response: To get a copy of your last invoice, log in to your account and go to the \"Billing History\" section.\n",
            "\n",
            "==================================================\n",
            "\n",
            "--- TEST CASE 3: TECHNICAL QUESTION ---\n",
            "\n",
            "\n",
            "\u001b[1m> Entering new AgentExecutor chain...\u001b[0m\n"
          ]
        },
        {
          "output_type": "stream",
          "name": "stderr",
          "text": [
            "/usr/local/lib/python3.11/dist-packages/langchain_google_genai/chat_models.py:424: UserWarning: Convert_system_message_to_human will be deprecated!\n",
            "  warnings.warn(\"Convert_system_message_to_human will be deprecated!\")\n"
          ]
        },
        {
          "output_type": "stream",
          "name": "stdout",
          "text": [
            "\u001b[32;1m\u001b[1;3m\n",
            "Invoking: `knowledge_base_search` with `{'query': 'I forgot my password, what do I do?'}`\n",
            "\n",
            "\n",
            "\u001b[0m--- Searching knowledge base for: I forgot my password, what do I do? ---\n",
            "\u001b[36;1m\u001b[1;3mQ: How do I reset my password? A: To reset your password, go to the login page and click 'Forgot Password'. You will receive an email with a reset link.\n",
            "Q: Where can I find my receipt? A: You can find all past receipts and invoices by logging into your account and navigating to the 'Billing History' section.\n",
            "Q: What are your business hours? A: Our customer support is available 24/7 via chat. Phone support is available from 9 AM to 5 PM Eastern Time, Monday through Friday.\u001b[0m"
          ]
        },
        {
          "output_type": "stream",
          "name": "stderr",
          "text": [
            "/usr/local/lib/python3.11/dist-packages/langchain_google_genai/chat_models.py:424: UserWarning: Convert_system_message_to_human will be deprecated!\n",
            "  warnings.warn(\"Convert_system_message_to_human will be deprecated!\")\n"
          ]
        },
        {
          "output_type": "stream",
          "name": "stdout",
          "text": [
            "\u001b[32;1m\u001b[1;3mTo reset your password, go to the login page and click 'Forgot Password'. You will receive an email with a reset link.\n",
            "\u001b[0m\n",
            "\n",
            "\u001b[1m> Finished chain.\u001b[0m\n",
            "\n",
            "Query: I forgot my password, what do I do?\n",
            "Final Response: To reset your password, go to the login page and click 'Forgot Password'. You will receive an email with a reset link.\n",
            "\n",
            "==================================================\n",
            "\n",
            "--- TEST CASE 4: SIMPLE GREETING ---\n",
            "\n",
            "\n",
            "\u001b[1m> Entering new AgentExecutor chain...\u001b[0m\n"
          ]
        },
        {
          "output_type": "stream",
          "name": "stderr",
          "text": [
            "/usr/local/lib/python3.11/dist-packages/langchain_google_genai/chat_models.py:424: UserWarning: Convert_system_message_to_human will be deprecated!\n",
            "  warnings.warn(\"Convert_system_message_to_human will be deprecated!\")\n"
          ]
        },
        {
          "output_type": "stream",
          "name": "stdout",
          "text": [
            "\u001b[32;1m\u001b[1;3m\n",
            "Invoking: `answer_directly` with `{'query': 'hi there'}`\n",
            "\n",
            "\n",
            "\u001b[0m--- Answering directly for: hi there ---\n",
            "\u001b[38;5;200m\u001b[1;3mThis is a direct answer from the support agent.\u001b[0m"
          ]
        },
        {
          "output_type": "stream",
          "name": "stderr",
          "text": [
            "/usr/local/lib/python3.11/dist-packages/langchain_google_genai/chat_models.py:424: UserWarning: Convert_system_message_to_human will be deprecated!\n",
            "  warnings.warn(\"Convert_system_message_to_human will be deprecated!\")\n"
          ]
        },
        {
          "output_type": "stream",
          "name": "stdout",
          "text": [
            "\u001b[32;1m\u001b[1;3mOK.  The user said \"hi there\". This is a simple greeting.  I will use the `answer_directly` tool.\n",
            "\u001b[0m\n",
            "\n",
            "\u001b[1m> Finished chain.\u001b[0m\n",
            "\n",
            "Query: hi there\n",
            "Final Response: OK.  The user said \"hi there\". This is a simple greeting.  I will use the `answer_directly` tool.\n",
            "\n",
            "==================================================\n"
          ]
        }
      ]
    },
    {
      "cell_type": "code",
      "source": [],
      "metadata": {
        "id": "31QsNTUqXxYF"
      },
      "execution_count": null,
      "outputs": []
    },
    {
      "cell_type": "code",
      "source": [],
      "metadata": {
        "id": "7SYmx3-LUtKt"
      },
      "execution_count": null,
      "outputs": []
    },
    {
      "cell_type": "code",
      "metadata": {
        "colab": {
          "base_uri": "https://localhost:8080/"
        },
        "id": "f729ab49",
        "outputId": "7d513169-181c-4534-92e8-46cd476a7d14"
      },
      "source": [
        "# Upgrade the langchain package to the latest version\n",
        "!pip install --upgrade langchain\n",
        "\n",
        "# Re-run the cell to see if the error is resolved"
      ],
      "execution_count": null,
      "outputs": [
        {
          "output_type": "stream",
          "name": "stdout",
          "text": [
            "Requirement already satisfied: langchain in /usr/local/lib/python3.11/dist-packages (0.3.25)\n",
            "Requirement already satisfied: langchain-core<1.0.0,>=0.3.58 in /usr/local/lib/python3.11/dist-packages (from langchain) (0.3.63)\n",
            "Requirement already satisfied: langchain-text-splitters<1.0.0,>=0.3.8 in /usr/local/lib/python3.11/dist-packages (from langchain) (0.3.8)\n",
            "Requirement already satisfied: langsmith<0.4,>=0.1.17 in /usr/local/lib/python3.11/dist-packages (from langchain) (0.3.44)\n",
            "Requirement already satisfied: pydantic<3.0.0,>=2.7.4 in /usr/local/lib/python3.11/dist-packages (from langchain) (2.11.5)\n",
            "Requirement already satisfied: SQLAlchemy<3,>=1.4 in /usr/local/lib/python3.11/dist-packages (from langchain) (2.0.41)\n",
            "Requirement already satisfied: requests<3,>=2 in /usr/local/lib/python3.11/dist-packages (from langchain) (2.32.3)\n",
            "Requirement already satisfied: PyYAML>=5.3 in /usr/local/lib/python3.11/dist-packages (from langchain) (6.0.2)\n",
            "Requirement already satisfied: tenacity!=8.4.0,<10.0.0,>=8.1.0 in /usr/local/lib/python3.11/dist-packages (from langchain-core<1.0.0,>=0.3.58->langchain) (9.1.2)\n",
            "Requirement already satisfied: jsonpatch<2.0,>=1.33 in /usr/local/lib/python3.11/dist-packages (from langchain-core<1.0.0,>=0.3.58->langchain) (1.33)\n",
            "Requirement already satisfied: packaging<25,>=23.2 in /usr/local/lib/python3.11/dist-packages (from langchain-core<1.0.0,>=0.3.58->langchain) (24.2)\n",
            "Requirement already satisfied: typing-extensions>=4.7 in /usr/local/lib/python3.11/dist-packages (from langchain-core<1.0.0,>=0.3.58->langchain) (4.14.0)\n",
            "Requirement already satisfied: httpx<1,>=0.23.0 in /usr/local/lib/python3.11/dist-packages (from langsmith<0.4,>=0.1.17->langchain) (0.28.1)\n",
            "Requirement already satisfied: orjson<4.0.0,>=3.9.14 in /usr/local/lib/python3.11/dist-packages (from langsmith<0.4,>=0.1.17->langchain) (3.10.18)\n",
            "Requirement already satisfied: requests-toolbelt<2.0.0,>=1.0.0 in /usr/local/lib/python3.11/dist-packages (from langsmith<0.4,>=0.1.17->langchain) (1.0.0)\n",
            "Requirement already satisfied: zstandard<0.24.0,>=0.23.0 in /usr/local/lib/python3.11/dist-packages (from langsmith<0.4,>=0.1.17->langchain) (0.23.0)\n",
            "Requirement already satisfied: annotated-types>=0.6.0 in /usr/local/lib/python3.11/dist-packages (from pydantic<3.0.0,>=2.7.4->langchain) (0.7.0)\n",
            "Requirement already satisfied: pydantic-core==2.33.2 in /usr/local/lib/python3.11/dist-packages (from pydantic<3.0.0,>=2.7.4->langchain) (2.33.2)\n",
            "Requirement already satisfied: typing-inspection>=0.4.0 in /usr/local/lib/python3.11/dist-packages (from pydantic<3.0.0,>=2.7.4->langchain) (0.4.1)\n",
            "Requirement already satisfied: charset-normalizer<4,>=2 in /usr/local/lib/python3.11/dist-packages (from requests<3,>=2->langchain) (3.4.2)\n",
            "Requirement already satisfied: idna<4,>=2.5 in /usr/local/lib/python3.11/dist-packages (from requests<3,>=2->langchain) (3.10)\n",
            "Requirement already satisfied: urllib3<3,>=1.21.1 in /usr/local/lib/python3.11/dist-packages (from requests<3,>=2->langchain) (2.4.0)\n",
            "Requirement already satisfied: certifi>=2017.4.17 in /usr/local/lib/python3.11/dist-packages (from requests<3,>=2->langchain) (2025.4.26)\n",
            "Requirement already satisfied: greenlet>=1 in /usr/local/lib/python3.11/dist-packages (from SQLAlchemy<3,>=1.4->langchain) (3.2.2)\n",
            "Requirement already satisfied: anyio in /usr/local/lib/python3.11/dist-packages (from httpx<1,>=0.23.0->langsmith<0.4,>=0.1.17->langchain) (4.9.0)\n",
            "Requirement already satisfied: httpcore==1.* in /usr/local/lib/python3.11/dist-packages (from httpx<1,>=0.23.0->langsmith<0.4,>=0.1.17->langchain) (1.0.9)\n",
            "Requirement already satisfied: h11>=0.16 in /usr/local/lib/python3.11/dist-packages (from httpcore==1.*->httpx<1,>=0.23.0->langsmith<0.4,>=0.1.17->langchain) (0.16.0)\n",
            "Requirement already satisfied: jsonpointer>=1.9 in /usr/local/lib/python3.11/dist-packages (from jsonpatch<2.0,>=1.33->langchain-core<1.0.0,>=0.3.58->langchain) (3.0.0)\n",
            "Requirement already satisfied: sniffio>=1.1 in /usr/local/lib/python3.11/dist-packages (from anyio->httpx<1,>=0.23.0->langsmith<0.4,>=0.1.17->langchain) (1.3.1)\n"
          ]
        }
      ]
    },
    {
      "cell_type": "code",
      "metadata": {
        "colab": {
          "base_uri": "https://localhost:8080/"
        },
        "id": "89e393ac",
        "outputId": "7366b8d1-6609-45ef-b0bf-a14fef7375bd"
      },
      "source": [
        "# Install langchain-community\n",
        "!pip install langchain-community\n",
        "\n",
        "# Re-run the cell above (Cell 3) after this installation is complete"
      ],
      "execution_count": null,
      "outputs": [
        {
          "output_type": "stream",
          "name": "stdout",
          "text": [
            "Collecting langchain-community\n",
            "  Downloading langchain_community-0.3.24-py3-none-any.whl.metadata (2.5 kB)\n",
            "Requirement already satisfied: langchain-core<1.0.0,>=0.3.59 in /usr/local/lib/python3.11/dist-packages (from langchain-community) (0.3.63)\n",
            "Requirement already satisfied: langchain<1.0.0,>=0.3.25 in /usr/local/lib/python3.11/dist-packages (from langchain-community) (0.3.25)\n",
            "Requirement already satisfied: SQLAlchemy<3,>=1.4 in /usr/local/lib/python3.11/dist-packages (from langchain-community) (2.0.41)\n",
            "Requirement already satisfied: requests<3,>=2 in /usr/local/lib/python3.11/dist-packages (from langchain-community) (2.32.3)\n",
            "Requirement already satisfied: PyYAML>=5.3 in /usr/local/lib/python3.11/dist-packages (from langchain-community) (6.0.2)\n",
            "Requirement already satisfied: aiohttp<4.0.0,>=3.8.3 in /usr/local/lib/python3.11/dist-packages (from langchain-community) (3.11.15)\n",
            "Requirement already satisfied: tenacity!=8.4.0,<10,>=8.1.0 in /usr/local/lib/python3.11/dist-packages (from langchain-community) (9.1.2)\n",
            "Requirement already satisfied: dataclasses-json<0.7,>=0.5.7 in /usr/local/lib/python3.11/dist-packages (from langchain-community) (0.6.7)\n",
            "Collecting pydantic-settings<3.0.0,>=2.4.0 (from langchain-community)\n",
            "  Downloading pydantic_settings-2.9.1-py3-none-any.whl.metadata (3.8 kB)\n",
            "Requirement already satisfied: langsmith<0.4,>=0.1.125 in /usr/local/lib/python3.11/dist-packages (from langchain-community) (0.3.44)\n",
            "Collecting httpx-sse<1.0.0,>=0.4.0 (from langchain-community)\n",
            "  Downloading httpx_sse-0.4.0-py3-none-any.whl.metadata (9.0 kB)\n",
            "Requirement already satisfied: numpy>=1.26.2 in /usr/local/lib/python3.11/dist-packages (from langchain-community) (2.0.2)\n",
            "Requirement already satisfied: aiohappyeyeballs>=2.3.0 in /usr/local/lib/python3.11/dist-packages (from aiohttp<4.0.0,>=3.8.3->langchain-community) (2.6.1)\n",
            "Requirement already satisfied: aiosignal>=1.1.2 in /usr/local/lib/python3.11/dist-packages (from aiohttp<4.0.0,>=3.8.3->langchain-community) (1.3.2)\n",
            "Requirement already satisfied: attrs>=17.3.0 in /usr/local/lib/python3.11/dist-packages (from aiohttp<4.0.0,>=3.8.3->langchain-community) (25.3.0)\n",
            "Requirement already satisfied: frozenlist>=1.1.1 in /usr/local/lib/python3.11/dist-packages (from aiohttp<4.0.0,>=3.8.3->langchain-community) (1.6.0)\n",
            "Requirement already satisfied: multidict<7.0,>=4.5 in /usr/local/lib/python3.11/dist-packages (from aiohttp<4.0.0,>=3.8.3->langchain-community) (6.4.4)\n",
            "Requirement already satisfied: propcache>=0.2.0 in /usr/local/lib/python3.11/dist-packages (from aiohttp<4.0.0,>=3.8.3->langchain-community) (0.3.1)\n",
            "Requirement already satisfied: yarl<2.0,>=1.17.0 in /usr/local/lib/python3.11/dist-packages (from aiohttp<4.0.0,>=3.8.3->langchain-community) (1.20.0)\n",
            "Requirement already satisfied: marshmallow<4.0.0,>=3.18.0 in /usr/local/lib/python3.11/dist-packages (from dataclasses-json<0.7,>=0.5.7->langchain-community) (3.26.1)\n",
            "Requirement already satisfied: typing-inspect<1,>=0.4.0 in /usr/local/lib/python3.11/dist-packages (from dataclasses-json<0.7,>=0.5.7->langchain-community) (0.9.0)\n",
            "Requirement already satisfied: langchain-text-splitters<1.0.0,>=0.3.8 in /usr/local/lib/python3.11/dist-packages (from langchain<1.0.0,>=0.3.25->langchain-community) (0.3.8)\n",
            "Requirement already satisfied: pydantic<3.0.0,>=2.7.4 in /usr/local/lib/python3.11/dist-packages (from langchain<1.0.0,>=0.3.25->langchain-community) (2.11.5)\n",
            "Requirement already satisfied: jsonpatch<2.0,>=1.33 in /usr/local/lib/python3.11/dist-packages (from langchain-core<1.0.0,>=0.3.59->langchain-community) (1.33)\n",
            "Requirement already satisfied: packaging<25,>=23.2 in /usr/local/lib/python3.11/dist-packages (from langchain-core<1.0.0,>=0.3.59->langchain-community) (24.2)\n",
            "Requirement already satisfied: typing-extensions>=4.7 in /usr/local/lib/python3.11/dist-packages (from langchain-core<1.0.0,>=0.3.59->langchain-community) (4.14.0)\n",
            "Requirement already satisfied: httpx<1,>=0.23.0 in /usr/local/lib/python3.11/dist-packages (from langsmith<0.4,>=0.1.125->langchain-community) (0.28.1)\n",
            "Requirement already satisfied: orjson<4.0.0,>=3.9.14 in /usr/local/lib/python3.11/dist-packages (from langsmith<0.4,>=0.1.125->langchain-community) (3.10.18)\n",
            "Requirement already satisfied: requests-toolbelt<2.0.0,>=1.0.0 in /usr/local/lib/python3.11/dist-packages (from langsmith<0.4,>=0.1.125->langchain-community) (1.0.0)\n",
            "Requirement already satisfied: zstandard<0.24.0,>=0.23.0 in /usr/local/lib/python3.11/dist-packages (from langsmith<0.4,>=0.1.125->langchain-community) (0.23.0)\n",
            "Requirement already satisfied: python-dotenv>=0.21.0 in /usr/local/lib/python3.11/dist-packages (from pydantic-settings<3.0.0,>=2.4.0->langchain-community) (1.1.0)\n",
            "Requirement already satisfied: typing-inspection>=0.4.0 in /usr/local/lib/python3.11/dist-packages (from pydantic-settings<3.0.0,>=2.4.0->langchain-community) (0.4.1)\n",
            "Requirement already satisfied: charset-normalizer<4,>=2 in /usr/local/lib/python3.11/dist-packages (from requests<3,>=2->langchain-community) (3.4.2)\n",
            "Requirement already satisfied: idna<4,>=2.5 in /usr/local/lib/python3.11/dist-packages (from requests<3,>=2->langchain-community) (3.10)\n",
            "Requirement already satisfied: urllib3<3,>=1.21.1 in /usr/local/lib/python3.11/dist-packages (from requests<3,>=2->langchain-community) (2.4.0)\n",
            "Requirement already satisfied: certifi>=2017.4.17 in /usr/local/lib/python3.11/dist-packages (from requests<3,>=2->langchain-community) (2025.4.26)\n",
            "Requirement already satisfied: greenlet>=1 in /usr/local/lib/python3.11/dist-packages (from SQLAlchemy<3,>=1.4->langchain-community) (3.2.2)\n",
            "Requirement already satisfied: anyio in /usr/local/lib/python3.11/dist-packages (from httpx<1,>=0.23.0->langsmith<0.4,>=0.1.125->langchain-community) (4.9.0)\n",
            "Requirement already satisfied: httpcore==1.* in /usr/local/lib/python3.11/dist-packages (from httpx<1,>=0.23.0->langsmith<0.4,>=0.1.125->langchain-community) (1.0.9)\n",
            "Requirement already satisfied: h11>=0.16 in /usr/local/lib/python3.11/dist-packages (from httpcore==1.*->httpx<1,>=0.23.0->langsmith<0.4,>=0.1.125->langchain-community) (0.16.0)\n",
            "Requirement already satisfied: jsonpointer>=1.9 in /usr/local/lib/python3.11/dist-packages (from jsonpatch<2.0,>=1.33->langchain-core<1.0.0,>=0.3.59->langchain-community) (3.0.0)\n",
            "Requirement already satisfied: annotated-types>=0.6.0 in /usr/local/lib/python3.11/dist-packages (from pydantic<3.0.0,>=2.7.4->langchain<1.0.0,>=0.3.25->langchain-community) (0.7.0)\n",
            "Requirement already satisfied: pydantic-core==2.33.2 in /usr/local/lib/python3.11/dist-packages (from pydantic<3.0.0,>=2.7.4->langchain<1.0.0,>=0.3.25->langchain-community) (2.33.2)\n",
            "Requirement already satisfied: mypy-extensions>=0.3.0 in /usr/local/lib/python3.11/dist-packages (from typing-inspect<1,>=0.4.0->dataclasses-json<0.7,>=0.5.7->langchain-community) (1.1.0)\n",
            "Requirement already satisfied: sniffio>=1.1 in /usr/local/lib/python3.11/dist-packages (from anyio->httpx<1,>=0.23.0->langsmith<0.4,>=0.1.125->langchain-community) (1.3.1)\n",
            "Downloading langchain_community-0.3.24-py3-none-any.whl (2.5 MB)\n",
            "\u001b[2K   \u001b[90m━━━━━━━━━━━━━━━━━━━━━━━━━━━━━━━━━━━━━━━━\u001b[0m \u001b[32m2.5/2.5 MB\u001b[0m \u001b[31m39.7 MB/s\u001b[0m eta \u001b[36m0:00:00\u001b[0m\n",
            "\u001b[?25hDownloading httpx_sse-0.4.0-py3-none-any.whl (7.8 kB)\n",
            "Downloading pydantic_settings-2.9.1-py3-none-any.whl (44 kB)\n",
            "\u001b[2K   \u001b[90m━━━━━━━━━━━━━━━━━━━━━━━━━━━━━━━━━━━━━━━━\u001b[0m \u001b[32m44.4/44.4 kB\u001b[0m \u001b[31m3.5 MB/s\u001b[0m eta \u001b[36m0:00:00\u001b[0m\n",
            "\u001b[?25hInstalling collected packages: httpx-sse, pydantic-settings, langchain-community\n",
            "Successfully installed httpx-sse-0.4.0 langchain-community-0.3.24 pydantic-settings-2.9.1\n"
          ]
        }
      ]
    },
    {
      "cell_type": "code",
      "source": [],
      "metadata": {
        "id": "e8I577EDYIvx"
      },
      "execution_count": null,
      "outputs": []
    },
    {
      "cell_type": "code",
      "source": [],
      "metadata": {
        "id": "aULZKoXfYI0P"
      },
      "execution_count": null,
      "outputs": []
    },
    {
      "cell_type": "code",
      "source": [
        "# Cell 1: Install necessary packages\n",
        "!pip install -q -U langgraph langchain langchain-google-genai faiss-cpu python-dotenv beautifulsoup4"
      ],
      "metadata": {
        "id": "PNX1CS9wYI4Y"
      },
      "execution_count": null,
      "outputs": []
    },
    {
      "cell_type": "code",
      "source": [
        "# Cell 2: Configure API Keys\n",
        "import os\n",
        "from google.colab import userdata\n",
        "\n",
        "os.environ[\"GOOGLE_API_KEY\"] = userdata.get('GOOGLE_API_KEY')\n",
        "\n",
        "print(\"Google API Key loaded successfully.\")"
      ],
      "metadata": {
        "colab": {
          "base_uri": "https://localhost:8080/"
        },
        "id": "rQUqKX7xYI8S",
        "outputId": "5c35f4dd-7a1c-49a2-c5a5-02743ef3631a"
      },
      "execution_count": null,
      "outputs": [
        {
          "output_type": "stream",
          "name": "stdout",
          "text": [
            "Google API Key loaded successfully.\n"
          ]
        }
      ]
    },
    {
      "cell_type": "code",
      "source": [],
      "metadata": {
        "id": "EiMLeyALYJDX"
      },
      "execution_count": null,
      "outputs": []
    },
    {
      "cell_type": "code",
      "source": [
        "# Cell 3: Create Knowledge Base from Real-World Stripe FAQs\n",
        "from langchain.text_splitter import RecursiveCharacterTextSplitter\n",
        "from langchain_community.document_loaders import WebBaseLoader\n",
        "from langchain_community.vectorstores import FAISS\n",
        "from langchain_google_genai import GoogleGenerativeAIEmbeddings\n",
        "\n",
        "print(\"--- Fetching real-world data from Stripe's documentation... ---\")\n",
        "\n",
        "# Define the URLs for our knowledge base\n",
        "# These pages cover billing, technical integration, and general platform questions.\n",
        "stripe_faq_urls = [\n",
        "    \"https://stripe.com/docs/testing\", # Technical: How to test payments\n",
        "    \"https://stripe.com/docs/billing/subscriptions/overview\", # Billing: How subscriptions work\n",
        "    \"https://stripe.com/docs/payments/handling-payment-events\", # Technical: Handling webhooks\n",
        "    \"https://stripe.com/docs/disputes\", # Billing/General: Handling disputes\n",
        "    \"https://stripe.com/docs/security/guide\" # General: Security at Stripe\n",
        "]\n",
        "\n",
        "# Use WebBaseLoader to scrape the content from these pages\n",
        "loader = WebBaseLoader(stripe_faq_urls)\n",
        "loader.requests_per_second = 1 # Be respectful of their servers\n",
        "docs = loader.load()\n",
        "\n",
        "print(f\"--- Successfully loaded {len(docs)} documents from the web. ---\")\n",
        "\n",
        "# Split the loaded documents into manageable chunks\n",
        "text_splitter = RecursiveCharacterTextSplitter(\n",
        "    chunk_size=1000,\n",
        "    chunk_overlap=150\n",
        ")\n",
        "chunks = text_splitter.split_documents(docs)\n",
        "\n",
        "print(f\"--- Created {len(chunks)} document chunks for the knowledge base. ---\")\n",
        "\n",
        "# Create embeddings and the FAISS vector store\n",
        "embeddings = GoogleGenerativeAIEmbeddings(model=\"models/embedding-001\")\n",
        "vectorstore = FAISS.from_documents(chunks, embeddings)\n",
        "retriever = vectorstore.as_retriever()\n",
        "\n",
        "print(\"--- Real-world knowledge base and retriever are ready. ---\")"
      ],
      "metadata": {
        "colab": {
          "base_uri": "https://localhost:8080/"
        },
        "id": "c0lBRG0jYJHi",
        "outputId": "bef8a17b-2d9b-4dd4-d1c1-990735a5eadf"
      },
      "execution_count": null,
      "outputs": [
        {
          "output_type": "stream",
          "name": "stderr",
          "text": [
            "WARNING:langchain_community.utils.user_agent:USER_AGENT environment variable not set, consider setting it to identify your requests.\n"
          ]
        },
        {
          "output_type": "stream",
          "name": "stdout",
          "text": [
            "--- Fetching real-world data from Stripe's documentation... ---\n",
            "--- Successfully loaded 5 documents from the web. ---\n",
            "--- Created 113 document chunks for the knowledge base. ---\n",
            "--- Real-world knowledge base and retriever are ready. ---\n"
          ]
        }
      ]
    },
    {
      "cell_type": "code",
      "source": [],
      "metadata": {
        "id": "QgE-hL7EYJLw"
      },
      "execution_count": null,
      "outputs": []
    },
    {
      "cell_type": "code",
      "source": [
        "# Cell 4: Define the Agent's Tools\n",
        "from langchain_core.tools import tool\n",
        "\n",
        "# Tool 1: The RAG Tool (now searches Stripe data)\n",
        "@tool\n",
        "def knowledge_base_search(query: str) -> str:\n",
        "    \"\"\"\n",
        "    Use this tool to answer customer questions about technical integrations (testing, webhooks),\n",
        "    billing (subscriptions, disputes), or security policies at Stripe.\n",
        "    \"\"\"\n",
        "    print(f\"--- Searching Stripe knowledge base for: {query} ---\")\n",
        "    docs = retriever.invoke(query)\n",
        "    return \"\\n\".join([doc.page_content for doc in docs])\n",
        "\n",
        "# Tool 2: The Escalation Tool\n",
        "@tool\n",
        "def escalate_to_human(query: str) -> str:\n",
        "    \"\"\"\n",
        "    Use this tool ONLY when the user is angry, frustrated, or expressing strong negative emotions.\n",
        "    \"\"\"\n",
        "    print(f\"--- Escalating to human: {query} ---\")\n",
        "    return \"The user's query has been escalated to a human agent. Please stand by.\"\n",
        "\n",
        "# Tool 3: A General Fallback Tool\n",
        "@tool\n",
        "def answer_directly(query: str) -> str:\n",
        "    \"\"\"\n",
        "    Use this tool as a last resort for simple greetings or questions you can answer from your own knowledge.\n",
        "    \"\"\"\n",
        "    print(f\"--- Answering directly for: {query} ---\")\n",
        "    return \"This is a direct answer from the support agent.\"\n",
        "\n",
        "tools = [knowledge_base_search, escalate_to_human, answer_directly]"
      ],
      "metadata": {
        "id": "HMStDclqYJTf"
      },
      "execution_count": null,
      "outputs": []
    },
    {
      "cell_type": "code",
      "source": [],
      "metadata": {
        "id": "7Wsfa3GZYJWo"
      },
      "execution_count": null,
      "outputs": []
    },
    {
      "cell_type": "code",
      "source": [
        "# Cell 5: Create the Single, Efficient Router Agent\n",
        "from langchain_google_genai import ChatGoogleGenerativeAI\n",
        "from langchain_core.prompts import ChatPromptTemplate\n",
        "from langchain.agents import create_tool_calling_agent, AgentExecutor\n",
        "\n",
        "llm = ChatGoogleGenerativeAI(model=\"gemini-1.5-flash\", temperature=0, convert_system_message_to_human=True)\n",
        "\n",
        "system_prompt = \"\"\"\n",
        "You are an intelligent customer support routing agent for Stripe. Your primary goal is to analyze a user's query and choose the single best tool to handle it.\n",
        "\n",
        "Follow these steps in your reasoning process:\n",
        "1.  **Analyze Sentiment:** First, determine the user's sentiment. Is the user angry or frustrated?\n",
        "2.  **Select ONE Tool:** Based on the user's needs, you must select one and only one of the following tools:\n",
        "\n",
        "    *   `escalate_to_human`: Choose this tool ONLY if the sentiment is clearly Negative.\n",
        "    *   `knowledge_base_search`: Choose this tool for ANY question about how Stripe works, including testing, billing, subscriptions, security, disputes, or webhooks. This should be your default choice for most questions.\n",
        "    *   `answer_directly`: Choose this tool ONLY for simple greetings like \"hello\".\n",
        "\n",
        "Your final output should be the result of the tool you have chosen.\n",
        "\"\"\"\n",
        "\n",
        "prompt = ChatPromptTemplate.from_messages([\n",
        "    (\"system\", system_prompt),\n",
        "    (\"human\", \"{input}\"),\n",
        "    (\"placeholder\", \"{agent_scratchpad}\"),\n",
        "])\n",
        "\n",
        "agent = create_tool_calling_agent(llm, tools, prompt)\n",
        "agent_executor = AgentExecutor(agent=agent, tools=tools, verbose=True)\n",
        "\n",
        "print(\"Efficient Router Agent for Stripe Support created successfully.\")"
      ],
      "metadata": {
        "colab": {
          "base_uri": "https://localhost:8080/"
        },
        "id": "dbWZ0ihPYJaN",
        "outputId": "8b36805d-194e-4ed8-af5a-337adfdd3829"
      },
      "execution_count": null,
      "outputs": [
        {
          "output_type": "stream",
          "name": "stdout",
          "text": [
            "Efficient Router Agent for Stripe Support created successfully.\n"
          ]
        }
      ]
    },
    {
      "cell_type": "code",
      "source": [
        "# Cell 6: Run and Test the System with Real-World Queries\n",
        "\n",
        "# --- Test Cases ---\n",
        "\n",
        "# Test Case 1: Should trigger ESCALATE\n",
        "print(\"--- TEST CASE 1: NEGATIVE SENTIMENT ---\")\n",
        "query1 = \"I can't believe you charged me twice for my subscription! This is outrageous, fix it now!\"\n",
        "response1 = agent_executor.invoke({\"input\": query1})\n",
        "print(f\"\\nQuery: {query1}\\nFinal Response: {response1['output']}\\n\" + \"=\"*50)\n",
        "\n",
        "# Test Case 2: Should trigger RAG (knowledge_base_search) for a technical question\n",
        "print(\"\\n--- TEST CASE 2: TECHNICAL QUESTION ---\")\n",
        "query2 = \"How do I test different payment failure scenarios for my integration?\"\n",
        "response2 = agent_executor.invoke({\"input\": query2})\n",
        "print(f\"\\nQuery: {query2}\\nFinal Response: {response2['output']}\\n\" + \"=\"*50)\n",
        "\n",
        "# Test Case 3: Should trigger RAG (knowledge_base_search) for a billing question\n",
        "print(\"\\n--- TEST CASE 3: BILLING QUESTION ---\")\n",
        "query3 = \"What happens if a customer disputes a charge on their credit card?\"\n",
        "response3 = agent_executor.invoke({\"input\": query3})\n",
        "print(f\"\\nQuery: {query3}\\nFinal Response: {response3['output']}\\n\" + \"=\"*50)"
      ],
      "metadata": {
        "colab": {
          "base_uri": "https://localhost:8080/"
        },
        "id": "YhWezdofYJfr",
        "outputId": "f2de9a2e-2389-42d2-e24b-015f33a8c4d2"
      },
      "execution_count": null,
      "outputs": [
        {
          "output_type": "stream",
          "name": "stdout",
          "text": [
            "--- TEST CASE 1: NEGATIVE SENTIMENT ---\n",
            "\n",
            "\n",
            "\u001b[1m> Entering new AgentExecutor chain...\u001b[0m\n"
          ]
        },
        {
          "output_type": "stream",
          "name": "stderr",
          "text": [
            "/usr/local/lib/python3.11/dist-packages/langchain_google_genai/chat_models.py:424: UserWarning: Convert_system_message_to_human will be deprecated!\n",
            "  warnings.warn(\"Convert_system_message_to_human will be deprecated!\")\n"
          ]
        },
        {
          "output_type": "stream",
          "name": "stdout",
          "text": [
            "\u001b[32;1m\u001b[1;3m\n",
            "Invoking: `escalate_to_human` with `{'query': \"I can't believe you charged me twice for my subscription! This is outrageous, fix it now!\"}`\n",
            "\n",
            "\n",
            "\u001b[0m--- Escalating to human: I can't believe you charged me twice for my subscription! This is outrageous, fix it now! ---\n",
            "\u001b[33;1m\u001b[1;3mThe user's query has been escalated to a human agent. Please stand by.\u001b[0m"
          ]
        },
        {
          "output_type": "stream",
          "name": "stderr",
          "text": [
            "/usr/local/lib/python3.11/dist-packages/langchain_google_genai/chat_models.py:424: UserWarning: Convert_system_message_to_human will be deprecated!\n",
            "  warnings.warn(\"Convert_system_message_to_human will be deprecated!\")\n"
          ]
        },
        {
          "output_type": "stream",
          "name": "stdout",
          "text": [
            "\u001b[32;1m\u001b[1;3mThe user's query has been escalated to a human agent. Please stand by.\n",
            "\u001b[0m\n",
            "\n",
            "\u001b[1m> Finished chain.\u001b[0m\n",
            "\n",
            "Query: I can't believe you charged me twice for my subscription! This is outrageous, fix it now!\n",
            "Final Response: The user's query has been escalated to a human agent. Please stand by.\n",
            "\n",
            "==================================================\n",
            "\n",
            "--- TEST CASE 2: TECHNICAL QUESTION ---\n",
            "\n",
            "\n",
            "\u001b[1m> Entering new AgentExecutor chain...\u001b[0m\n"
          ]
        },
        {
          "output_type": "stream",
          "name": "stderr",
          "text": [
            "/usr/local/lib/python3.11/dist-packages/langchain_google_genai/chat_models.py:424: UserWarning: Convert_system_message_to_human will be deprecated!\n",
            "  warnings.warn(\"Convert_system_message_to_human will be deprecated!\")\n"
          ]
        },
        {
          "output_type": "stream",
          "name": "stdout",
          "text": [
            "\u001b[32;1m\u001b[1;3m\n",
            "Invoking: `knowledge_base_search` with `{'query': 'How do I test different payment failure scenarios for my integration?'}`\n",
            "\n",
            "\n",
            "\u001b[0m--- Searching Stripe knowledge base for: How do I test different payment failure scenarios for my integration? ---\n",
            "\u001b[36;1m\u001b[1;3mrequires redirects.To create a test PaymentIntent that either succeeds or fails:Navigate to the payment methods settings in the Dashboard and enable a supported payment method by clicking Turn on in your testing environment.Collect payment details.Submit the payment to Stripe.Authorize or fail the test payment.Make sure that the page (corresponding to return_url) on your website provides the status of the payment.See alsoTesting your Connect integrationTesting your Billing integrationTesting your Terminal integrationLoad testingWas this page helpful?YesNoNeed help? Contact Support.Join our early access program.Check out our changelog.Questions? Contact Sales.LLM? Read llms.txt.Powered by MarkdocRelated GuidesTesting use casesAPI keys\n",
            "Skip to contentTest your integrationCreate account or Sign inThe Stripe Docs logoSearch/Ask AICreate accountSign inGet started Payments Revenue Platforms and marketplaces Money management Developer tools APIs & SDKsHelpOverviewVersioningChangelogUpgrade your API versionUpgrade your SDK versionDeveloper toolsSDKsAPITestingTest your integrationTesting use casesSandboxesTest Apple Pay and Google Pay renderingWorkbenchEvent DestinationsWorkflowsStripe CLIStripe ShellDevelopers DashboardAgent toolkitBuild with LLMsStripe for Visual Studio CodeStripe health alertsFile uploadsSecurity and privacySecurityPrivacyExtend StripeStripe AppsStripe ConnectorsPartnersPartner ecosystemPartner certificationUnited StatesEnglish (United States)HomeDeveloper toolsTestingTestingSimulate payments to test your integration.Copy pageTo confirm that your integration works correctly, simulate transactions without moving any money using special values while in test mode or Sandboxes.Test cards function as fake\n",
            "card and enter their online PIN. The resulting charge has cardholder_verification_method set to online_pin.Event destinations To test your webhook endpoint or event destination, choose one of these two options:Perform actions in a sandbox that send legitimate events to your event destination. For example, to trigger the charge.succeeded event, you can use a test card that produces a successful charge.Trigger events using the Stripe CLI or using Stripe for Visual Studio Code.Rate limitsIf your requests in your testing environments begin to receive 429 HTTP errors, make them less frequently. These errors come from our rate limiter, which is more strict in testing environments than in live mode.We don’t recommend load testing your integration using the Stripe API in testing environments. Because the load limiter is stricter in testing environments, you might see errors that you wouldn’t see in production. See load testing for an alternative approach.Non-card paymentsAny time you use a\n",
            "works correctly, simulate transactions without moving any money using special values while in test mode or Sandboxes.Test cards function as fake credit cards and let you simulate several scenarios:Successful payments by card brand or countryCard errors due to declines, fraud, or invalid dataDisputes and refundsAuthentication with 3D Secure and PINsTesting non-card payments works similarly. Each payment method has its own special values. Because of rate limits, we don’t recommend that you use testing environments to load-test your integration. Instead, see load testing.How to use test cards Any time you work with a test card, use test API keys in all API calls. This is true whether you’re serving a payment form to test interactively or writing test code.Common mistakeDon’t use real card details. The Stripe Services Agreement prohibits testing in live mode using real payment method details. Use your test API keys and the card numbers below.Testing interactivelyWhen testing\u001b[0m"
          ]
        },
        {
          "output_type": "stream",
          "name": "stderr",
          "text": [
            "/usr/local/lib/python3.11/dist-packages/langchain_google_genai/chat_models.py:424: UserWarning: Convert_system_message_to_human will be deprecated!\n",
            "  warnings.warn(\"Convert_system_message_to_human will be deprecated!\")\n"
          ]
        },
        {
          "output_type": "stream",
          "name": "stdout",
          "text": [
            "\u001b[32;1m\u001b[1;3mThe provided text describes how to test payment integrations using Stripe's test environment and test cards.  It covers simulating successful and failed payments, handling card errors, and testing webhooks.\n",
            "\u001b[0m\n",
            "\n",
            "\u001b[1m> Finished chain.\u001b[0m\n",
            "\n",
            "Query: How do I test different payment failure scenarios for my integration?\n",
            "Final Response: The provided text describes how to test payment integrations using Stripe's test environment and test cards.  It covers simulating successful and failed payments, handling card errors, and testing webhooks.\n",
            "\n",
            "==================================================\n",
            "\n",
            "--- TEST CASE 3: BILLING QUESTION ---\n",
            "\n",
            "\n",
            "\u001b[1m> Entering new AgentExecutor chain...\u001b[0m\n"
          ]
        },
        {
          "output_type": "stream",
          "name": "stderr",
          "text": [
            "/usr/local/lib/python3.11/dist-packages/langchain_google_genai/chat_models.py:424: UserWarning: Convert_system_message_to_human will be deprecated!\n",
            "  warnings.warn(\"Convert_system_message_to_human will be deprecated!\")\n"
          ]
        },
        {
          "output_type": "stream",
          "name": "stdout",
          "text": [
            "\u001b[32;1m\u001b[1;3m\n",
            "Invoking: `knowledge_base_search` with `{'query': 'What happens if a customer disputes a charge on their credit card?'}`\n",
            "\n",
            "\n",
            "\u001b[0m--- Searching Stripe knowledge base for: What happens if a customer disputes a charge on their credit card? ---\n",
            "\u001b[36;1m\u001b[1;3mthem.A dispute (also known as a chargeback) occurs when a cardholder questions your payment with their card issuer.To process a chargeback, the issuer creates a formal dispute on the card network, which immediately reverses the payment. This pulls the money for the payment—as well as one or more network dispute fees—from Stripe. After that, Stripe debits your balance for the payment amount and dispute fee.To help our users submit the best possible response for each dispute, Stripe guides you through the process within the Dashboard. Here, you can provide the appropriate text and images for the dispute reason, and your counterargument. If you need help with a dispute, contact support.Handle disputes Respond to disputesLearn how to challenge or accept a dispute.Network categoriesLearn about reason code categories and broad evidence guidelines.Reason codesRefer to common Visa, Mastercard, and American Express reason codes.Analyze disputes Measure disputesLearn about the issues that can\n",
            "Skip to contentOverviewCreate account or Sign inThe Stripe Docs logoSearch/Ask AICreate accountSign inGet started Payments Revenue Platforms and marketplaces Money management Developer tools APIs & SDKsHelpOverviewExplore all productsStart buildingStart developingSample projectsAbout the APIsBuild with LLMsUse Stripe without codeSet up StripeCreate an accountWeb DashboardMobile DashboardMigrate to StripeManage fraud riskUnderstand fraudRadar fraud protectionManage disputesOverviewHow disputes workHandlingRespond to disputesManage disputes programmaticallyDispute withdrawalsHigh risk merchant listsAnalyticsMeasuring disputesMonitoring programsOptimizationDispute PreventionSmart DisputesVerify identitiesUnited StatesEnglish (United States)HomeGet startedManage disputesDisputesLearn about disputes, how they work, and what you can do to prevent them.A dispute (also known as a chargeback) occurs when a cardholder questions your payment with their card issuer.To process a chargeback, the\n",
            "Use an invalid month, such as 13.invalid_expiry_year: Use a year up to 50 years in the past, such as 95.invalid_cvc: Use a two-digit number, such as 99.incorrect_number: Use a card number that fails the Luhn check, such as 4242424242424241.Disputes To simulate a disputed transaction, use the test cards in this section. Then, to simulate winning or losing the dispute, provide winning or losing evidence.Card numbersPaymentMethodsTokensDescriptionNumberDetailsFraudulent4000000000000259With default account settings, charge succeeds, only to be disputed as fraudulent. This type of dispute is protected after 3D Secure authentication.Not received4000000000002685With default account settings, charge succeeds, only to be disputed as product not received. This type of dispute isn’t protected after 3D Secure authentication.Inquiry4000000000001976With default account settings, charge succeeds, only to be disputed as an inquiry.Warning4000000000005423With default account settings, charge succeeds,\n",
            "default account settings, charge succeeds, only to be disputed as an inquiry.Warning4000000000005423With default account settings, charge succeeds, only to receive an early fraud warning.Multiple disputes4000000404000079With default account settings, charge succeeds, only to be disputed multiple times.Visa Compelling Evidence 3.04000000404000038With default account settings, charge succeeds, only to be disputed as a Visa Compelling Evidence 3.0 eligible dispute.Visa compliance4000008400000779With default account settings, charge succeeds, only to be disputed as a Visa compliance dispute.Evidence To simulate winning or losing the dispute, respond with one of the evidence values from the table below.If you respond using the API, pass the value from the table as uncategorized_text.If you respond in the Dashboard, enter the value from the table in the Additional information field. Then, click Submit evidence.EvidenceDescriptionwinning_evidenceThe dispute is closed and marked as won. Your\u001b[0m"
          ]
        },
        {
          "output_type": "stream",
          "name": "stderr",
          "text": [
            "/usr/local/lib/python3.11/dist-packages/langchain_google_genai/chat_models.py:424: UserWarning: Convert_system_message_to_human will be deprecated!\n",
            "  warnings.warn(\"Convert_system_message_to_human will be deprecated!\")\n"
          ]
        },
        {
          "output_type": "stream",
          "name": "stdout",
          "text": [
            "\u001b[32;1m\u001b[1;3mWhen a customer disputes a charge, it's called a chargeback.  The card issuer reverses the payment, and Stripe debits your account for the payment and any dispute fees.  Stripe guides you through the process in the Dashboard, where you can provide evidence to support your case.  If you need help, contact support.\n",
            "\u001b[0m\n",
            "\n",
            "\u001b[1m> Finished chain.\u001b[0m\n",
            "\n",
            "Query: What happens if a customer disputes a charge on their credit card?\n",
            "Final Response: When a customer disputes a charge, it's called a chargeback.  The card issuer reverses the payment, and Stripe debits your account for the payment and any dispute fees.  Stripe guides you through the process in the Dashboard, where you can provide evidence to support your case.  If you need help, contact support.\n",
            "\n",
            "==================================================\n"
          ]
        }
      ]
    }
  ]
}