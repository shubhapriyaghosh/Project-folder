{
  "cells": [
    {
      "cell_type": "markdown",
      "id": "ab53c435",
      "metadata": {
        "papermill": {
          "duration": 0.030133,
          "end_time": "2023-07-03T13:32:55.626676",
          "exception": false,
          "start_time": "2023-07-03T13:32:55.596543",
          "status": "completed"
        },
        "tags": [],
        "id": "ab53c435"
      },
      "source": [
        "# TalkingData: Fraudulent Click Prediction"
      ]
    },
    {
      "cell_type": "markdown",
      "id": "1d75351d",
      "metadata": {
        "papermill": {
          "duration": 0.028666,
          "end_time": "2023-07-03T13:32:55.684623",
          "exception": false,
          "start_time": "2023-07-03T13:32:55.655957",
          "status": "completed"
        },
        "tags": [],
        "id": "1d75351d"
      },
      "source": [
        "In this notebook, we will apply various boosting algorithms to solve an interesting classification problem from the domain of 'digital fraud'.\n",
        "\n",
        "The analysis is divided into the following sections:\n",
        "- Understanding the business problem\n",
        "- Understanding and exploring the data\n",
        "- Feature engineering: Creating new features\n",
        "- Model building and evaluation: AdaBoost\n",
        "- Modelling building and evaluation: Gradient Boosting\n",
        "- Modelling building and evaluation: XGBoost\n"
      ]
    },
    {
      "cell_type": "markdown",
      "id": "c3d72ca5",
      "metadata": {
        "papermill": {
          "duration": 0.029217,
          "end_time": "2023-07-03T13:32:55.742803",
          "exception": false,
          "start_time": "2023-07-03T13:32:55.713586",
          "status": "completed"
        },
        "tags": [],
        "id": "c3d72ca5"
      },
      "source": [
        "\n",
        "\n",
        "In this problem, we will use the features associated with clicks, such as IP address, operating system, device type, time of click etc. to predict the probability of a click being fraud."
      ]
    },
    {
      "cell_type": "markdown",
      "id": "fd816250",
      "metadata": {
        "papermill": {
          "duration": 0.029213,
          "end_time": "2023-07-03T13:32:55.801423",
          "exception": false,
          "start_time": "2023-07-03T13:32:55.772210",
          "status": "completed"
        },
        "tags": [],
        "id": "fd816250"
      },
      "source": [
        "## Understanding and Exploring the Data\n",
        "\n",
        "The data contains observations of about 240 million clicks, and whether a given click resulted in a download or not (1/0).\n",
        "\n",
        " the data is split into train.csv and train_sample.csv (100,000 observations). We'll use the smaller train_sample.csv in this notebook for speed, though while training the model for Kaggle submissions, the full training data will obviously produce better results.\n",
        "\n",
        "The detailed data dictionary is mentioned here:\n",
        "- ```ip```: ip address of click.\n",
        "- ```app```: app id for marketing.\n",
        "- ```device```: device type id of user mobile phone (e.g., iphone 6 plus, iphone 7, huawei mate 7, etc.)\n",
        "- ```os```: os version id of user mobile phone\n",
        "- ```channel```: channel id of mobile ad publisher\n",
        "- ```click_time```: timestamp of click (UTC)\n",
        "- ```attributed_time```: if user download the app for after clicking an ad, this is the time of the app download\n",
        "- ```is_attributed```: the target that is to be predicted, indicating the app was downloaded\n"
      ]
    },
    {
      "cell_type": "code",
      "execution_count": null,
      "id": "2862fb94",
      "metadata": {
        "execution": {
          "iopub.execute_input": "2023-07-03T13:32:55.864500Z",
          "iopub.status.busy": "2023-07-03T13:32:55.864125Z",
          "iopub.status.idle": "2023-07-03T13:32:58.316808Z",
          "shell.execute_reply": "2023-07-03T13:32:58.315392Z"
        },
        "papermill": {
          "duration": 2.487449,
          "end_time": "2023-07-03T13:32:58.319792",
          "exception": false,
          "start_time": "2023-07-03T13:32:55.832343",
          "status": "completed"
        },
        "tags": [],
        "id": "2862fb94"
      },
      "outputs": [],
      "source": [
        "import numpy as np\n",
        "import pandas as pd\n",
        "import matplotlib.pyplot as plt\n",
        "import seaborn as sns\n",
        "\n",
        "import sklearn\n",
        "from sklearn.model_selection import train_test_split\n",
        "from sklearn.model_selection import KFold\n",
        "from sklearn.model_selection import GridSearchCV\n",
        "from sklearn.model_selection import cross_val_score\n",
        "from sklearn.preprocessing import LabelEncoder\n",
        "from sklearn.tree import DecisionTreeClassifier\n",
        "from sklearn.ensemble import AdaBoostClassifier\n",
        "from sklearn.ensemble import GradientBoostingClassifier\n",
        "from sklearn import metrics\n",
        "\n",
        "import xgboost as xgb\n",
        "from xgboost import XGBClassifier\n",
        "from xgboost import plot_importance\n",
        "import gc # for deleting unused variables\n",
        "\n",
        "%matplotlib inline\n",
        "\n",
        "import os\n",
        "import warnings\n",
        "warnings.filterwarnings('ignore')"
      ]
    },
    {
      "cell_type": "markdown",
      "id": "138a5226",
      "metadata": {
        "papermill": {
          "duration": 0.031018,
          "end_time": "2023-07-03T13:32:58.380520",
          "exception": false,
          "start_time": "2023-07-03T13:32:58.349502",
          "status": "completed"
        },
        "tags": [],
        "id": "138a5226"
      },
      "source": [
        "\n",
        ""
      ]
    },
    {
      "cell_type": "code",
      "execution_count": null,
      "id": "486c3c1e",
      "metadata": {
        "execution": {
          "iopub.execute_input": "2023-07-03T13:32:58.512310Z",
          "iopub.status.busy": "2023-07-03T13:32:58.511123Z",
          "iopub.status.idle": "2023-07-03T13:32:58.741655Z",
          "shell.execute_reply": "2023-07-03T13:32:58.740288Z"
        },
        "papermill": {
          "duration": 0.264032,
          "end_time": "2023-07-03T13:32:58.744612",
          "exception": false,
          "start_time": "2023-07-03T13:32:58.480580",
          "status": "completed"
        },
        "tags": [],
        "id": "486c3c1e"
      },
      "outputs": [],
      "source": [
        "dtypes = {\n",
        "        'ip'            : 'uint16',\n",
        "        'app'           : 'uint16',\n",
        "        'device'        : 'uint16',\n",
        "        'os'            : 'uint16',\n",
        "        'channel'       : 'uint16',\n",
        "        'is_attributed' : 'uint8',\n",
        "        'click_id'      : 'uint32' # note that click_id is only in test data, not training data\n",
        "        }\n",
        "\n",
        "colnames=['ip','app','device','os', 'channel', 'click_time', 'is_attributed']\n",
        "\n",
        "train_sample = pd.read_csv('talkingdata-adtracking-fraud-detection/train_sample.csv',dtype=dtypes,usecols=colnames)"
      ]
    },
    {
      "cell_type": "code",
      "execution_count": null,
      "id": "d36ef97a",
      "metadata": {
        "execution": {
          "iopub.execute_input": "2023-07-03T13:32:58.806392Z",
          "iopub.status.busy": "2023-07-03T13:32:58.805345Z",
          "iopub.status.idle": "2023-07-03T13:32:58.814793Z",
          "shell.execute_reply": "2023-07-03T13:32:58.813443Z"
        },
        "papermill": {
          "duration": 0.043191,
          "end_time": "2023-07-03T13:32:58.817646",
          "exception": false,
          "start_time": "2023-07-03T13:32:58.774455",
          "status": "completed"
        },
        "tags": [],
        "id": "d36ef97a",
        "outputId": "2b3920ad-04f0-4b80-8dc8-d44cbb0d50e1"
      },
      "outputs": [
        {
          "data": {
            "text/plain": [
              "100000"
            ]
          },
          "execution_count": 4,
          "metadata": {},
          "output_type": "execute_result"
        }
      ],
      "source": [
        "len(train_sample)"
      ]
    },
    {
      "cell_type": "code",
      "execution_count": null,
      "id": "44e1aa85",
      "metadata": {
        "execution": {
          "iopub.execute_input": "2023-07-03T13:32:58.880237Z",
          "iopub.status.busy": "2023-07-03T13:32:58.879763Z",
          "iopub.status.idle": "2023-07-03T13:32:58.896646Z",
          "shell.execute_reply": "2023-07-03T13:32:58.895435Z"
        },
        "papermill": {
          "duration": 0.051642,
          "end_time": "2023-07-03T13:32:58.899192",
          "exception": false,
          "start_time": "2023-07-03T13:32:58.847550",
          "status": "completed"
        },
        "tags": [],
        "id": "44e1aa85",
        "outputId": "fe7bb17b-f5d7-4f52-a4d5-97814cc80eca"
      },
      "outputs": [
        {
          "data": {
            "text/plain": [
              "Index               128\n",
              "ip               200000\n",
              "app              200000\n",
              "device           200000\n",
              "os               200000\n",
              "channel          200000\n",
              "click_time       800000\n",
              "is_attributed    100000\n",
              "dtype: int64"
            ]
          },
          "execution_count": 5,
          "metadata": {},
          "output_type": "execute_result"
        }
      ],
      "source": [
        "train_sample.memory_usage()"
      ]
    },
    {
      "cell_type": "code",
      "execution_count": null,
      "id": "2f6b7546",
      "metadata": {
        "execution": {
          "iopub.execute_input": "2023-07-03T13:32:58.962503Z",
          "iopub.status.busy": "2023-07-03T13:32:58.962081Z",
          "iopub.status.idle": "2023-07-03T13:32:58.969997Z",
          "shell.execute_reply": "2023-07-03T13:32:58.968611Z"
        },
        "papermill": {
          "duration": 0.043392,
          "end_time": "2023-07-03T13:32:58.973104",
          "exception": false,
          "start_time": "2023-07-03T13:32:58.929712",
          "status": "completed"
        },
        "tags": [],
        "id": "2f6b7546",
        "outputId": "db347d35-7cec-4e72-f103-41365836bffe"
      },
      "outputs": [
        {
          "name": "stdout",
          "output_type": "stream",
          "text": [
            "Training dataset uses 1.812103271484375 MB\n"
          ]
        }
      ],
      "source": [
        "# space used by training data\n",
        "print('Training dataset uses {0} MB'.format(train_sample.memory_usage().sum()/1024**2))"
      ]
    },
    {
      "cell_type": "code",
      "execution_count": null,
      "id": "5d351e7d",
      "metadata": {
        "execution": {
          "iopub.execute_input": "2023-07-03T13:32:59.038115Z",
          "iopub.status.busy": "2023-07-03T13:32:59.037633Z",
          "iopub.status.idle": "2023-07-03T13:32:59.067363Z",
          "shell.execute_reply": "2023-07-03T13:32:59.065975Z"
        },
        "papermill": {
          "duration": 0.066498,
          "end_time": "2023-07-03T13:32:59.070009",
          "exception": false,
          "start_time": "2023-07-03T13:32:59.003511",
          "status": "completed"
        },
        "tags": [],
        "id": "5d351e7d",
        "outputId": "42ec7dc4-a6b7-4b9c-8669-9b2915024697"
      },
      "outputs": [
        {
          "data": {
            "text/html": [
              "<div>\n",
              "<style scoped>\n",
              "    .dataframe tbody tr th:only-of-type {\n",
              "        vertical-align: middle;\n",
              "    }\n",
              "\n",
              "    .dataframe tbody tr th {\n",
              "        vertical-align: top;\n",
              "    }\n",
              "\n",
              "    .dataframe thead th {\n",
              "        text-align: right;\n",
              "    }\n",
              "</style>\n",
              "<table border=\"1\" class=\"dataframe\">\n",
              "  <thead>\n",
              "    <tr style=\"text-align: right;\">\n",
              "      <th></th>\n",
              "      <th>ip</th>\n",
              "      <th>app</th>\n",
              "      <th>device</th>\n",
              "      <th>os</th>\n",
              "      <th>channel</th>\n",
              "      <th>click_time</th>\n",
              "      <th>is_attributed</th>\n",
              "    </tr>\n",
              "  </thead>\n",
              "  <tbody>\n",
              "    <tr>\n",
              "      <th>0</th>\n",
              "      <td>22004</td>\n",
              "      <td>12</td>\n",
              "      <td>1</td>\n",
              "      <td>13</td>\n",
              "      <td>497</td>\n",
              "      <td>2017-11-07 09:30:38</td>\n",
              "      <td>0</td>\n",
              "    </tr>\n",
              "    <tr>\n",
              "      <th>1</th>\n",
              "      <td>40024</td>\n",
              "      <td>25</td>\n",
              "      <td>1</td>\n",
              "      <td>17</td>\n",
              "      <td>259</td>\n",
              "      <td>2017-11-07 13:40:27</td>\n",
              "      <td>0</td>\n",
              "    </tr>\n",
              "    <tr>\n",
              "      <th>2</th>\n",
              "      <td>35888</td>\n",
              "      <td>12</td>\n",
              "      <td>1</td>\n",
              "      <td>19</td>\n",
              "      <td>212</td>\n",
              "      <td>2017-11-07 18:05:24</td>\n",
              "      <td>0</td>\n",
              "    </tr>\n",
              "    <tr>\n",
              "      <th>3</th>\n",
              "      <td>29048</td>\n",
              "      <td>13</td>\n",
              "      <td>1</td>\n",
              "      <td>13</td>\n",
              "      <td>477</td>\n",
              "      <td>2017-11-07 04:58:08</td>\n",
              "      <td>0</td>\n",
              "    </tr>\n",
              "    <tr>\n",
              "      <th>4</th>\n",
              "      <td>2877</td>\n",
              "      <td>12</td>\n",
              "      <td>1</td>\n",
              "      <td>1</td>\n",
              "      <td>178</td>\n",
              "      <td>2017-11-09 09:00:09</td>\n",
              "      <td>0</td>\n",
              "    </tr>\n",
              "  </tbody>\n",
              "</table>\n",
              "</div>"
            ],
            "text/plain": [
              "      ip  app  device  os  channel           click_time  is_attributed\n",
              "0  22004   12       1  13      497  2017-11-07 09:30:38              0\n",
              "1  40024   25       1  17      259  2017-11-07 13:40:27              0\n",
              "2  35888   12       1  19      212  2017-11-07 18:05:24              0\n",
              "3  29048   13       1  13      477  2017-11-07 04:58:08              0\n",
              "4   2877   12       1   1      178  2017-11-09 09:00:09              0"
            ]
          },
          "execution_count": 7,
          "metadata": {},
          "output_type": "execute_result"
        }
      ],
      "source": [
        "train_sample.head()"
      ]
    },
    {
      "cell_type": "markdown",
      "id": "90dd6391",
      "metadata": {
        "papermill": {
          "duration": 0.030011,
          "end_time": "2023-07-03T13:32:59.130603",
          "exception": false,
          "start_time": "2023-07-03T13:32:59.100592",
          "status": "completed"
        },
        "tags": [],
        "id": "90dd6391"
      },
      "source": [
        "### Exploring the Data - Univariate Analysis\n"
      ]
    },
    {
      "cell_type": "markdown",
      "id": "1f9a1250",
      "metadata": {
        "papermill": {
          "duration": 0.03046,
          "end_time": "2023-07-03T13:32:59.191492",
          "exception": false,
          "start_time": "2023-07-03T13:32:59.161032",
          "status": "completed"
        },
        "tags": [],
        "id": "1f9a1250"
      },
      "source": [
        "Let's now understand and explore the data. Let's start with understanding the size and data types of the train_sample data."
      ]
    },
    {
      "cell_type": "code",
      "execution_count": null,
      "id": "ab99e3a1",
      "metadata": {
        "execution": {
          "iopub.execute_input": "2023-07-03T13:32:59.255287Z",
          "iopub.status.busy": "2023-07-03T13:32:59.254113Z",
          "iopub.status.idle": "2023-07-03T13:32:59.318359Z",
          "shell.execute_reply": "2023-07-03T13:32:59.317545Z"
        },
        "papermill": {
          "duration": 0.098995,
          "end_time": "2023-07-03T13:32:59.321088",
          "exception": false,
          "start_time": "2023-07-03T13:32:59.222093",
          "status": "completed"
        },
        "tags": [],
        "id": "ab99e3a1",
        "outputId": "8137063c-b44d-4d03-8948-77387a75ff62"
      },
      "outputs": [
        {
          "name": "stdout",
          "output_type": "stream",
          "text": [
            "<class 'pandas.core.frame.DataFrame'>\n",
            "RangeIndex: 100000 entries, 0 to 99999\n",
            "Data columns (total 7 columns):\n",
            " #   Column         Non-Null Count   Dtype \n",
            "---  ------         --------------   ----- \n",
            " 0   ip             100000 non-null  uint16\n",
            " 1   app            100000 non-null  uint16\n",
            " 2   device         100000 non-null  uint16\n",
            " 3   os             100000 non-null  uint16\n",
            " 4   channel        100000 non-null  uint16\n",
            " 5   click_time     100000 non-null  object\n",
            " 6   is_attributed  100000 non-null  uint8 \n",
            "dtypes: object(1), uint16(5), uint8(1)\n",
            "memory usage: 1.8+ MB\n"
          ]
        }
      ],
      "source": [
        "# look at non-null values, number of entries etc.\n",
        "# there are no missing values\n",
        "train_sample.info()"
      ]
    },
    {
      "cell_type": "code",
      "execution_count": null,
      "id": "36816ef4",
      "metadata": {
        "execution": {
          "iopub.execute_input": "2023-07-03T13:32:59.385870Z",
          "iopub.status.busy": "2023-07-03T13:32:59.385170Z",
          "iopub.status.idle": "2023-07-03T13:32:59.426747Z",
          "shell.execute_reply": "2023-07-03T13:32:59.425819Z"
        },
        "papermill": {
          "duration": 0.07791,
          "end_time": "2023-07-03T13:32:59.430552",
          "exception": false,
          "start_time": "2023-07-03T13:32:59.352642",
          "status": "completed"
        },
        "tags": [],
        "id": "36816ef4",
        "outputId": "1ad5c20b-5f2f-43ae-a513-545652809038"
      },
      "outputs": [
        {
          "data": {
            "text/plain": [
              "{'ip': 28470,\n",
              " 'app': 161,\n",
              " 'device': 100,\n",
              " 'os': 130,\n",
              " 'channel': 161,\n",
              " 'click_time': 80350,\n",
              " 'is_attributed': 2}"
            ]
          },
          "execution_count": 9,
          "metadata": {},
          "output_type": "execute_result"
        }
      ],
      "source": [
        "# Basic exploratory analysis\n",
        "\n",
        "# Number of unique values in each column\n",
        "\n",
        "def fraction_unique(x):\n",
        "    return len(train_sample[x].unique())\n",
        "\n",
        "number_unique_vals = {x : fraction_unique(x) for x in train_sample.columns}\n",
        "number_unique_vals"
      ]
    },
    {
      "cell_type": "code",
      "execution_count": null,
      "id": "9aa18577",
      "metadata": {
        "execution": {
          "iopub.execute_input": "2023-07-03T13:32:59.493856Z",
          "iopub.status.busy": "2023-07-03T13:32:59.493480Z",
          "iopub.status.idle": "2023-07-03T13:32:59.502955Z",
          "shell.execute_reply": "2023-07-03T13:32:59.501685Z"
        },
        "papermill": {
          "duration": 0.043945,
          "end_time": "2023-07-03T13:32:59.505645",
          "exception": false,
          "start_time": "2023-07-03T13:32:59.461700",
          "status": "completed"
        },
        "tags": [],
        "id": "9aa18577",
        "outputId": "5f213b50-38d7-4fcc-e5a7-fc530a07288e"
      },
      "outputs": [
        {
          "data": {
            "text/plain": [
              "ip               uint16\n",
              "app              uint16\n",
              "device           uint16\n",
              "os               uint16\n",
              "channel          uint16\n",
              "click_time       object\n",
              "is_attributed     uint8\n",
              "dtype: object"
            ]
          },
          "execution_count": 10,
          "metadata": {},
          "output_type": "execute_result"
        }
      ],
      "source": [
        "# All columns apart from click time are originally int type,\n",
        "# though note that they are all actually categorical\n",
        "train_sample.dtypes"
      ]
    },
    {
      "cell_type": "markdown",
      "id": "685a3c05",
      "metadata": {
        "papermill": {
          "duration": 0.030799,
          "end_time": "2023-07-03T13:32:59.568567",
          "exception": false,
          "start_time": "2023-07-03T13:32:59.537768",
          "status": "completed"
        },
        "tags": [],
        "id": "685a3c05"
      },
      "source": [
        "There are certain 'apps' which have quite high number of instances/rows (each row is a click). The plot below shows this."
      ]
    },
    {
      "cell_type": "code",
      "execution_count": null,
      "id": "5402307a",
      "metadata": {
        "execution": {
          "iopub.execute_input": "2023-07-03T13:32:59.633044Z",
          "iopub.status.busy": "2023-07-03T13:32:59.632566Z",
          "iopub.status.idle": "2023-07-03T13:33:01.807501Z",
          "shell.execute_reply": "2023-07-03T13:33:01.806087Z"
        },
        "papermill": {
          "duration": 2.210925,
          "end_time": "2023-07-03T13:33:01.810465",
          "exception": false,
          "start_time": "2023-07-03T13:32:59.599540",
          "status": "completed"
        },
        "tags": [],
        "id": "5402307a",
        "outputId": "63ff25c2-1606-41dd-fb02-8a24d3a5e433"
      },
      "outputs": [
        {
          "data": {
            "text/plain": [
              "<Axes: xlabel='app', ylabel='count'>"
            ]
          },
          "execution_count": 11,
          "metadata": {},
          "output_type": "execute_result"
        },
        {
          "data": {
            "image/png": "[encoded data removed]",
            "text/plain": [
              "<Figure size 1400x800 with 1 Axes>"
            ]
          },
          "metadata": {},
          "output_type": "display_data"
        }
      ],
      "source": [
        "# distribution of 'app'\n",
        "# some 'apps' have a disproportionately high number of clicks (>15k), and some are very rare (3-4)\n",
        "plt.figure(figsize=(14,8))\n",
        "sns.countplot(x=\"app\",data=train_sample)"
      ]
    },
    {
      "cell_type": "code",
      "execution_count": null,
      "id": "68d773c9",
      "metadata": {
        "execution": {
          "iopub.execute_input": "2023-07-03T13:33:01.877281Z",
          "iopub.status.busy": "2023-07-03T13:33:01.876775Z",
          "iopub.status.idle": "2023-07-03T13:33:03.146626Z",
          "shell.execute_reply": "2023-07-03T13:33:03.145081Z"
        },
        "papermill": {
          "duration": 1.307096,
          "end_time": "2023-07-03T13:33:03.149434",
          "exception": false,
          "start_time": "2023-07-03T13:33:01.842338",
          "status": "completed"
        },
        "tags": [],
        "id": "68d773c9",
        "outputId": "8ca76355-c57d-413b-8b04-64e4cd6d9376"
      },
      "outputs": [
        {
          "data": {
            "text/plain": [
              "<Axes: xlabel='device', ylabel='count'>"
            ]
          },
          "execution_count": 12,
          "metadata": {},
          "output_type": "execute_result"
        },
        {
          "data": {
            "image/png": "[encoded data removed]",
            "text/plain": [
              "<Figure size 1400x800 with 1 Axes>"
            ]
          },
          "metadata": {},
          "output_type": "display_data"
        }
      ],
      "source": [
        "# distribution of 'device'\n",
        "# this is expected because a few popular devices are used heavily\n",
        "plt.figure(figsize=(14, 8))\n",
        "sns.countplot(x=\"device\", data=train_sample)"
      ]
    },
    {
      "cell_type": "code",
      "execution_count": null,
      "id": "52957b65",
      "metadata": {
        "execution": {
          "iopub.execute_input": "2023-07-03T13:33:03.216918Z",
          "iopub.status.busy": "2023-07-03T13:33:03.216479Z",
          "iopub.status.idle": "2023-07-03T13:33:05.098623Z",
          "shell.execute_reply": "2023-07-03T13:33:05.097213Z"
        },
        "papermill": {
          "duration": 1.919261,
          "end_time": "2023-07-03T13:33:05.101056",
          "exception": false,
          "start_time": "2023-07-03T13:33:03.181795",
          "status": "completed"
        },
        "tags": [],
        "id": "52957b65",
        "outputId": "68b8a402-4d27-45fa-d227-5e9ce7d2af2f"
      },
      "outputs": [
        {
          "data": {
            "text/plain": [
              "<Axes: xlabel='channel', ylabel='count'>"
            ]
          },
          "execution_count": 13,
          "metadata": {},
          "output_type": "execute_result"
        },
        {
          "data": {
            "image/png": "[encoded data removed]",
            "text/plain": [
              "<Figure size 1400x800 with 1 Axes>"
            ]
          },
          "metadata": {},
          "output_type": "display_data"
        }
      ],
      "source": [
        "# channel: various channels get clicks in comparable quantities\n",
        "plt.figure(figsize=(14, 8))\n",
        "sns.countplot(x=\"channel\", data=train_sample)"
      ]
    },
    {
      "cell_type": "code",
      "execution_count": null,
      "id": "0cd3839a",
      "metadata": {
        "execution": {
          "iopub.execute_input": "2023-07-03T13:33:05.169871Z",
          "iopub.status.busy": "2023-07-03T13:33:05.168737Z",
          "iopub.status.idle": "2023-07-03T13:33:06.724412Z",
          "shell.execute_reply": "2023-07-03T13:33:06.723429Z"
        },
        "papermill": {
          "duration": 1.592882,
          "end_time": "2023-07-03T13:33:06.726692",
          "exception": false,
          "start_time": "2023-07-03T13:33:05.133810",
          "status": "completed"
        },
        "tags": [],
        "id": "0cd3839a",
        "outputId": "ad79d446-f0d1-4c19-8cfc-f8400a97136b"
      },
      "outputs": [
        {
          "data": {
            "text/plain": [
              "<Axes: xlabel='os', ylabel='count'>"
            ]
          },
          "execution_count": 14,
          "metadata": {},
          "output_type": "execute_result"
        },
        {
          "data": {
            "image/png": "[encoded data removed]",
            "text/plain": [
              "<Figure size 1400x800 with 1 Axes>"
            ]
          },
          "metadata": {},
          "output_type": "display_data"
        }
      ],
      "source": [
        "# os: there are a couple commos OSes (android and ios?), though some are rare and can indicate suspicion\n",
        "plt.figure(figsize=(14, 8))\n",
        "sns.countplot(x=\"os\", data=train_sample)"
      ]
    },
    {
      "cell_type": "markdown",
      "id": "3717c86b",
      "metadata": {
        "papermill": {
          "duration": 0.033957,
          "end_time": "2023-07-03T13:33:06.795181",
          "exception": false,
          "start_time": "2023-07-03T13:33:06.761224",
          "status": "completed"
        },
        "tags": [],
        "id": "3717c86b"
      },
      "source": [
        "Let's now look at the distribution of the target  variable 'is_attributed'."
      ]
    },
    {
      "cell_type": "code",
      "execution_count": null,
      "id": "e7deb656",
      "metadata": {
        "execution": {
          "iopub.execute_input": "2023-07-03T13:33:06.867192Z",
          "iopub.status.busy": "2023-07-03T13:33:06.866451Z",
          "iopub.status.idle": "2023-07-03T13:33:06.893456Z",
          "shell.execute_reply": "2023-07-03T13:33:06.892316Z"
        },
        "papermill": {
          "duration": 0.065974,
          "end_time": "2023-07-03T13:33:06.896188",
          "exception": false,
          "start_time": "2023-07-03T13:33:06.830214",
          "status": "completed"
        },
        "tags": [],
        "id": "e7deb656",
        "outputId": "77c5e9b9-6c20-4a7b-c26f-9550676b8d49"
      },
      "outputs": [
        {
          "data": {
            "text/plain": [
              "0    99.773\n",
              "1     0.227\n",
              "Name: is_attributed, dtype: float64"
            ]
          },
          "execution_count": 15,
          "metadata": {},
          "output_type": "execute_result"
        }
      ],
      "source": [
        "# target variable distribution\n",
        "100 * (train_sample['is_attributed'].astype('object').value_counts()/len(train_sample.index))"
      ]
    },
    {
      "cell_type": "markdown",
      "id": "35c242bb",
      "metadata": {
        "papermill": {
          "duration": 0.034232,
          "end_time": "2023-07-03T13:33:06.964507",
          "exception": false,
          "start_time": "2023-07-03T13:33:06.930275",
          "status": "completed"
        },
        "tags": [],
        "id": "35c242bb"
      },
      "source": []
    },
    {
      "cell_type": "markdown",
      "id": "26520af7",
      "metadata": {
        "papermill": {
          "duration": 0.035333,
          "end_time": "2023-07-03T13:33:07.033508",
          "exception": false,
          "start_time": "2023-07-03T13:33:06.998175",
          "status": "completed"
        },
        "tags": [],
        "id": "26520af7"
      },
      "source": [
        "### Exploring the Data - Segmented Univariate Analysis\n",
        "\n",
        "Let's now look at how the target variable varies with the various predictors."
      ]
    },
    {
      "cell_type": "code",
      "execution_count": null,
      "id": "3c8b0e81",
      "metadata": {
        "execution": {
          "iopub.execute_input": "2023-07-03T13:33:07.106482Z",
          "iopub.status.busy": "2023-07-03T13:33:07.106075Z",
          "iopub.status.idle": "2023-07-03T13:33:07.127210Z",
          "shell.execute_reply": "2023-07-03T13:33:07.125707Z"
        },
        "papermill": {
          "duration": 0.061705,
          "end_time": "2023-07-03T13:33:07.130091",
          "exception": false,
          "start_time": "2023-07-03T13:33:07.068386",
          "status": "completed"
        },
        "tags": [],
        "id": "3c8b0e81",
        "outputId": "123084e3-c517-4e4a-990f-ff372060be48"
      },
      "outputs": [
        {
          "data": {
            "text/html": [
              "<div>\n",
              "<style scoped>\n",
              "    .dataframe tbody tr th:only-of-type {\n",
              "        vertical-align: middle;\n",
              "    }\n",
              "\n",
              "    .dataframe tbody tr th {\n",
              "        vertical-align: top;\n",
              "    }\n",
              "\n",
              "    .dataframe thead th {\n",
              "        text-align: right;\n",
              "    }\n",
              "</style>\n",
              "<table border=\"1\" class=\"dataframe\">\n",
              "  <thead>\n",
              "    <tr style=\"text-align: right;\">\n",
              "      <th></th>\n",
              "      <th>mean</th>\n",
              "      <th>count</th>\n",
              "    </tr>\n",
              "    <tr>\n",
              "      <th>app</th>\n",
              "      <th></th>\n",
              "      <th></th>\n",
              "    </tr>\n",
              "  </thead>\n",
              "  <tbody>\n",
              "    <tr>\n",
              "      <th>1</th>\n",
              "      <td>0.000000</td>\n",
              "      <td>3135</td>\n",
              "    </tr>\n",
              "    <tr>\n",
              "      <th>2</th>\n",
              "      <td>0.000000</td>\n",
              "      <td>11737</td>\n",
              "    </tr>\n",
              "    <tr>\n",
              "      <th>3</th>\n",
              "      <td>0.000219</td>\n",
              "      <td>18279</td>\n",
              "    </tr>\n",
              "    <tr>\n",
              "      <th>4</th>\n",
              "      <td>0.000000</td>\n",
              "      <td>58</td>\n",
              "    </tr>\n",
              "    <tr>\n",
              "      <th>5</th>\n",
              "      <td>0.074468</td>\n",
              "      <td>188</td>\n",
              "    </tr>\n",
              "    <tr>\n",
              "      <th>...</th>\n",
              "      <td>...</td>\n",
              "      <td>...</td>\n",
              "    </tr>\n",
              "    <tr>\n",
              "      <th>486</th>\n",
              "      <td>0.000000</td>\n",
              "      <td>1</td>\n",
              "    </tr>\n",
              "    <tr>\n",
              "      <th>536</th>\n",
              "      <td>0.000000</td>\n",
              "      <td>1</td>\n",
              "    </tr>\n",
              "    <tr>\n",
              "      <th>538</th>\n",
              "      <td>0.000000</td>\n",
              "      <td>1</td>\n",
              "    </tr>\n",
              "    <tr>\n",
              "      <th>548</th>\n",
              "      <td>0.000000</td>\n",
              "      <td>1</td>\n",
              "    </tr>\n",
              "    <tr>\n",
              "      <th>551</th>\n",
              "      <td>0.000000</td>\n",
              "      <td>1</td>\n",
              "    </tr>\n",
              "  </tbody>\n",
              "</table>\n",
              "<p>161 rows × 2 columns</p>\n",
              "</div>"
            ],
            "text/plain": [
              "         mean  count\n",
              "app                 \n",
              "1    0.000000   3135\n",
              "2    0.000000  11737\n",
              "3    0.000219  18279\n",
              "4    0.000000     58\n",
              "5    0.074468    188\n",
              "..        ...    ...\n",
              "486  0.000000      1\n",
              "536  0.000000      1\n",
              "538  0.000000      1\n",
              "548  0.000000      1\n",
              "551  0.000000      1\n",
              "\n",
              "[161 rows x 2 columns]"
            ]
          },
          "execution_count": 16,
          "metadata": {},
          "output_type": "execute_result"
        }
      ],
      "source": [
        "# plot the average of 'is_attributed', or 'download rate'\n",
        "# with app (clearly this is non-readable)\n",
        "\n",
        "app_target = train_sample.groupby('app').is_attributed.agg(['mean','count'])\n",
        "app_target"
      ]
    },
    {
      "cell_type": "markdown",
      "id": "cd16f286",
      "metadata": {
        "papermill": {
          "duration": 0.034045,
          "end_time": "2023-07-03T13:33:07.198849",
          "exception": false,
          "start_time": "2023-07-03T13:33:07.164804",
          "status": "completed"
        },
        "tags": [],
        "id": "cd16f286"
      },
      "source": [
        "This is clearly non-readable, so let's first get rid of all the apps that are very rare (say which comprise of less than 20% clicks) and plot the rest."
      ]
    },
    {
      "cell_type": "code",
      "execution_count": null,
      "id": "b417c5af",
      "metadata": {
        "execution": {
          "iopub.execute_input": "2023-07-03T13:33:07.269205Z",
          "iopub.status.busy": "2023-07-03T13:33:07.268764Z",
          "iopub.status.idle": "2023-07-03T13:33:07.327499Z",
          "shell.execute_reply": "2023-07-03T13:33:07.325971Z"
        },
        "papermill": {
          "duration": 0.0979,
          "end_time": "2023-07-03T13:33:07.330983",
          "exception": false,
          "start_time": "2023-07-03T13:33:07.233083",
          "status": "completed"
        },
        "tags": [],
        "id": "b417c5af",
        "outputId": "a3c4cdb4-eff3-4aa2-801b-faae131e8e1d"
      },
      "outputs": [
        {
          "data": {
            "text/html": [
              "<div>\n",
              "<style scoped>\n",
              "    .dataframe tbody tr th:only-of-type {\n",
              "        vertical-align: middle;\n",
              "    }\n",
              "\n",
              "    .dataframe tbody tr th {\n",
              "        vertical-align: top;\n",
              "    }\n",
              "\n",
              "    .dataframe thead th {\n",
              "        text-align: right;\n",
              "    }\n",
              "</style>\n",
              "<table border=\"1\" class=\"dataframe\">\n",
              "  <thead>\n",
              "    <tr style=\"text-align: right;\">\n",
              "      <th></th>\n",
              "      <th>app</th>\n",
              "      <th>count</th>\n",
              "      <th>ip</th>\n",
              "      <th>device</th>\n",
              "      <th>os</th>\n",
              "      <th>channel</th>\n",
              "      <th>click_time</th>\n",
              "      <th>is_attributed</th>\n",
              "    </tr>\n",
              "  </thead>\n",
              "  <tbody>\n",
              "    <tr>\n",
              "      <th>0</th>\n",
              "      <td>1</td>\n",
              "      <td>3135</td>\n",
              "      <td>17059</td>\n",
              "      <td>1</td>\n",
              "      <td>17</td>\n",
              "      <td>135</td>\n",
              "      <td>2017-11-09 01:17:58</td>\n",
              "      <td>0</td>\n",
              "    </tr>\n",
              "    <tr>\n",
              "      <th>1</th>\n",
              "      <td>1</td>\n",
              "      <td>3135</td>\n",
              "      <td>52432</td>\n",
              "      <td>1</td>\n",
              "      <td>13</td>\n",
              "      <td>115</td>\n",
              "      <td>2017-11-07 17:22:52</td>\n",
              "      <td>0</td>\n",
              "    </tr>\n",
              "    <tr>\n",
              "      <th>2</th>\n",
              "      <td>1</td>\n",
              "      <td>3135</td>\n",
              "      <td>23706</td>\n",
              "      <td>1</td>\n",
              "      <td>27</td>\n",
              "      <td>124</td>\n",
              "      <td>2017-11-07 09:37:21</td>\n",
              "      <td>0</td>\n",
              "    </tr>\n",
              "    <tr>\n",
              "      <th>3</th>\n",
              "      <td>1</td>\n",
              "      <td>3135</td>\n",
              "      <td>58458</td>\n",
              "      <td>1</td>\n",
              "      <td>19</td>\n",
              "      <td>101</td>\n",
              "      <td>2017-11-09 14:27:57</td>\n",
              "      <td>0</td>\n",
              "    </tr>\n",
              "    <tr>\n",
              "      <th>4</th>\n",
              "      <td>1</td>\n",
              "      <td>3135</td>\n",
              "      <td>34067</td>\n",
              "      <td>1</td>\n",
              "      <td>15</td>\n",
              "      <td>134</td>\n",
              "      <td>2017-11-07 15:06:06</td>\n",
              "      <td>0</td>\n",
              "    </tr>\n",
              "  </tbody>\n",
              "</table>\n",
              "</div>"
            ],
            "text/plain": [
              "   app  count     ip  device  os  channel           click_time  is_attributed\n",
              "0    1   3135  17059       1  17      135  2017-11-09 01:17:58              0\n",
              "1    1   3135  52432       1  13      115  2017-11-07 17:22:52              0\n",
              "2    1   3135  23706       1  27      124  2017-11-07 09:37:21              0\n",
              "3    1   3135  58458       1  19      101  2017-11-09 14:27:57              0\n",
              "4    1   3135  34067       1  15      134  2017-11-07 15:06:06              0"
            ]
          },
          "execution_count": 17,
          "metadata": {},
          "output_type": "execute_result"
        }
      ],
      "source": [
        "frequent_apps = train_sample.groupby('app').size().reset_index(name='count')\n",
        "frequent_apps = frequent_apps[frequent_apps['count']>frequent_apps['count'].quantile(0.80)]\n",
        "frequent_apps = frequent_apps.merge(train_sample,on='app',how='inner')\n",
        "frequent_apps.head()"
      ]
    },
    {
      "cell_type": "code",
      "execution_count": null,
      "id": "57477ac8",
      "metadata": {
        "execution": {
          "iopub.execute_input": "2023-07-03T13:33:07.403817Z",
          "iopub.status.busy": "2023-07-03T13:33:07.403383Z",
          "iopub.status.idle": "2023-07-03T13:33:08.414819Z",
          "shell.execute_reply": "2023-07-03T13:33:08.413947Z"
        },
        "papermill": {
          "duration": 1.050424,
          "end_time": "2023-07-03T13:33:08.417463",
          "exception": false,
          "start_time": "2023-07-03T13:33:07.367039",
          "status": "completed"
        },
        "tags": [],
        "id": "57477ac8",
        "outputId": "af81273e-14cf-483a-e55b-3220f2282c7a"
      },
      "outputs": [
        {
          "data": {
            "text/plain": [
              "<Axes: xlabel='count', ylabel='app'>"
            ]
          },
          "execution_count": 18,
          "metadata": {},
          "output_type": "execute_result"
        },
        {
          "data": {
            "image/png": "[encoded data removed]",
            "text/plain": [
              "<Figure size 1000x1000 with 1 Axes>"
            ]
          },
          "metadata": {},
          "output_type": "display_data"
        }
      ],
      "source": [
        "plt.figure(figsize=(10,10))\n",
        "sns.countplot(y=\"app\", hue=\"is_attributed\", data=frequent_apps)"
      ]
    },
    {
      "cell_type": "markdown",
      "id": "48e46d49",
      "metadata": {
        "papermill": {
          "duration": 0.034687,
          "end_time": "2023-07-03T13:33:08.487404",
          "exception": false,
          "start_time": "2023-07-03T13:33:08.452717",
          "status": "completed"
        },
        "tags": [],
        "id": "48e46d49"
      },
      "source": [
        "We can do lots of other interesting ananlysis with the existing features. For now, let's create some new features which will probably improve the model."
      ]
    },
    {
      "cell_type": "markdown",
      "id": "e425525e",
      "metadata": {
        "papermill": {
          "duration": 0.036056,
          "end_time": "2023-07-03T13:33:08.559293",
          "exception": false,
          "start_time": "2023-07-03T13:33:08.523237",
          "status": "completed"
        },
        "tags": [],
        "id": "e425525e"
      },
      "source": [
        "## Feature Engineering"
      ]
    },
    {
      "cell_type": "markdown",
      "id": "d661f103",
      "metadata": {
        "papermill": {
          "duration": 0.034832,
          "end_time": "2023-07-03T13:33:08.629204",
          "exception": false,
          "start_time": "2023-07-03T13:33:08.594372",
          "status": "completed"
        },
        "tags": [],
        "id": "d661f103"
      },
      "source": [
        "Let's now derive some new features from the existing ones. There are a number of features one can extract from ```click_time``` itself, and by grouping combinations of IP with other features."
      ]
    },
    {
      "cell_type": "markdown",
      "id": "ac33b8e1",
      "metadata": {
        "papermill": {
          "duration": 0.034567,
          "end_time": "2023-07-03T13:33:08.698615",
          "exception": false,
          "start_time": "2023-07-03T13:33:08.664048",
          "status": "completed"
        },
        "tags": [],
        "id": "ac33b8e1"
      },
      "source": [
        "### Datetime Based Features\n"
      ]
    },
    {
      "cell_type": "code",
      "execution_count": null,
      "id": "5ed95285",
      "metadata": {
        "execution": {
          "iopub.execute_input": "2023-07-03T13:33:08.771672Z",
          "iopub.status.busy": "2023-07-03T13:33:08.770759Z",
          "iopub.status.idle": "2023-07-03T13:33:08.777538Z",
          "shell.execute_reply": "2023-07-03T13:33:08.776597Z"
        },
        "papermill": {
          "duration": 0.046203,
          "end_time": "2023-07-03T13:33:08.780004",
          "exception": false,
          "start_time": "2023-07-03T13:33:08.733801",
          "status": "completed"
        },
        "tags": [],
        "id": "5ed95285"
      },
      "outputs": [],
      "source": [
        "# Creating datetime variables\n",
        "# takes in a df, adds date/time based columns to it, and returns the modified df\n",
        "\n",
        "def timeFeatures(df):\n",
        "    # Derive new features using the click_time column\n",
        "    df['datetime'] = pd.to_datetime(df['click_time'])\n",
        "    df['day_of_week'] = df['datetime'].dt.dayofweek\n",
        "    df['day_of_year'] = df['datetime'].dt.dayofyear\n",
        "    df['month'] = df['datetime'].dt.month\n",
        "    df['hour'] =df['datetime'].dt.hour\n",
        "    return df"
      ]
    },
    {
      "cell_type": "code",
      "execution_count": null,
      "id": "1a1cd90f",
      "metadata": {
        "execution": {
          "iopub.execute_input": "2023-07-03T13:33:08.852727Z",
          "iopub.status.busy": "2023-07-03T13:33:08.851913Z",
          "iopub.status.idle": "2023-07-03T13:33:08.961918Z",
          "shell.execute_reply": "2023-07-03T13:33:08.960730Z"
        },
        "papermill": {
          "duration": 0.149473,
          "end_time": "2023-07-03T13:33:08.964642",
          "exception": false,
          "start_time": "2023-07-03T13:33:08.815169",
          "status": "completed"
        },
        "tags": [],
        "id": "1a1cd90f",
        "outputId": "de0db61c-869c-4cd8-e3be-d28d4b53e008"
      },
      "outputs": [
        {
          "data": {
            "text/html": [
              "<div>\n",
              "<style scoped>\n",
              "    .dataframe tbody tr th:only-of-type {\n",
              "        vertical-align: middle;\n",
              "    }\n",
              "\n",
              "    .dataframe tbody tr th {\n",
              "        vertical-align: top;\n",
              "    }\n",
              "\n",
              "    .dataframe thead th {\n",
              "        text-align: right;\n",
              "    }\n",
              "</style>\n",
              "<table border=\"1\" class=\"dataframe\">\n",
              "  <thead>\n",
              "    <tr style=\"text-align: right;\">\n",
              "      <th></th>\n",
              "      <th>ip</th>\n",
              "      <th>app</th>\n",
              "      <th>device</th>\n",
              "      <th>os</th>\n",
              "      <th>channel</th>\n",
              "      <th>is_attributed</th>\n",
              "      <th>day_of_week</th>\n",
              "      <th>day_of_year</th>\n",
              "      <th>month</th>\n",
              "      <th>hour</th>\n",
              "    </tr>\n",
              "  </thead>\n",
              "  <tbody>\n",
              "    <tr>\n",
              "      <th>0</th>\n",
              "      <td>22004</td>\n",
              "      <td>12</td>\n",
              "      <td>1</td>\n",
              "      <td>13</td>\n",
              "      <td>497</td>\n",
              "      <td>0</td>\n",
              "      <td>1</td>\n",
              "      <td>311</td>\n",
              "      <td>11</td>\n",
              "      <td>9</td>\n",
              "    </tr>\n",
              "    <tr>\n",
              "      <th>1</th>\n",
              "      <td>40024</td>\n",
              "      <td>25</td>\n",
              "      <td>1</td>\n",
              "      <td>17</td>\n",
              "      <td>259</td>\n",
              "      <td>0</td>\n",
              "      <td>1</td>\n",
              "      <td>311</td>\n",
              "      <td>11</td>\n",
              "      <td>13</td>\n",
              "    </tr>\n",
              "    <tr>\n",
              "      <th>2</th>\n",
              "      <td>35888</td>\n",
              "      <td>12</td>\n",
              "      <td>1</td>\n",
              "      <td>19</td>\n",
              "      <td>212</td>\n",
              "      <td>0</td>\n",
              "      <td>1</td>\n",
              "      <td>311</td>\n",
              "      <td>11</td>\n",
              "      <td>18</td>\n",
              "    </tr>\n",
              "    <tr>\n",
              "      <th>3</th>\n",
              "      <td>29048</td>\n",
              "      <td>13</td>\n",
              "      <td>1</td>\n",
              "      <td>13</td>\n",
              "      <td>477</td>\n",
              "      <td>0</td>\n",
              "      <td>1</td>\n",
              "      <td>311</td>\n",
              "      <td>11</td>\n",
              "      <td>4</td>\n",
              "    </tr>\n",
              "    <tr>\n",
              "      <th>4</th>\n",
              "      <td>2877</td>\n",
              "      <td>12</td>\n",
              "      <td>1</td>\n",
              "      <td>1</td>\n",
              "      <td>178</td>\n",
              "      <td>0</td>\n",
              "      <td>3</td>\n",
              "      <td>313</td>\n",
              "      <td>11</td>\n",
              "      <td>9</td>\n",
              "    </tr>\n",
              "  </tbody>\n",
              "</table>\n",
              "</div>"
            ],
            "text/plain": [
              "      ip  app  device  os  channel  is_attributed  day_of_week  day_of_year  \\\n",
              "0  22004   12       1  13      497              0            1          311   \n",
              "1  40024   25       1  17      259              0            1          311   \n",
              "2  35888   12       1  19      212              0            1          311   \n",
              "3  29048   13       1  13      477              0            1          311   \n",
              "4   2877   12       1   1      178              0            3          313   \n",
              "\n",
              "   month  hour  \n",
              "0     11     9  \n",
              "1     11    13  \n",
              "2     11    18  \n",
              "3     11     4  \n",
              "4     11     9  "
            ]
          },
          "execution_count": 20,
          "metadata": {},
          "output_type": "execute_result"
        }
      ],
      "source": [
        "# creating new datetime variables and dropping the old ones\n",
        "train_sample = timeFeatures(train_sample)\n",
        "train_sample.drop(['click_time','datetime'], axis=1, inplace=True)\n",
        "train_sample.head()"
      ]
    },
    {
      "cell_type": "code",
      "execution_count": null,
      "id": "592a99d0",
      "metadata": {
        "execution": {
          "iopub.execute_input": "2023-07-03T13:33:09.039950Z",
          "iopub.status.busy": "2023-07-03T13:33:09.039428Z",
          "iopub.status.idle": "2023-07-03T13:33:09.048807Z",
          "shell.execute_reply": "2023-07-03T13:33:09.047677Z"
        },
        "papermill": {
          "duration": 0.050541,
          "end_time": "2023-07-03T13:33:09.051290",
          "exception": false,
          "start_time": "2023-07-03T13:33:09.000749",
          "status": "completed"
        },
        "tags": [],
        "id": "592a99d0",
        "outputId": "01e9e393-dfdd-4ffb-a6c4-5ac282626078"
      },
      "outputs": [
        {
          "data": {
            "text/plain": [
              "ip               uint16\n",
              "app              uint16\n",
              "device           uint16\n",
              "os               uint16\n",
              "channel          uint16\n",
              "is_attributed     uint8\n",
              "day_of_week       int64\n",
              "day_of_year       int64\n",
              "month             int64\n",
              "hour              int64\n",
              "dtype: object"
            ]
          },
          "execution_count": 21,
          "metadata": {},
          "output_type": "execute_result"
        }
      ],
      "source": [
        "# datatypes\n",
        "# note that by default the new datetime variables are int64\n",
        "train_sample.dtypes"
      ]
    },
    {
      "cell_type": "code",
      "execution_count": null,
      "id": "3ee6ce27",
      "metadata": {
        "execution": {
          "iopub.execute_input": "2023-07-03T13:33:09.126059Z",
          "iopub.status.busy": "2023-07-03T13:33:09.125562Z",
          "iopub.status.idle": "2023-07-03T13:33:09.133274Z",
          "shell.execute_reply": "2023-07-03T13:33:09.132416Z"
        },
        "papermill": {
          "duration": 0.048024,
          "end_time": "2023-07-03T13:33:09.135625",
          "exception": false,
          "start_time": "2023-07-03T13:33:09.087601",
          "status": "completed"
        },
        "tags": [],
        "id": "3ee6ce27",
        "outputId": "fbc809f1-8e2d-404a-a0d2-4ad2a50b0ebb"
      },
      "outputs": [
        {
          "name": "stdout",
          "output_type": "stream",
          "text": [
            "Training dataset uses 4.100921630859375 MB\n"
          ]
        }
      ],
      "source": [
        "# memory used by training data\n",
        "print('Training dataset uses {0} MB'.format(train_sample.memory_usage().sum()/1024**2))"
      ]
    },
    {
      "cell_type": "code",
      "execution_count": null,
      "id": "d871a95c",
      "metadata": {
        "execution": {
          "iopub.execute_input": "2023-07-03T13:33:09.211521Z",
          "iopub.status.busy": "2023-07-03T13:33:09.210875Z",
          "iopub.status.idle": "2023-07-03T13:33:09.232949Z",
          "shell.execute_reply": "2023-07-03T13:33:09.231674Z"
        },
        "papermill": {
          "duration": 0.063299,
          "end_time": "2023-07-03T13:33:09.236093",
          "exception": false,
          "start_time": "2023-07-03T13:33:09.172794",
          "status": "completed"
        },
        "tags": [],
        "id": "d871a95c"
      },
      "outputs": [],
      "source": [
        "# lets convert the variables back to lower dtype again\n",
        "int_vars = ['app', 'device', 'os', 'channel', 'day_of_week','day_of_year', 'month', 'hour']\n",
        "train_sample[int_vars] = train_sample[int_vars].astype('uint16')"
      ]
    },
    {
      "cell_type": "code",
      "execution_count": null,
      "id": "cbba47bd",
      "metadata": {
        "execution": {
          "iopub.execute_input": "2023-07-03T13:33:09.311539Z",
          "iopub.status.busy": "2023-07-03T13:33:09.310765Z",
          "iopub.status.idle": "2023-07-03T13:33:09.320126Z",
          "shell.execute_reply": "2023-07-03T13:33:09.318757Z"
        },
        "papermill": {
          "duration": 0.050316,
          "end_time": "2023-07-03T13:33:09.322974",
          "exception": false,
          "start_time": "2023-07-03T13:33:09.272658",
          "status": "completed"
        },
        "tags": [],
        "id": "cbba47bd",
        "outputId": "b92c82cf-0e12-4b84-9eb0-aba72059720a"
      },
      "outputs": [
        {
          "data": {
            "text/plain": [
              "ip               uint16\n",
              "app              uint16\n",
              "device           uint16\n",
              "os               uint16\n",
              "channel          uint16\n",
              "is_attributed     uint8\n",
              "day_of_week      uint16\n",
              "day_of_year      uint16\n",
              "month            uint16\n",
              "hour             uint16\n",
              "dtype: object"
            ]
          },
          "execution_count": 24,
          "metadata": {},
          "output_type": "execute_result"
        }
      ],
      "source": [
        "train_sample.dtypes"
      ]
    },
    {
      "cell_type": "code",
      "execution_count": null,
      "id": "826833d0",
      "metadata": {
        "execution": {
          "iopub.execute_input": "2023-07-03T13:33:09.402104Z",
          "iopub.status.busy": "2023-07-03T13:33:09.400999Z",
          "iopub.status.idle": "2023-07-03T13:33:09.410427Z",
          "shell.execute_reply": "2023-07-03T13:33:09.408766Z"
        },
        "papermill": {
          "duration": 0.050166,
          "end_time": "2023-07-03T13:33:09.412997",
          "exception": false,
          "start_time": "2023-07-03T13:33:09.362831",
          "status": "completed"
        },
        "tags": [],
        "id": "826833d0",
        "outputId": "3d515996-cbef-4537-c96b-175a1811475a"
      },
      "outputs": [
        {
          "name": "stdout",
          "output_type": "stream",
          "text": [
            "Training dataset uses 1.812103271484375 MB\n"
          ]
        }
      ],
      "source": [
        "# space used by training data\n",
        "print('Training dataset uses {0} MB'.format(train_sample.memory_usage().sum()/1024**2))"
      ]
    },
    {
      "cell_type": "markdown",
      "id": "3ffe835a",
      "metadata": {
        "papermill": {
          "duration": 0.035627,
          "end_time": "2023-07-03T13:33:09.484798",
          "exception": false,
          "start_time": "2023-07-03T13:33:09.449171",
          "status": "completed"
        },
        "tags": [],
        "id": "3ffe835a"
      },
      "source": [
        "### IP Grouping Based Features"
      ]
    },
    {
      "cell_type": "markdown",
      "id": "9e743f9f",
      "metadata": {
        "papermill": {
          "duration": 0.035814,
          "end_time": "2023-07-03T13:33:09.557634",
          "exception": false,
          "start_time": "2023-07-03T13:33:09.521820",
          "status": "completed"
        },
        "tags": [],
        "id": "9e743f9f"
      },
      "source": [
        "Let's now create some important features by grouping IP addresses with features such as os, channel, hour, day etc. Also, count of each IP address will also be a feature.\n",
        "\n",
        "Note that though we are deriving new features by grouping IP addresses, using IP adress itself as a features is not a good idea. This is because (in the test data) if a new IP address is seen, the model will see a new 'category' and will not be able to make predictions (IP is a categorical variable, it has just been encoded with numbers)."
      ]
    },
    {
      "cell_type": "code",
      "execution_count": null,
      "id": "f22139d3",
      "metadata": {
        "execution": {
          "iopub.execute_input": "2023-07-03T13:33:09.633233Z",
          "iopub.status.busy": "2023-07-03T13:33:09.632549Z",
          "iopub.status.idle": "2023-07-03T13:33:09.655376Z",
          "shell.execute_reply": "2023-07-03T13:33:09.654114Z"
        },
        "papermill": {
          "duration": 0.063764,
          "end_time": "2023-07-03T13:33:09.658183",
          "exception": false,
          "start_time": "2023-07-03T13:33:09.594419",
          "status": "completed"
        },
        "tags": [],
        "id": "f22139d3",
        "outputId": "13b21946-cf68-4642-dfc3-e89278583241"
      },
      "outputs": [
        {
          "data": {
            "text/html": [
              "<div>\n",
              "<style scoped>\n",
              "    .dataframe tbody tr th:only-of-type {\n",
              "        vertical-align: middle;\n",
              "    }\n",
              "\n",
              "    .dataframe tbody tr th {\n",
              "        vertical-align: top;\n",
              "    }\n",
              "\n",
              "    .dataframe thead th {\n",
              "        text-align: right;\n",
              "    }\n",
              "</style>\n",
              "<table border=\"1\" class=\"dataframe\">\n",
              "  <thead>\n",
              "    <tr style=\"text-align: right;\">\n",
              "      <th></th>\n",
              "      <th>ip</th>\n",
              "      <th>ip_count</th>\n",
              "    </tr>\n",
              "  </thead>\n",
              "  <tbody>\n",
              "    <tr>\n",
              "      <th>0</th>\n",
              "      <td>8</td>\n",
              "      <td>1</td>\n",
              "    </tr>\n",
              "    <tr>\n",
              "      <th>1</th>\n",
              "      <td>9</td>\n",
              "      <td>1</td>\n",
              "    </tr>\n",
              "    <tr>\n",
              "      <th>2</th>\n",
              "      <td>10</td>\n",
              "      <td>3</td>\n",
              "    </tr>\n",
              "    <tr>\n",
              "      <th>3</th>\n",
              "      <td>14</td>\n",
              "      <td>1</td>\n",
              "    </tr>\n",
              "    <tr>\n",
              "      <th>4</th>\n",
              "      <td>16</td>\n",
              "      <td>6</td>\n",
              "    </tr>\n",
              "  </tbody>\n",
              "</table>\n",
              "</div>"
            ],
            "text/plain": [
              "   ip  ip_count\n",
              "0   8         1\n",
              "1   9         1\n",
              "2  10         3\n",
              "3  14         1\n",
              "4  16         6"
            ]
          },
          "execution_count": 26,
          "metadata": {},
          "output_type": "execute_result"
        }
      ],
      "source": [
        "# number of clicks by count of IP address\n",
        "# note that we are explicitly asking pandas to re-encode the aggregated features\n",
        "# as 'int16' to save memory\n",
        "ip_count = train_sample.groupby('ip').size().reset_index(name='ip_count').astype('int16')\n",
        "ip_count.head()"
      ]
    },
    {
      "cell_type": "markdown",
      "id": "8dea95f3",
      "metadata": {
        "papermill": {
          "duration": 0.036626,
          "end_time": "2023-07-03T13:33:09.731806",
          "exception": false,
          "start_time": "2023-07-03T13:33:09.695180",
          "status": "completed"
        },
        "tags": [],
        "id": "8dea95f3"
      },
      "source": [
        "We can now merge this dataframe with the original training df. Similarly, we can create combinations of various features such as ip_day_hour (count of ip-day-hour combinations), ip_hour_channel, ip_hour_app, etc.\n",
        "\n",
        "The following function takes in a dataframe and creates these features."
      ]
    },
    {
      "cell_type": "code",
      "execution_count": null,
      "id": "58b4320e",
      "metadata": {
        "execution": {
          "iopub.execute_input": "2023-07-03T13:33:09.807426Z",
          "iopub.status.busy": "2023-07-03T13:33:09.806652Z",
          "iopub.status.idle": "2023-07-03T13:33:09.820696Z",
          "shell.execute_reply": "2023-07-03T13:33:09.819394Z"
        },
        "papermill": {
          "duration": 0.055378,
          "end_time": "2023-07-03T13:33:09.823458",
          "exception": false,
          "start_time": "2023-07-03T13:33:09.768080",
          "status": "completed"
        },
        "tags": [],
        "id": "58b4320e"
      },
      "outputs": [],
      "source": [
        "# creates groupings of IP addresses with other features and appends the new features to the df\n",
        "\n",
        "def grouped_features(df):\n",
        "    # ip_count\n",
        "    ip_count = df.groupby('ip').size().reset_index(name='ip_count').astype('uint16')\n",
        "    ip_day_hour = df.groupby(['ip','day_of_week','hour']).size().reset_index(name='ip_day_hour').astype('uint16')\n",
        "    ip_hour_channel = df[['ip','hour','channel']].groupby(['ip','hour','channel']).size().reset_index(name='ip_hour_channel').astype('uint16')\n",
        "    ip_hour_os = df.groupby(['ip', 'hour', 'os']).channel.count().reset_index(name='ip_hour_os').astype('uint16')\n",
        "    ip_hour_app = df.groupby(['ip', 'hour', 'app']).channel.count().reset_index(name='ip_hour_app').astype('uint16')\n",
        "    ip_hour_device = df.groupby(['ip', 'hour', 'device']).channel.count().reset_index(name='ip_hour_device').astype('uint16')\n",
        "\n",
        "    # merge the new aggregated features with the df\n",
        "    df = pd.merge(df, ip_count, on='ip', how='left')\n",
        "    del ip_count\n",
        "    df = pd.merge(df, ip_day_hour, on=['ip', 'day_of_week', 'hour'], how='left')\n",
        "    del ip_day_hour\n",
        "    df = pd.merge(df, ip_hour_channel, on=['ip', 'hour', 'channel'], how='left')\n",
        "    del ip_hour_channel\n",
        "    df = pd.merge(df, ip_hour_os, on=['ip', 'hour', 'os'], how='left')\n",
        "    del ip_hour_os\n",
        "    df = pd.merge(df, ip_hour_app, on=['ip', 'hour', 'app'], how='left')\n",
        "    del ip_hour_app\n",
        "    df = pd.merge(df, ip_hour_device, on=['ip', 'hour', 'device'], how='left')\n",
        "    del ip_hour_device\n",
        "\n",
        "    return df"
      ]
    },
    {
      "cell_type": "code",
      "execution_count": null,
      "id": "0624905b",
      "metadata": {
        "execution": {
          "iopub.execute_input": "2023-07-03T13:33:09.899566Z",
          "iopub.status.busy": "2023-07-03T13:33:09.899094Z",
          "iopub.status.idle": "2023-07-03T13:33:10.412788Z",
          "shell.execute_reply": "2023-07-03T13:33:10.411389Z"
        },
        "papermill": {
          "duration": 0.556431,
          "end_time": "2023-07-03T13:33:10.415983",
          "exception": false,
          "start_time": "2023-07-03T13:33:09.859552",
          "status": "completed"
        },
        "tags": [],
        "id": "0624905b"
      },
      "outputs": [],
      "source": [
        "train_sample = grouped_features(train_sample)"
      ]
    },
    {
      "cell_type": "code",
      "execution_count": null,
      "id": "e365bcfd",
      "metadata": {
        "execution": {
          "iopub.execute_input": "2023-07-03T13:33:10.493244Z",
          "iopub.status.busy": "2023-07-03T13:33:10.492744Z",
          "iopub.status.idle": "2023-07-03T13:33:10.511422Z",
          "shell.execute_reply": "2023-07-03T13:33:10.510305Z"
        },
        "papermill": {
          "duration": 0.05992,
          "end_time": "2023-07-03T13:33:10.513864",
          "exception": false,
          "start_time": "2023-07-03T13:33:10.453944",
          "status": "completed"
        },
        "tags": [],
        "id": "e365bcfd",
        "outputId": "d88fa1c2-cfd1-4fc0-885c-595dd7e8761b"
      },
      "outputs": [
        {
          "data": {
            "text/html": [
              "<div>\n",
              "<style scoped>\n",
              "    .dataframe tbody tr th:only-of-type {\n",
              "        vertical-align: middle;\n",
              "    }\n",
              "\n",
              "    .dataframe tbody tr th {\n",
              "        vertical-align: top;\n",
              "    }\n",
              "\n",
              "    .dataframe thead th {\n",
              "        text-align: right;\n",
              "    }\n",
              "</style>\n",
              "<table border=\"1\" class=\"dataframe\">\n",
              "  <thead>\n",
              "    <tr style=\"text-align: right;\">\n",
              "      <th></th>\n",
              "      <th>ip</th>\n",
              "      <th>app</th>\n",
              "      <th>device</th>\n",
              "      <th>os</th>\n",
              "      <th>channel</th>\n",
              "      <th>is_attributed</th>\n",
              "      <th>day_of_week</th>\n",
              "      <th>day_of_year</th>\n",
              "      <th>month</th>\n",
              "      <th>hour</th>\n",
              "      <th>ip_count</th>\n",
              "      <th>ip_day_hour</th>\n",
              "      <th>ip_hour_channel</th>\n",
              "      <th>ip_hour_os</th>\n",
              "      <th>ip_hour_app</th>\n",
              "      <th>ip_hour_device</th>\n",
              "    </tr>\n",
              "  </thead>\n",
              "  <tbody>\n",
              "    <tr>\n",
              "      <th>0</th>\n",
              "      <td>22004</td>\n",
              "      <td>12</td>\n",
              "      <td>1</td>\n",
              "      <td>13</td>\n",
              "      <td>497</td>\n",
              "      <td>0</td>\n",
              "      <td>1</td>\n",
              "      <td>311</td>\n",
              "      <td>11</td>\n",
              "      <td>9</td>\n",
              "      <td>8</td>\n",
              "      <td>1</td>\n",
              "      <td>1</td>\n",
              "      <td>1</td>\n",
              "      <td>1</td>\n",
              "      <td>1</td>\n",
              "    </tr>\n",
              "    <tr>\n",
              "      <th>1</th>\n",
              "      <td>40024</td>\n",
              "      <td>25</td>\n",
              "      <td>1</td>\n",
              "      <td>17</td>\n",
              "      <td>259</td>\n",
              "      <td>0</td>\n",
              "      <td>1</td>\n",
              "      <td>311</td>\n",
              "      <td>11</td>\n",
              "      <td>13</td>\n",
              "      <td>149</td>\n",
              "      <td>4</td>\n",
              "      <td>1</td>\n",
              "      <td>1</td>\n",
              "      <td>1</td>\n",
              "      <td>8</td>\n",
              "    </tr>\n",
              "    <tr>\n",
              "      <th>2</th>\n",
              "      <td>35888</td>\n",
              "      <td>12</td>\n",
              "      <td>1</td>\n",
              "      <td>19</td>\n",
              "      <td>212</td>\n",
              "      <td>0</td>\n",
              "      <td>1</td>\n",
              "      <td>311</td>\n",
              "      <td>11</td>\n",
              "      <td>18</td>\n",
              "      <td>2</td>\n",
              "      <td>1</td>\n",
              "      <td>1</td>\n",
              "      <td>1</td>\n",
              "      <td>1</td>\n",
              "      <td>1</td>\n",
              "    </tr>\n",
              "    <tr>\n",
              "      <th>3</th>\n",
              "      <td>29048</td>\n",
              "      <td>13</td>\n",
              "      <td>1</td>\n",
              "      <td>13</td>\n",
              "      <td>477</td>\n",
              "      <td>0</td>\n",
              "      <td>1</td>\n",
              "      <td>311</td>\n",
              "      <td>11</td>\n",
              "      <td>4</td>\n",
              "      <td>3</td>\n",
              "      <td>1</td>\n",
              "      <td>1</td>\n",
              "      <td>1</td>\n",
              "      <td>1</td>\n",
              "      <td>1</td>\n",
              "    </tr>\n",
              "    <tr>\n",
              "      <th>4</th>\n",
              "      <td>2877</td>\n",
              "      <td>12</td>\n",
              "      <td>1</td>\n",
              "      <td>1</td>\n",
              "      <td>178</td>\n",
              "      <td>0</td>\n",
              "      <td>3</td>\n",
              "      <td>313</td>\n",
              "      <td>11</td>\n",
              "      <td>9</td>\n",
              "      <td>4</td>\n",
              "      <td>1</td>\n",
              "      <td>1</td>\n",
              "      <td>1</td>\n",
              "      <td>1</td>\n",
              "      <td>1</td>\n",
              "    </tr>\n",
              "  </tbody>\n",
              "</table>\n",
              "</div>"
            ],
            "text/plain": [
              "      ip  app  device  os  channel  is_attributed  day_of_week  day_of_year  \\\n",
              "0  22004   12       1  13      497              0            1          311   \n",
              "1  40024   25       1  17      259              0            1          311   \n",
              "2  35888   12       1  19      212              0            1          311   \n",
              "3  29048   13       1  13      477              0            1          311   \n",
              "4   2877   12       1   1      178              0            3          313   \n",
              "\n",
              "   month  hour  ip_count  ip_day_hour  ip_hour_channel  ip_hour_os  \\\n",
              "0     11     9         8            1                1           1   \n",
              "1     11    13       149            4                1           1   \n",
              "2     11    18         2            1                1           1   \n",
              "3     11     4         3            1                1           1   \n",
              "4     11     9         4            1                1           1   \n",
              "\n",
              "   ip_hour_app  ip_hour_device  \n",
              "0            1               1  \n",
              "1            1               8  \n",
              "2            1               1  \n",
              "3            1               1  \n",
              "4            1               1  "
            ]
          },
          "execution_count": 29,
          "metadata": {},
          "output_type": "execute_result"
        }
      ],
      "source": [
        "train_sample.head()"
      ]
    },
    {
      "cell_type": "code",
      "execution_count": null,
      "id": "cf670226",
      "metadata": {
        "execution": {
          "iopub.execute_input": "2023-07-03T13:33:10.590816Z",
          "iopub.status.busy": "2023-07-03T13:33:10.590030Z",
          "iopub.status.idle": "2023-07-03T13:33:10.599340Z",
          "shell.execute_reply": "2023-07-03T13:33:10.597973Z"
        },
        "papermill": {
          "duration": 0.050844,
          "end_time": "2023-07-03T13:33:10.601849",
          "exception": false,
          "start_time": "2023-07-03T13:33:10.551005",
          "status": "completed"
        },
        "tags": [],
        "id": "cf670226",
        "outputId": "8567d7c4-4327-4cb6-bf48-d9f4a5f74906"
      },
      "outputs": [
        {
          "name": "stdout",
          "output_type": "stream",
          "text": [
            "Training dataset uses 3.719329833984375 MB\n"
          ]
        }
      ],
      "source": [
        "print('Training dataset uses {0} MB'.format(train_sample.memory_usage().sum()/1024**2))"
      ]
    },
    {
      "cell_type": "code",
      "execution_count": null,
      "id": "93ed871d",
      "metadata": {
        "execution": {
          "iopub.execute_input": "2023-07-03T13:33:10.678186Z",
          "iopub.status.busy": "2023-07-03T13:33:10.677403Z",
          "iopub.status.idle": "2023-07-03T13:33:10.882098Z",
          "shell.execute_reply": "2023-07-03T13:33:10.880845Z"
        },
        "papermill": {
          "duration": 0.245481,
          "end_time": "2023-07-03T13:33:10.884684",
          "exception": false,
          "start_time": "2023-07-03T13:33:10.639203",
          "status": "completed"
        },
        "tags": [],
        "id": "93ed871d",
        "outputId": "72131e2d-8c93-45ff-b9a8-2d47c99b1fd5"
      },
      "outputs": [
        {
          "data": {
            "text/plain": [
              "70"
            ]
          },
          "execution_count": 31,
          "metadata": {},
          "output_type": "execute_result"
        }
      ],
      "source": [
        "# garbage collect (unused) object\n",
        "gc.collect()"
      ]
    },
    {
      "cell_type": "markdown",
      "id": "5a339056",
      "metadata": {
        "papermill": {
          "duration": 0.036706,
          "end_time": "2023-07-03T13:33:10.958807",
          "exception": false,
          "start_time": "2023-07-03T13:33:10.922101",
          "status": "completed"
        },
        "tags": [],
        "id": "5a339056"
      },
      "source": [
        "## Modelling\n",
        "\n",
        "  We'll try the several variants of boosting (adaboost, gradient boosting and XGBoost), tune the hyperparameters in each model and choose the one which gives the best performance.\n",
        "\n",
        "\n"
      ]
    },
    {
      "cell_type": "code",
      "execution_count": null,
      "id": "fc0556e1",
      "metadata": {
        "execution": {
          "iopub.execute_input": "2023-07-03T13:33:11.036693Z",
          "iopub.status.busy": "2023-07-03T13:33:11.036216Z",
          "iopub.status.idle": "2023-07-03T13:33:11.091325Z",
          "shell.execute_reply": "2023-07-03T13:33:11.090485Z"
        },
        "papermill": {
          "duration": 0.097396,
          "end_time": "2023-07-03T13:33:11.093709",
          "exception": false,
          "start_time": "2023-07-03T13:33:10.996313",
          "status": "completed"
        },
        "tags": [],
        "id": "fc0556e1",
        "outputId": "38e1da20-b8ba-4533-ed4c-57aec48fb5d4"
      },
      "outputs": [
        {
          "name": "stdout",
          "output_type": "stream",
          "text": [
            "(80000, 15)\n",
            "(80000, 1)\n",
            "(20000, 15)\n",
            "(20000, 1)\n"
          ]
        }
      ],
      "source": [
        "# create x and y train\n",
        "X = train_sample.drop('is_attributed',axis=1)\n",
        "y = train_sample[['is_attributed']]\n",
        "\n",
        "# split data into train and test/validation sets\n",
        "X_train, X_test, y_train, y_test = train_test_split(X,y,test_size=0.20,random_state=101)\n",
        "print(X_train.shape)\n",
        "print(y_train.shape)\n",
        "print(X_test.shape)\n",
        "print(y_test.shape)"
      ]
    },
    {
      "cell_type": "code",
      "execution_count": null,
      "id": "41244142",
      "metadata": {
        "execution": {
          "iopub.execute_input": "2023-07-03T13:33:11.171743Z",
          "iopub.status.busy": "2023-07-03T13:33:11.171068Z",
          "iopub.status.idle": "2023-07-03T13:33:11.182661Z",
          "shell.execute_reply": "2023-07-03T13:33:11.180854Z"
        },
        "papermill": {
          "duration": 0.053615,
          "end_time": "2023-07-03T13:33:11.185460",
          "exception": false,
          "start_time": "2023-07-03T13:33:11.131845",
          "status": "completed"
        },
        "tags": [],
        "id": "41244142",
        "outputId": "2a818388-244e-4e5d-f991-e10453430546"
      },
      "outputs": [
        {
          "name": "stdout",
          "output_type": "stream",
          "text": [
            "is_attributed    0.002275\n",
            "dtype: float64\n",
            "is_attributed    0.00225\n",
            "dtype: float64\n"
          ]
        }
      ],
      "source": [
        "# check the average download rates in train and test data, should be comparable\n",
        "print(y_train.mean())\n",
        "print(y_test.mean())"
      ]
    },
    {
      "cell_type": "markdown",
      "id": "0ccbd55d",
      "metadata": {
        "papermill": {
          "duration": 0.037976,
          "end_time": "2023-07-03T13:33:11.265098",
          "exception": false,
          "start_time": "2023-07-03T13:33:11.227122",
          "status": "completed"
        },
        "tags": [],
        "id": "0ccbd55d"
      },
      "source": [
        "## AdaBoost"
      ]
    },
    {
      "cell_type": "code",
      "execution_count": null,
      "id": "eb425957",
      "metadata": {
        "execution": {
          "iopub.execute_input": "2023-07-03T13:33:11.343931Z",
          "iopub.status.busy": "2023-07-03T13:33:11.343435Z",
          "iopub.status.idle": "2023-07-03T13:33:11.350910Z",
          "shell.execute_reply": "2023-07-03T13:33:11.349511Z"
        },
        "papermill": {
          "duration": 0.050285,
          "end_time": "2023-07-03T13:33:11.353993",
          "exception": false,
          "start_time": "2023-07-03T13:33:11.303708",
          "status": "completed"
        },
        "tags": [],
        "id": "eb425957"
      },
      "outputs": [],
      "source": [
        "# adaboost classifier with max 600 decision tress of depth=2\n",
        "# learning_rate/shrinkage = 1.5\n",
        "\n",
        "# base estimator\n",
        "tree = DecisionTreeClassifier(max_depth=2)\n",
        "\n",
        "# adaboost with the tree as base estimator\n",
        "adaboost_model_1 = AdaBoostClassifier(base_estimator=tree,\n",
        "                                     n_estimators=600,\n",
        "                                     learning_rate=1.5,\n",
        "                                     algorithm=\"SAMME\")"
      ]
    },
    {
      "cell_type": "code",
      "execution_count": null,
      "id": "227c76f1",
      "metadata": {
        "execution": {
          "iopub.execute_input": "2023-07-03T13:33:11.444309Z",
          "iopub.status.busy": "2023-07-03T13:33:11.443745Z",
          "iopub.status.idle": "2023-07-03T13:34:21.396290Z",
          "shell.execute_reply": "2023-07-03T13:34:21.395214Z"
        },
        "papermill": {
          "duration": 70.062474,
          "end_time": "2023-07-03T13:34:21.457620",
          "exception": false,
          "start_time": "2023-07-03T13:33:11.395146",
          "status": "completed"
        },
        "tags": [],
        "id": "227c76f1",
        "outputId": "1463e892-8a58-4e3b-bb81-12041ffe2d21"
      },
      "outputs": [
        {
          "data": {
            "text/html": [
              "<style>#sk-container-id-1 {color: black;background-color: white;}#sk-container-id-1 pre{padding: 0;}#sk-container-id-1 div.sk-toggleable {background-color: white;}#sk-container-id-1 label.sk-toggleable__label {cursor: pointer;display: block;width: 100%;margin-bottom: 0;padding: 0.3em;box-sizing: border-box;text-align: center;}#sk-container-id-1 label.sk-toggleable__label-arrow:before {content: \"▸\";float: left;margin-right: 0.25em;color: #696969;}#sk-container-id-1 label.sk-toggleable__label-arrow:hover:before {color: black;}#sk-container-id-1 div.sk-estimator:hover label.sk-toggleable__label-arrow:before {color: black;}#sk-container-id-1 div.sk-toggleable__content {max-height: 0;max-width: 0;overflow: hidden;text-align: left;background-color: #f0f8ff;}#sk-container-id-1 div.sk-toggleable__content pre {margin: 0.2em;color: black;border-radius: 0.25em;background-color: #f0f8ff;}#sk-container-id-1 input.sk-toggleable__control:checked~div.sk-toggleable__content {max-height: 200px;max-width: 100%;overflow: auto;}#sk-container-id-1 input.sk-toggleable__control:checked~label.sk-toggleable__label-arrow:before {content: \"▾\";}#sk-container-id-1 div.sk-estimator input.sk-toggleable__control:checked~label.sk-toggleable__label {background-color: #d4ebff;}#sk-container-id-1 div.sk-label input.sk-toggleable__control:checked~label.sk-toggleable__label {background-color: #d4ebff;}#sk-container-id-1 input.sk-hidden--visually {border: 0;clip: rect(1px 1px 1px 1px);clip: rect(1px, 1px, 1px, 1px);height: 1px;margin: -1px;overflow: hidden;padding: 0;position: absolute;width: 1px;}#sk-container-id-1 div.sk-estimator {font-family: monospace;background-color: #f0f8ff;border: 1px dotted black;border-radius: 0.25em;box-sizing: border-box;margin-bottom: 0.5em;}#sk-container-id-1 div.sk-estimator:hover {background-color: #d4ebff;}#sk-container-id-1 div.sk-parallel-item::after {content: \"\";width: 100%;border-bottom: 1px solid gray;flex-grow: 1;}#sk-container-id-1 div.sk-label:hover label.sk-toggleable__label {background-color: #d4ebff;}#sk-container-id-1 div.sk-serial::before {content: \"\";position: absolute;border-left: 1px solid gray;box-sizing: border-box;top: 0;bottom: 0;left: 50%;z-index: 0;}#sk-container-id-1 div.sk-serial {display: flex;flex-direction: column;align-items: center;background-color: white;padding-right: 0.2em;padding-left: 0.2em;position: relative;}#sk-container-id-1 div.sk-item {position: relative;z-index: 1;}#sk-container-id-1 div.sk-parallel {display: flex;align-items: stretch;justify-content: center;background-color: white;position: relative;}#sk-container-id-1 div.sk-item::before, #sk-container-id-1 div.sk-parallel-item::before {content: \"\";position: absolute;border-left: 1px solid gray;box-sizing: border-box;top: 0;bottom: 0;left: 50%;z-index: -1;}#sk-container-id-1 div.sk-parallel-item {display: flex;flex-direction: column;z-index: 1;position: relative;background-color: white;}#sk-container-id-1 div.sk-parallel-item:first-child::after {align-self: flex-end;width: 50%;}#sk-container-id-1 div.sk-parallel-item:last-child::after {align-self: flex-start;width: 50%;}#sk-container-id-1 div.sk-parallel-item:only-child::after {width: 0;}#sk-container-id-1 div.sk-dashed-wrapped {border: 1px dashed gray;margin: 0 0.4em 0.5em 0.4em;box-sizing: border-box;padding-bottom: 0.4em;background-color: white;}#sk-container-id-1 div.sk-label label {font-family: monospace;font-weight: bold;display: inline-block;line-height: 1.2em;}#sk-container-id-1 div.sk-label-container {text-align: center;}#sk-container-id-1 div.sk-container {/* jupyter's `normalize.less` sets `[hidden] { display: none; }` but bootstrap.min.css set `[hidden] { display: none !important; }` so we also need the `!important` here to be able to override the default hidden behavior on the sphinx rendered scikit-learn.org. See: https://github.com/scikit-learn/scikit-learn/issues/21755 */display: inline-block !important;position: relative;}#sk-container-id-1 div.sk-text-repr-fallback {display: none;}</style><div id=\"sk-container-id-1\" class=\"sk-top-container\"><div class=\"sk-text-repr-fallback\"><pre>AdaBoostClassifier(algorithm=&#x27;SAMME&#x27;,\n",
              "                   base_estimator=DecisionTreeClassifier(max_depth=2),\n",
              "                   learning_rate=1.5, n_estimators=600)</pre><b>In a Jupyter environment, please rerun this cell to show the HTML representation or trust the notebook. <br />On GitHub, the HTML representation is unable to render, please try loading this page with nbviewer.org.</b></div><div class=\"sk-container\" hidden><div class=\"sk-item sk-dashed-wrapped\"><div class=\"sk-label-container\"><div class=\"sk-label sk-toggleable\"><input class=\"sk-toggleable__control sk-hidden--visually\" id=\"sk-estimator-id-1\" type=\"checkbox\" ><label for=\"sk-estimator-id-1\" class=\"sk-toggleable__label sk-toggleable__label-arrow\">AdaBoostClassifier</label><div class=\"sk-toggleable__content\"><pre>AdaBoostClassifier(algorithm=&#x27;SAMME&#x27;,\n",
              "                   base_estimator=DecisionTreeClassifier(max_depth=2),\n",
              "                   learning_rate=1.5, n_estimators=600)</pre></div></div></div><div class=\"sk-parallel\"><div class=\"sk-parallel-item\"><div class=\"sk-item\"><div class=\"sk-label-container\"><div class=\"sk-label sk-toggleable\"><input class=\"sk-toggleable__control sk-hidden--visually\" id=\"sk-estimator-id-2\" type=\"checkbox\" ><label for=\"sk-estimator-id-2\" class=\"sk-toggleable__label sk-toggleable__label-arrow\">base_estimator: DecisionTreeClassifier</label><div class=\"sk-toggleable__content\"><pre>DecisionTreeClassifier(max_depth=2)</pre></div></div></div><div class=\"sk-serial\"><div class=\"sk-item\"><div class=\"sk-estimator sk-toggleable\"><input class=\"sk-toggleable__control sk-hidden--visually\" id=\"sk-estimator-id-3\" type=\"checkbox\" ><label for=\"sk-estimator-id-3\" class=\"sk-toggleable__label sk-toggleable__label-arrow\">DecisionTreeClassifier</label><div class=\"sk-toggleable__content\"><pre>DecisionTreeClassifier(max_depth=2)</pre></div></div></div></div></div></div></div></div></div></div>"
            ],
            "text/plain": [
              "AdaBoostClassifier(algorithm='SAMME',\n",
              "                   base_estimator=DecisionTreeClassifier(max_depth=2),\n",
              "                   learning_rate=1.5, n_estimators=600)"
            ]
          },
          "execution_count": 35,
          "metadata": {},
          "output_type": "execute_result"
        }
      ],
      "source": [
        "# fit\n",
        "adaboost_model_1.fit(X_train,y_train)"
      ]
    },
    {
      "cell_type": "code",
      "execution_count": null,
      "id": "cf487a2a",
      "metadata": {
        "execution": {
          "iopub.execute_input": "2023-07-03T13:34:21.556560Z",
          "iopub.status.busy": "2023-07-03T13:34:21.556068Z",
          "iopub.status.idle": "2023-07-03T13:34:22.362523Z",
          "shell.execute_reply": "2023-07-03T13:34:22.361669Z"
        },
        "papermill": {
          "duration": 0.856889,
          "end_time": "2023-07-03T13:34:22.365164",
          "exception": false,
          "start_time": "2023-07-03T13:34:21.508275",
          "status": "completed"
        },
        "tags": [],
        "id": "cf487a2a",
        "outputId": "da5ec0eb-6eec-4ef6-e516-7326a2f57ee4"
      },
      "outputs": [
        {
          "data": {
            "text/plain": [
              "array([[0.54049582, 0.45950418],\n",
              "       [0.53588662, 0.46411338],\n",
              "       [0.53885559, 0.46114441],\n",
              "       [0.52427816, 0.47572184],\n",
              "       [0.52018053, 0.47981947],\n",
              "       [0.5308397 , 0.4691603 ],\n",
              "       [0.53055748, 0.46944252],\n",
              "       [0.54126954, 0.45873046],\n",
              "       [0.52347347, 0.47652653],\n",
              "       [0.51624249, 0.48375751]])"
            ]
          },
          "execution_count": 36,
          "metadata": {},
          "output_type": "execute_result"
        }
      ],
      "source": [
        "# predictions\n",
        "# the second column represents the probability of click resulting in a download\n",
        "\n",
        "predictions = adaboost_model_1.predict_proba(X_test)\n",
        "predictions[:10]"
      ]
    },
    {
      "cell_type": "code",
      "execution_count": null,
      "id": "fa8a8599",
      "metadata": {
        "execution": {
          "iopub.execute_input": "2023-07-03T13:34:22.446598Z",
          "iopub.status.busy": "2023-07-03T13:34:22.445141Z",
          "iopub.status.idle": "2023-07-03T13:34:22.468431Z",
          "shell.execute_reply": "2023-07-03T13:34:22.467269Z"
        },
        "papermill": {
          "duration": 0.067317,
          "end_time": "2023-07-03T13:34:22.471105",
          "exception": false,
          "start_time": "2023-07-03T13:34:22.403788",
          "status": "completed"
        },
        "tags": [],
        "id": "fa8a8599",
        "outputId": "31a7eec7-0f30-42c5-f317-c8ceb03eb054"
      },
      "outputs": [
        {
          "data": {
            "text/plain": [
              "0.9523839750549848"
            ]
          },
          "execution_count": 37,
          "metadata": {},
          "output_type": "execute_result"
        }
      ],
      "source": [
        "# metrics : AUC\n",
        "metrics.roc_auc_score(y_test,predictions[:,1])"
      ]
    },
    {
      "cell_type": "markdown",
      "id": "564dc361",
      "metadata": {
        "papermill": {
          "duration": 0.041472,
          "end_time": "2023-07-03T13:34:22.552331",
          "exception": false,
          "start_time": "2023-07-03T13:34:22.510859",
          "status": "completed"
        },
        "tags": [],
        "id": "564dc361"
      },
      "source": [
        "### AdaBoost - Hyperparameter Tuning\n",
        "\n",
        "Let's now tune the hyperparameters of the AdaBoost classifier. In this case, we have two types of hyperparameters - those of the component trees (max_depth etc.) and those of the ensemble (n_estimators, learning_rate etc.).\n",
        "\n",
        "\n",
        "We can tune both using the following technique - the keys of the form ```base_estimator_parameter_name``` belong to the trees (base estimator), and the rest belong to the ensemble."
      ]
    },
    {
      "cell_type": "code",
      "execution_count": null,
      "id": "6252eac0",
      "metadata": {
        "execution": {
          "iopub.execute_input": "2023-07-03T13:34:22.634069Z",
          "iopub.status.busy": "2023-07-03T13:34:22.632794Z",
          "iopub.status.idle": "2023-07-03T13:34:22.638957Z",
          "shell.execute_reply": "2023-07-03T13:34:22.637688Z"
        },
        "papermill": {
          "duration": 0.050312,
          "end_time": "2023-07-03T13:34:22.641177",
          "exception": false,
          "start_time": "2023-07-03T13:34:22.590865",
          "status": "completed"
        },
        "tags": [],
        "id": "6252eac0"
      },
      "outputs": [],
      "source": [
        "# parameter grid\n",
        "param_grid = {\"base_estimator__max_depth\" : [2,5],\n",
        "             \"n_estimators\" : [200,400,600]\n",
        "             }"
      ]
    },
    {
      "cell_type": "code",
      "execution_count": null,
      "id": "4bbc5177",
      "metadata": {
        "execution": {
          "iopub.execute_input": "2023-07-03T13:34:22.723531Z",
          "iopub.status.busy": "2023-07-03T13:34:22.721942Z",
          "iopub.status.idle": "2023-07-03T13:34:22.728758Z",
          "shell.execute_reply": "2023-07-03T13:34:22.727497Z"
        },
        "papermill": {
          "duration": 0.051439,
          "end_time": "2023-07-03T13:34:22.731451",
          "exception": false,
          "start_time": "2023-07-03T13:34:22.680012",
          "status": "completed"
        },
        "tags": [],
        "id": "4bbc5177"
      },
      "outputs": [],
      "source": [
        "# base estimator\n",
        "tree = DecisionTreeClassifier()\n",
        "\n",
        "# adaboost with the tree as base estimator\n",
        "# learning rate is arbitrality set to 0.6\n",
        "\n",
        "ABC = AdaBoostClassifier(base_estimator=tree,\n",
        "                        learning_rate=0.6,\n",
        "                        algorithm=\"SAMME\")"
      ]
    },
    {
      "cell_type": "code",
      "execution_count": null,
      "id": "af43f698",
      "metadata": {
        "execution": {
          "iopub.execute_input": "2023-07-03T13:34:22.813177Z",
          "iopub.status.busy": "2023-07-03T13:34:22.812411Z",
          "iopub.status.idle": "2023-07-03T13:34:22.817612Z",
          "shell.execute_reply": "2023-07-03T13:34:22.816737Z"
        },
        "papermill": {
          "duration": 0.049803,
          "end_time": "2023-07-03T13:34:22.820145",
          "exception": false,
          "start_time": "2023-07-03T13:34:22.770342",
          "status": "completed"
        },
        "tags": [],
        "id": "af43f698"
      },
      "outputs": [],
      "source": [
        "# run grid search\n",
        "folds = 3\n",
        "grid_search_ABC = GridSearchCV(ABC,\n",
        "                              cv=folds,\n",
        "                              param_grid=param_grid,\n",
        "                              scoring='roc_auc',\n",
        "                              return_train_score=True,\n",
        "                              verbose=1)"
      ]
    },
    {
      "cell_type": "code",
      "execution_count": null,
      "id": "eb63e2bd",
      "metadata": {
        "execution": {
          "iopub.execute_input": "2023-07-03T13:34:22.900564Z",
          "iopub.status.busy": "2023-07-03T13:34:22.899966Z",
          "iopub.status.idle": "2023-07-03T13:49:01.932275Z",
          "shell.execute_reply": "2023-07-03T13:49:01.930678Z"
        },
        "papermill": {
          "duration": 879.117228,
          "end_time": "2023-07-03T13:49:01.976383",
          "exception": false,
          "start_time": "2023-07-03T13:34:22.859155",
          "status": "completed"
        },
        "tags": [],
        "id": "eb63e2bd",
        "outputId": "d35a97cc-0faa-4ef8-a6f3-df468772b134"
      },
      "outputs": [
        {
          "name": "stdout",
          "output_type": "stream",
          "text": [
            "Fitting 3 folds for each of 6 candidates, totalling 18 fits\n"
          ]
        },
        {
          "data": {
            "text/html": [
              "<style>#sk-container-id-2 {color: black;background-color: white;}#sk-container-id-2 pre{padding: 0;}#sk-container-id-2 div.sk-toggleable {background-color: white;}#sk-container-id-2 label.sk-toggleable__label {cursor: pointer;display: block;width: 100%;margin-bottom: 0;padding: 0.3em;box-sizing: border-box;text-align: center;}#sk-container-id-2 label.sk-toggleable__label-arrow:before {content: \"▸\";float: left;margin-right: 0.25em;color: #696969;}#sk-container-id-2 label.sk-toggleable__label-arrow:hover:before {color: black;}#sk-container-id-2 div.sk-estimator:hover label.sk-toggleable__label-arrow:before {color: black;}#sk-container-id-2 div.sk-toggleable__content {max-height: 0;max-width: 0;overflow: hidden;text-align: left;background-color: #f0f8ff;}#sk-container-id-2 div.sk-toggleable__content pre {margin: 0.2em;color: black;border-radius: 0.25em;background-color: #f0f8ff;}#sk-container-id-2 input.sk-toggleable__control:checked~div.sk-toggleable__content {max-height: 200px;max-width: 100%;overflow: auto;}#sk-container-id-2 input.sk-toggleable__control:checked~label.sk-toggleable__label-arrow:before {content: \"▾\";}#sk-container-id-2 div.sk-estimator input.sk-toggleable__control:checked~label.sk-toggleable__label {background-color: #d4ebff;}#sk-container-id-2 div.sk-label input.sk-toggleable__control:checked~label.sk-toggleable__label {background-color: #d4ebff;}#sk-container-id-2 input.sk-hidden--visually {border: 0;clip: rect(1px 1px 1px 1px);clip: rect(1px, 1px, 1px, 1px);height: 1px;margin: -1px;overflow: hidden;padding: 0;position: absolute;width: 1px;}#sk-container-id-2 div.sk-estimator {font-family: monospace;background-color: #f0f8ff;border: 1px dotted black;border-radius: 0.25em;box-sizing: border-box;margin-bottom: 0.5em;}#sk-container-id-2 div.sk-estimator:hover {background-color: #d4ebff;}#sk-container-id-2 div.sk-parallel-item::after {content: \"\";width: 100%;border-bottom: 1px solid gray;flex-grow: 1;}#sk-container-id-2 div.sk-label:hover label.sk-toggleable__label {background-color: #d4ebff;}#sk-container-id-2 div.sk-serial::before {content: \"\";position: absolute;border-left: 1px solid gray;box-sizing: border-box;top: 0;bottom: 0;left: 50%;z-index: 0;}#sk-container-id-2 div.sk-serial {display: flex;flex-direction: column;align-items: center;background-color: white;padding-right: 0.2em;padding-left: 0.2em;position: relative;}#sk-container-id-2 div.sk-item {position: relative;z-index: 1;}#sk-container-id-2 div.sk-parallel {display: flex;align-items: stretch;justify-content: center;background-color: white;position: relative;}#sk-container-id-2 div.sk-item::before, #sk-container-id-2 div.sk-parallel-item::before {content: \"\";position: absolute;border-left: 1px solid gray;box-sizing: border-box;top: 0;bottom: 0;left: 50%;z-index: -1;}#sk-container-id-2 div.sk-parallel-item {display: flex;flex-direction: column;z-index: 1;position: relative;background-color: white;}#sk-container-id-2 div.sk-parallel-item:first-child::after {align-self: flex-end;width: 50%;}#sk-container-id-2 div.sk-parallel-item:last-child::after {align-self: flex-start;width: 50%;}#sk-container-id-2 div.sk-parallel-item:only-child::after {width: 0;}#sk-container-id-2 div.sk-dashed-wrapped {border: 1px dashed gray;margin: 0 0.4em 0.5em 0.4em;box-sizing: border-box;padding-bottom: 0.4em;background-color: white;}#sk-container-id-2 div.sk-label label {font-family: monospace;font-weight: bold;display: inline-block;line-height: 1.2em;}#sk-container-id-2 div.sk-label-container {text-align: center;}#sk-container-id-2 div.sk-container {/* jupyter's `normalize.less` sets `[hidden] { display: none; }` but bootstrap.min.css set `[hidden] { display: none !important; }` so we also need the `!important` here to be able to override the default hidden behavior on the sphinx rendered scikit-learn.org. See: https://github.com/scikit-learn/scikit-learn/issues/21755 */display: inline-block !important;position: relative;}#sk-container-id-2 div.sk-text-repr-fallback {display: none;}</style><div id=\"sk-container-id-2\" class=\"sk-top-container\"><div class=\"sk-text-repr-fallback\"><pre>GridSearchCV(cv=3,\n",
              "             estimator=AdaBoostClassifier(algorithm=&#x27;SAMME&#x27;,\n",
              "                                          base_estimator=DecisionTreeClassifier(),\n",
              "                                          learning_rate=0.6),\n",
              "             param_grid={&#x27;base_estimator__max_depth&#x27;: [2, 5],\n",
              "                         &#x27;n_estimators&#x27;: [200, 400, 600]},\n",
              "             return_train_score=True, scoring=&#x27;roc_auc&#x27;, verbose=1)</pre><b>In a Jupyter environment, please rerun this cell to show the HTML representation or trust the notebook. <br />On GitHub, the HTML representation is unable to render, please try loading this page with nbviewer.org.</b></div><div class=\"sk-container\" hidden><div class=\"sk-item sk-dashed-wrapped\"><div class=\"sk-label-container\"><div class=\"sk-label sk-toggleable\"><input class=\"sk-toggleable__control sk-hidden--visually\" id=\"sk-estimator-id-4\" type=\"checkbox\" ><label for=\"sk-estimator-id-4\" class=\"sk-toggleable__label sk-toggleable__label-arrow\">GridSearchCV</label><div class=\"sk-toggleable__content\"><pre>GridSearchCV(cv=3,\n",
              "             estimator=AdaBoostClassifier(algorithm=&#x27;SAMME&#x27;,\n",
              "                                          base_estimator=DecisionTreeClassifier(),\n",
              "                                          learning_rate=0.6),\n",
              "             param_grid={&#x27;base_estimator__max_depth&#x27;: [2, 5],\n",
              "                         &#x27;n_estimators&#x27;: [200, 400, 600]},\n",
              "             return_train_score=True, scoring=&#x27;roc_auc&#x27;, verbose=1)</pre></div></div></div><div class=\"sk-parallel\"><div class=\"sk-parallel-item\"><div class=\"sk-item\"><div class=\"sk-label-container\"><div class=\"sk-label sk-toggleable\"><input class=\"sk-toggleable__control sk-hidden--visually\" id=\"sk-estimator-id-5\" type=\"checkbox\" ><label for=\"sk-estimator-id-5\" class=\"sk-toggleable__label sk-toggleable__label-arrow\">estimator: AdaBoostClassifier</label><div class=\"sk-toggleable__content\"><pre>AdaBoostClassifier(algorithm=&#x27;SAMME&#x27;, base_estimator=DecisionTreeClassifier(),\n",
              "                   learning_rate=0.6)</pre></div></div></div><div class=\"sk-serial\"><div class=\"sk-item sk-dashed-wrapped\"><div class=\"sk-parallel\"><div class=\"sk-parallel-item\"><div class=\"sk-item\"><div class=\"sk-label-container\"><div class=\"sk-label sk-toggleable\"><input class=\"sk-toggleable__control sk-hidden--visually\" id=\"sk-estimator-id-6\" type=\"checkbox\" ><label for=\"sk-estimator-id-6\" class=\"sk-toggleable__label sk-toggleable__label-arrow\">base_estimator: DecisionTreeClassifier</label><div class=\"sk-toggleable__content\"><pre>DecisionTreeClassifier()</pre></div></div></div><div class=\"sk-serial\"><div class=\"sk-item\"><div class=\"sk-estimator sk-toggleable\"><input class=\"sk-toggleable__control sk-hidden--visually\" id=\"sk-estimator-id-7\" type=\"checkbox\" ><label for=\"sk-estimator-id-7\" class=\"sk-toggleable__label sk-toggleable__label-arrow\">DecisionTreeClassifier</label><div class=\"sk-toggleable__content\"><pre>DecisionTreeClassifier()</pre></div></div></div></div></div></div></div></div></div></div></div></div></div></div></div>"
            ],
            "text/plain": [
              "GridSearchCV(cv=3,\n",
              "             estimator=AdaBoostClassifier(algorithm='SAMME',\n",
              "                                          base_estimator=DecisionTreeClassifier(),\n",
              "                                          learning_rate=0.6),\n",
              "             param_grid={'base_estimator__max_depth': [2, 5],\n",
              "                         'n_estimators': [200, 400, 600]},\n",
              "             return_train_score=True, scoring='roc_auc', verbose=1)"
            ]
          },
          "execution_count": 41,
          "metadata": {},
          "output_type": "execute_result"
        }
      ],
      "source": [
        "# fit\n",
        "grid_search_ABC.fit(X_train, y_train)"
      ]
    },
    {
      "cell_type": "code",
      "execution_count": null,
      "id": "9b783b6c",
      "metadata": {
        "execution": {
          "iopub.execute_input": "2023-07-03T13:49:02.059992Z",
          "iopub.status.busy": "2023-07-03T13:49:02.059275Z",
          "iopub.status.idle": "2023-07-03T13:49:02.087531Z",
          "shell.execute_reply": "2023-07-03T13:49:02.086383Z"
        },
        "papermill": {
          "duration": 0.072501,
          "end_time": "2023-07-03T13:49:02.090370",
          "exception": false,
          "start_time": "2023-07-03T13:49:02.017869",
          "status": "completed"
        },
        "tags": [],
        "id": "9b783b6c",
        "outputId": "a6ab0d96-53a6-4b27-e90e-19ee55cf2c3f"
      },
      "outputs": [
        {
          "data": {
            "text/html": [
              "<div>\n",
              "<style scoped>\n",
              "    .dataframe tbody tr th:only-of-type {\n",
              "        vertical-align: middle;\n",
              "    }\n",
              "\n",
              "    .dataframe tbody tr th {\n",
              "        vertical-align: top;\n",
              "    }\n",
              "\n",
              "    .dataframe thead th {\n",
              "        text-align: right;\n",
              "    }\n",
              "</style>\n",
              "<table border=\"1\" class=\"dataframe\">\n",
              "  <thead>\n",
              "    <tr style=\"text-align: right;\">\n",
              "      <th></th>\n",
              "      <th>mean_fit_time</th>\n",
              "      <th>std_fit_time</th>\n",
              "      <th>mean_score_time</th>\n",
              "      <th>std_score_time</th>\n",
              "      <th>param_base_estimator__max_depth</th>\n",
              "      <th>param_n_estimators</th>\n",
              "      <th>params</th>\n",
              "      <th>split0_test_score</th>\n",
              "      <th>split1_test_score</th>\n",
              "      <th>split2_test_score</th>\n",
              "      <th>mean_test_score</th>\n",
              "      <th>std_test_score</th>\n",
              "      <th>rank_test_score</th>\n",
              "      <th>split0_train_score</th>\n",
              "      <th>split1_train_score</th>\n",
              "      <th>split2_train_score</th>\n",
              "      <th>mean_train_score</th>\n",
              "      <th>std_train_score</th>\n",
              "    </tr>\n",
              "  </thead>\n",
              "  <tbody>\n",
              "    <tr>\n",
              "      <th>0</th>\n",
              "      <td>14.003187</td>\n",
              "      <td>0.149825</td>\n",
              "      <td>0.309736</td>\n",
              "      <td>0.008715</td>\n",
              "      <td>2</td>\n",
              "      <td>200</td>\n",
              "      <td>{'base_estimator__max_depth': 2, 'n_estimators...</td>\n",
              "      <td>0.926966</td>\n",
              "      <td>0.975725</td>\n",
              "      <td>0.955801</td>\n",
              "      <td>0.952831</td>\n",
              "      <td>0.020017</td>\n",
              "      <td>1</td>\n",
              "      <td>0.996306</td>\n",
              "      <td>0.995094</td>\n",
              "      <td>0.996461</td>\n",
              "      <td>0.995954</td>\n",
              "      <td>0.000611</td>\n",
              "    </tr>\n",
              "    <tr>\n",
              "      <th>1</th>\n",
              "      <td>28.175026</td>\n",
              "      <td>0.198906</td>\n",
              "      <td>0.597010</td>\n",
              "      <td>0.006344</td>\n",
              "      <td>2</td>\n",
              "      <td>400</td>\n",
              "      <td>{'base_estimator__max_depth': 2, 'n_estimators...</td>\n",
              "      <td>0.920643</td>\n",
              "      <td>0.974585</td>\n",
              "      <td>0.956496</td>\n",
              "      <td>0.950575</td>\n",
              "      <td>0.022416</td>\n",
              "      <td>2</td>\n",
              "      <td>0.997991</td>\n",
              "      <td>0.996683</td>\n",
              "      <td>0.997996</td>\n",
              "      <td>0.997556</td>\n",
              "      <td>0.000618</td>\n",
              "    </tr>\n",
              "    <tr>\n",
              "      <th>2</th>\n",
              "      <td>42.811741</td>\n",
              "      <td>0.238295</td>\n",
              "      <td>0.891895</td>\n",
              "      <td>0.003318</td>\n",
              "      <td>2</td>\n",
              "      <td>600</td>\n",
              "      <td>{'base_estimator__max_depth': 2, 'n_estimators...</td>\n",
              "      <td>0.921720</td>\n",
              "      <td>0.973335</td>\n",
              "      <td>0.953955</td>\n",
              "      <td>0.949670</td>\n",
              "      <td>0.021288</td>\n",
              "      <td>3</td>\n",
              "      <td>0.998494</td>\n",
              "      <td>0.997923</td>\n",
              "      <td>0.998417</td>\n",
              "      <td>0.998278</td>\n",
              "      <td>0.000253</td>\n",
              "    </tr>\n",
              "    <tr>\n",
              "      <th>3</th>\n",
              "      <td>31.805808</td>\n",
              "      <td>0.338788</td>\n",
              "      <td>0.386028</td>\n",
              "      <td>0.009351</td>\n",
              "      <td>5</td>\n",
              "      <td>200</td>\n",
              "      <td>{'base_estimator__max_depth': 5, 'n_estimators...</td>\n",
              "      <td>0.890672</td>\n",
              "      <td>0.943100</td>\n",
              "      <td>0.941983</td>\n",
              "      <td>0.925252</td>\n",
              "      <td>0.024456</td>\n",
              "      <td>4</td>\n",
              "      <td>1.000000</td>\n",
              "      <td>1.000000</td>\n",
              "      <td>1.000000</td>\n",
              "      <td>1.000000</td>\n",
              "      <td>0.000000</td>\n",
              "    </tr>\n",
              "    <tr>\n",
              "      <th>4</th>\n",
              "      <td>62.846543</td>\n",
              "      <td>1.696285</td>\n",
              "      <td>0.745339</td>\n",
              "      <td>0.010616</td>\n",
              "      <td>5</td>\n",
              "      <td>400</td>\n",
              "      <td>{'base_estimator__max_depth': 5, 'n_estimators...</td>\n",
              "      <td>0.892793</td>\n",
              "      <td>0.931262</td>\n",
              "      <td>0.945166</td>\n",
              "      <td>0.923073</td>\n",
              "      <td>0.022151</td>\n",
              "      <td>5</td>\n",
              "      <td>1.000000</td>\n",
              "      <td>1.000000</td>\n",
              "      <td>1.000000</td>\n",
              "      <td>1.000000</td>\n",
              "      <td>0.000000</td>\n",
              "    </tr>\n",
              "    <tr>\n",
              "      <th>5</th>\n",
              "      <td>93.525663</td>\n",
              "      <td>1.199016</td>\n",
              "      <td>1.086201</td>\n",
              "      <td>0.023092</td>\n",
              "      <td>5</td>\n",
              "      <td>600</td>\n",
              "      <td>{'base_estimator__max_depth': 5, 'n_estimators...</td>\n",
              "      <td>0.888910</td>\n",
              "      <td>0.940414</td>\n",
              "      <td>0.933932</td>\n",
              "      <td>0.921085</td>\n",
              "      <td>0.022905</td>\n",
              "      <td>6</td>\n",
              "      <td>1.000000</td>\n",
              "      <td>1.000000</td>\n",
              "      <td>1.000000</td>\n",
              "      <td>1.000000</td>\n",
              "      <td>0.000000</td>\n",
              "    </tr>\n",
              "  </tbody>\n",
              "</table>\n",
              "</div>"
            ],
            "text/plain": [
              "   mean_fit_time  std_fit_time  mean_score_time  std_score_time  \\\n",
              "0      14.003187      0.149825         0.309736        0.008715   \n",
              "1      28.175026      0.198906         0.597010        0.006344   \n",
              "2      42.811741      0.238295         0.891895        0.003318   \n",
              "3      31.805808      0.338788         0.386028        0.009351   \n",
              "4      62.846543      1.696285         0.745339        0.010616   \n",
              "5      93.525663      1.199016         1.086201        0.023092   \n",
              "\n",
              "  param_base_estimator__max_depth param_n_estimators  \\\n",
              "0                               2                200   \n",
              "1                               2                400   \n",
              "2                               2                600   \n",
              "3                               5                200   \n",
              "4                               5                400   \n",
              "5                               5                600   \n",
              "\n",
              "                                              params  split0_test_score  \\\n",
              "0  {'base_estimator__max_depth': 2, 'n_estimators...           0.926966   \n",
              "1  {'base_estimator__max_depth': 2, 'n_estimators...           0.920643   \n",
              "2  {'base_estimator__max_depth': 2, 'n_estimators...           0.921720   \n",
              "3  {'base_estimator__max_depth': 5, 'n_estimators...           0.890672   \n",
              "4  {'base_estimator__max_depth': 5, 'n_estimators...           0.892793   \n",
              "5  {'base_estimator__max_depth': 5, 'n_estimators...           0.888910   \n",
              "\n",
              "   split1_test_score  split2_test_score  mean_test_score  std_test_score  \\\n",
              "0           0.975725           0.955801         0.952831        0.020017   \n",
              "1           0.974585           0.956496         0.950575        0.022416   \n",
              "2           0.973335           0.953955         0.949670        0.021288   \n",
              "3           0.943100           0.941983         0.925252        0.024456   \n",
              "4           0.931262           0.945166         0.923073        0.022151   \n",
              "5           0.940414           0.933932         0.921085        0.022905   \n",
              "\n",
              "   rank_test_score  split0_train_score  split1_train_score  \\\n",
              "0                1            0.996306            0.995094   \n",
              "1                2            0.997991            0.996683   \n",
              "2                3            0.998494            0.997923   \n",
              "3                4            1.000000            1.000000   \n",
              "4                5            1.000000            1.000000   \n",
              "5                6            1.000000            1.000000   \n",
              "\n",
              "   split2_train_score  mean_train_score  std_train_score  \n",
              "0            0.996461          0.995954         0.000611  \n",
              "1            0.997996          0.997556         0.000618  \n",
              "2            0.998417          0.998278         0.000253  \n",
              "3            1.000000          1.000000         0.000000  \n",
              "4            1.000000          1.000000         0.000000  \n",
              "5            1.000000          1.000000         0.000000  "
            ]
          },
          "execution_count": 42,
          "metadata": {},
          "output_type": "execute_result"
        }
      ],
      "source": [
        "# cv results\n",
        "cv_results = pd.DataFrame(grid_search_ABC.cv_results_)\n",
        "cv_results"
      ]
    },
    {
      "cell_type": "code",
      "execution_count": null,
      "id": "f71d1bbd",
      "metadata": {
        "execution": {
          "iopub.execute_input": "2023-07-03T13:49:02.173783Z",
          "iopub.status.busy": "2023-07-03T13:49:02.173373Z",
          "iopub.status.idle": "2023-07-03T13:49:03.283550Z",
          "shell.execute_reply": "2023-07-03T13:49:03.282225Z"
        },
        "papermill": {
          "duration": 1.155711,
          "end_time": "2023-07-03T13:49:03.286552",
          "exception": false,
          "start_time": "2023-07-03T13:49:02.130841",
          "status": "completed"
        },
        "tags": [],
        "id": "f71d1bbd",
        "outputId": "eb2bebe2-1ba9-422f-c3f7-d9028fb72a2b"
      },
      "outputs": [
        {
          "data": {
            "image/png": "[encoded data removed]",
            "text/plain": [
              "<Figure size 1600x600 with 2 Axes>"
            ]
          },
          "metadata": {},
          "output_type": "display_data"
        }
      ],
      "source": [
        "# plotting AUC with hyperparameter combinations\n",
        "\n",
        "plt.figure(figsize=(16,6))\n",
        "for n, depth in enumerate(param_grid['base_estimator__max_depth']):\n",
        "\n",
        "\n",
        "    # subplot 1/n\n",
        "    plt.subplot(1,3, n+1)\n",
        "    depth_df = cv_results[cv_results['param_base_estimator__max_depth']==depth]\n",
        "\n",
        "    plt.plot(depth_df[\"param_n_estimators\"], depth_df[\"mean_test_score\"])\n",
        "    plt.plot(depth_df[\"param_n_estimators\"], depth_df[\"mean_train_score\"])\n",
        "    plt.xlabel('n_estimators')\n",
        "    plt.ylabel('AUC')\n",
        "    plt.title(\"max_depth={0}\".format(depth))\n",
        "    plt.ylim([0.60, 1])\n",
        "    plt.legend(['test score', 'train score'], loc='upper left')\n",
        "    plt.xscale('log')\n",
        "\n",
        "\n"
      ]
    },
    {
      "cell_type": "markdown",
      "id": "49189684",
      "metadata": {
        "papermill": {
          "duration": 0.040406,
          "end_time": "2023-07-03T13:49:03.367851",
          "exception": false,
          "start_time": "2023-07-03T13:49:03.327445",
          "status": "completed"
        },
        "tags": [],
        "id": "49189684"
      },
      "source": []
    },
    {
      "cell_type": "code",
      "execution_count": null,
      "id": "d21192b0",
      "metadata": {
        "execution": {
          "iopub.execute_input": "2023-07-03T13:49:03.451246Z",
          "iopub.status.busy": "2023-07-03T13:49:03.450723Z",
          "iopub.status.idle": "2023-07-03T13:49:26.490585Z",
          "shell.execute_reply": "2023-07-03T13:49:26.489235Z"
        },
        "papermill": {
          "duration": 23.085036,
          "end_time": "2023-07-03T13:49:26.493467",
          "exception": false,
          "start_time": "2023-07-03T13:49:03.408431",
          "status": "completed"
        },
        "tags": [],
        "id": "d21192b0",
        "outputId": "af56da4b-b82f-4f97-c49c-5e6063ada328"
      },
      "outputs": [
        {
          "data": {
            "text/html": [
              "<style>#sk-container-id-3 {color: black;background-color: white;}#sk-container-id-3 pre{padding: 0;}#sk-container-id-3 div.sk-toggleable {background-color: white;}#sk-container-id-3 label.sk-toggleable__label {cursor: pointer;display: block;width: 100%;margin-bottom: 0;padding: 0.3em;box-sizing: border-box;text-align: center;}#sk-container-id-3 label.sk-toggleable__label-arrow:before {content: \"▸\";float: left;margin-right: 0.25em;color: #696969;}#sk-container-id-3 label.sk-toggleable__label-arrow:hover:before {color: black;}#sk-container-id-3 div.sk-estimator:hover label.sk-toggleable__label-arrow:before {color: black;}#sk-container-id-3 div.sk-toggleable__content {max-height: 0;max-width: 0;overflow: hidden;text-align: left;background-color: #f0f8ff;}#sk-container-id-3 div.sk-toggleable__content pre {margin: 0.2em;color: black;border-radius: 0.25em;background-color: #f0f8ff;}#sk-container-id-3 input.sk-toggleable__control:checked~div.sk-toggleable__content {max-height: 200px;max-width: 100%;overflow: auto;}#sk-container-id-3 input.sk-toggleable__control:checked~label.sk-toggleable__label-arrow:before {content: \"▾\";}#sk-container-id-3 div.sk-estimator input.sk-toggleable__control:checked~label.sk-toggleable__label {background-color: #d4ebff;}#sk-container-id-3 div.sk-label input.sk-toggleable__control:checked~label.sk-toggleable__label {background-color: #d4ebff;}#sk-container-id-3 input.sk-hidden--visually {border: 0;clip: rect(1px 1px 1px 1px);clip: rect(1px, 1px, 1px, 1px);height: 1px;margin: -1px;overflow: hidden;padding: 0;position: absolute;width: 1px;}#sk-container-id-3 div.sk-estimator {font-family: monospace;background-color: #f0f8ff;border: 1px dotted black;border-radius: 0.25em;box-sizing: border-box;margin-bottom: 0.5em;}#sk-container-id-3 div.sk-estimator:hover {background-color: #d4ebff;}#sk-container-id-3 div.sk-parallel-item::after {content: \"\";width: 100%;border-bottom: 1px solid gray;flex-grow: 1;}#sk-container-id-3 div.sk-label:hover label.sk-toggleable__label {background-color: #d4ebff;}#sk-container-id-3 div.sk-serial::before {content: \"\";position: absolute;border-left: 1px solid gray;box-sizing: border-box;top: 0;bottom: 0;left: 50%;z-index: 0;}#sk-container-id-3 div.sk-serial {display: flex;flex-direction: column;align-items: center;background-color: white;padding-right: 0.2em;padding-left: 0.2em;position: relative;}#sk-container-id-3 div.sk-item {position: relative;z-index: 1;}#sk-container-id-3 div.sk-parallel {display: flex;align-items: stretch;justify-content: center;background-color: white;position: relative;}#sk-container-id-3 div.sk-item::before, #sk-container-id-3 div.sk-parallel-item::before {content: \"\";position: absolute;border-left: 1px solid gray;box-sizing: border-box;top: 0;bottom: 0;left: 50%;z-index: -1;}#sk-container-id-3 div.sk-parallel-item {display: flex;flex-direction: column;z-index: 1;position: relative;background-color: white;}#sk-container-id-3 div.sk-parallel-item:first-child::after {align-self: flex-end;width: 50%;}#sk-container-id-3 div.sk-parallel-item:last-child::after {align-self: flex-start;width: 50%;}#sk-container-id-3 div.sk-parallel-item:only-child::after {width: 0;}#sk-container-id-3 div.sk-dashed-wrapped {border: 1px dashed gray;margin: 0 0.4em 0.5em 0.4em;box-sizing: border-box;padding-bottom: 0.4em;background-color: white;}#sk-container-id-3 div.sk-label label {font-family: monospace;font-weight: bold;display: inline-block;line-height: 1.2em;}#sk-container-id-3 div.sk-label-container {text-align: center;}#sk-container-id-3 div.sk-container {/* jupyter's `normalize.less` sets `[hidden] { display: none; }` but bootstrap.min.css set `[hidden] { display: none !important; }` so we also need the `!important` here to be able to override the default hidden behavior on the sphinx rendered scikit-learn.org. See: https://github.com/scikit-learn/scikit-learn/issues/21755 */display: inline-block !important;position: relative;}#sk-container-id-3 div.sk-text-repr-fallback {display: none;}</style><div id=\"sk-container-id-3\" class=\"sk-top-container\"><div class=\"sk-text-repr-fallback\"><pre>AdaBoostClassifier(algorithm=&#x27;SAMME&#x27;,\n",
              "                   base_estimator=DecisionTreeClassifier(max_depth=2),\n",
              "                   learning_rate=0.6, n_estimators=200)</pre><b>In a Jupyter environment, please rerun this cell to show the HTML representation or trust the notebook. <br />On GitHub, the HTML representation is unable to render, please try loading this page with nbviewer.org.</b></div><div class=\"sk-container\" hidden><div class=\"sk-item sk-dashed-wrapped\"><div class=\"sk-label-container\"><div class=\"sk-label sk-toggleable\"><input class=\"sk-toggleable__control sk-hidden--visually\" id=\"sk-estimator-id-8\" type=\"checkbox\" ><label for=\"sk-estimator-id-8\" class=\"sk-toggleable__label sk-toggleable__label-arrow\">AdaBoostClassifier</label><div class=\"sk-toggleable__content\"><pre>AdaBoostClassifier(algorithm=&#x27;SAMME&#x27;,\n",
              "                   base_estimator=DecisionTreeClassifier(max_depth=2),\n",
              "                   learning_rate=0.6, n_estimators=200)</pre></div></div></div><div class=\"sk-parallel\"><div class=\"sk-parallel-item\"><div class=\"sk-item\"><div class=\"sk-label-container\"><div class=\"sk-label sk-toggleable\"><input class=\"sk-toggleable__control sk-hidden--visually\" id=\"sk-estimator-id-9\" type=\"checkbox\" ><label for=\"sk-estimator-id-9\" class=\"sk-toggleable__label sk-toggleable__label-arrow\">base_estimator: DecisionTreeClassifier</label><div class=\"sk-toggleable__content\"><pre>DecisionTreeClassifier(max_depth=2)</pre></div></div></div><div class=\"sk-serial\"><div class=\"sk-item\"><div class=\"sk-estimator sk-toggleable\"><input class=\"sk-toggleable__control sk-hidden--visually\" id=\"sk-estimator-id-10\" type=\"checkbox\" ><label for=\"sk-estimator-id-10\" class=\"sk-toggleable__label sk-toggleable__label-arrow\">DecisionTreeClassifier</label><div class=\"sk-toggleable__content\"><pre>DecisionTreeClassifier(max_depth=2)</pre></div></div></div></div></div></div></div></div></div></div>"
            ],
            "text/plain": [
              "AdaBoostClassifier(algorithm='SAMME',\n",
              "                   base_estimator=DecisionTreeClassifier(max_depth=2),\n",
              "                   learning_rate=0.6, n_estimators=200)"
            ]
          },
          "execution_count": 44,
          "metadata": {},
          "output_type": "execute_result"
        }
      ],
      "source": [
        "# model performance on test data with chosen hyperparameters\n",
        "\n",
        "# base estimator\n",
        "tree = DecisionTreeClassifier(max_depth=2)\n",
        "\n",
        "# adaboost with the tree as base estimator\n",
        "# learning rate is arbitrarily set, we'll discuss learning_rate below\n",
        "ABC = AdaBoostClassifier(\n",
        "    base_estimator=tree,\n",
        "    learning_rate=0.6,\n",
        "    n_estimators=200,\n",
        "    algorithm=\"SAMME\")\n",
        "\n",
        "ABC.fit(X_train, y_train)"
      ]
    },
    {
      "cell_type": "code",
      "execution_count": null,
      "id": "99906477",
      "metadata": {
        "execution": {
          "iopub.execute_input": "2023-07-03T13:49:26.579035Z",
          "iopub.status.busy": "2023-07-03T13:49:26.578547Z",
          "iopub.status.idle": "2023-07-03T13:49:26.827316Z",
          "shell.execute_reply": "2023-07-03T13:49:26.825938Z"
        },
        "papermill": {
          "duration": 0.294997,
          "end_time": "2023-07-03T13:49:26.830210",
          "exception": false,
          "start_time": "2023-07-03T13:49:26.535213",
          "status": "completed"
        },
        "tags": [],
        "id": "99906477",
        "outputId": "63c8b444-4b28-41d4-bc1d-72011947523b"
      },
      "outputs": [
        {
          "data": {
            "text/plain": [
              "array([[0.61058431, 0.38941569],\n",
              "       [0.60742586, 0.39257414],\n",
              "       [0.63265753, 0.36734247],\n",
              "       [0.58758342, 0.41241658],\n",
              "       [0.57045678, 0.42954322],\n",
              "       [0.61162484, 0.38837516],\n",
              "       [0.59403993, 0.40596007],\n",
              "       [0.60805124, 0.39194876],\n",
              "       [0.60362848, 0.39637152],\n",
              "       [0.57654304, 0.42345696]])"
            ]
          },
          "execution_count": 45,
          "metadata": {},
          "output_type": "execute_result"
        }
      ],
      "source": [
        "# predict on test data\n",
        "predictions = ABC.predict_proba(X_test)\n",
        "predictions[:10]"
      ]
    },
    {
      "cell_type": "code",
      "execution_count": null,
      "id": "8d5b8a18",
      "metadata": {
        "execution": {
          "iopub.execute_input": "2023-07-03T13:49:26.916396Z",
          "iopub.status.busy": "2023-07-03T13:49:26.915911Z",
          "iopub.status.idle": "2023-07-03T13:49:26.938384Z",
          "shell.execute_reply": "2023-07-03T13:49:26.937420Z"
        },
        "papermill": {
          "duration": 0.068873,
          "end_time": "2023-07-03T13:49:26.940936",
          "exception": false,
          "start_time": "2023-07-03T13:49:26.872063",
          "status": "completed"
        },
        "tags": [],
        "id": "8d5b8a18",
        "outputId": "cf00a6d9-00ce-4f56-8716-16c5d0a4f8a7"
      },
      "outputs": [
        {
          "data": {
            "text/plain": [
              "0.960727748545338"
            ]
          },
          "execution_count": 46,
          "metadata": {},
          "output_type": "execute_result"
        }
      ],
      "source": [
        "# roc auc\n",
        "metrics.roc_auc_score(y_test, predictions[:, 1])"
      ]
    },
    {
      "cell_type": "markdown",
      "id": "969f879d",
      "metadata": {
        "papermill": {
          "duration": 0.043948,
          "end_time": "2023-07-03T13:49:27.027638",
          "exception": false,
          "start_time": "2023-07-03T13:49:26.983690",
          "status": "completed"
        },
        "tags": [],
        "id": "969f879d"
      },
      "source": [
        "### Gradient Boosting Classifier\n",
        "\n",
        "Let's now try the gradient boosting classifier. We'll experiment with two main hyperparameters now - ```learning_rate``` (shrinkage) and ```subsample```.\n",
        "\n",
        "By adjusting the learning rate to less than 1, we can regularize the model. A model with higher learning_rate learns fast, but is prone to overfitting; one with a lower learning rate learns slowly, but avoids overfitting.\n",
        "\n",
        "Also, there's a trade-off between ```learning_rate``` and ```n_estimators``` - the higher the learning rate, the lesser trees the model needs (and thus we usually tune only one of them).\n",
        "\n",
        "Also, by subsampling (setting ```subsample``` to less than 1), we can have the individual models built on random subsamples of size ```subsample```. That way, each tree will be trained on different subsets and reduce the model's variance."
      ]
    },
    {
      "cell_type": "code",
      "execution_count": null,
      "id": "cdeaf4f7",
      "metadata": {
        "execution": {
          "iopub.execute_input": "2023-07-03T13:49:27.110306Z",
          "iopub.status.busy": "2023-07-03T13:49:27.109924Z",
          "iopub.status.idle": "2023-07-03T13:49:27.115179Z",
          "shell.execute_reply": "2023-07-03T13:49:27.114086Z"
        },
        "papermill": {
          "duration": 0.049519,
          "end_time": "2023-07-03T13:49:27.117567",
          "exception": false,
          "start_time": "2023-07-03T13:49:27.068048",
          "status": "completed"
        },
        "tags": [],
        "id": "cdeaf4f7"
      },
      "outputs": [],
      "source": [
        "# parameter grid\n",
        "param_grid = {\"learning_rate\": [0.2, 0.6, 0.9],\n",
        "              \"subsample\": [0.3, 0.6, 0.9]\n",
        "             }"
      ]
    },
    {
      "cell_type": "code",
      "execution_count": null,
      "id": "c88d05fc",
      "metadata": {
        "execution": {
          "iopub.execute_input": "2023-07-03T13:49:27.204027Z",
          "iopub.status.busy": "2023-07-03T13:49:27.202707Z",
          "iopub.status.idle": "2023-07-03T13:49:27.208676Z",
          "shell.execute_reply": "2023-07-03T13:49:27.207401Z"
        },
        "papermill": {
          "duration": 0.052502,
          "end_time": "2023-07-03T13:49:27.211202",
          "exception": false,
          "start_time": "2023-07-03T13:49:27.158700",
          "status": "completed"
        },
        "tags": [],
        "id": "c88d05fc"
      },
      "outputs": [],
      "source": [
        "# adaboost with the tree as base estimator\n",
        "GBC = GradientBoostingClassifier(max_depth=2, n_estimators=200)"
      ]
    },
    {
      "cell_type": "code",
      "execution_count": null,
      "id": "831304c8",
      "metadata": {
        "execution": {
          "iopub.execute_input": "2023-07-03T13:49:27.294848Z",
          "iopub.status.busy": "2023-07-03T13:49:27.294392Z",
          "iopub.status.idle": "2023-07-03T13:53:22.400524Z",
          "shell.execute_reply": "2023-07-03T13:53:22.398843Z"
        },
        "papermill": {
          "duration": 235.19373,
          "end_time": "2023-07-03T13:53:22.445770",
          "exception": false,
          "start_time": "2023-07-03T13:49:27.252040",
          "status": "completed"
        },
        "tags": [],
        "id": "831304c8",
        "outputId": "30652710-9931-4058-b9c8-b78c1d484fc2"
      },
      "outputs": [
        {
          "name": "stdout",
          "output_type": "stream",
          "text": [
            "Fitting 3 folds for each of 9 candidates, totalling 27 fits\n"
          ]
        },
        {
          "data": {
            "text/html": [
              "<style>#sk-container-id-4 {color: black;background-color: white;}#sk-container-id-4 pre{padding: 0;}#sk-container-id-4 div.sk-toggleable {background-color: white;}#sk-container-id-4 label.sk-toggleable__label {cursor: pointer;display: block;width: 100%;margin-bottom: 0;padding: 0.3em;box-sizing: border-box;text-align: center;}#sk-container-id-4 label.sk-toggleable__label-arrow:before {content: \"▸\";float: left;margin-right: 0.25em;color: #696969;}#sk-container-id-4 label.sk-toggleable__label-arrow:hover:before {color: black;}#sk-container-id-4 div.sk-estimator:hover label.sk-toggleable__label-arrow:before {color: black;}#sk-container-id-4 div.sk-toggleable__content {max-height: 0;max-width: 0;overflow: hidden;text-align: left;background-color: #f0f8ff;}#sk-container-id-4 div.sk-toggleable__content pre {margin: 0.2em;color: black;border-radius: 0.25em;background-color: #f0f8ff;}#sk-container-id-4 input.sk-toggleable__control:checked~div.sk-toggleable__content {max-height: 200px;max-width: 100%;overflow: auto;}#sk-container-id-4 input.sk-toggleable__control:checked~label.sk-toggleable__label-arrow:before {content: \"▾\";}#sk-container-id-4 div.sk-estimator input.sk-toggleable__control:checked~label.sk-toggleable__label {background-color: #d4ebff;}#sk-container-id-4 div.sk-label input.sk-toggleable__control:checked~label.sk-toggleable__label {background-color: #d4ebff;}#sk-container-id-4 input.sk-hidden--visually {border: 0;clip: rect(1px 1px 1px 1px);clip: rect(1px, 1px, 1px, 1px);height: 1px;margin: -1px;overflow: hidden;padding: 0;position: absolute;width: 1px;}#sk-container-id-4 div.sk-estimator {font-family: monospace;background-color: #f0f8ff;border: 1px dotted black;border-radius: 0.25em;box-sizing: border-box;margin-bottom: 0.5em;}#sk-container-id-4 div.sk-estimator:hover {background-color: #d4ebff;}#sk-container-id-4 div.sk-parallel-item::after {content: \"\";width: 100%;border-bottom: 1px solid gray;flex-grow: 1;}#sk-container-id-4 div.sk-label:hover label.sk-toggleable__label {background-color: #d4ebff;}#sk-container-id-4 div.sk-serial::before {content: \"\";position: absolute;border-left: 1px solid gray;box-sizing: border-box;top: 0;bottom: 0;left: 50%;z-index: 0;}#sk-container-id-4 div.sk-serial {display: flex;flex-direction: column;align-items: center;background-color: white;padding-right: 0.2em;padding-left: 0.2em;position: relative;}#sk-container-id-4 div.sk-item {position: relative;z-index: 1;}#sk-container-id-4 div.sk-parallel {display: flex;align-items: stretch;justify-content: center;background-color: white;position: relative;}#sk-container-id-4 div.sk-item::before, #sk-container-id-4 div.sk-parallel-item::before {content: \"\";position: absolute;border-left: 1px solid gray;box-sizing: border-box;top: 0;bottom: 0;left: 50%;z-index: -1;}#sk-container-id-4 div.sk-parallel-item {display: flex;flex-direction: column;z-index: 1;position: relative;background-color: white;}#sk-container-id-4 div.sk-parallel-item:first-child::after {align-self: flex-end;width: 50%;}#sk-container-id-4 div.sk-parallel-item:last-child::after {align-self: flex-start;width: 50%;}#sk-container-id-4 div.sk-parallel-item:only-child::after {width: 0;}#sk-container-id-4 div.sk-dashed-wrapped {border: 1px dashed gray;margin: 0 0.4em 0.5em 0.4em;box-sizing: border-box;padding-bottom: 0.4em;background-color: white;}#sk-container-id-4 div.sk-label label {font-family: monospace;font-weight: bold;display: inline-block;line-height: 1.2em;}#sk-container-id-4 div.sk-label-container {text-align: center;}#sk-container-id-4 div.sk-container {/* jupyter's `normalize.less` sets `[hidden] { display: none; }` but bootstrap.min.css set `[hidden] { display: none !important; }` so we also need the `!important` here to be able to override the default hidden behavior on the sphinx rendered scikit-learn.org. See: https://github.com/scikit-learn/scikit-learn/issues/21755 */display: inline-block !important;position: relative;}#sk-container-id-4 div.sk-text-repr-fallback {display: none;}</style><div id=\"sk-container-id-4\" class=\"sk-top-container\"><div class=\"sk-text-repr-fallback\"><pre>GridSearchCV(cv=3,\n",
              "             estimator=GradientBoostingClassifier(max_depth=2,\n",
              "                                                  n_estimators=200),\n",
              "             param_grid={&#x27;learning_rate&#x27;: [0.2, 0.6, 0.9],\n",
              "                         &#x27;subsample&#x27;: [0.3, 0.6, 0.9]},\n",
              "             return_train_score=True, scoring=&#x27;roc_auc&#x27;, verbose=1)</pre><b>In a Jupyter environment, please rerun this cell to show the HTML representation or trust the notebook. <br />On GitHub, the HTML representation is unable to render, please try loading this page with nbviewer.org.</b></div><div class=\"sk-container\" hidden><div class=\"sk-item sk-dashed-wrapped\"><div class=\"sk-label-container\"><div class=\"sk-label sk-toggleable\"><input class=\"sk-toggleable__control sk-hidden--visually\" id=\"sk-estimator-id-11\" type=\"checkbox\" ><label for=\"sk-estimator-id-11\" class=\"sk-toggleable__label sk-toggleable__label-arrow\">GridSearchCV</label><div class=\"sk-toggleable__content\"><pre>GridSearchCV(cv=3,\n",
              "             estimator=GradientBoostingClassifier(max_depth=2,\n",
              "                                                  n_estimators=200),\n",
              "             param_grid={&#x27;learning_rate&#x27;: [0.2, 0.6, 0.9],\n",
              "                         &#x27;subsample&#x27;: [0.3, 0.6, 0.9]},\n",
              "             return_train_score=True, scoring=&#x27;roc_auc&#x27;, verbose=1)</pre></div></div></div><div class=\"sk-parallel\"><div class=\"sk-parallel-item\"><div class=\"sk-item\"><div class=\"sk-label-container\"><div class=\"sk-label sk-toggleable\"><input class=\"sk-toggleable__control sk-hidden--visually\" id=\"sk-estimator-id-12\" type=\"checkbox\" ><label for=\"sk-estimator-id-12\" class=\"sk-toggleable__label sk-toggleable__label-arrow\">estimator: GradientBoostingClassifier</label><div class=\"sk-toggleable__content\"><pre>GradientBoostingClassifier(max_depth=2, n_estimators=200)</pre></div></div></div><div class=\"sk-serial\"><div class=\"sk-item\"><div class=\"sk-estimator sk-toggleable\"><input class=\"sk-toggleable__control sk-hidden--visually\" id=\"sk-estimator-id-13\" type=\"checkbox\" ><label for=\"sk-estimator-id-13\" class=\"sk-toggleable__label sk-toggleable__label-arrow\">GradientBoostingClassifier</label><div class=\"sk-toggleable__content\"><pre>GradientBoostingClassifier(max_depth=2, n_estimators=200)</pre></div></div></div></div></div></div></div></div></div></div>"
            ],
            "text/plain": [
              "GridSearchCV(cv=3,\n",
              "             estimator=GradientBoostingClassifier(max_depth=2,\n",
              "                                                  n_estimators=200),\n",
              "             param_grid={'learning_rate': [0.2, 0.6, 0.9],\n",
              "                         'subsample': [0.3, 0.6, 0.9]},\n",
              "             return_train_score=True, scoring='roc_auc', verbose=1)"
            ]
          },
          "execution_count": 49,
          "metadata": {},
          "output_type": "execute_result"
        }
      ],
      "source": [
        "# run grid search\n",
        "folds = 3\n",
        "grid_search_GBC = GridSearchCV(GBC,\n",
        "                               cv = folds,\n",
        "                               param_grid=param_grid,\n",
        "                               scoring = 'roc_auc',\n",
        "                               return_train_score=True,\n",
        "                               verbose = 1)\n",
        "\n",
        "grid_search_GBC.fit(X_train, y_train)"
      ]
    },
    {
      "cell_type": "code",
      "execution_count": null,
      "id": "bd29db1a",
      "metadata": {
        "execution": {
          "iopub.execute_input": "2023-07-03T13:53:22.529850Z",
          "iopub.status.busy": "2023-07-03T13:53:22.528676Z",
          "iopub.status.idle": "2023-07-03T13:53:22.557368Z",
          "shell.execute_reply": "2023-07-03T13:53:22.555814Z"
        },
        "papermill": {
          "duration": 0.073639,
          "end_time": "2023-07-03T13:53:22.560200",
          "exception": false,
          "start_time": "2023-07-03T13:53:22.486561",
          "status": "completed"
        },
        "tags": [],
        "id": "bd29db1a",
        "outputId": "61ca20de-e44a-4a61-d213-d8b7bda11aa6"
      },
      "outputs": [
        {
          "data": {
            "text/html": [
              "<div>\n",
              "<style scoped>\n",
              "    .dataframe tbody tr th:only-of-type {\n",
              "        vertical-align: middle;\n",
              "    }\n",
              "\n",
              "    .dataframe tbody tr th {\n",
              "        vertical-align: top;\n",
              "    }\n",
              "\n",
              "    .dataframe thead th {\n",
              "        text-align: right;\n",
              "    }\n",
              "</style>\n",
              "<table border=\"1\" class=\"dataframe\">\n",
              "  <thead>\n",
              "    <tr style=\"text-align: right;\">\n",
              "      <th></th>\n",
              "      <th>mean_fit_time</th>\n",
              "      <th>std_fit_time</th>\n",
              "      <th>mean_score_time</th>\n",
              "      <th>std_score_time</th>\n",
              "      <th>param_learning_rate</th>\n",
              "      <th>param_subsample</th>\n",
              "      <th>params</th>\n",
              "      <th>split0_test_score</th>\n",
              "      <th>split1_test_score</th>\n",
              "      <th>split2_test_score</th>\n",
              "      <th>mean_test_score</th>\n",
              "      <th>std_test_score</th>\n",
              "      <th>rank_test_score</th>\n",
              "      <th>split0_train_score</th>\n",
              "      <th>split1_train_score</th>\n",
              "      <th>split2_train_score</th>\n",
              "      <th>mean_train_score</th>\n",
              "      <th>std_train_score</th>\n",
              "    </tr>\n",
              "  </thead>\n",
              "  <tbody>\n",
              "    <tr>\n",
              "      <th>0</th>\n",
              "      <td>5.604960</td>\n",
              "      <td>0.037108</td>\n",
              "      <td>0.043014</td>\n",
              "      <td>0.001236</td>\n",
              "      <td>0.2</td>\n",
              "      <td>0.3</td>\n",
              "      <td>{'learning_rate': 0.2, 'subsample': 0.3}</td>\n",
              "      <td>0.770155</td>\n",
              "      <td>0.763786</td>\n",
              "      <td>0.870036</td>\n",
              "      <td>0.801326</td>\n",
              "      <td>0.048655</td>\n",
              "      <td>2</td>\n",
              "      <td>0.661443</td>\n",
              "      <td>0.766675</td>\n",
              "      <td>0.837141</td>\n",
              "      <td>0.755086</td>\n",
              "      <td>0.072195</td>\n",
              "    </tr>\n",
              "    <tr>\n",
              "      <th>1</th>\n",
              "      <td>8.344833</td>\n",
              "      <td>0.123335</td>\n",
              "      <td>0.045685</td>\n",
              "      <td>0.000905</td>\n",
              "      <td>0.2</td>\n",
              "      <td>0.6</td>\n",
              "      <td>{'learning_rate': 0.2, 'subsample': 0.6}</td>\n",
              "      <td>0.664595</td>\n",
              "      <td>0.563514</td>\n",
              "      <td>0.810465</td>\n",
              "      <td>0.679525</td>\n",
              "      <td>0.101369</td>\n",
              "      <td>6</td>\n",
              "      <td>0.666244</td>\n",
              "      <td>0.599277</td>\n",
              "      <td>0.801143</td>\n",
              "      <td>0.688888</td>\n",
              "      <td>0.083952</td>\n",
              "    </tr>\n",
              "    <tr>\n",
              "      <th>2</th>\n",
              "      <td>10.380583</td>\n",
              "      <td>0.020146</td>\n",
              "      <td>0.048826</td>\n",
              "      <td>0.001662</td>\n",
              "      <td>0.2</td>\n",
              "      <td>0.9</td>\n",
              "      <td>{'learning_rate': 0.2, 'subsample': 0.9}</td>\n",
              "      <td>0.771605</td>\n",
              "      <td>0.829961</td>\n",
              "      <td>0.784431</td>\n",
              "      <td>0.795332</td>\n",
              "      <td>0.025040</td>\n",
              "      <td>3</td>\n",
              "      <td>0.740487</td>\n",
              "      <td>0.809972</td>\n",
              "      <td>0.786022</td>\n",
              "      <td>0.778827</td>\n",
              "      <td>0.028820</td>\n",
              "    </tr>\n",
              "    <tr>\n",
              "      <th>3</th>\n",
              "      <td>5.550713</td>\n",
              "      <td>0.014981</td>\n",
              "      <td>0.044181</td>\n",
              "      <td>0.000729</td>\n",
              "      <td>0.6</td>\n",
              "      <td>0.3</td>\n",
              "      <td>{'learning_rate': 0.6, 'subsample': 0.3}</td>\n",
              "      <td>0.646408</td>\n",
              "      <td>0.652531</td>\n",
              "      <td>0.415624</td>\n",
              "      <td>0.571521</td>\n",
              "      <td>0.110264</td>\n",
              "      <td>7</td>\n",
              "      <td>0.621100</td>\n",
              "      <td>0.685341</td>\n",
              "      <td>0.448641</td>\n",
              "      <td>0.585027</td>\n",
              "      <td>0.099942</td>\n",
              "    </tr>\n",
              "    <tr>\n",
              "      <th>4</th>\n",
              "      <td>8.338370</td>\n",
              "      <td>0.015125</td>\n",
              "      <td>0.044491</td>\n",
              "      <td>0.001874</td>\n",
              "      <td>0.6</td>\n",
              "      <td>0.6</td>\n",
              "      <td>{'learning_rate': 0.6, 'subsample': 0.6}</td>\n",
              "      <td>0.918653</td>\n",
              "      <td>0.779335</td>\n",
              "      <td>0.791024</td>\n",
              "      <td>0.829670</td>\n",
              "      <td>0.063101</td>\n",
              "      <td>1</td>\n",
              "      <td>0.946511</td>\n",
              "      <td>0.795074</td>\n",
              "      <td>0.709683</td>\n",
              "      <td>0.817089</td>\n",
              "      <td>0.097930</td>\n",
              "    </tr>\n",
              "  </tbody>\n",
              "</table>\n",
              "</div>"
            ],
            "text/plain": [
              "   mean_fit_time  std_fit_time  mean_score_time  std_score_time  \\\n",
              "0       5.604960      0.037108         0.043014        0.001236   \n",
              "1       8.344833      0.123335         0.045685        0.000905   \n",
              "2      10.380583      0.020146         0.048826        0.001662   \n",
              "3       5.550713      0.014981         0.044181        0.000729   \n",
              "4       8.338370      0.015125         0.044491        0.001874   \n",
              "\n",
              "  param_learning_rate param_subsample  \\\n",
              "0                 0.2             0.3   \n",
              "1                 0.2             0.6   \n",
              "2                 0.2             0.9   \n",
              "3                 0.6             0.3   \n",
              "4                 0.6             0.6   \n",
              "\n",
              "                                     params  split0_test_score  \\\n",
              "0  {'learning_rate': 0.2, 'subsample': 0.3}           0.770155   \n",
              "1  {'learning_rate': 0.2, 'subsample': 0.6}           0.664595   \n",
              "2  {'learning_rate': 0.2, 'subsample': 0.9}           0.771605   \n",
              "3  {'learning_rate': 0.6, 'subsample': 0.3}           0.646408   \n",
              "4  {'learning_rate': 0.6, 'subsample': 0.6}           0.918653   \n",
              "\n",
              "   split1_test_score  split2_test_score  mean_test_score  std_test_score  \\\n",
              "0           0.763786           0.870036         0.801326        0.048655   \n",
              "1           0.563514           0.810465         0.679525        0.101369   \n",
              "2           0.829961           0.784431         0.795332        0.025040   \n",
              "3           0.652531           0.415624         0.571521        0.110264   \n",
              "4           0.779335           0.791024         0.829670        0.063101   \n",
              "\n",
              "   rank_test_score  split0_train_score  split1_train_score  \\\n",
              "0                2            0.661443            0.766675   \n",
              "1                6            0.666244            0.599277   \n",
              "2                3            0.740487            0.809972   \n",
              "3                7            0.621100            0.685341   \n",
              "4                1            0.946511            0.795074   \n",
              "\n",
              "   split2_train_score  mean_train_score  std_train_score  \n",
              "0            0.837141          0.755086         0.072195  \n",
              "1            0.801143          0.688888         0.083952  \n",
              "2            0.786022          0.778827         0.028820  \n",
              "3            0.448641          0.585027         0.099942  \n",
              "4            0.709683          0.817089         0.097930  "
            ]
          },
          "execution_count": 50,
          "metadata": {},
          "output_type": "execute_result"
        }
      ],
      "source": [
        "cv_results = pd.DataFrame(grid_search_GBC.cv_results_)\n",
        "cv_results.head()"
      ]
    },
    {
      "cell_type": "code",
      "execution_count": null,
      "id": "2890c3e1",
      "metadata": {
        "execution": {
          "iopub.execute_input": "2023-07-03T13:53:22.648080Z",
          "iopub.status.busy": "2023-07-03T13:53:22.647645Z",
          "iopub.status.idle": "2023-07-03T13:53:24.156662Z",
          "shell.execute_reply": "2023-07-03T13:53:24.155300Z"
        },
        "papermill": {
          "duration": 1.556706,
          "end_time": "2023-07-03T13:53:24.159755",
          "exception": false,
          "start_time": "2023-07-03T13:53:22.603049",
          "status": "completed"
        },
        "tags": [],
        "id": "2890c3e1",
        "outputId": "13d2085e-a5bf-4a79-ea6a-ce0608e05bb7"
      },
      "outputs": [
        {
          "data": {
            "image/png": "[encoded data removed]",
            "text/plain": [
              "<Figure size 1600x600 with 3 Axes>"
            ]
          },
          "metadata": {},
          "output_type": "display_data"
        }
      ],
      "source": [
        "# # plotting\n",
        "plt.figure(figsize=(16,6))\n",
        "\n",
        "\n",
        "for n, subsample in enumerate(param_grid['subsample']):\n",
        "\n",
        "\n",
        "    # subplot 1/n\n",
        "    plt.subplot(1,len(param_grid['subsample']), n+1)\n",
        "    df = cv_results[cv_results['param_subsample']==subsample]\n",
        "\n",
        "    plt.plot(df[\"param_learning_rate\"], df[\"mean_test_score\"])\n",
        "    plt.plot(df[\"param_learning_rate\"], df[\"mean_train_score\"])\n",
        "    plt.xlabel('learning_rate')\n",
        "    plt.ylabel('AUC')\n",
        "    plt.title(\"subsample={0}\".format(subsample))\n",
        "    plt.ylim([0.60, 1])\n",
        "    plt.legend(['test score', 'train score'], loc='upper left')\n",
        "    plt.xscale('log')\n"
      ]
    },
    {
      "cell_type": "markdown",
      "id": "575443ca",
      "metadata": {
        "papermill": {
          "duration": 0.042992,
          "end_time": "2023-07-03T13:53:24.246960",
          "exception": false,
          "start_time": "2023-07-03T13:53:24.203968",
          "status": "completed"
        },
        "tags": [],
        "id": "575443ca"
      },
      "source": [
        "It is clear from the plot above that the model with a lower subsample ratio performs better, while those with higher subsamples tend to overfit.\n",
        "\n",
        "Also, a lower learning rate results in less overfitting."
      ]
    },
    {
      "cell_type": "markdown",
      "id": "eb007249",
      "metadata": {
        "papermill": {
          "duration": 0.042718,
          "end_time": "2023-07-03T13:53:24.332920",
          "exception": false,
          "start_time": "2023-07-03T13:53:24.290202",
          "status": "completed"
        },
        "tags": [],
        "id": "eb007249"
      },
      "source": [
        "### XGBoost\n",
        "\n",
        "Let's finally try XGBoost. The hyperparameters are the same, some important ones being ```subsample```, ```learning_rate```, ```max_depth``` etc.\n"
      ]
    },
    {
      "cell_type": "code",
      "execution_count": null,
      "id": "8537a3d4",
      "metadata": {
        "execution": {
          "iopub.execute_input": "2023-07-03T13:53:24.423812Z",
          "iopub.status.busy": "2023-07-03T13:53:24.422724Z",
          "iopub.status.idle": "2023-07-03T13:53:29.605471Z",
          "shell.execute_reply": "2023-07-03T13:53:29.604415Z"
        },
        "papermill": {
          "duration": 5.230839,
          "end_time": "2023-07-03T13:53:29.608529",
          "exception": false,
          "start_time": "2023-07-03T13:53:24.377690",
          "status": "completed"
        },
        "tags": [],
        "id": "8537a3d4",
        "outputId": "fdadb44a-2b6f-403f-89d4-ca044fb15421"
      },
      "outputs": [
        {
          "data": {
            "text/html": [
              "<style>#sk-container-id-5 {color: black;background-color: white;}#sk-container-id-5 pre{padding: 0;}#sk-container-id-5 div.sk-toggleable {background-color: white;}#sk-container-id-5 label.sk-toggleable__label {cursor: pointer;display: block;width: 100%;margin-bottom: 0;padding: 0.3em;box-sizing: border-box;text-align: center;}#sk-container-id-5 label.sk-toggleable__label-arrow:before {content: \"▸\";float: left;margin-right: 0.25em;color: #696969;}#sk-container-id-5 label.sk-toggleable__label-arrow:hover:before {color: black;}#sk-container-id-5 div.sk-estimator:hover label.sk-toggleable__label-arrow:before {color: black;}#sk-container-id-5 div.sk-toggleable__content {max-height: 0;max-width: 0;overflow: hidden;text-align: left;background-color: #f0f8ff;}#sk-container-id-5 div.sk-toggleable__content pre {margin: 0.2em;color: black;border-radius: 0.25em;background-color: #f0f8ff;}#sk-container-id-5 input.sk-toggleable__control:checked~div.sk-toggleable__content {max-height: 200px;max-width: 100%;overflow: auto;}#sk-container-id-5 input.sk-toggleable__control:checked~label.sk-toggleable__label-arrow:before {content: \"▾\";}#sk-container-id-5 div.sk-estimator input.sk-toggleable__control:checked~label.sk-toggleable__label {background-color: #d4ebff;}#sk-container-id-5 div.sk-label input.sk-toggleable__control:checked~label.sk-toggleable__label {background-color: #d4ebff;}#sk-container-id-5 input.sk-hidden--visually {border: 0;clip: rect(1px 1px 1px 1px);clip: rect(1px, 1px, 1px, 1px);height: 1px;margin: -1px;overflow: hidden;padding: 0;position: absolute;width: 1px;}#sk-container-id-5 div.sk-estimator {font-family: monospace;background-color: #f0f8ff;border: 1px dotted black;border-radius: 0.25em;box-sizing: border-box;margin-bottom: 0.5em;}#sk-container-id-5 div.sk-estimator:hover {background-color: #d4ebff;}#sk-container-id-5 div.sk-parallel-item::after {content: \"\";width: 100%;border-bottom: 1px solid gray;flex-grow: 1;}#sk-container-id-5 div.sk-label:hover label.sk-toggleable__label {background-color: #d4ebff;}#sk-container-id-5 div.sk-serial::before {content: \"\";position: absolute;border-left: 1px solid gray;box-sizing: border-box;top: 0;bottom: 0;left: 50%;z-index: 0;}#sk-container-id-5 div.sk-serial {display: flex;flex-direction: column;align-items: center;background-color: white;padding-right: 0.2em;padding-left: 0.2em;position: relative;}#sk-container-id-5 div.sk-item {position: relative;z-index: 1;}#sk-container-id-5 div.sk-parallel {display: flex;align-items: stretch;justify-content: center;background-color: white;position: relative;}#sk-container-id-5 div.sk-item::before, #sk-container-id-5 div.sk-parallel-item::before {content: \"\";position: absolute;border-left: 1px solid gray;box-sizing: border-box;top: 0;bottom: 0;left: 50%;z-index: -1;}#sk-container-id-5 div.sk-parallel-item {display: flex;flex-direction: column;z-index: 1;position: relative;background-color: white;}#sk-container-id-5 div.sk-parallel-item:first-child::after {align-self: flex-end;width: 50%;}#sk-container-id-5 div.sk-parallel-item:last-child::after {align-self: flex-start;width: 50%;}#sk-container-id-5 div.sk-parallel-item:only-child::after {width: 0;}#sk-container-id-5 div.sk-dashed-wrapped {border: 1px dashed gray;margin: 0 0.4em 0.5em 0.4em;box-sizing: border-box;padding-bottom: 0.4em;background-color: white;}#sk-container-id-5 div.sk-label label {font-family: monospace;font-weight: bold;display: inline-block;line-height: 1.2em;}#sk-container-id-5 div.sk-label-container {text-align: center;}#sk-container-id-5 div.sk-container {/* jupyter's `normalize.less` sets `[hidden] { display: none; }` but bootstrap.min.css set `[hidden] { display: none !important; }` so we also need the `!important` here to be able to override the default hidden behavior on the sphinx rendered scikit-learn.org. See: https://github.com/scikit-learn/scikit-learn/issues/21755 */display: inline-block !important;position: relative;}#sk-container-id-5 div.sk-text-repr-fallback {display: none;}</style><div id=\"sk-container-id-5\" class=\"sk-top-container\"><div class=\"sk-text-repr-fallback\"><pre>XGBClassifier(base_score=None, booster=None, callbacks=None,\n",
              "              colsample_bylevel=None, colsample_bynode=None,\n",
              "              colsample_bytree=None, early_stopping_rounds=None,\n",
              "              enable_categorical=False, eval_metric=None, feature_types=None,\n",
              "              gamma=None, gpu_id=None, grow_policy=None, importance_type=None,\n",
              "              interaction_constraints=None, learning_rate=None, max_bin=None,\n",
              "              max_cat_threshold=None, max_cat_to_onehot=None,\n",
              "              max_delta_step=None, max_depth=None, max_leaves=None,\n",
              "              min_child_weight=None, missing=nan, monotone_constraints=None,\n",
              "              n_estimators=100, n_jobs=None, num_parallel_tree=None,\n",
              "              predictor=None, random_state=None, ...)</pre><b>In a Jupyter environment, please rerun this cell to show the HTML representation or trust the notebook. <br />On GitHub, the HTML representation is unable to render, please try loading this page with nbviewer.org.</b></div><div class=\"sk-container\" hidden><div class=\"sk-item\"><div class=\"sk-estimator sk-toggleable\"><input class=\"sk-toggleable__control sk-hidden--visually\" id=\"sk-estimator-id-14\" type=\"checkbox\" checked><label for=\"sk-estimator-id-14\" class=\"sk-toggleable__label sk-toggleable__label-arrow\">XGBClassifier</label><div class=\"sk-toggleable__content\"><pre>XGBClassifier(base_score=None, booster=None, callbacks=None,\n",
              "              colsample_bylevel=None, colsample_bynode=None,\n",
              "              colsample_bytree=None, early_stopping_rounds=None,\n",
              "              enable_categorical=False, eval_metric=None, feature_types=None,\n",
              "              gamma=None, gpu_id=None, grow_policy=None, importance_type=None,\n",
              "              interaction_constraints=None, learning_rate=None, max_bin=None,\n",
              "              max_cat_threshold=None, max_cat_to_onehot=None,\n",
              "              max_delta_step=None, max_depth=None, max_leaves=None,\n",
              "              min_child_weight=None, missing=nan, monotone_constraints=None,\n",
              "              n_estimators=100, n_jobs=None, num_parallel_tree=None,\n",
              "              predictor=None, random_state=None, ...)</pre></div></div></div></div></div>"
            ],
            "text/plain": [
              "XGBClassifier(base_score=None, booster=None, callbacks=None,\n",
              "              colsample_bylevel=None, colsample_bynode=None,\n",
              "              colsample_bytree=None, early_stopping_rounds=None,\n",
              "              enable_categorical=False, eval_metric=None, feature_types=None,\n",
              "              gamma=None, gpu_id=None, grow_policy=None, importance_type=None,\n",
              "              interaction_constraints=None, learning_rate=None, max_bin=None,\n",
              "              max_cat_threshold=None, max_cat_to_onehot=None,\n",
              "              max_delta_step=None, max_depth=None, max_leaves=None,\n",
              "              min_child_weight=None, missing=nan, monotone_constraints=None,\n",
              "              n_estimators=100, n_jobs=None, num_parallel_tree=None,\n",
              "              predictor=None, random_state=None, ...)"
            ]
          },
          "execution_count": 52,
          "metadata": {},
          "output_type": "execute_result"
        }
      ],
      "source": [
        "# fit model on training data with default hyperparameters\n",
        "model = XGBClassifier()\n",
        "model.fit(X_train,y_train)"
      ]
    },
    {
      "cell_type": "code",
      "execution_count": null,
      "id": "a2e9ab51",
      "metadata": {
        "execution": {
          "iopub.execute_input": "2023-07-03T13:53:29.699136Z",
          "iopub.status.busy": "2023-07-03T13:53:29.698393Z",
          "iopub.status.idle": "2023-07-03T13:53:29.738646Z",
          "shell.execute_reply": "2023-07-03T13:53:29.737257Z"
        },
        "papermill": {
          "duration": 0.089505,
          "end_time": "2023-07-03T13:53:29.741686",
          "exception": false,
          "start_time": "2023-07-03T13:53:29.652181",
          "status": "completed"
        },
        "tags": [],
        "id": "a2e9ab51",
        "outputId": "7bd65739-4fbd-4d5c-8ea4-8a93659b58af"
      },
      "outputs": [
        {
          "data": {
            "text/plain": [
              "array([[9.9999809e-01, 1.9337567e-06],\n",
              "       [9.9998653e-01, 1.3449854e-05],\n",
              "       [9.9997407e-01, 2.5916344e-05],\n",
              "       [9.9952990e-01, 4.7011764e-04],\n",
              "       [9.9978644e-01, 2.1357677e-04],\n",
              "       [9.9999368e-01, 6.3347384e-06],\n",
              "       [9.9991673e-01, 8.3290950e-05],\n",
              "       [9.9998868e-01, 1.1305605e-05],\n",
              "       [9.9981380e-01, 1.8618901e-04],\n",
              "       [9.9910051e-01, 8.9947559e-04]], dtype=float32)"
            ]
          },
          "execution_count": 53,
          "metadata": {},
          "output_type": "execute_result"
        }
      ],
      "source": [
        "# make predictions for test data\n",
        "# use predict_proba since we need probabilities to compute auc\n",
        "y_pred = model.predict_proba(X_test)\n",
        "y_pred[:10]"
      ]
    },
    {
      "cell_type": "code",
      "execution_count": null,
      "id": "e131f42c",
      "metadata": {
        "execution": {
          "iopub.execute_input": "2023-07-03T13:53:29.835235Z",
          "iopub.status.busy": "2023-07-03T13:53:29.834455Z",
          "iopub.status.idle": "2023-07-03T13:53:29.851764Z",
          "shell.execute_reply": "2023-07-03T13:53:29.850009Z"
        },
        "papermill": {
          "duration": 0.067915,
          "end_time": "2023-07-03T13:53:29.854688",
          "exception": false,
          "start_time": "2023-07-03T13:53:29.786773",
          "status": "completed"
        },
        "tags": [],
        "id": "e131f42c",
        "outputId": "0534c694-f10a-4000-e5db-390c96b2fda5"
      },
      "outputs": [
        {
          "name": "stdout",
          "output_type": "stream",
          "text": [
            "AUC : 96.06%\n"
          ]
        }
      ],
      "source": [
        "# evaluate predictions\n",
        "roc = metrics.roc_auc_score(y_test,y_pred[:,1])\n",
        "print(\"AUC : %.2f%%\" %(roc * 100.0))"
      ]
    },
    {
      "cell_type": "markdown",
      "id": "22d55cc1",
      "metadata": {
        "papermill": {
          "duration": 0.044599,
          "end_time": "2023-07-03T13:53:29.946257",
          "exception": false,
          "start_time": "2023-07-03T13:53:29.901658",
          "status": "completed"
        },
        "tags": [],
        "id": "22d55cc1"
      },
      "source": [
        "The roc_auc in this case is about 0.95% with default hyperparameters. Let's try changing the hyperparameters"
      ]
    },
    {
      "cell_type": "markdown",
      "id": "7e87872a",
      "metadata": {
        "papermill": {
          "duration": 0.051247,
          "end_time": "2023-07-03T13:53:30.042847",
          "exception": false,
          "start_time": "2023-07-03T13:53:29.991600",
          "status": "completed"
        },
        "tags": [],
        "id": "7e87872a"
      },
      "source": [
        "Let's now try tuning the hyperparameters using k-fold CV. We'll then use grid search CV to find the optimal values of hyperparameters."
      ]
    },
    {
      "cell_type": "code",
      "execution_count": null,
      "id": "5af67707",
      "metadata": {
        "execution": {
          "iopub.execute_input": "2023-07-03T13:53:30.135778Z",
          "iopub.status.busy": "2023-07-03T13:53:30.135351Z",
          "iopub.status.idle": "2023-07-03T13:53:30.142333Z",
          "shell.execute_reply": "2023-07-03T13:53:30.141198Z"
        },
        "papermill": {
          "duration": 0.056225,
          "end_time": "2023-07-03T13:53:30.144793",
          "exception": false,
          "start_time": "2023-07-03T13:53:30.088568",
          "status": "completed"
        },
        "tags": [],
        "id": "5af67707"
      },
      "outputs": [],
      "source": [
        "# hyperparameter tuning with XGBoost\n",
        "# creating a KFold object\n",
        "folds = 3\n",
        "# specify range of hyperparamaters\n",
        "param_grid = {'learning_rate' : [0.2,0.6],\n",
        "             'subsample' : [0.3,0.6,0.9]\n",
        "             }\n",
        "# specify model\n",
        "xgb_model = XGBClassifier(max_depth=2,n_estimators=200)\n",
        "# set up GridSearchCV()\n",
        "model_cv = GridSearchCV(estimator = xgb_model,\n",
        "                       param_grid = param_grid,\n",
        "                       scoring = 'roc_auc',\n",
        "                       cv = folds,\n",
        "                       verbose = 1,\n",
        "                       return_train_score = True)"
      ]
    },
    {
      "cell_type": "code",
      "execution_count": null,
      "id": "8aa01386",
      "metadata": {
        "execution": {
          "iopub.execute_input": "2023-07-03T13:53:30.233572Z",
          "iopub.status.busy": "2023-07-03T13:53:30.232448Z",
          "iopub.status.idle": "2023-07-03T13:54:29.791303Z",
          "shell.execute_reply": "2023-07-03T13:54:29.789988Z"
        },
        "papermill": {
          "duration": 59.647498,
          "end_time": "2023-07-03T13:54:29.835444",
          "exception": false,
          "start_time": "2023-07-03T13:53:30.187946",
          "status": "completed"
        },
        "tags": [],
        "id": "8aa01386",
        "outputId": "d043171f-33ab-4216-e32a-2c0e361dc03a"
      },
      "outputs": [
        {
          "name": "stdout",
          "output_type": "stream",
          "text": [
            "Fitting 3 folds for each of 6 candidates, totalling 18 fits\n"
          ]
        },
        {
          "data": {
            "text/html": [
              "<style>#sk-container-id-6 {color: black;background-color: white;}#sk-container-id-6 pre{padding: 0;}#sk-container-id-6 div.sk-toggleable {background-color: white;}#sk-container-id-6 label.sk-toggleable__label {cursor: pointer;display: block;width: 100%;margin-bottom: 0;padding: 0.3em;box-sizing: border-box;text-align: center;}#sk-container-id-6 label.sk-toggleable__label-arrow:before {content: \"▸\";float: left;margin-right: 0.25em;color: #696969;}#sk-container-id-6 label.sk-toggleable__label-arrow:hover:before {color: black;}#sk-container-id-6 div.sk-estimator:hover label.sk-toggleable__label-arrow:before {color: black;}#sk-container-id-6 div.sk-toggleable__content {max-height: 0;max-width: 0;overflow: hidden;text-align: left;background-color: #f0f8ff;}#sk-container-id-6 div.sk-toggleable__content pre {margin: 0.2em;color: black;border-radius: 0.25em;background-color: #f0f8ff;}#sk-container-id-6 input.sk-toggleable__control:checked~div.sk-toggleable__content {max-height: 200px;max-width: 100%;overflow: auto;}#sk-container-id-6 input.sk-toggleable__control:checked~label.sk-toggleable__label-arrow:before {content: \"▾\";}#sk-container-id-6 div.sk-estimator input.sk-toggleable__control:checked~label.sk-toggleable__label {background-color: #d4ebff;}#sk-container-id-6 div.sk-label input.sk-toggleable__control:checked~label.sk-toggleable__label {background-color: #d4ebff;}#sk-container-id-6 input.sk-hidden--visually {border: 0;clip: rect(1px 1px 1px 1px);clip: rect(1px, 1px, 1px, 1px);height: 1px;margin: -1px;overflow: hidden;padding: 0;position: absolute;width: 1px;}#sk-container-id-6 div.sk-estimator {font-family: monospace;background-color: #f0f8ff;border: 1px dotted black;border-radius: 0.25em;box-sizing: border-box;margin-bottom: 0.5em;}#sk-container-id-6 div.sk-estimator:hover {background-color: #d4ebff;}#sk-container-id-6 div.sk-parallel-item::after {content: \"\";width: 100%;border-bottom: 1px solid gray;flex-grow: 1;}#sk-container-id-6 div.sk-label:hover label.sk-toggleable__label {background-color: #d4ebff;}#sk-container-id-6 div.sk-serial::before {content: \"\";position: absolute;border-left: 1px solid gray;box-sizing: border-box;top: 0;bottom: 0;left: 50%;z-index: 0;}#sk-container-id-6 div.sk-serial {display: flex;flex-direction: column;align-items: center;background-color: white;padding-right: 0.2em;padding-left: 0.2em;position: relative;}#sk-container-id-6 div.sk-item {position: relative;z-index: 1;}#sk-container-id-6 div.sk-parallel {display: flex;align-items: stretch;justify-content: center;background-color: white;position: relative;}#sk-container-id-6 div.sk-item::before, #sk-container-id-6 div.sk-parallel-item::before {content: \"\";position: absolute;border-left: 1px solid gray;box-sizing: border-box;top: 0;bottom: 0;left: 50%;z-index: -1;}#sk-container-id-6 div.sk-parallel-item {display: flex;flex-direction: column;z-index: 1;position: relative;background-color: white;}#sk-container-id-6 div.sk-parallel-item:first-child::after {align-self: flex-end;width: 50%;}#sk-container-id-6 div.sk-parallel-item:last-child::after {align-self: flex-start;width: 50%;}#sk-container-id-6 div.sk-parallel-item:only-child::after {width: 0;}#sk-container-id-6 div.sk-dashed-wrapped {border: 1px dashed gray;margin: 0 0.4em 0.5em 0.4em;box-sizing: border-box;padding-bottom: 0.4em;background-color: white;}#sk-container-id-6 div.sk-label label {font-family: monospace;font-weight: bold;display: inline-block;line-height: 1.2em;}#sk-container-id-6 div.sk-label-container {text-align: center;}#sk-container-id-6 div.sk-container {/* jupyter's `normalize.less` sets `[hidden] { display: none; }` but bootstrap.min.css set `[hidden] { display: none !important; }` so we also need the `!important` here to be able to override the default hidden behavior on the sphinx rendered scikit-learn.org. See: https://github.com/scikit-learn/scikit-learn/issues/21755 */display: inline-block !important;position: relative;}#sk-container-id-6 div.sk-text-repr-fallback {display: none;}</style><div id=\"sk-container-id-6\" class=\"sk-top-container\"><div class=\"sk-text-repr-fallback\"><pre>GridSearchCV(cv=3,\n",
              "             estimator=XGBClassifier(base_score=None, booster=None,\n",
              "                                     callbacks=None, colsample_bylevel=None,\n",
              "                                     colsample_bynode=None,\n",
              "                                     colsample_bytree=None,\n",
              "                                     early_stopping_rounds=None,\n",
              "                                     enable_categorical=False, eval_metric=None,\n",
              "                                     feature_types=None, gamma=None,\n",
              "                                     gpu_id=None, grow_policy=None,\n",
              "                                     importance_type=None,\n",
              "                                     interaction_constraints=None,\n",
              "                                     learning_rate=None,...\n",
              "                                     max_cat_threshold=None,\n",
              "                                     max_cat_to_onehot=None,\n",
              "                                     max_delta_step=None, max_depth=2,\n",
              "                                     max_leaves=None, min_child_weight=None,\n",
              "                                     missing=nan, monotone_constraints=None,\n",
              "                                     n_estimators=200, n_jobs=None,\n",
              "                                     num_parallel_tree=None, predictor=None,\n",
              "                                     random_state=None, ...),\n",
              "             param_grid={&#x27;learning_rate&#x27;: [0.2, 0.6],\n",
              "                         &#x27;subsample&#x27;: [0.3, 0.6, 0.9]},\n",
              "             return_train_score=True, scoring=&#x27;roc_auc&#x27;, verbose=1)</pre><b>In a Jupyter environment, please rerun this cell to show the HTML representation or trust the notebook. <br />On GitHub, the HTML representation is unable to render, please try loading this page with nbviewer.org.</b></div><div class=\"sk-container\" hidden><div class=\"sk-item sk-dashed-wrapped\"><div class=\"sk-label-container\"><div class=\"sk-label sk-toggleable\"><input class=\"sk-toggleable__control sk-hidden--visually\" id=\"sk-estimator-id-15\" type=\"checkbox\" ><label for=\"sk-estimator-id-15\" class=\"sk-toggleable__label sk-toggleable__label-arrow\">GridSearchCV</label><div class=\"sk-toggleable__content\"><pre>GridSearchCV(cv=3,\n",
              "             estimator=XGBClassifier(base_score=None, booster=None,\n",
              "                                     callbacks=None, colsample_bylevel=None,\n",
              "                                     colsample_bynode=None,\n",
              "                                     colsample_bytree=None,\n",
              "                                     early_stopping_rounds=None,\n",
              "                                     enable_categorical=False, eval_metric=None,\n",
              "                                     feature_types=None, gamma=None,\n",
              "                                     gpu_id=None, grow_policy=None,\n",
              "                                     importance_type=None,\n",
              "                                     interaction_constraints=None,\n",
              "                                     learning_rate=None,...\n",
              "                                     max_cat_threshold=None,\n",
              "                                     max_cat_to_onehot=None,\n",
              "                                     max_delta_step=None, max_depth=2,\n",
              "                                     max_leaves=None, min_child_weight=None,\n",
              "                                     missing=nan, monotone_constraints=None,\n",
              "                                     n_estimators=200, n_jobs=None,\n",
              "                                     num_parallel_tree=None, predictor=None,\n",
              "                                     random_state=None, ...),\n",
              "             param_grid={&#x27;learning_rate&#x27;: [0.2, 0.6],\n",
              "                         &#x27;subsample&#x27;: [0.3, 0.6, 0.9]},\n",
              "             return_train_score=True, scoring=&#x27;roc_auc&#x27;, verbose=1)</pre></div></div></div><div class=\"sk-parallel\"><div class=\"sk-parallel-item\"><div class=\"sk-item\"><div class=\"sk-label-container\"><div class=\"sk-label sk-toggleable\"><input class=\"sk-toggleable__control sk-hidden--visually\" id=\"sk-estimator-id-16\" type=\"checkbox\" ><label for=\"sk-estimator-id-16\" class=\"sk-toggleable__label sk-toggleable__label-arrow\">estimator: XGBClassifier</label><div class=\"sk-toggleable__content\"><pre>XGBClassifier(base_score=None, booster=None, callbacks=None,\n",
              "              colsample_bylevel=None, colsample_bynode=None,\n",
              "              colsample_bytree=None, early_stopping_rounds=None,\n",
              "              enable_categorical=False, eval_metric=None, feature_types=None,\n",
              "              gamma=None, gpu_id=None, grow_policy=None, importance_type=None,\n",
              "              interaction_constraints=None, learning_rate=None, max_bin=None,\n",
              "              max_cat_threshold=None, max_cat_to_onehot=None,\n",
              "              max_delta_step=None, max_depth=2, max_leaves=None,\n",
              "              min_child_weight=None, missing=nan, monotone_constraints=None,\n",
              "              n_estimators=200, n_jobs=None, num_parallel_tree=None,\n",
              "              predictor=None, random_state=None, ...)</pre></div></div></div><div class=\"sk-serial\"><div class=\"sk-item\"><div class=\"sk-estimator sk-toggleable\"><input class=\"sk-toggleable__control sk-hidden--visually\" id=\"sk-estimator-id-17\" type=\"checkbox\" ><label for=\"sk-estimator-id-17\" class=\"sk-toggleable__label sk-toggleable__label-arrow\">XGBClassifier</label><div class=\"sk-toggleable__content\"><pre>XGBClassifier(base_score=None, booster=None, callbacks=None,\n",
              "              colsample_bylevel=None, colsample_bynode=None,\n",
              "              colsample_bytree=None, early_stopping_rounds=None,\n",
              "              enable_categorical=False, eval_metric=None, feature_types=None,\n",
              "              gamma=None, gpu_id=None, grow_policy=None, importance_type=None,\n",
              "              interaction_constraints=None, learning_rate=None, max_bin=None,\n",
              "              max_cat_threshold=None, max_cat_to_onehot=None,\n",
              "              max_delta_step=None, max_depth=2, max_leaves=None,\n",
              "              min_child_weight=None, missing=nan, monotone_constraints=None,\n",
              "              n_estimators=200, n_jobs=None, num_parallel_tree=None,\n",
              "              predictor=None, random_state=None, ...)</pre></div></div></div></div></div></div></div></div></div></div>"
            ],
            "text/plain": [
              "GridSearchCV(cv=3,\n",
              "             estimator=XGBClassifier(base_score=None, booster=None,\n",
              "                                     callbacks=None, colsample_bylevel=None,\n",
              "                                     colsample_bynode=None,\n",
              "                                     colsample_bytree=None,\n",
              "                                     early_stopping_rounds=None,\n",
              "                                     enable_categorical=False, eval_metric=None,\n",
              "                                     feature_types=None, gamma=None,\n",
              "                                     gpu_id=None, grow_policy=None,\n",
              "                                     importance_type=None,\n",
              "                                     interaction_constraints=None,\n",
              "                                     learning_rate=None,...\n",
              "                                     max_cat_threshold=None,\n",
              "                                     max_cat_to_onehot=None,\n",
              "                                     max_delta_step=None, max_depth=2,\n",
              "                                     max_leaves=None, min_child_weight=None,\n",
              "                                     missing=nan, monotone_constraints=None,\n",
              "                                     n_estimators=200, n_jobs=None,\n",
              "                                     num_parallel_tree=None, predictor=None,\n",
              "                                     random_state=None, ...),\n",
              "             param_grid={'learning_rate': [0.2, 0.6],\n",
              "                         'subsample': [0.3, 0.6, 0.9]},\n",
              "             return_train_score=True, scoring='roc_auc', verbose=1)"
            ]
          },
          "execution_count": 56,
          "metadata": {},
          "output_type": "execute_result"
        }
      ],
      "source": [
        "# fit the model\n",
        "model_cv.fit(X_train,y_train)"
      ]
    },
    {
      "cell_type": "code",
      "execution_count": null,
      "id": "d190a320",
      "metadata": {
        "execution": {
          "iopub.execute_input": "2023-07-03T13:54:29.929201Z",
          "iopub.status.busy": "2023-07-03T13:54:29.928219Z",
          "iopub.status.idle": "2023-07-03T13:54:29.958942Z",
          "shell.execute_reply": "2023-07-03T13:54:29.957616Z"
        },
        "papermill": {
          "duration": 0.08055,
          "end_time": "2023-07-03T13:54:29.961802",
          "exception": false,
          "start_time": "2023-07-03T13:54:29.881252",
          "status": "completed"
        },
        "tags": [],
        "id": "d190a320",
        "outputId": "2186615e-015a-40ae-f6f6-69f5baf6f628"
      },
      "outputs": [
        {
          "data": {
            "text/html": [
              "<div>\n",
              "<style scoped>\n",
              "    .dataframe tbody tr th:only-of-type {\n",
              "        vertical-align: middle;\n",
              "    }\n",
              "\n",
              "    .dataframe tbody tr th {\n",
              "        vertical-align: top;\n",
              "    }\n",
              "\n",
              "    .dataframe thead th {\n",
              "        text-align: right;\n",
              "    }\n",
              "</style>\n",
              "<table border=\"1\" class=\"dataframe\">\n",
              "  <thead>\n",
              "    <tr style=\"text-align: right;\">\n",
              "      <th></th>\n",
              "      <th>mean_fit_time</th>\n",
              "      <th>std_fit_time</th>\n",
              "      <th>mean_score_time</th>\n",
              "      <th>std_score_time</th>\n",
              "      <th>param_learning_rate</th>\n",
              "      <th>param_subsample</th>\n",
              "      <th>params</th>\n",
              "      <th>split0_test_score</th>\n",
              "      <th>split1_test_score</th>\n",
              "      <th>split2_test_score</th>\n",
              "      <th>mean_test_score</th>\n",
              "      <th>std_test_score</th>\n",
              "      <th>rank_test_score</th>\n",
              "      <th>split0_train_score</th>\n",
              "      <th>split1_train_score</th>\n",
              "      <th>split2_train_score</th>\n",
              "      <th>mean_train_score</th>\n",
              "      <th>std_train_score</th>\n",
              "    </tr>\n",
              "  </thead>\n",
              "  <tbody>\n",
              "    <tr>\n",
              "      <th>0</th>\n",
              "      <td>2.621507</td>\n",
              "      <td>0.066563</td>\n",
              "      <td>0.038799</td>\n",
              "      <td>0.000464</td>\n",
              "      <td>0.2</td>\n",
              "      <td>0.3</td>\n",
              "      <td>{'learning_rate': 0.2, 'subsample': 0.3}</td>\n",
              "      <td>0.914064</td>\n",
              "      <td>0.971373</td>\n",
              "      <td>0.962963</td>\n",
              "      <td>0.949467</td>\n",
              "      <td>0.025268</td>\n",
              "      <td>3</td>\n",
              "      <td>0.990450</td>\n",
              "      <td>0.984303</td>\n",
              "      <td>0.988183</td>\n",
              "      <td>0.987645</td>\n",
              "      <td>0.002538</td>\n",
              "    </tr>\n",
              "    <tr>\n",
              "      <th>1</th>\n",
              "      <td>3.363381</td>\n",
              "      <td>0.520366</td>\n",
              "      <td>0.038443</td>\n",
              "      <td>0.001346</td>\n",
              "      <td>0.2</td>\n",
              "      <td>0.6</td>\n",
              "      <td>{'learning_rate': 0.2, 'subsample': 0.6}</td>\n",
              "      <td>0.926961</td>\n",
              "      <td>0.973582</td>\n",
              "      <td>0.961443</td>\n",
              "      <td>0.953995</td>\n",
              "      <td>0.019748</td>\n",
              "      <td>1</td>\n",
              "      <td>0.994016</td>\n",
              "      <td>0.986355</td>\n",
              "      <td>0.992693</td>\n",
              "      <td>0.991021</td>\n",
              "      <td>0.003343</td>\n",
              "    </tr>\n",
              "    <tr>\n",
              "      <th>2</th>\n",
              "      <td>2.881300</td>\n",
              "      <td>0.049470</td>\n",
              "      <td>0.036988</td>\n",
              "      <td>0.000254</td>\n",
              "      <td>0.2</td>\n",
              "      <td>0.9</td>\n",
              "      <td>{'learning_rate': 0.2, 'subsample': 0.9}</td>\n",
              "      <td>0.924236</td>\n",
              "      <td>0.975867</td>\n",
              "      <td>0.951012</td>\n",
              "      <td>0.950372</td>\n",
              "      <td>0.021083</td>\n",
              "      <td>2</td>\n",
              "      <td>0.992880</td>\n",
              "      <td>0.989807</td>\n",
              "      <td>0.993936</td>\n",
              "      <td>0.992208</td>\n",
              "      <td>0.001752</td>\n",
              "    </tr>\n",
              "    <tr>\n",
              "      <th>3</th>\n",
              "      <td>2.596814</td>\n",
              "      <td>0.050731</td>\n",
              "      <td>0.038076</td>\n",
              "      <td>0.000357</td>\n",
              "      <td>0.6</td>\n",
              "      <td>0.3</td>\n",
              "      <td>{'learning_rate': 0.6, 'subsample': 0.3}</td>\n",
              "      <td>0.885865</td>\n",
              "      <td>0.957231</td>\n",
              "      <td>0.940434</td>\n",
              "      <td>0.927843</td>\n",
              "      <td>0.030465</td>\n",
              "      <td>6</td>\n",
              "      <td>0.997522</td>\n",
              "      <td>0.991143</td>\n",
              "      <td>0.993425</td>\n",
              "      <td>0.994030</td>\n",
              "      <td>0.002639</td>\n",
              "    </tr>\n",
              "    <tr>\n",
              "      <th>4</th>\n",
              "      <td>3.356451</td>\n",
              "      <td>0.457930</td>\n",
              "      <td>0.037784</td>\n",
              "      <td>0.000566</td>\n",
              "      <td>0.6</td>\n",
              "      <td>0.6</td>\n",
              "      <td>{'learning_rate': 0.6, 'subsample': 0.6}</td>\n",
              "      <td>0.893749</td>\n",
              "      <td>0.967978</td>\n",
              "      <td>0.955700</td>\n",
              "      <td>0.939142</td>\n",
              "      <td>0.032487</td>\n",
              "      <td>5</td>\n",
              "      <td>0.999624</td>\n",
              "      <td>0.997823</td>\n",
              "      <td>0.998964</td>\n",
              "      <td>0.998804</td>\n",
              "      <td>0.000744</td>\n",
              "    </tr>\n",
              "    <tr>\n",
              "      <th>5</th>\n",
              "      <td>2.905459</td>\n",
              "      <td>0.042313</td>\n",
              "      <td>0.037409</td>\n",
              "      <td>0.000250</td>\n",
              "      <td>0.6</td>\n",
              "      <td>0.9</td>\n",
              "      <td>{'learning_rate': 0.6, 'subsample': 0.9}</td>\n",
              "      <td>0.923785</td>\n",
              "      <td>0.975658</td>\n",
              "      <td>0.947313</td>\n",
              "      <td>0.948919</td>\n",
              "      <td>0.021207</td>\n",
              "      <td>4</td>\n",
              "      <td>0.999633</td>\n",
              "      <td>0.999070</td>\n",
              "      <td>0.999660</td>\n",
              "      <td>0.999454</td>\n",
              "      <td>0.000272</td>\n",
              "    </tr>\n",
              "  </tbody>\n",
              "</table>\n",
              "</div>"
            ],
            "text/plain": [
              "   mean_fit_time  std_fit_time  mean_score_time  std_score_time  \\\n",
              "0       2.621507      0.066563         0.038799        0.000464   \n",
              "1       3.363381      0.520366         0.038443        0.001346   \n",
              "2       2.881300      0.049470         0.036988        0.000254   \n",
              "3       2.596814      0.050731         0.038076        0.000357   \n",
              "4       3.356451      0.457930         0.037784        0.000566   \n",
              "5       2.905459      0.042313         0.037409        0.000250   \n",
              "\n",
              "  param_learning_rate param_subsample  \\\n",
              "0                 0.2             0.3   \n",
              "1                 0.2             0.6   \n",
              "2                 0.2             0.9   \n",
              "3                 0.6             0.3   \n",
              "4                 0.6             0.6   \n",
              "5                 0.6             0.9   \n",
              "\n",
              "                                     params  split0_test_score  \\\n",
              "0  {'learning_rate': 0.2, 'subsample': 0.3}           0.914064   \n",
              "1  {'learning_rate': 0.2, 'subsample': 0.6}           0.926961   \n",
              "2  {'learning_rate': 0.2, 'subsample': 0.9}           0.924236   \n",
              "3  {'learning_rate': 0.6, 'subsample': 0.3}           0.885865   \n",
              "4  {'learning_rate': 0.6, 'subsample': 0.6}           0.893749   \n",
              "5  {'learning_rate': 0.6, 'subsample': 0.9}           0.923785   \n",
              "\n",
              "   split1_test_score  split2_test_score  mean_test_score  std_test_score  \\\n",
              "0           0.971373           0.962963         0.949467        0.025268   \n",
              "1           0.973582           0.961443         0.953995        0.019748   \n",
              "2           0.975867           0.951012         0.950372        0.021083   \n",
              "3           0.957231           0.940434         0.927843        0.030465   \n",
              "4           0.967978           0.955700         0.939142        0.032487   \n",
              "5           0.975658           0.947313         0.948919        0.021207   \n",
              "\n",
              "   rank_test_score  split0_train_score  split1_train_score  \\\n",
              "0                3            0.990450            0.984303   \n",
              "1                1            0.994016            0.986355   \n",
              "2                2            0.992880            0.989807   \n",
              "3                6            0.997522            0.991143   \n",
              "4                5            0.999624            0.997823   \n",
              "5                4            0.999633            0.999070   \n",
              "\n",
              "   split2_train_score  mean_train_score  std_train_score  \n",
              "0            0.988183          0.987645         0.002538  \n",
              "1            0.992693          0.991021         0.003343  \n",
              "2            0.993936          0.992208         0.001752  \n",
              "3            0.993425          0.994030         0.002639  \n",
              "4            0.998964          0.998804         0.000744  \n",
              "5            0.999660          0.999454         0.000272  "
            ]
          },
          "execution_count": 57,
          "metadata": {},
          "output_type": "execute_result"
        }
      ],
      "source": [
        "# cv results\n",
        "cv_results = pd.DataFrame(model_cv.cv_results_)\n",
        "cv_results"
      ]
    },
    {
      "cell_type": "code",
      "execution_count": null,
      "id": "7a6282ba",
      "metadata": {
        "execution": {
          "iopub.execute_input": "2023-07-03T13:54:30.061728Z",
          "iopub.status.busy": "2023-07-03T13:54:30.060756Z",
          "iopub.status.idle": "2023-07-03T13:54:30.068925Z",
          "shell.execute_reply": "2023-07-03T13:54:30.067949Z"
        },
        "papermill": {
          "duration": 0.05867,
          "end_time": "2023-07-03T13:54:30.071143",
          "exception": false,
          "start_time": "2023-07-03T13:54:30.012473",
          "status": "completed"
        },
        "tags": [],
        "id": "7a6282ba",
        "outputId": "791b6867-b24e-434d-93af-1554b7860a3a"
      },
      "outputs": [
        {
          "data": {
            "text/plain": [
              "Index(['mean_fit_time', 'std_fit_time', 'mean_score_time', 'std_score_time',\n",
              "       'param_learning_rate', 'param_subsample', 'params', 'split0_test_score',\n",
              "       'split1_test_score', 'split2_test_score', 'mean_test_score',\n",
              "       'std_test_score', 'rank_test_score', 'split0_train_score',\n",
              "       'split1_train_score', 'split2_train_score', 'mean_train_score',\n",
              "       'std_train_score'],\n",
              "      dtype='object')"
            ]
          },
          "execution_count": 58,
          "metadata": {},
          "output_type": "execute_result"
        }
      ],
      "source": [
        "cv_results.columns"
      ]
    },
    {
      "cell_type": "code",
      "execution_count": null,
      "id": "f24a9c92",
      "metadata": {
        "execution": {
          "iopub.execute_input": "2023-07-03T13:54:30.163474Z",
          "iopub.status.busy": "2023-07-03T13:54:30.162902Z",
          "iopub.status.idle": "2023-07-03T13:54:30.193118Z",
          "shell.execute_reply": "2023-07-03T13:54:30.191822Z"
        },
        "papermill": {
          "duration": 0.079767,
          "end_time": "2023-07-03T13:54:30.195906",
          "exception": false,
          "start_time": "2023-07-03T13:54:30.116139",
          "status": "completed"
        },
        "tags": [],
        "id": "f24a9c92",
        "outputId": "60610352-ab55-4941-ccc8-f70e8c76d8cc"
      },
      "outputs": [
        {
          "data": {
            "text/html": [
              "<div>\n",
              "<style scoped>\n",
              "    .dataframe tbody tr th:only-of-type {\n",
              "        vertical-align: middle;\n",
              "    }\n",
              "\n",
              "    .dataframe tbody tr th {\n",
              "        vertical-align: top;\n",
              "    }\n",
              "\n",
              "    .dataframe thead th {\n",
              "        text-align: right;\n",
              "    }\n",
              "</style>\n",
              "<table border=\"1\" class=\"dataframe\">\n",
              "  <thead>\n",
              "    <tr style=\"text-align: right;\">\n",
              "      <th></th>\n",
              "      <th>mean_fit_time</th>\n",
              "      <th>std_fit_time</th>\n",
              "      <th>mean_score_time</th>\n",
              "      <th>std_score_time</th>\n",
              "      <th>param_learning_rate</th>\n",
              "      <th>param_subsample</th>\n",
              "      <th>params</th>\n",
              "      <th>split0_test_score</th>\n",
              "      <th>split1_test_score</th>\n",
              "      <th>split2_test_score</th>\n",
              "      <th>mean_test_score</th>\n",
              "      <th>std_test_score</th>\n",
              "      <th>rank_test_score</th>\n",
              "      <th>split0_train_score</th>\n",
              "      <th>split1_train_score</th>\n",
              "      <th>split2_train_score</th>\n",
              "      <th>mean_train_score</th>\n",
              "      <th>std_train_score</th>\n",
              "    </tr>\n",
              "  </thead>\n",
              "  <tbody>\n",
              "    <tr>\n",
              "      <th>0</th>\n",
              "      <td>2.621507</td>\n",
              "      <td>0.066563</td>\n",
              "      <td>0.038799</td>\n",
              "      <td>0.000464</td>\n",
              "      <td>0.2</td>\n",
              "      <td>0.3</td>\n",
              "      <td>{'learning_rate': 0.2, 'subsample': 0.3}</td>\n",
              "      <td>0.914064</td>\n",
              "      <td>0.971373</td>\n",
              "      <td>0.962963</td>\n",
              "      <td>0.949467</td>\n",
              "      <td>0.025268</td>\n",
              "      <td>3</td>\n",
              "      <td>0.990450</td>\n",
              "      <td>0.984303</td>\n",
              "      <td>0.988183</td>\n",
              "      <td>0.987645</td>\n",
              "      <td>0.002538</td>\n",
              "    </tr>\n",
              "    <tr>\n",
              "      <th>1</th>\n",
              "      <td>3.363381</td>\n",
              "      <td>0.520366</td>\n",
              "      <td>0.038443</td>\n",
              "      <td>0.001346</td>\n",
              "      <td>0.2</td>\n",
              "      <td>0.6</td>\n",
              "      <td>{'learning_rate': 0.2, 'subsample': 0.6}</td>\n",
              "      <td>0.926961</td>\n",
              "      <td>0.973582</td>\n",
              "      <td>0.961443</td>\n",
              "      <td>0.953995</td>\n",
              "      <td>0.019748</td>\n",
              "      <td>1</td>\n",
              "      <td>0.994016</td>\n",
              "      <td>0.986355</td>\n",
              "      <td>0.992693</td>\n",
              "      <td>0.991021</td>\n",
              "      <td>0.003343</td>\n",
              "    </tr>\n",
              "    <tr>\n",
              "      <th>2</th>\n",
              "      <td>2.881300</td>\n",
              "      <td>0.049470</td>\n",
              "      <td>0.036988</td>\n",
              "      <td>0.000254</td>\n",
              "      <td>0.2</td>\n",
              "      <td>0.9</td>\n",
              "      <td>{'learning_rate': 0.2, 'subsample': 0.9}</td>\n",
              "      <td>0.924236</td>\n",
              "      <td>0.975867</td>\n",
              "      <td>0.951012</td>\n",
              "      <td>0.950372</td>\n",
              "      <td>0.021083</td>\n",
              "      <td>2</td>\n",
              "      <td>0.992880</td>\n",
              "      <td>0.989807</td>\n",
              "      <td>0.993936</td>\n",
              "      <td>0.992208</td>\n",
              "      <td>0.001752</td>\n",
              "    </tr>\n",
              "    <tr>\n",
              "      <th>3</th>\n",
              "      <td>2.596814</td>\n",
              "      <td>0.050731</td>\n",
              "      <td>0.038076</td>\n",
              "      <td>0.000357</td>\n",
              "      <td>0.6</td>\n",
              "      <td>0.3</td>\n",
              "      <td>{'learning_rate': 0.6, 'subsample': 0.3}</td>\n",
              "      <td>0.885865</td>\n",
              "      <td>0.957231</td>\n",
              "      <td>0.940434</td>\n",
              "      <td>0.927843</td>\n",
              "      <td>0.030465</td>\n",
              "      <td>6</td>\n",
              "      <td>0.997522</td>\n",
              "      <td>0.991143</td>\n",
              "      <td>0.993425</td>\n",
              "      <td>0.994030</td>\n",
              "      <td>0.002639</td>\n",
              "    </tr>\n",
              "    <tr>\n",
              "      <th>4</th>\n",
              "      <td>3.356451</td>\n",
              "      <td>0.457930</td>\n",
              "      <td>0.037784</td>\n",
              "      <td>0.000566</td>\n",
              "      <td>0.6</td>\n",
              "      <td>0.6</td>\n",
              "      <td>{'learning_rate': 0.6, 'subsample': 0.6}</td>\n",
              "      <td>0.893749</td>\n",
              "      <td>0.967978</td>\n",
              "      <td>0.955700</td>\n",
              "      <td>0.939142</td>\n",
              "      <td>0.032487</td>\n",
              "      <td>5</td>\n",
              "      <td>0.999624</td>\n",
              "      <td>0.997823</td>\n",
              "      <td>0.998964</td>\n",
              "      <td>0.998804</td>\n",
              "      <td>0.000744</td>\n",
              "    </tr>\n",
              "  </tbody>\n",
              "</table>\n",
              "</div>"
            ],
            "text/plain": [
              "   mean_fit_time  std_fit_time  mean_score_time  std_score_time  \\\n",
              "0       2.621507      0.066563         0.038799        0.000464   \n",
              "1       3.363381      0.520366         0.038443        0.001346   \n",
              "2       2.881300      0.049470         0.036988        0.000254   \n",
              "3       2.596814      0.050731         0.038076        0.000357   \n",
              "4       3.356451      0.457930         0.037784        0.000566   \n",
              "\n",
              "   param_learning_rate param_subsample  \\\n",
              "0                  0.2             0.3   \n",
              "1                  0.2             0.6   \n",
              "2                  0.2             0.9   \n",
              "3                  0.6             0.3   \n",
              "4                  0.6             0.6   \n",
              "\n",
              "                                     params  split0_test_score  \\\n",
              "0  {'learning_rate': 0.2, 'subsample': 0.3}           0.914064   \n",
              "1  {'learning_rate': 0.2, 'subsample': 0.6}           0.926961   \n",
              "2  {'learning_rate': 0.2, 'subsample': 0.9}           0.924236   \n",
              "3  {'learning_rate': 0.6, 'subsample': 0.3}           0.885865   \n",
              "4  {'learning_rate': 0.6, 'subsample': 0.6}           0.893749   \n",
              "\n",
              "   split1_test_score  split2_test_score  mean_test_score  std_test_score  \\\n",
              "0           0.971373           0.962963         0.949467        0.025268   \n",
              "1           0.973582           0.961443         0.953995        0.019748   \n",
              "2           0.975867           0.951012         0.950372        0.021083   \n",
              "3           0.957231           0.940434         0.927843        0.030465   \n",
              "4           0.967978           0.955700         0.939142        0.032487   \n",
              "\n",
              "   rank_test_score  split0_train_score  split1_train_score  \\\n",
              "0                3            0.990450            0.984303   \n",
              "1                1            0.994016            0.986355   \n",
              "2                2            0.992880            0.989807   \n",
              "3                6            0.997522            0.991143   \n",
              "4                5            0.999624            0.997823   \n",
              "\n",
              "   split2_train_score  mean_train_score  std_train_score  \n",
              "0            0.988183          0.987645         0.002538  \n",
              "1            0.992693          0.991021         0.003343  \n",
              "2            0.993936          0.992208         0.001752  \n",
              "3            0.993425          0.994030         0.002639  \n",
              "4            0.998964          0.998804         0.000744  "
            ]
          },
          "execution_count": 59,
          "metadata": {},
          "output_type": "execute_result"
        }
      ],
      "source": [
        "# convert parameters to int for plotting on x-axis\n",
        "cv_results['param_learning_rate'] = cv_results['param_learning_rate'].astype('float')\n",
        "cv_results.head()"
      ]
    },
    {
      "cell_type": "code",
      "execution_count": null,
      "id": "7a60e591",
      "metadata": {
        "execution": {
          "iopub.execute_input": "2023-07-03T13:54:30.287955Z",
          "iopub.status.busy": "2023-07-03T13:54:30.286846Z",
          "iopub.status.idle": "2023-07-03T13:54:31.774861Z",
          "shell.execute_reply": "2023-07-03T13:54:31.773386Z"
        },
        "papermill": {
          "duration": 1.536936,
          "end_time": "2023-07-03T13:54:31.777577",
          "exception": false,
          "start_time": "2023-07-03T13:54:30.240641",
          "status": "completed"
        },
        "tags": [],
        "id": "7a60e591",
        "outputId": "d3ef4de8-5621-4311-f657-3f2079d08561"
      },
      "outputs": [
        {
          "data": {
            "image/png": "[encoded data removed]",
            "text/plain": [
              "<Figure size 1600x600 with 3 Axes>"
            ]
          },
          "metadata": {},
          "output_type": "display_data"
        }
      ],
      "source": [
        "# # plotting\n",
        "plt.figure(figsize=(16,6))\n",
        "\n",
        "param_grid = {'learning_rate': [0.2, 0.6],\n",
        "             'subsample': [0.3, 0.6, 0.9]}\n",
        "\n",
        "\n",
        "for n, subsample in enumerate(param_grid['subsample']):\n",
        "\n",
        "\n",
        "    # subplot 1/n\n",
        "    plt.subplot(1,len(param_grid['subsample']), n+1)\n",
        "    df = cv_results[cv_results['param_subsample']==subsample]\n",
        "\n",
        "    plt.plot(df[\"param_learning_rate\"], df[\"mean_test_score\"])\n",
        "    plt.plot(df[\"param_learning_rate\"], df[\"mean_train_score\"])\n",
        "    plt.xlabel('learning_rate')\n",
        "    plt.ylabel('AUC')\n",
        "    plt.title(\"subsample={0}\".format(subsample))\n",
        "    plt.ylim([0.60, 1])\n",
        "    plt.legend(['test score', 'train score'], loc='upper left')\n",
        "    plt.xscale('log')"
      ]
    },
    {
      "cell_type": "markdown",
      "id": "30eb07c9",
      "metadata": {
        "papermill": {
          "duration": 0.045773,
          "end_time": "2023-07-03T13:54:31.868431",
          "exception": false,
          "start_time": "2023-07-03T13:54:31.822658",
          "status": "completed"
        },
        "tags": [],
        "id": "30eb07c9"
      },
      "source": [
        "The results show that a subsample size of 0.6 and learning_rate of about 0.2 seems optimal.\n",
        "Also, XGBoost has resulted in the highest ROC AUC obtained (across various hyperparameters).\n",
        "\n",
        "\n",
        "Let's build a final model with the chosen hyperparameters."
      ]
    },
    {
      "cell_type": "code",
      "execution_count": null,
      "id": "e0886cbd",
      "metadata": {
        "execution": {
          "iopub.execute_input": "2023-07-03T13:54:31.964672Z",
          "iopub.status.busy": "2023-07-03T13:54:31.964234Z",
          "iopub.status.idle": "2023-07-03T13:54:37.118335Z",
          "shell.execute_reply": "2023-07-03T13:54:37.117068Z"
        },
        "papermill": {
          "duration": 5.206519,
          "end_time": "2023-07-03T13:54:37.121373",
          "exception": false,
          "start_time": "2023-07-03T13:54:31.914854",
          "status": "completed"
        },
        "tags": [],
        "id": "e0886cbd",
        "outputId": "b3b85bbe-ef1e-4f17-dff6-b3aad78007f7"
      },
      "outputs": [
        {
          "name": "stdout",
          "output_type": "stream",
          "text": [
            "[13:54:31] WARNING: ../src/learner.cc:767: \n",
            "Parameters: { \"params\" } are not used.\n",
            "\n"
          ]
        },
        {
          "data": {
            "text/html": [
              "<style>#sk-container-id-7 {color: black;background-color: white;}#sk-container-id-7 pre{padding: 0;}#sk-container-id-7 div.sk-toggleable {background-color: white;}#sk-container-id-7 label.sk-toggleable__label {cursor: pointer;display: block;width: 100%;margin-bottom: 0;padding: 0.3em;box-sizing: border-box;text-align: center;}#sk-container-id-7 label.sk-toggleable__label-arrow:before {content: \"▸\";float: left;margin-right: 0.25em;color: #696969;}#sk-container-id-7 label.sk-toggleable__label-arrow:hover:before {color: black;}#sk-container-id-7 div.sk-estimator:hover label.sk-toggleable__label-arrow:before {color: black;}#sk-container-id-7 div.sk-toggleable__content {max-height: 0;max-width: 0;overflow: hidden;text-align: left;background-color: #f0f8ff;}#sk-container-id-7 div.sk-toggleable__content pre {margin: 0.2em;color: black;border-radius: 0.25em;background-color: #f0f8ff;}#sk-container-id-7 input.sk-toggleable__control:checked~div.sk-toggleable__content {max-height: 200px;max-width: 100%;overflow: auto;}#sk-container-id-7 input.sk-toggleable__control:checked~label.sk-toggleable__label-arrow:before {content: \"▾\";}#sk-container-id-7 div.sk-estimator input.sk-toggleable__control:checked~label.sk-toggleable__label {background-color: #d4ebff;}#sk-container-id-7 div.sk-label input.sk-toggleable__control:checked~label.sk-toggleable__label {background-color: #d4ebff;}#sk-container-id-7 input.sk-hidden--visually {border: 0;clip: rect(1px 1px 1px 1px);clip: rect(1px, 1px, 1px, 1px);height: 1px;margin: -1px;overflow: hidden;padding: 0;position: absolute;width: 1px;}#sk-container-id-7 div.sk-estimator {font-family: monospace;background-color: #f0f8ff;border: 1px dotted black;border-radius: 0.25em;box-sizing: border-box;margin-bottom: 0.5em;}#sk-container-id-7 div.sk-estimator:hover {background-color: #d4ebff;}#sk-container-id-7 div.sk-parallel-item::after {content: \"\";width: 100%;border-bottom: 1px solid gray;flex-grow: 1;}#sk-container-id-7 div.sk-label:hover label.sk-toggleable__label {background-color: #d4ebff;}#sk-container-id-7 div.sk-serial::before {content: \"\";position: absolute;border-left: 1px solid gray;box-sizing: border-box;top: 0;bottom: 0;left: 50%;z-index: 0;}#sk-container-id-7 div.sk-serial {display: flex;flex-direction: column;align-items: center;background-color: white;padding-right: 0.2em;padding-left: 0.2em;position: relative;}#sk-container-id-7 div.sk-item {position: relative;z-index: 1;}#sk-container-id-7 div.sk-parallel {display: flex;align-items: stretch;justify-content: center;background-color: white;position: relative;}#sk-container-id-7 div.sk-item::before, #sk-container-id-7 div.sk-parallel-item::before {content: \"\";position: absolute;border-left: 1px solid gray;box-sizing: border-box;top: 0;bottom: 0;left: 50%;z-index: -1;}#sk-container-id-7 div.sk-parallel-item {display: flex;flex-direction: column;z-index: 1;position: relative;background-color: white;}#sk-container-id-7 div.sk-parallel-item:first-child::after {align-self: flex-end;width: 50%;}#sk-container-id-7 div.sk-parallel-item:last-child::after {align-self: flex-start;width: 50%;}#sk-container-id-7 div.sk-parallel-item:only-child::after {width: 0;}#sk-container-id-7 div.sk-dashed-wrapped {border: 1px dashed gray;margin: 0 0.4em 0.5em 0.4em;box-sizing: border-box;padding-bottom: 0.4em;background-color: white;}#sk-container-id-7 div.sk-label label {font-family: monospace;font-weight: bold;display: inline-block;line-height: 1.2em;}#sk-container-id-7 div.sk-label-container {text-align: center;}#sk-container-id-7 div.sk-container {/* jupyter's `normalize.less` sets `[hidden] { display: none; }` but bootstrap.min.css set `[hidden] { display: none !important; }` so we also need the `!important` here to be able to override the default hidden behavior on the sphinx rendered scikit-learn.org. See: https://github.com/scikit-learn/scikit-learn/issues/21755 */display: inline-block !important;position: relative;}#sk-container-id-7 div.sk-text-repr-fallback {display: none;}</style><div id=\"sk-container-id-7\" class=\"sk-top-container\"><div class=\"sk-text-repr-fallback\"><pre>XGBClassifier(base_score=None, booster=None, callbacks=None,\n",
              "              colsample_bylevel=None, colsample_bynode=None,\n",
              "              colsample_bytree=None, early_stopping_rounds=None,\n",
              "              enable_categorical=False, eval_metric=None, feature_types=None,\n",
              "              gamma=None, gpu_id=None, grow_policy=None, importance_type=None,\n",
              "              interaction_constraints=None, learning_rate=None, max_bin=None,\n",
              "              max_cat_threshold=None, max_cat_to_onehot=None,\n",
              "              max_delta_step=None, max_depth=None, max_leaves=None,\n",
              "              min_child_weight=None, missing=nan, monotone_constraints=None,\n",
              "              n_estimators=100, n_jobs=None, num_parallel_tree=None,\n",
              "              params={&#x27;learning_rate&#x27;: 0.2, &#x27;max_depth&#x27;: 2, &#x27;n_estimators&#x27;: 200,\n",
              "                      &#x27;objective&#x27;: &#x27;binary:logistic&#x27;, &#x27;subsample&#x27;: 0.6},\n",
              "              predictor=None, ...)</pre><b>In a Jupyter environment, please rerun this cell to show the HTML representation or trust the notebook. <br />On GitHub, the HTML representation is unable to render, please try loading this page with nbviewer.org.</b></div><div class=\"sk-container\" hidden><div class=\"sk-item\"><div class=\"sk-estimator sk-toggleable\"><input class=\"sk-toggleable__control sk-hidden--visually\" id=\"sk-estimator-id-18\" type=\"checkbox\" checked><label for=\"sk-estimator-id-18\" class=\"sk-toggleable__label sk-toggleable__label-arrow\">XGBClassifier</label><div class=\"sk-toggleable__content\"><pre>XGBClassifier(base_score=None, booster=None, callbacks=None,\n",
              "              colsample_bylevel=None, colsample_bynode=None,\n",
              "              colsample_bytree=None, early_stopping_rounds=None,\n",
              "              enable_categorical=False, eval_metric=None, feature_types=None,\n",
              "              gamma=None, gpu_id=None, grow_policy=None, importance_type=None,\n",
              "              interaction_constraints=None, learning_rate=None, max_bin=None,\n",
              "              max_cat_threshold=None, max_cat_to_onehot=None,\n",
              "              max_delta_step=None, max_depth=None, max_leaves=None,\n",
              "              min_child_weight=None, missing=nan, monotone_constraints=None,\n",
              "              n_estimators=100, n_jobs=None, num_parallel_tree=None,\n",
              "              params={&#x27;learning_rate&#x27;: 0.2, &#x27;max_depth&#x27;: 2, &#x27;n_estimators&#x27;: 200,\n",
              "                      &#x27;objective&#x27;: &#x27;binary:logistic&#x27;, &#x27;subsample&#x27;: 0.6},\n",
              "              predictor=None, ...)</pre></div></div></div></div></div>"
            ],
            "text/plain": [
              "XGBClassifier(base_score=None, booster=None, callbacks=None,\n",
              "              colsample_bylevel=None, colsample_bynode=None,\n",
              "              colsample_bytree=None, early_stopping_rounds=None,\n",
              "              enable_categorical=False, eval_metric=None, feature_types=None,\n",
              "              gamma=None, gpu_id=None, grow_policy=None, importance_type=None,\n",
              "              interaction_constraints=None, learning_rate=None, max_bin=None,\n",
              "              max_cat_threshold=None, max_cat_to_onehot=None,\n",
              "              max_delta_step=None, max_depth=None, max_leaves=None,\n",
              "              min_child_weight=None, missing=nan, monotone_constraints=None,\n",
              "              n_estimators=100, n_jobs=None, num_parallel_tree=None,\n",
              "              params={'learning_rate': 0.2, 'max_depth': 2, 'n_estimators': 200,\n",
              "                      'objective': 'binary:logistic', 'subsample': 0.6},\n",
              "              predictor=None, ...)"
            ]
          },
          "execution_count": 61,
          "metadata": {},
          "output_type": "execute_result"
        }
      ],
      "source": [
        "# chosen hyperparameters\n",
        "# 'objective':'binary:logistic' outputs probability rather than label, which we need for auc\n",
        "params = {'learning_rate': 0.2,\n",
        "          'max_depth': 2,\n",
        "          'n_estimators':200,\n",
        "          'subsample':0.6,\n",
        "         'objective':'binary:logistic'}\n",
        "\n",
        "# fit model on training data\n",
        "model = XGBClassifier(params = params)\n",
        "model.fit(X_train, y_train)"
      ]
    },
    {
      "cell_type": "code",
      "execution_count": null,
      "id": "62e131d7",
      "metadata": {
        "execution": {
          "iopub.execute_input": "2023-07-03T13:54:37.217015Z",
          "iopub.status.busy": "2023-07-03T13:54:37.216268Z",
          "iopub.status.idle": "2023-07-03T13:54:37.251496Z",
          "shell.execute_reply": "2023-07-03T13:54:37.250370Z"
        },
        "papermill": {
          "duration": 0.086114,
          "end_time": "2023-07-03T13:54:37.254227",
          "exception": false,
          "start_time": "2023-07-03T13:54:37.168113",
          "status": "completed"
        },
        "tags": [],
        "id": "62e131d7",
        "outputId": "b59e5aa4-4740-49c1-e6fa-d06cb7f3ce23"
      },
      "outputs": [
        {
          "data": {
            "text/plain": [
              "array([[9.9999809e-01, 1.9337567e-06],\n",
              "       [9.9998653e-01, 1.3449854e-05],\n",
              "       [9.9997407e-01, 2.5916344e-05],\n",
              "       [9.9952990e-01, 4.7011764e-04],\n",
              "       [9.9978644e-01, 2.1357677e-04],\n",
              "       [9.9999368e-01, 6.3347384e-06],\n",
              "       [9.9991673e-01, 8.3290950e-05],\n",
              "       [9.9998868e-01, 1.1305605e-05],\n",
              "       [9.9981380e-01, 1.8618901e-04],\n",
              "       [9.9910051e-01, 8.9947559e-04]], dtype=float32)"
            ]
          },
          "execution_count": 62,
          "metadata": {},
          "output_type": "execute_result"
        }
      ],
      "source": [
        "# predict\n",
        "y_pred = model.predict_proba(X_test)\n",
        "y_pred[:10]"
      ]
    },
    {
      "cell_type": "markdown",
      "id": "4be6ebcc",
      "metadata": {
        "papermill": {
          "duration": 0.046335,
          "end_time": "2023-07-03T13:54:37.347969",
          "exception": false,
          "start_time": "2023-07-03T13:54:37.301634",
          "status": "completed"
        },
        "tags": [],
        "id": "4be6ebcc"
      },
      "source": [
        "The first column in y_pred is the P(0), i.e. P(not fraud), and the second column is P(1/fraud)."
      ]
    },
    {
      "cell_type": "code",
      "execution_count": null,
      "id": "7ba8348e",
      "metadata": {
        "execution": {
          "iopub.execute_input": "2023-07-03T13:54:37.444027Z",
          "iopub.status.busy": "2023-07-03T13:54:37.443503Z",
          "iopub.status.idle": "2023-07-03T13:54:37.466793Z",
          "shell.execute_reply": "2023-07-03T13:54:37.465791Z"
        },
        "papermill": {
          "duration": 0.074377,
          "end_time": "2023-07-03T13:54:37.469450",
          "exception": false,
          "start_time": "2023-07-03T13:54:37.395073",
          "status": "completed"
        },
        "tags": [],
        "id": "7ba8348e",
        "outputId": "6059ffff-dbfa-4bf5-ee05-057be07f68df"
      },
      "outputs": [
        {
          "data": {
            "text/plain": [
              "0.9606303070798183"
            ]
          },
          "execution_count": 63,
          "metadata": {},
          "output_type": "execute_result"
        }
      ],
      "source": [
        "# roc_auc\n",
        "auc = sklearn.metrics.roc_auc_score(y_test,y_pred[:,1])\n",
        "auc"
      ]
    },
    {
      "cell_type": "markdown",
      "id": "b5314550",
      "metadata": {
        "papermill": {
          "duration": 0.046477,
          "end_time": "2023-07-03T13:54:37.563814",
          "exception": false,
          "start_time": "2023-07-03T13:54:37.517337",
          "status": "completed"
        },
        "tags": [],
        "id": "b5314550"
      },
      "source": [
        "Finally, let's also look at the feature importances."
      ]
    },
    {
      "cell_type": "code",
      "execution_count": null,
      "id": "2b442fbc",
      "metadata": {
        "execution": {
          "iopub.execute_input": "2023-07-03T13:54:37.765594Z",
          "iopub.status.busy": "2023-07-03T13:54:37.764315Z",
          "iopub.status.idle": "2023-07-03T13:54:37.772725Z",
          "shell.execute_reply": "2023-07-03T13:54:37.771936Z"
        },
        "papermill": {
          "duration": 0.059223,
          "end_time": "2023-07-03T13:54:37.775216",
          "exception": false,
          "start_time": "2023-07-03T13:54:37.715993",
          "status": "completed"
        },
        "tags": [],
        "id": "2b442fbc",
        "outputId": "0ba2937b-bf14-47d6-bc53-ad0bc54b1fc4"
      },
      "outputs": [
        {
          "data": {
            "text/plain": [
              "{'ip': 0.04728172,\n",
              " 'app': 0.17046662,\n",
              " 'device': 0.22968645,\n",
              " 'os': 0.08196879,\n",
              " 'channel': 0.15076162,\n",
              " 'day_of_week': 0.05126994,\n",
              " 'day_of_year': 0.0,\n",
              " 'month': 0.0,\n",
              " 'hour': 0.049175907,\n",
              " 'ip_count': 0.07210445,\n",
              " 'ip_day_hour': 0.042323753,\n",
              " 'ip_hour_channel': 0.0,\n",
              " 'ip_hour_os': 0.04076993,\n",
              " 'ip_hour_app': 0.02643716,\n",
              " 'ip_hour_device': 0.037753563}"
            ]
          },
          "execution_count": 64,
          "metadata": {},
          "output_type": "execute_result"
        }
      ],
      "source": [
        "# feature importance\n",
        "importance = dict(zip(X_train.columns, model.feature_importances_))\n",
        "importance"
      ]
    },
    {
      "cell_type": "code",
      "execution_count": null,
      "id": "4c2b6273",
      "metadata": {
        "execution": {
          "iopub.execute_input": "2023-07-03T13:54:37.874351Z",
          "iopub.status.busy": "2023-07-03T13:54:37.873232Z",
          "iopub.status.idle": "2023-07-03T13:54:38.149107Z",
          "shell.execute_reply": "2023-07-03T13:54:38.147966Z"
        },
        "papermill": {
          "duration": 0.327455,
          "end_time": "2023-07-03T13:54:38.151585",
          "exception": false,
          "start_time": "2023-07-03T13:54:37.824130",
          "status": "completed"
        },
        "tags": [],
        "id": "4c2b6273",
        "outputId": "0ed13ba0-f3ec-463f-dc86-37d89873acf8"
      },
      "outputs": [
        {
          "data": {
            "image/png": "[encoded data removed]",
            "text/plain": [
              "<Figure size 640x480 with 1 Axes>"
            ]
          },
          "metadata": {},
          "output_type": "display_data"
        }
      ],
      "source": [
        "# plot\n",
        "plt.bar(range(len(model.feature_importances_)), model.feature_importances_)\n",
        "plt.show()"
      ]
    },
    {
      "cell_type": "code",
      "execution_count": null,
      "id": "98188aa7",
      "metadata": {
        "execution": {
          "iopub.execute_input": "2023-07-03T13:54:38.251071Z",
          "iopub.status.busy": "2023-07-03T13:54:38.250579Z",
          "iopub.status.idle": "2023-07-03T13:54:44.973511Z",
          "shell.execute_reply": "2023-07-03T13:54:44.972150Z"
        },
        "papermill": {
          "duration": 6.775745,
          "end_time": "2023-07-03T13:54:44.976119",
          "exception": false,
          "start_time": "2023-07-03T13:54:38.200374",
          "status": "completed"
        },
        "tags": [],
        "id": "98188aa7",
        "outputId": "99e1c6f5-b799-4afc-cfdd-f1e4e12aca7b"
      },
      "outputs": [
        {
          "data": {
            "text/html": [
              "<div>\n",
              "<style scoped>\n",
              "    .dataframe tbody tr th:only-of-type {\n",
              "        vertical-align: middle;\n",
              "    }\n",
              "\n",
              "    .dataframe tbody tr th {\n",
              "        vertical-align: top;\n",
              "    }\n",
              "\n",
              "    .dataframe thead th {\n",
              "        text-align: right;\n",
              "    }\n",
              "</style>\n",
              "<table border=\"1\" class=\"dataframe\">\n",
              "  <thead>\n",
              "    <tr style=\"text-align: right;\">\n",
              "      <th></th>\n",
              "      <th>click_id</th>\n",
              "      <th>is_attributed</th>\n",
              "    </tr>\n",
              "  </thead>\n",
              "  <tbody>\n",
              "    <tr>\n",
              "      <th>0</th>\n",
              "      <td>0</td>\n",
              "      <td>0</td>\n",
              "    </tr>\n",
              "    <tr>\n",
              "      <th>1</th>\n",
              "      <td>1</td>\n",
              "      <td>0</td>\n",
              "    </tr>\n",
              "    <tr>\n",
              "      <th>2</th>\n",
              "      <td>2</td>\n",
              "      <td>0</td>\n",
              "    </tr>\n",
              "    <tr>\n",
              "      <th>3</th>\n",
              "      <td>3</td>\n",
              "      <td>0</td>\n",
              "    </tr>\n",
              "    <tr>\n",
              "      <th>4</th>\n",
              "      <td>4</td>\n",
              "      <td>0</td>\n",
              "    </tr>\n",
              "  </tbody>\n",
              "</table>\n",
              "</div>"
            ],
            "text/plain": [
              "   click_id  is_attributed\n",
              "0         0              0\n",
              "1         1              0\n",
              "2         2              0\n",
              "3         3              0\n",
              "4         4              0"
            ]
          },
          "execution_count": 66,
          "metadata": {},
          "output_type": "execute_result"
        }
      ],
      "source": [
        "# read submission file\n",
        "sample_sub = pd.read_csv('/talkingdata-adtracking-fraud-detection/sample_submission.csv')\n",
        "sample_sub.head()"
      ]
    },
    {
      "cell_type": "code",
      "execution_count": null,
      "id": "19b3324b",
      "metadata": {
        "execution": {
          "iopub.execute_input": "2023-07-03T13:54:45.078094Z",
          "iopub.status.busy": "2023-07-03T13:54:45.077684Z",
          "iopub.status.idle": "2023-07-03T13:55:14.334752Z",
          "shell.execute_reply": "2023-07-03T13:55:14.333777Z"
        },
        "papermill": {
          "duration": 29.311959,
          "end_time": "2023-07-03T13:55:14.337354",
          "exception": false,
          "start_time": "2023-07-03T13:54:45.025395",
          "status": "completed"
        },
        "tags": [],
        "id": "19b3324b",
        "outputId": "e7cadd0e-cb6b-4172-d553-61254347a150"
      },
      "outputs": [
        {
          "data": {
            "text/html": [
              "<div>\n",
              "<style scoped>\n",
              "    .dataframe tbody tr th:only-of-type {\n",
              "        vertical-align: middle;\n",
              "    }\n",
              "\n",
              "    .dataframe tbody tr th {\n",
              "        vertical-align: top;\n",
              "    }\n",
              "\n",
              "    .dataframe thead th {\n",
              "        text-align: right;\n",
              "    }\n",
              "</style>\n",
              "<table border=\"1\" class=\"dataframe\">\n",
              "  <thead>\n",
              "    <tr style=\"text-align: right;\">\n",
              "      <th></th>\n",
              "      <th>click_id</th>\n",
              "      <th>ip</th>\n",
              "      <th>app</th>\n",
              "      <th>device</th>\n",
              "      <th>os</th>\n",
              "      <th>channel</th>\n",
              "      <th>click_time</th>\n",
              "    </tr>\n",
              "  </thead>\n",
              "  <tbody>\n",
              "    <tr>\n",
              "      <th>0</th>\n",
              "      <td>0</td>\n",
              "      <td>5744</td>\n",
              "      <td>9</td>\n",
              "      <td>1</td>\n",
              "      <td>3</td>\n",
              "      <td>107</td>\n",
              "      <td>2017-11-10 04:00:00</td>\n",
              "    </tr>\n",
              "    <tr>\n",
              "      <th>1</th>\n",
              "      <td>1</td>\n",
              "      <td>119901</td>\n",
              "      <td>9</td>\n",
              "      <td>1</td>\n",
              "      <td>3</td>\n",
              "      <td>466</td>\n",
              "      <td>2017-11-10 04:00:00</td>\n",
              "    </tr>\n",
              "    <tr>\n",
              "      <th>2</th>\n",
              "      <td>2</td>\n",
              "      <td>72287</td>\n",
              "      <td>21</td>\n",
              "      <td>1</td>\n",
              "      <td>19</td>\n",
              "      <td>128</td>\n",
              "      <td>2017-11-10 04:00:00</td>\n",
              "    </tr>\n",
              "    <tr>\n",
              "      <th>3</th>\n",
              "      <td>3</td>\n",
              "      <td>78477</td>\n",
              "      <td>15</td>\n",
              "      <td>1</td>\n",
              "      <td>13</td>\n",
              "      <td>111</td>\n",
              "      <td>2017-11-10 04:00:00</td>\n",
              "    </tr>\n",
              "    <tr>\n",
              "      <th>4</th>\n",
              "      <td>4</td>\n",
              "      <td>123080</td>\n",
              "      <td>12</td>\n",
              "      <td>1</td>\n",
              "      <td>13</td>\n",
              "      <td>328</td>\n",
              "      <td>2017-11-10 04:00:00</td>\n",
              "    </tr>\n",
              "  </tbody>\n",
              "</table>\n",
              "</div>"
            ],
            "text/plain": [
              "   click_id      ip  app  device  os  channel           click_time\n",
              "0         0    5744    9       1   3      107  2017-11-10 04:00:00\n",
              "1         1  119901    9       1   3      466  2017-11-10 04:00:00\n",
              "2         2   72287   21       1  19      128  2017-11-10 04:00:00\n",
              "3         3   78477   15       1  13      111  2017-11-10 04:00:00\n",
              "4         4  123080   12       1  13      328  2017-11-10 04:00:00"
            ]
          },
          "execution_count": 67,
          "metadata": {},
          "output_type": "execute_result"
        }
      ],
      "source": [
        "# predict probability of test data\n",
        "test_final = pd.read_csv('/talkingdata-adtracking-fraud-detection/test.csv')\n",
        "test_final.head()"
      ]
    },
    {
      "cell_type": "code",
      "execution_count": null,
      "id": "5cd5fd13",
      "metadata": {
        "execution": {
          "iopub.execute_input": "2023-07-03T13:55:14.436052Z",
          "iopub.status.busy": "2023-07-03T13:55:14.435559Z",
          "iopub.status.idle": "2023-07-03T13:55:26.596019Z",
          "shell.execute_reply": "2023-07-03T13:55:26.594710Z"
        },
        "papermill": {
          "duration": 12.213124,
          "end_time": "2023-07-03T13:55:26.598700",
          "exception": false,
          "start_time": "2023-07-03T13:55:14.385576",
          "status": "completed"
        },
        "tags": [],
        "id": "5cd5fd13",
        "outputId": "a1e0dd4c-e4dd-4622-e2ec-d0189a3b672c"
      },
      "outputs": [
        {
          "data": {
            "text/html": [
              "<div>\n",
              "<style scoped>\n",
              "    .dataframe tbody tr th:only-of-type {\n",
              "        vertical-align: middle;\n",
              "    }\n",
              "\n",
              "    .dataframe tbody tr th {\n",
              "        vertical-align: top;\n",
              "    }\n",
              "\n",
              "    .dataframe thead th {\n",
              "        text-align: right;\n",
              "    }\n",
              "</style>\n",
              "<table border=\"1\" class=\"dataframe\">\n",
              "  <thead>\n",
              "    <tr style=\"text-align: right;\">\n",
              "      <th></th>\n",
              "      <th>click_id</th>\n",
              "      <th>ip</th>\n",
              "      <th>app</th>\n",
              "      <th>device</th>\n",
              "      <th>os</th>\n",
              "      <th>channel</th>\n",
              "      <th>click_time</th>\n",
              "      <th>datetime</th>\n",
              "      <th>day_of_week</th>\n",
              "      <th>day_of_year</th>\n",
              "      <th>month</th>\n",
              "      <th>hour</th>\n",
              "    </tr>\n",
              "  </thead>\n",
              "  <tbody>\n",
              "    <tr>\n",
              "      <th>0</th>\n",
              "      <td>0</td>\n",
              "      <td>5744</td>\n",
              "      <td>9</td>\n",
              "      <td>1</td>\n",
              "      <td>3</td>\n",
              "      <td>107</td>\n",
              "      <td>2017-11-10 04:00:00</td>\n",
              "      <td>2017-11-10 04:00:00</td>\n",
              "      <td>4</td>\n",
              "      <td>314</td>\n",
              "      <td>11</td>\n",
              "      <td>4</td>\n",
              "    </tr>\n",
              "    <tr>\n",
              "      <th>1</th>\n",
              "      <td>1</td>\n",
              "      <td>119901</td>\n",
              "      <td>9</td>\n",
              "      <td>1</td>\n",
              "      <td>3</td>\n",
              "      <td>466</td>\n",
              "      <td>2017-11-10 04:00:00</td>\n",
              "      <td>2017-11-10 04:00:00</td>\n",
              "      <td>4</td>\n",
              "      <td>314</td>\n",
              "      <td>11</td>\n",
              "      <td>4</td>\n",
              "    </tr>\n",
              "    <tr>\n",
              "      <th>2</th>\n",
              "      <td>2</td>\n",
              "      <td>72287</td>\n",
              "      <td>21</td>\n",
              "      <td>1</td>\n",
              "      <td>19</td>\n",
              "      <td>128</td>\n",
              "      <td>2017-11-10 04:00:00</td>\n",
              "      <td>2017-11-10 04:00:00</td>\n",
              "      <td>4</td>\n",
              "      <td>314</td>\n",
              "      <td>11</td>\n",
              "      <td>4</td>\n",
              "    </tr>\n",
              "    <tr>\n",
              "      <th>3</th>\n",
              "      <td>3</td>\n",
              "      <td>78477</td>\n",
              "      <td>15</td>\n",
              "      <td>1</td>\n",
              "      <td>13</td>\n",
              "      <td>111</td>\n",
              "      <td>2017-11-10 04:00:00</td>\n",
              "      <td>2017-11-10 04:00:00</td>\n",
              "      <td>4</td>\n",
              "      <td>314</td>\n",
              "      <td>11</td>\n",
              "      <td>4</td>\n",
              "    </tr>\n",
              "    <tr>\n",
              "      <th>4</th>\n",
              "      <td>4</td>\n",
              "      <td>123080</td>\n",
              "      <td>12</td>\n",
              "      <td>1</td>\n",
              "      <td>13</td>\n",
              "      <td>328</td>\n",
              "      <td>2017-11-10 04:00:00</td>\n",
              "      <td>2017-11-10 04:00:00</td>\n",
              "      <td>4</td>\n",
              "      <td>314</td>\n",
              "      <td>11</td>\n",
              "      <td>4</td>\n",
              "    </tr>\n",
              "  </tbody>\n",
              "</table>\n",
              "</div>"
            ],
            "text/plain": [
              "   click_id      ip  app  device  os  channel           click_time  \\\n",
              "0         0    5744    9       1   3      107  2017-11-10 04:00:00   \n",
              "1         1  119901    9       1   3      466  2017-11-10 04:00:00   \n",
              "2         2   72287   21       1  19      128  2017-11-10 04:00:00   \n",
              "3         3   78477   15       1  13      111  2017-11-10 04:00:00   \n",
              "4         4  123080   12       1  13      328  2017-11-10 04:00:00   \n",
              "\n",
              "             datetime  day_of_week  day_of_year  month  hour  \n",
              "0 2017-11-10 04:00:00            4          314     11     4  \n",
              "1 2017-11-10 04:00:00            4          314     11     4  \n",
              "2 2017-11-10 04:00:00            4          314     11     4  \n",
              "3 2017-11-10 04:00:00            4          314     11     4  \n",
              "4 2017-11-10 04:00:00            4          314     11     4  "
            ]
          },
          "execution_count": 68,
          "metadata": {},
          "output_type": "execute_result"
        }
      ],
      "source": [
        "# predictions on test data\n",
        "test_final = timeFeatures(test_final)\n",
        "test_final.head()"
      ]
    },
    {
      "cell_type": "code",
      "execution_count": null,
      "id": "af7b990b",
      "metadata": {
        "execution": {
          "iopub.execute_input": "2023-07-03T13:55:26.698307Z",
          "iopub.status.busy": "2023-07-03T13:55:26.697785Z",
          "iopub.status.idle": "2023-07-03T13:55:27.861454Z",
          "shell.execute_reply": "2023-07-03T13:55:27.860319Z"
        },
        "papermill": {
          "duration": 1.216911,
          "end_time": "2023-07-03T13:55:27.864230",
          "exception": false,
          "start_time": "2023-07-03T13:55:26.647319",
          "status": "completed"
        },
        "tags": [],
        "id": "af7b990b"
      },
      "outputs": [],
      "source": [
        "test_final.drop(['click_time', 'datetime'], axis=1, inplace=True)"
      ]
    },
    {
      "cell_type": "code",
      "execution_count": null,
      "id": "84363b22",
      "metadata": {
        "execution": {
          "iopub.execute_input": "2023-07-03T13:55:27.962507Z",
          "iopub.status.busy": "2023-07-03T13:55:27.962032Z",
          "iopub.status.idle": "2023-07-03T13:55:27.977074Z",
          "shell.execute_reply": "2023-07-03T13:55:27.975943Z"
        },
        "papermill": {
          "duration": 0.067481,
          "end_time": "2023-07-03T13:55:27.979725",
          "exception": false,
          "start_time": "2023-07-03T13:55:27.912244",
          "status": "completed"
        },
        "tags": [],
        "id": "84363b22",
        "outputId": "290ddcd8-0e23-4cc0-9bc0-75c8747a55ff"
      },
      "outputs": [
        {
          "data": {
            "text/html": [
              "<div>\n",
              "<style scoped>\n",
              "    .dataframe tbody tr th:only-of-type {\n",
              "        vertical-align: middle;\n",
              "    }\n",
              "\n",
              "    .dataframe tbody tr th {\n",
              "        vertical-align: top;\n",
              "    }\n",
              "\n",
              "    .dataframe thead th {\n",
              "        text-align: right;\n",
              "    }\n",
              "</style>\n",
              "<table border=\"1\" class=\"dataframe\">\n",
              "  <thead>\n",
              "    <tr style=\"text-align: right;\">\n",
              "      <th></th>\n",
              "      <th>click_id</th>\n",
              "      <th>ip</th>\n",
              "      <th>app</th>\n",
              "      <th>device</th>\n",
              "      <th>os</th>\n",
              "      <th>channel</th>\n",
              "      <th>day_of_week</th>\n",
              "      <th>day_of_year</th>\n",
              "      <th>month</th>\n",
              "      <th>hour</th>\n",
              "    </tr>\n",
              "  </thead>\n",
              "  <tbody>\n",
              "    <tr>\n",
              "      <th>0</th>\n",
              "      <td>0</td>\n",
              "      <td>5744</td>\n",
              "      <td>9</td>\n",
              "      <td>1</td>\n",
              "      <td>3</td>\n",
              "      <td>107</td>\n",
              "      <td>4</td>\n",
              "      <td>314</td>\n",
              "      <td>11</td>\n",
              "      <td>4</td>\n",
              "    </tr>\n",
              "    <tr>\n",
              "      <th>1</th>\n",
              "      <td>1</td>\n",
              "      <td>119901</td>\n",
              "      <td>9</td>\n",
              "      <td>1</td>\n",
              "      <td>3</td>\n",
              "      <td>466</td>\n",
              "      <td>4</td>\n",
              "      <td>314</td>\n",
              "      <td>11</td>\n",
              "      <td>4</td>\n",
              "    </tr>\n",
              "    <tr>\n",
              "      <th>2</th>\n",
              "      <td>2</td>\n",
              "      <td>72287</td>\n",
              "      <td>21</td>\n",
              "      <td>1</td>\n",
              "      <td>19</td>\n",
              "      <td>128</td>\n",
              "      <td>4</td>\n",
              "      <td>314</td>\n",
              "      <td>11</td>\n",
              "      <td>4</td>\n",
              "    </tr>\n",
              "    <tr>\n",
              "      <th>3</th>\n",
              "      <td>3</td>\n",
              "      <td>78477</td>\n",
              "      <td>15</td>\n",
              "      <td>1</td>\n",
              "      <td>13</td>\n",
              "      <td>111</td>\n",
              "      <td>4</td>\n",
              "      <td>314</td>\n",
              "      <td>11</td>\n",
              "      <td>4</td>\n",
              "    </tr>\n",
              "    <tr>\n",
              "      <th>4</th>\n",
              "      <td>4</td>\n",
              "      <td>123080</td>\n",
              "      <td>12</td>\n",
              "      <td>1</td>\n",
              "      <td>13</td>\n",
              "      <td>328</td>\n",
              "      <td>4</td>\n",
              "      <td>314</td>\n",
              "      <td>11</td>\n",
              "      <td>4</td>\n",
              "    </tr>\n",
              "  </tbody>\n",
              "</table>\n",
              "</div>"
            ],
            "text/plain": [
              "   click_id      ip  app  device  os  channel  day_of_week  day_of_year  \\\n",
              "0         0    5744    9       1   3      107            4          314   \n",
              "1         1  119901    9       1   3      466            4          314   \n",
              "2         2   72287   21       1  19      128            4          314   \n",
              "3         3   78477   15       1  13      111            4          314   \n",
              "4         4  123080   12       1  13      328            4          314   \n",
              "\n",
              "   month  hour  \n",
              "0     11     4  \n",
              "1     11     4  \n",
              "2     11     4  \n",
              "3     11     4  \n",
              "4     11     4  "
            ]
          },
          "execution_count": 70,
          "metadata": {},
          "output_type": "execute_result"
        }
      ],
      "source": [
        "test_final.head()"
      ]
    },
    {
      "cell_type": "code",
      "execution_count": null,
      "id": "4cd7e564",
      "metadata": {
        "execution": {
          "iopub.execute_input": "2023-07-03T13:55:28.087768Z",
          "iopub.status.busy": "2023-07-03T13:55:28.087268Z",
          "iopub.status.idle": "2023-07-03T13:55:28.092708Z",
          "shell.execute_reply": "2023-07-03T13:55:28.091182Z"
        },
        "papermill": {
          "duration": 0.059112,
          "end_time": "2023-07-03T13:55:28.095637",
          "exception": false,
          "start_time": "2023-07-03T13:55:28.036525",
          "status": "completed"
        },
        "tags": [],
        "id": "4cd7e564"
      },
      "outputs": [],
      "source": [
        "#test_final[categorical_cols]=test_final[categorical_cols].apply(lambda x: le.fit_transform(x))"
      ]
    },
    {
      "cell_type": "code",
      "execution_count": null,
      "id": "fea7709d",
      "metadata": {
        "execution": {
          "iopub.execute_input": "2023-07-03T13:55:28.194995Z",
          "iopub.status.busy": "2023-07-03T13:55:28.194109Z",
          "iopub.status.idle": "2023-07-03T13:55:28.207388Z",
          "shell.execute_reply": "2023-07-03T13:55:28.205944Z"
        },
        "papermill": {
          "duration": 0.064928,
          "end_time": "2023-07-03T13:55:28.210029",
          "exception": false,
          "start_time": "2023-07-03T13:55:28.145101",
          "status": "completed"
        },
        "tags": [],
        "id": "fea7709d",
        "outputId": "39fd6662-f2b6-4890-cb59-9ef0fc89ade1"
      },
      "outputs": [
        {
          "name": "stdout",
          "output_type": "stream",
          "text": [
            "<class 'pandas.core.frame.DataFrame'>\n",
            "RangeIndex: 18790469 entries, 0 to 18790468\n",
            "Data columns (total 10 columns):\n",
            " #   Column       Dtype\n",
            "---  ------       -----\n",
            " 0   click_id     int64\n",
            " 1   ip           int64\n",
            " 2   app          int64\n",
            " 3   device       int64\n",
            " 4   os           int64\n",
            " 5   channel      int64\n",
            " 6   day_of_week  int64\n",
            " 7   day_of_year  int64\n",
            " 8   month        int64\n",
            " 9   hour         int64\n",
            "dtypes: int64(10)\n",
            "memory usage: 1.4 GB\n"
          ]
        }
      ],
      "source": [
        "test_final.info()"
      ]
    },
    {
      "cell_type": "code",
      "execution_count": null,
      "id": "21d52b0b",
      "metadata": {
        "execution": {
          "iopub.execute_input": "2023-07-03T13:55:28.311478Z",
          "iopub.status.busy": "2023-07-03T13:55:28.310977Z",
          "iopub.status.idle": "2023-07-03T13:55:29.115943Z",
          "shell.execute_reply": "2023-07-03T13:55:29.114648Z"
        },
        "papermill": {
          "duration": 0.857994,
          "end_time": "2023-07-03T13:55:29.118966",
          "exception": false,
          "start_time": "2023-07-03T13:55:28.260972",
          "status": "completed"
        },
        "tags": [],
        "id": "21d52b0b",
        "outputId": "ab669d4e-3a7f-4964-80f8-67f9e7056a04"
      },
      "outputs": [
        {
          "data": {
            "text/html": [
              "<div>\n",
              "<style scoped>\n",
              "    .dataframe tbody tr th:only-of-type {\n",
              "        vertical-align: middle;\n",
              "    }\n",
              "\n",
              "    .dataframe tbody tr th {\n",
              "        vertical-align: top;\n",
              "    }\n",
              "\n",
              "    .dataframe thead th {\n",
              "        text-align: right;\n",
              "    }\n",
              "</style>\n",
              "<table border=\"1\" class=\"dataframe\">\n",
              "  <thead>\n",
              "    <tr style=\"text-align: right;\">\n",
              "      <th></th>\n",
              "      <th>ip</th>\n",
              "      <th>count_by_ip</th>\n",
              "    </tr>\n",
              "  </thead>\n",
              "  <tbody>\n",
              "    <tr>\n",
              "      <th>0</th>\n",
              "      <td>0</td>\n",
              "      <td>2</td>\n",
              "    </tr>\n",
              "    <tr>\n",
              "      <th>1</th>\n",
              "      <td>1</td>\n",
              "      <td>1</td>\n",
              "    </tr>\n",
              "    <tr>\n",
              "      <th>2</th>\n",
              "      <td>2</td>\n",
              "      <td>5</td>\n",
              "    </tr>\n",
              "    <tr>\n",
              "      <th>3</th>\n",
              "      <td>3</td>\n",
              "      <td>64</td>\n",
              "    </tr>\n",
              "    <tr>\n",
              "      <th>4</th>\n",
              "      <td>4</td>\n",
              "      <td>6</td>\n",
              "    </tr>\n",
              "  </tbody>\n",
              "</table>\n",
              "</div>"
            ],
            "text/plain": [
              "   ip  count_by_ip\n",
              "0   0            2\n",
              "1   1            1\n",
              "2   2            5\n",
              "3   3           64\n",
              "4   4            6"
            ]
          },
          "execution_count": 73,
          "metadata": {},
          "output_type": "execute_result"
        }
      ],
      "source": [
        "# number of clicks by IP\n",
        "ip_count = test_final.groupby('ip')['channel'].count().reset_index()\n",
        "ip_count.columns = ['ip', 'count_by_ip']\n",
        "ip_count.head()"
      ]
    },
    {
      "cell_type": "code",
      "execution_count": null,
      "id": "38b9d829",
      "metadata": {
        "execution": {
          "iopub.execute_input": "2023-07-03T13:55:29.218581Z",
          "iopub.status.busy": "2023-07-03T13:55:29.218118Z",
          "iopub.status.idle": "2023-07-03T13:55:36.443247Z",
          "shell.execute_reply": "2023-07-03T13:55:36.441594Z"
        },
        "papermill": {
          "duration": 7.27905,
          "end_time": "2023-07-03T13:55:36.446411",
          "exception": false,
          "start_time": "2023-07-03T13:55:29.167361",
          "status": "completed"
        },
        "tags": [],
        "id": "38b9d829"
      },
      "outputs": [],
      "source": [
        "# merge this with the training data\n",
        "test_final = pd.merge(test_final, ip_count, on='ip', how='left')"
      ]
    },
    {
      "cell_type": "code",
      "execution_count": null,
      "id": "c830743e",
      "metadata": {
        "execution": {
          "iopub.execute_input": "2023-07-03T13:55:36.547456Z",
          "iopub.status.busy": "2023-07-03T13:55:36.546993Z",
          "iopub.status.idle": "2023-07-03T13:55:36.552897Z",
          "shell.execute_reply": "2023-07-03T13:55:36.551650Z"
        },
        "papermill": {
          "duration": 0.058295,
          "end_time": "2023-07-03T13:55:36.555489",
          "exception": false,
          "start_time": "2023-07-03T13:55:36.497194",
          "status": "completed"
        },
        "tags": [],
        "id": "c830743e"
      },
      "outputs": [],
      "source": [
        "del ip_count"
      ]
    },
    {
      "cell_type": "code",
      "execution_count": null,
      "id": "95455dfa",
      "metadata": {
        "execution": {
          "iopub.execute_input": "2023-07-03T13:55:36.657153Z",
          "iopub.status.busy": "2023-07-03T13:55:36.655633Z",
          "iopub.status.idle": "2023-07-03T13:55:36.670251Z",
          "shell.execute_reply": "2023-07-03T13:55:36.668248Z"
        },
        "papermill": {
          "duration": 0.067159,
          "end_time": "2023-07-03T13:55:36.673138",
          "exception": false,
          "start_time": "2023-07-03T13:55:36.605979",
          "status": "completed"
        },
        "tags": [],
        "id": "95455dfa",
        "outputId": "ca37b5b4-bfcf-4d10-9950-3ccddbe41a31"
      },
      "outputs": [
        {
          "name": "stdout",
          "output_type": "stream",
          "text": [
            "<class 'pandas.core.frame.DataFrame'>\n",
            "Int64Index: 18790469 entries, 0 to 18790468\n",
            "Data columns (total 11 columns):\n",
            " #   Column       Dtype\n",
            "---  ------       -----\n",
            " 0   click_id     int64\n",
            " 1   ip           int64\n",
            " 2   app          int64\n",
            " 3   device       int64\n",
            " 4   os           int64\n",
            " 5   channel      int64\n",
            " 6   day_of_week  int64\n",
            " 7   day_of_year  int64\n",
            " 8   month        int64\n",
            " 9   hour         int64\n",
            " 10  count_by_ip  int64\n",
            "dtypes: int64(11)\n",
            "memory usage: 1.7 GB\n"
          ]
        }
      ],
      "source": [
        "test_final.info()"
      ]
    },
    {
      "cell_type": "code",
      "execution_count": null,
      "id": "49759243",
      "metadata": {
        "papermill": {
          "duration": 0.048234,
          "end_time": "2023-07-03T13:55:36.879869",
          "exception": false,
          "start_time": "2023-07-03T13:55:36.831635",
          "status": "completed"
        },
        "tags": [],
        "id": "49759243"
      },
      "outputs": [],
      "source": []
    }
  ],
  "metadata": {
    "kernelspec": {
      "display_name": "Python 3",
      "language": "python",
      "name": "python3"
    },
    "language_info": {
      "codemirror_mode": {
        "name": "ipython",
        "version": 3
      },
      "file_extension": ".py",
      "mimetype": "text/x-python",
      "name": "python",
      "nbconvert_exporter": "python",
      "pygments_lexer": "ipython3",
      "version": "3.10.10"
    },
    "papermill": {
      "default_parameters": {},
      "duration": 1376.818018,
      "end_time": "2023-07-03T13:55:39.443175",
      "environment_variables": {},
      "exception": null,
      "input_path": "__notebook__.ipynb",
      "output_path": "__notebook__.ipynb",
      "parameters": {},
      "start_time": "2023-07-03T13:32:42.625157",
      "version": "2.4.0"
    },
    "colab": {
      "provenance": []
    }
  },
  "nbformat": 4,
  "nbformat_minor": 5
}